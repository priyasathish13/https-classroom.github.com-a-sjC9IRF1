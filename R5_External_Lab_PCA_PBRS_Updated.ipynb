{
  "nbformat": 4,
  "nbformat_minor": 0,
  "metadata": {
    "colab": {
      "name": "R5_External_Lab_PCA_PBRS-Updated.ipynb",
      "provenance": [],
      "collapsed_sections": [
        "9hxe7D9BWCx-",
        "lmMHMAtkWCzm",
        "vbZ-YcsdWCzz",
        "-2KqQg2KWCz7",
        "x8YxQPNGWC0e"
      ]
    },
    "kernelspec": {
      "display_name": "Python 2",
      "language": "python",
      "name": "python2"
    },
    "language_info": {
      "codemirror_mode": {
        "name": "ipython",
        "version": 2
      },
      "file_extension": ".py",
      "mimetype": "text/x-python",
      "name": "python",
      "nbconvert_exporter": "python",
      "pygments_lexer": "ipython2",
      "version": "2.7.14"
    }
  },
  "cells": [
    {
      "cell_type": "markdown",
      "metadata": {
        "colab_type": "text",
        "id": "0zAbYvv-WCve"
      },
      "source": [
        "# Principal Component Analysis with Cancer Data"
      ]
    },
    {
      "cell_type": "code",
      "metadata": {
        "colab_type": "code",
        "id": "1waXlt6iWCvh",
        "colab": {}
      },
      "source": [
        "#Import all the necessary modules\n",
        "#Import all the necessary modules\n",
        "import pandas as pd\n",
        "import numpy as np\n",
        "import os\n",
        "import seaborn as sns\n",
        "import matplotlib.pyplot as plt\n",
        "%matplotlib inline"
      ],
      "execution_count": 0,
      "outputs": []
    },
    {
      "cell_type": "markdown",
      "metadata": {
        "colab_type": "text",
        "id": "6FZ90t1vWCvq"
      },
      "source": [
        "# Q1. Load the Data file ( Breast Cancer CSV) into Python DataFrame and view top 10 rows"
      ]
    },
    {
      "cell_type": "code",
      "metadata": {
        "id": "HdpptBPZSM4P",
        "colab_type": "code",
        "colab": {}
      },
      "source": [
        ""
      ],
      "execution_count": 0,
      "outputs": []
    },
    {
      "cell_type": "code",
      "metadata": {
        "colab_type": "code",
        "id": "xusO2ruNWCv4",
        "colab": {}
      },
      "source": [
        "  # Id columns is to identify rows hence can be skipped in analysis\n",
        "  # All columns have numerical values\n",
        "  # Class would be the target variable. Should be removed when PCA is done"
      ],
      "execution_count": 0,
      "outputs": []
    },
    {
      "cell_type": "markdown",
      "metadata": {
        "colab_type": "text",
        "id": "KYTFwE0iWCv_"
      },
      "source": [
        "# Q2 Print the datatypes of each column and the shape of the dataset. Perform descriptive analysis "
      ]
    },
    {
      "cell_type": "code",
      "metadata": {
        "id": "abAqUIqjSM4X",
        "colab_type": "code",
        "colab": {}
      },
      "source": [
        ""
      ],
      "execution_count": 0,
      "outputs": []
    },
    {
      "cell_type": "markdown",
      "metadata": {
        "colab_type": "text",
        "id": "ecghJZJIWCwW"
      },
      "source": [
        "# Q3 Check for missing value check, incorrect data, duplicate data and perform imputation with mean, median, mode as necessary.\n"
      ]
    },
    {
      "cell_type": "code",
      "metadata": {
        "id": "49KjoukMSM4b",
        "colab_type": "code",
        "colab": {}
      },
      "source": [
        "# We could see \"?\" values in column, this should be removed from data set\n",
        "\n",
        "# Check for missing value in any other column"
      ],
      "execution_count": 0,
      "outputs": []
    },
    {
      "cell_type": "code",
      "metadata": {
        "id": "02fqzvZuSM4f",
        "colab_type": "code",
        "colab": {}
      },
      "source": [
        "# No missing values found. So let us try to remove ? from bare nuclei column\n",
        "\n",
        "# Get count of rows having ?\n"
      ],
      "execution_count": 0,
      "outputs": []
    },
    {
      "cell_type": "code",
      "metadata": {
        "colab_type": "code",
        "id": "jAmWPaXpWCw3",
        "colab": {}
      },
      "source": [
        "# 16 values are corrupted. We can either delete them as it forms roughly 2% of data.\n",
        "# Here we would like to impute it with suitable values"
      ],
      "execution_count": 0,
      "outputs": []
    },
    {
      "cell_type": "markdown",
      "metadata": {
        "colab_type": "text",
        "id": "YAu8NvGaWCxr"
      },
      "source": [
        "# Q4. Perform bi variate analysis including correlation, pairplots and state the inferences. \n"
      ]
    },
    {
      "cell_type": "code",
      "metadata": {
        "id": "nu6J2sWuSM4m",
        "colab_type": "code",
        "colab": {}
      },
      "source": [
        "# Check for correlation of variable"
      ],
      "execution_count": 0,
      "outputs": []
    },
    {
      "cell_type": "code",
      "metadata": {
        "colab_type": "code",
        "id": "ysZh50iDWCxz",
        "colab": {}
      },
      "source": [
        "# Cell size shows high significance with cell shape,marginal adhesion, single epithelial cell size,bare nuclei, normal nucleoli \n",
        "# and bland chromatin\n",
        "# Target variable shows high correlation with most of these variables"
      ],
      "execution_count": 0,
      "outputs": []
    },
    {
      "cell_type": "code",
      "metadata": {
        "id": "5Wt84dgVSM4s",
        "colab_type": "code",
        "colab": {}
      },
      "source": [
        "#Let us check for pair plots"
      ],
      "execution_count": 0,
      "outputs": []
    },
    {
      "cell_type": "code",
      "metadata": {
        "colab_type": "code",
        "id": "OTh11akvWCx8",
        "colab": {}
      },
      "source": [
        "# Relationship between variables shows come correlation. \n",
        "# Distribution of variables shows most of the values are concentrated on lower side, though range remains same for all that is \n",
        "# Between 1 to 10"
      ],
      "execution_count": 0,
      "outputs": []
    },
    {
      "cell_type": "markdown",
      "metadata": {
        "colab_type": "text",
        "id": "9hxe7D9BWCx-"
      },
      "source": [
        "# Q5 Remove any unwanted columns or outliers, standardize variables in pre-processing step"
      ]
    },
    {
      "cell_type": "code",
      "metadata": {
        "colab_type": "code",
        "id": "ViVkMsQTWCza",
        "colab": {}
      },
      "source": [
        "# We could see most of the outliers are now removed."
      ],
      "execution_count": 0,
      "outputs": []
    },
    {
      "cell_type": "code",
      "metadata": {
        "id": "TqhCGZe4SM43",
        "colab_type": "code",
        "colab": {}
      },
      "source": [
        ""
      ],
      "execution_count": 0,
      "outputs": []
    },
    {
      "cell_type": "code",
      "metadata": {
        "id": "aEHksGGtSM48",
        "colab_type": "code",
        "colab": {}
      },
      "source": [
        ""
      ],
      "execution_count": 0,
      "outputs": []
    },
    {
      "cell_type": "code",
      "metadata": {
        "id": "9i0Qqn28SM4_",
        "colab_type": "code",
        "colab": {}
      },
      "source": [
        ""
      ],
      "execution_count": 0,
      "outputs": []
    },
    {
      "cell_type": "markdown",
      "metadata": {
        "colab_type": "text",
        "id": "lmMHMAtkWCzm"
      },
      "source": [
        "# Q6 Create a covariance matrix for identifying Principal components"
      ]
    },
    {
      "cell_type": "code",
      "metadata": {
        "id": "X3pUdlSdSM5D",
        "colab_type": "code",
        "colab": {}
      },
      "source": [
        "# PCA\n",
        "# Step 1 - Create covariance matrix\n"
      ],
      "execution_count": 0,
      "outputs": []
    },
    {
      "cell_type": "code",
      "metadata": {
        "id": "ppL2hWreSM5G",
        "colab_type": "code",
        "colab": {}
      },
      "source": [
        ""
      ],
      "execution_count": 0,
      "outputs": []
    },
    {
      "cell_type": "markdown",
      "metadata": {
        "colab_type": "text",
        "id": "vbZ-YcsdWCzz"
      },
      "source": [
        "# Q7 Identify eigen values and eigen vector"
      ]
    },
    {
      "cell_type": "code",
      "metadata": {
        "id": "sH-AksvLSM5L",
        "colab_type": "code",
        "colab": {}
      },
      "source": [
        "# Step 2- Get eigen values and eigen vector"
      ],
      "execution_count": 0,
      "outputs": []
    },
    {
      "cell_type": "code",
      "metadata": {
        "id": "YaNotXfFSM5O",
        "colab_type": "code",
        "colab": {}
      },
      "source": [
        ""
      ],
      "execution_count": 0,
      "outputs": []
    },
    {
      "cell_type": "markdown",
      "metadata": {
        "colab_type": "text",
        "id": "-2KqQg2KWCz7"
      },
      "source": [
        "# Q8 Find variance and cumulative variance by each eigen vector"
      ]
    },
    {
      "cell_type": "code",
      "metadata": {
        "id": "HVrVYdZpSM5e",
        "colab_type": "code",
        "colab": {}
      },
      "source": [
        ""
      ],
      "execution_count": 0,
      "outputs": []
    },
    {
      "cell_type": "code",
      "metadata": {
        "id": "wGszn1TqSM5i",
        "colab_type": "code",
        "colab": {}
      },
      "source": [
        ""
      ],
      "execution_count": 0,
      "outputs": []
    },
    {
      "cell_type": "markdown",
      "metadata": {
        "colab_type": "text",
        "id": "x8YxQPNGWC0e"
      },
      "source": [
        "# Q9 Use PCA command from sklearn and find Principal Components. Transform data to components formed"
      ]
    },
    {
      "cell_type": "code",
      "metadata": {
        "id": "ZgniQrGWSM5l",
        "colab_type": "code",
        "colab": {}
      },
      "source": [
        ""
      ],
      "execution_count": 0,
      "outputs": []
    },
    {
      "cell_type": "code",
      "metadata": {
        "id": "-06rQu3PSM5o",
        "colab_type": "code",
        "colab": {}
      },
      "source": [
        ""
      ],
      "execution_count": 0,
      "outputs": []
    },
    {
      "cell_type": "markdown",
      "metadata": {
        "colab_type": "text",
        "id": "8L-IGI0QWC0t"
      },
      "source": [
        "# Q10 Find correlation between components and features"
      ]
    },
    {
      "cell_type": "code",
      "metadata": {
        "id": "eLi4UsMcSM5r",
        "colab_type": "code",
        "colab": {}
      },
      "source": [
        ""
      ],
      "execution_count": 0,
      "outputs": []
    },
    {
      "cell_type": "code",
      "metadata": {
        "colab_type": "code",
        "id": "bXUp9TCDWC1G",
        "colab": {}
      },
      "source": [
        ""
      ],
      "execution_count": 0,
      "outputs": []
    },
    {
      "cell_type": "code",
      "metadata": {
        "id": "mndzWciDSM6r",
        "colab_type": "code",
        "colab": {}
      },
      "source": [
        ""
      ],
      "execution_count": 0,
      "outputs": []
    },
    {
      "cell_type": "code",
      "metadata": {
        "id": "veL5hwRLSM6_",
        "colab_type": "code",
        "colab": {}
      },
      "source": [
        ""
      ],
      "execution_count": 0,
      "outputs": []
    },
    {
      "cell_type": "code",
      "metadata": {
        "id": "JS3Mx_DjSM7K",
        "colab_type": "code",
        "colab": {}
      },
      "source": [
        ""
      ],
      "execution_count": 0,
      "outputs": []
    }
  ]
}