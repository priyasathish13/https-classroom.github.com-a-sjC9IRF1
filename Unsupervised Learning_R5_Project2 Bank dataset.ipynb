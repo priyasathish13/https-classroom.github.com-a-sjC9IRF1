{
 "cells": [
  {
   "cell_type": "markdown",
   "metadata": {},
   "source": [
    "### 1.\tRead the dataset and understand the features and target variable."
   ]
  },
  {
   "cell_type": "code",
   "execution_count": 1,
   "metadata": {},
   "outputs": [],
   "source": [
    "\n",
    "import numpy as np\n",
    "import pandas as pd\n",
    "import matplotlib.pyplot as plt\n",
    "import seaborn as sns\n",
    "from sklearn.linear_model import LinearRegression\n",
    "from sklearn.cluster import KMeans\n",
    "from sklearn import metrics\n",
    "import warnings\n",
    "warnings.filterwarnings(\"ignore\")\n",
    "from sklearn.preprocessing import LabelEncoder\n",
    "from sklearn.model_selection import train_test_split\n"
   ]
  },
  {
   "cell_type": "code",
   "execution_count": 2,
   "metadata": {},
   "outputs": [
    {
     "data": {
      "text/html": [
       "<div>\n",
       "<style scoped>\n",
       "    .dataframe tbody tr th:only-of-type {\n",
       "        vertical-align: middle;\n",
       "    }\n",
       "\n",
       "    .dataframe tbody tr th {\n",
       "        vertical-align: top;\n",
       "    }\n",
       "\n",
       "    .dataframe thead th {\n",
       "        text-align: right;\n",
       "    }\n",
       "</style>\n",
       "<table border=\"1\" class=\"dataframe\">\n",
       "  <thead>\n",
       "    <tr style=\"text-align: right;\">\n",
       "      <th></th>\n",
       "      <th>0</th>\n",
       "      <th>1</th>\n",
       "      <th>2</th>\n",
       "      <th>3</th>\n",
       "      <th>4</th>\n",
       "      <th>5</th>\n",
       "      <th>6</th>\n",
       "    </tr>\n",
       "  </thead>\n",
       "  <tbody>\n",
       "    <tr>\n",
       "      <th>0</th>\n",
       "      <td>P</td>\n",
       "      <td>P</td>\n",
       "      <td>A</td>\n",
       "      <td>A</td>\n",
       "      <td>A</td>\n",
       "      <td>P</td>\n",
       "      <td>NB</td>\n",
       "    </tr>\n",
       "    <tr>\n",
       "      <th>1</th>\n",
       "      <td>N</td>\n",
       "      <td>N</td>\n",
       "      <td>A</td>\n",
       "      <td>A</td>\n",
       "      <td>A</td>\n",
       "      <td>N</td>\n",
       "      <td>NB</td>\n",
       "    </tr>\n",
       "    <tr>\n",
       "      <th>2</th>\n",
       "      <td>A</td>\n",
       "      <td>A</td>\n",
       "      <td>A</td>\n",
       "      <td>A</td>\n",
       "      <td>A</td>\n",
       "      <td>A</td>\n",
       "      <td>NB</td>\n",
       "    </tr>\n",
       "    <tr>\n",
       "      <th>3</th>\n",
       "      <td>P</td>\n",
       "      <td>P</td>\n",
       "      <td>P</td>\n",
       "      <td>P</td>\n",
       "      <td>P</td>\n",
       "      <td>P</td>\n",
       "      <td>NB</td>\n",
       "    </tr>\n",
       "    <tr>\n",
       "      <th>4</th>\n",
       "      <td>N</td>\n",
       "      <td>N</td>\n",
       "      <td>P</td>\n",
       "      <td>P</td>\n",
       "      <td>P</td>\n",
       "      <td>N</td>\n",
       "      <td>NB</td>\n",
       "    </tr>\n",
       "  </tbody>\n",
       "</table>\n",
       "</div>"
      ],
      "text/plain": [
       "   0  1  2  3  4  5   6\n",
       "0  P  P  A  A  A  P  NB\n",
       "1  N  N  A  A  A  N  NB\n",
       "2  A  A  A  A  A  A  NB\n",
       "3  P  P  P  P  P  P  NB\n",
       "4  N  N  P  P  P  N  NB"
      ]
     },
     "execution_count": 2,
     "metadata": {},
     "output_type": "execute_result"
    }
   ],
   "source": [
    "df=pd.read_csv(\"Qualitative_Bankruptcy.data.txt\",header=None)\n",
    "df.head()"
   ]
  },
  {
   "cell_type": "code",
   "execution_count": 3,
   "metadata": {},
   "outputs": [
    {
     "data": {
      "text/html": [
       "<div>\n",
       "<style scoped>\n",
       "    .dataframe tbody tr th:only-of-type {\n",
       "        vertical-align: middle;\n",
       "    }\n",
       "\n",
       "    .dataframe tbody tr th {\n",
       "        vertical-align: top;\n",
       "    }\n",
       "\n",
       "    .dataframe thead th {\n",
       "        text-align: right;\n",
       "    }\n",
       "</style>\n",
       "<table border=\"1\" class=\"dataframe\">\n",
       "  <thead>\n",
       "    <tr style=\"text-align: right;\">\n",
       "      <th></th>\n",
       "      <th>Industrial_Risk</th>\n",
       "      <th>Management Risk</th>\n",
       "      <th>FinancialFlexibility</th>\n",
       "      <th>Credibility</th>\n",
       "      <th>Competitiveness</th>\n",
       "      <th>OperatingRisk</th>\n",
       "      <th>Class</th>\n",
       "    </tr>\n",
       "  </thead>\n",
       "  <tbody>\n",
       "    <tr>\n",
       "      <th>0</th>\n",
       "      <td>P</td>\n",
       "      <td>P</td>\n",
       "      <td>A</td>\n",
       "      <td>A</td>\n",
       "      <td>A</td>\n",
       "      <td>P</td>\n",
       "      <td>NB</td>\n",
       "    </tr>\n",
       "    <tr>\n",
       "      <th>1</th>\n",
       "      <td>N</td>\n",
       "      <td>N</td>\n",
       "      <td>A</td>\n",
       "      <td>A</td>\n",
       "      <td>A</td>\n",
       "      <td>N</td>\n",
       "      <td>NB</td>\n",
       "    </tr>\n",
       "    <tr>\n",
       "      <th>2</th>\n",
       "      <td>A</td>\n",
       "      <td>A</td>\n",
       "      <td>A</td>\n",
       "      <td>A</td>\n",
       "      <td>A</td>\n",
       "      <td>A</td>\n",
       "      <td>NB</td>\n",
       "    </tr>\n",
       "    <tr>\n",
       "      <th>3</th>\n",
       "      <td>P</td>\n",
       "      <td>P</td>\n",
       "      <td>P</td>\n",
       "      <td>P</td>\n",
       "      <td>P</td>\n",
       "      <td>P</td>\n",
       "      <td>NB</td>\n",
       "    </tr>\n",
       "    <tr>\n",
       "      <th>4</th>\n",
       "      <td>N</td>\n",
       "      <td>N</td>\n",
       "      <td>P</td>\n",
       "      <td>P</td>\n",
       "      <td>P</td>\n",
       "      <td>N</td>\n",
       "      <td>NB</td>\n",
       "    </tr>\n",
       "  </tbody>\n",
       "</table>\n",
       "</div>"
      ],
      "text/plain": [
       "  Industrial_Risk Management Risk FinancialFlexibility Credibility  \\\n",
       "0               P               P                    A           A   \n",
       "1               N               N                    A           A   \n",
       "2               A               A                    A           A   \n",
       "3               P               P                    P           P   \n",
       "4               N               N                    P           P   \n",
       "\n",
       "  Competitiveness OperatingRisk Class  \n",
       "0               A             P    NB  \n",
       "1               A             N    NB  \n",
       "2               A             A    NB  \n",
       "3               P             P    NB  \n",
       "4               P             N    NB  "
      ]
     },
     "execution_count": 3,
     "metadata": {},
     "output_type": "execute_result"
    }
   ],
   "source": [
    "df.columns=[\"Industrial_Risk\",\"Management Risk\",\"FinancialFlexibility\",\"Credibility\",\"Competitiveness\",\"OperatingRisk\",\"Class\"]\n",
    "df.head()\n",
    "    \n",
    "     "
   ]
  },
  {
   "cell_type": "markdown",
   "metadata": {},
   "source": [
    "### 2.\tEncode independent features. "
   ]
  },
  {
   "cell_type": "code",
   "execution_count": 4,
   "metadata": {},
   "outputs": [
    {
     "data": {
      "text/html": [
       "<div>\n",
       "<style scoped>\n",
       "    .dataframe tbody tr th:only-of-type {\n",
       "        vertical-align: middle;\n",
       "    }\n",
       "\n",
       "    .dataframe tbody tr th {\n",
       "        vertical-align: top;\n",
       "    }\n",
       "\n",
       "    .dataframe thead th {\n",
       "        text-align: right;\n",
       "    }\n",
       "</style>\n",
       "<table border=\"1\" class=\"dataframe\">\n",
       "  <thead>\n",
       "    <tr style=\"text-align: right;\">\n",
       "      <th></th>\n",
       "      <th>Industrial_Risk</th>\n",
       "      <th>Management Risk</th>\n",
       "      <th>FinancialFlexibility</th>\n",
       "      <th>Credibility</th>\n",
       "      <th>Competitiveness</th>\n",
       "      <th>OperatingRisk</th>\n",
       "    </tr>\n",
       "  </thead>\n",
       "  <tbody>\n",
       "    <tr>\n",
       "      <th>0</th>\n",
       "      <td>2</td>\n",
       "      <td>2</td>\n",
       "      <td>0</td>\n",
       "      <td>0</td>\n",
       "      <td>0</td>\n",
       "      <td>2</td>\n",
       "    </tr>\n",
       "    <tr>\n",
       "      <th>1</th>\n",
       "      <td>1</td>\n",
       "      <td>1</td>\n",
       "      <td>0</td>\n",
       "      <td>0</td>\n",
       "      <td>0</td>\n",
       "      <td>1</td>\n",
       "    </tr>\n",
       "    <tr>\n",
       "      <th>2</th>\n",
       "      <td>0</td>\n",
       "      <td>0</td>\n",
       "      <td>0</td>\n",
       "      <td>0</td>\n",
       "      <td>0</td>\n",
       "      <td>0</td>\n",
       "    </tr>\n",
       "    <tr>\n",
       "      <th>3</th>\n",
       "      <td>2</td>\n",
       "      <td>2</td>\n",
       "      <td>2</td>\n",
       "      <td>2</td>\n",
       "      <td>2</td>\n",
       "      <td>2</td>\n",
       "    </tr>\n",
       "    <tr>\n",
       "      <th>4</th>\n",
       "      <td>1</td>\n",
       "      <td>1</td>\n",
       "      <td>2</td>\n",
       "      <td>2</td>\n",
       "      <td>2</td>\n",
       "      <td>1</td>\n",
       "    </tr>\n",
       "  </tbody>\n",
       "</table>\n",
       "</div>"
      ],
      "text/plain": [
       "   Industrial_Risk  Management Risk  FinancialFlexibility  Credibility  \\\n",
       "0                2                2                     0            0   \n",
       "1                1                1                     0            0   \n",
       "2                0                0                     0            0   \n",
       "3                2                2                     2            2   \n",
       "4                1                1                     2            2   \n",
       "\n",
       "   Competitiveness  OperatingRisk  \n",
       "0                0              2  \n",
       "1                0              1  \n",
       "2                0              0  \n",
       "3                2              2  \n",
       "4                2              1  "
      ]
     },
     "execution_count": 4,
     "metadata": {},
     "output_type": "execute_result"
    }
   ],
   "source": [
    "le = LabelEncoder()\n",
    "df_X=df.drop('Class',axis=1)\n",
    "df_encoded=df_X.apply(le.fit_transform)\n",
    "df_encoded.head()"
   ]
  },
  {
   "cell_type": "markdown",
   "metadata": {},
   "source": [
    "### 3.\tSeparate the dependant variable from the rest of the train data ."
   ]
  },
  {
   "cell_type": "code",
   "execution_count": 5,
   "metadata": {},
   "outputs": [
    {
     "data": {
      "text/plain": [
       "NB    143\n",
       "B     107\n",
       "Name: Class, dtype: int64"
      ]
     },
     "execution_count": 5,
     "metadata": {},
     "output_type": "execute_result"
    }
   ],
   "source": [
    "Label=df.Class\n",
    "Label.value_counts()"
   ]
  },
  {
   "cell_type": "markdown",
   "metadata": {},
   "source": [
    "### 4.Split the dataset into training and test data ( Take 80:20 ratio)."
   ]
  },
  {
   "cell_type": "code",
   "execution_count": 6,
   "metadata": {},
   "outputs": [],
   "source": [
    "X_train, X_test = train_test_split(\n",
    "    df_encoded, test_size=0.2, random_state=1)"
   ]
  },
  {
   "cell_type": "code",
   "execution_count": 7,
   "metadata": {},
   "outputs": [
    {
     "data": {
      "text/plain": [
       "(200, 6)"
      ]
     },
     "execution_count": 7,
     "metadata": {},
     "output_type": "execute_result"
    }
   ],
   "source": [
    "X_train.shape"
   ]
  },
  {
   "cell_type": "code",
   "execution_count": 8,
   "metadata": {},
   "outputs": [
    {
     "data": {
      "text/plain": [
       "(50, 6)"
      ]
     },
     "execution_count": 8,
     "metadata": {},
     "output_type": "execute_result"
    }
   ],
   "source": [
    "X_test.shape"
   ]
  },
  {
   "cell_type": "markdown",
   "metadata": {},
   "source": [
    "### 5.\tApply PCA on the independent features of train data."
   ]
  },
  {
   "cell_type": "code",
   "execution_count": 9,
   "metadata": {},
   "outputs": [],
   "source": [
    "from sklearn.decomposition import PCA"
   ]
  },
  {
   "cell_type": "code",
   "execution_count": 10,
   "metadata": {},
   "outputs": [],
   "source": [
    "pca=PCA()"
   ]
  },
  {
   "cell_type": "code",
   "execution_count": 11,
   "metadata": {},
   "outputs": [
    {
     "data": {
      "text/plain": [
       "PCA(copy=True, iterated_power='auto', n_components=None, random_state=None,\n",
       "    svd_solver='auto', tol=0.0, whiten=False)"
      ]
     },
     "execution_count": 11,
     "metadata": {},
     "output_type": "execute_result"
    }
   ],
   "source": [
    "pca.fit(X_train)"
   ]
  },
  {
   "cell_type": "code",
   "execution_count": 12,
   "metadata": {},
   "outputs": [],
   "source": [
    "D=pca.explained_variance_"
   ]
  },
  {
   "cell_type": "code",
   "execution_count": 13,
   "metadata": {},
   "outputs": [
    {
     "data": {
      "text/plain": [
       "array([0.2362834 , 0.44480696, 0.63124752, 0.76822257, 0.89462015,\n",
       "       1.        ])"
      ]
     },
     "execution_count": 13,
     "metadata": {},
     "output_type": "execute_result"
    }
   ],
   "source": [
    "\n",
    "var_explained = D/np.sum(D)  \n",
    "cum_var_exp = np.cumsum(var_explained)  \n",
    "cum_var_exp"
   ]
  },
  {
   "cell_type": "markdown",
   "metadata": {},
   "source": [
    "### 6.\tDisplay elbow plot to find out reduced number of dimensions (which covers more than 95% of the variance). "
   ]
  },
  {
   "cell_type": "code",
   "execution_count": 14,
   "metadata": {},
   "outputs": [
    {
     "data": {
      "image/png": "[encoded data removed]",
      "text/plain": [
       "<Figure size 432x288 with 1 Axes>"
      ]
     },
     "metadata": {
      "needs_background": "light"
     },
     "output_type": "display_data"
    }
   ],
   "source": [
    "plt.bar(range(1,7), var_explained, alpha=0.5, align='center', label='individual explained variance')\n",
    "plt.step(range(1,7),cum_var_exp, where= 'mid', label='cumulative explained variance')\n",
    "plt.ylabel('Explained variance ratio')\n",
    "plt.xlabel('Principal components')\n",
    "plt.legend(loc = 'best')\n",
    "plt.show()"
   ]
  },
  {
   "cell_type": "markdown",
   "metadata": {},
   "source": [
    "### 7.\tTransform the data using PCA ( select optimum number of PCs). "
   ]
  },
  {
   "cell_type": "code",
   "execution_count": 15,
   "metadata": {},
   "outputs": [],
   "source": [
    "pca=PCA(n_components=6)\n",
    "R=pca.fit_transform(X_train-X_train.mean())"
   ]
  },
  {
   "cell_type": "code",
   "execution_count": null,
   "metadata": {},
   "outputs": [],
   "source": []
  },
  {
   "cell_type": "markdown",
   "metadata": {},
   "source": [
    "### 8.\tApply KMeans algorithm on the above transformed data. "
   ]
  },
  {
   "cell_type": "code",
   "execution_count": 16,
   "metadata": {},
   "outputs": [
    {
     "data": {
      "text/html": [
       "<div>\n",
       "<style scoped>\n",
       "    .dataframe tbody tr th:only-of-type {\n",
       "        vertical-align: middle;\n",
       "    }\n",
       "\n",
       "    .dataframe tbody tr th {\n",
       "        vertical-align: top;\n",
       "    }\n",
       "\n",
       "    .dataframe thead th {\n",
       "        text-align: right;\n",
       "    }\n",
       "</style>\n",
       "<table border=\"1\" class=\"dataframe\">\n",
       "  <thead>\n",
       "    <tr style=\"text-align: right;\">\n",
       "      <th></th>\n",
       "      <th>num_clusters</th>\n",
       "      <th>cluster_errors</th>\n",
       "    </tr>\n",
       "  </thead>\n",
       "  <tbody>\n",
       "    <tr>\n",
       "      <th>0</th>\n",
       "      <td>1</td>\n",
       "      <td>686.780000</td>\n",
       "    </tr>\n",
       "    <tr>\n",
       "      <th>1</th>\n",
       "      <td>2</td>\n",
       "      <td>582.625473</td>\n",
       "    </tr>\n",
       "    <tr>\n",
       "      <th>2</th>\n",
       "      <td>3</td>\n",
       "      <td>514.332312</td>\n",
       "    </tr>\n",
       "    <tr>\n",
       "      <th>3</th>\n",
       "      <td>4</td>\n",
       "      <td>463.594281</td>\n",
       "    </tr>\n",
       "    <tr>\n",
       "      <th>4</th>\n",
       "      <td>5</td>\n",
       "      <td>423.785651</td>\n",
       "    </tr>\n",
       "    <tr>\n",
       "      <th>5</th>\n",
       "      <td>6</td>\n",
       "      <td>390.200865</td>\n",
       "    </tr>\n",
       "    <tr>\n",
       "      <th>6</th>\n",
       "      <td>7</td>\n",
       "      <td>368.382543</td>\n",
       "    </tr>\n",
       "    <tr>\n",
       "      <th>7</th>\n",
       "      <td>8</td>\n",
       "      <td>346.388631</td>\n",
       "    </tr>\n",
       "    <tr>\n",
       "      <th>8</th>\n",
       "      <td>9</td>\n",
       "      <td>322.677213</td>\n",
       "    </tr>\n",
       "  </tbody>\n",
       "</table>\n",
       "</div>"
      ],
      "text/plain": [
       "   num_clusters  cluster_errors\n",
       "0             1      686.780000\n",
       "1             2      582.625473\n",
       "2             3      514.332312\n",
       "3             4      463.594281\n",
       "4             5      423.785651\n",
       "5             6      390.200865\n",
       "6             7      368.382543\n",
       "7             8      346.388631\n",
       "8             9      322.677213"
      ]
     },
     "execution_count": 16,
     "metadata": {},
     "output_type": "execute_result"
    }
   ],
   "source": [
    "from sklearn.cluster import KMeans\n",
    "# Let us check optimal number of clusters-\n",
    "\n",
    "cluster_range = range( 1, 10)   # expect 3 to four clusters from the pair panel visual inspection hence restricting from 2 to 6\n",
    "cluster_errors = []\n",
    "for num_clusters in cluster_range:\n",
    "  clusters = KMeans( num_clusters, n_init = 5)\n",
    "  clusters.fit(R)\n",
    "  labels = clusters.labels_                     # capture the cluster lables\n",
    "  centroids = clusters.cluster_centers_         # capture the centroids\n",
    "  cluster_errors.append( clusters.inertia_ )    # capture the intertia\n",
    "# combine the cluster_range and cluster_errors into a dataframe by combining them\n",
    "clusters_df = pd.DataFrame( { \"num_clusters\":cluster_range, \"cluster_errors\": cluster_errors} )\n",
    "clusters_df[0:15]"
   ]
  },
  {
   "cell_type": "code",
   "execution_count": 17,
   "metadata": {},
   "outputs": [
    {
     "data": {
      "text/plain": [
       "[<matplotlib.lines.Line2D at 0x2660ca596a0>]"
      ]
     },
     "execution_count": 17,
     "metadata": {},
     "output_type": "execute_result"
    },
    {
     "data": {
      "image/png": "[encoded data removed]",
      "text/plain": [
       "<Figure size 864x432 with 1 Axes>"
      ]
     },
     "metadata": {
      "needs_background": "light"
     },
     "output_type": "display_data"
    }
   ],
   "source": [
    "\n",
    "plt.figure(figsize=(12,6))\n",
    "plt.plot( clusters_df.num_clusters, clusters_df.cluster_errors, marker = \"o\" ,linestyle='dashed')"
   ]
  },
  {
   "cell_type": "markdown",
   "metadata": {},
   "source": [
    "### 9.\tSelect optimal number of clusters and form clusters out of the train data. "
   ]
  },
  {
   "cell_type": "code",
   "execution_count": 18,
   "metadata": {},
   "outputs": [
    {
     "data": {
      "text/plain": [
       "array([0, 1, 2, 0, 1, 1, 1, 2, 1, 0, 0, 0, 2, 0, 0, 1, 0, 0, 2, 2, 0, 0,\n",
       "       2, 1, 1, 2, 2, 0, 1, 0, 0, 1, 0, 0, 1, 2, 0, 1, 1, 0, 0, 1, 2, 1,\n",
       "       0, 1, 0, 1, 1, 1, 0, 2, 2, 0, 1, 1, 0, 1, 1, 0, 1, 1, 1, 2, 1, 0,\n",
       "       1, 1, 2, 2, 0, 1, 0, 0, 0, 0, 1, 0, 1, 1, 2, 1, 1, 0, 0, 2, 1, 1,\n",
       "       0, 1, 1, 0, 2, 2, 1, 1, 1, 0, 1, 1, 1, 1, 1, 0, 0, 1, 2, 1, 0, 1,\n",
       "       1, 0, 1, 1, 2, 1, 2, 1, 2, 1, 2, 0, 1, 1, 0, 2, 1, 1, 2, 1, 2, 1,\n",
       "       2, 1, 2, 1, 2, 1, 1, 2, 0, 1, 1, 0, 0, 2, 0, 1, 1, 0, 0, 1, 2, 1,\n",
       "       1, 0, 1, 0, 1, 0, 0, 0, 1, 1, 0, 0, 0, 1, 1, 1, 0, 2, 1, 2, 2, 2,\n",
       "       1, 2, 1, 1, 2, 1, 1, 0, 1, 1, 1, 1, 2, 0, 2, 2, 1, 1, 1, 2, 2, 1,\n",
       "       0, 0])"
      ]
     },
     "execution_count": 18,
     "metadata": {},
     "output_type": "execute_result"
    }
   ],
   "source": [
    "clusters = KMeans( 3, n_init = 5)\n",
    "clusters.fit(R)\n",
    "\n",
    "labels = clusters.labels_ \n",
    "labels"
   ]
  },
  {
   "cell_type": "markdown",
   "metadata": {},
   "source": [
    "### 10.\tCreate a new column in the train data and populate it with the cluster labels. "
   ]
  },
  {
   "cell_type": "code",
   "execution_count": 19,
   "metadata": {},
   "outputs": [
    {
     "data": {
      "text/html": [
       "<div>\n",
       "<style scoped>\n",
       "    .dataframe tbody tr th:only-of-type {\n",
       "        vertical-align: middle;\n",
       "    }\n",
       "\n",
       "    .dataframe tbody tr th {\n",
       "        vertical-align: top;\n",
       "    }\n",
       "\n",
       "    .dataframe thead th {\n",
       "        text-align: right;\n",
       "    }\n",
       "</style>\n",
       "<table border=\"1\" class=\"dataframe\">\n",
       "  <thead>\n",
       "    <tr style=\"text-align: right;\">\n",
       "      <th></th>\n",
       "      <th>0</th>\n",
       "      <th>1</th>\n",
       "      <th>2</th>\n",
       "      <th>3</th>\n",
       "      <th>4</th>\n",
       "      <th>5</th>\n",
       "      <th>cluster_labels</th>\n",
       "    </tr>\n",
       "  </thead>\n",
       "  <tbody>\n",
       "    <tr>\n",
       "      <th>0</th>\n",
       "      <td>-0.915930</td>\n",
       "      <td>0.554895</td>\n",
       "      <td>0.226071</td>\n",
       "      <td>-0.077084</td>\n",
       "      <td>0.069235</td>\n",
       "      <td>-0.816957</td>\n",
       "      <td>0</td>\n",
       "    </tr>\n",
       "    <tr>\n",
       "      <th>1</th>\n",
       "      <td>-0.138198</td>\n",
       "      <td>-0.100121</td>\n",
       "      <td>0.534553</td>\n",
       "      <td>-0.433352</td>\n",
       "      <td>-1.245054</td>\n",
       "      <td>-0.687951</td>\n",
       "      <td>1</td>\n",
       "    </tr>\n",
       "    <tr>\n",
       "      <th>2</th>\n",
       "      <td>-0.583267</td>\n",
       "      <td>-1.349621</td>\n",
       "      <td>0.631072</td>\n",
       "      <td>-0.560093</td>\n",
       "      <td>0.010619</td>\n",
       "      <td>0.111156</td>\n",
       "      <td>2</td>\n",
       "    </tr>\n",
       "    <tr>\n",
       "      <th>3</th>\n",
       "      <td>-0.573907</td>\n",
       "      <td>0.577348</td>\n",
       "      <td>-0.998403</td>\n",
       "      <td>-0.068991</td>\n",
       "      <td>0.122281</td>\n",
       "      <td>0.725864</td>\n",
       "      <td>0</td>\n",
       "    </tr>\n",
       "    <tr>\n",
       "      <th>4</th>\n",
       "      <td>0.128297</td>\n",
       "      <td>0.649811</td>\n",
       "      <td>0.638709</td>\n",
       "      <td>-0.747303</td>\n",
       "      <td>-0.464675</td>\n",
       "      <td>0.595862</td>\n",
       "      <td>1</td>\n",
       "    </tr>\n",
       "    <tr>\n",
       "      <th>5</th>\n",
       "      <td>1.427084</td>\n",
       "      <td>-0.373605</td>\n",
       "      <td>-0.890593</td>\n",
       "      <td>0.636143</td>\n",
       "      <td>-1.457817</td>\n",
       "      <td>0.432304</td>\n",
       "      <td>1</td>\n",
       "    </tr>\n",
       "    <tr>\n",
       "      <th>6</th>\n",
       "      <td>1.703643</td>\n",
       "      <td>-0.912401</td>\n",
       "      <td>0.535894</td>\n",
       "      <td>-0.897604</td>\n",
       "      <td>1.217070</td>\n",
       "      <td>0.130728</td>\n",
       "      <td>1</td>\n",
       "    </tr>\n",
       "    <tr>\n",
       "      <th>7</th>\n",
       "      <td>0.446767</td>\n",
       "      <td>-2.069784</td>\n",
       "      <td>0.285214</td>\n",
       "      <td>-0.322407</td>\n",
       "      <td>0.024087</td>\n",
       "      <td>-0.382911</td>\n",
       "      <td>2</td>\n",
       "    </tr>\n",
       "    <tr>\n",
       "      <th>8</th>\n",
       "      <td>-0.125063</td>\n",
       "      <td>0.299100</td>\n",
       "      <td>-0.751055</td>\n",
       "      <td>0.733567</td>\n",
       "      <td>-1.204330</td>\n",
       "      <td>0.219961</td>\n",
       "      <td>1</td>\n",
       "    </tr>\n",
       "    <tr>\n",
       "      <th>9</th>\n",
       "      <td>-1.677210</td>\n",
       "      <td>0.971805</td>\n",
       "      <td>-0.611516</td>\n",
       "      <td>0.830991</td>\n",
       "      <td>-0.950844</td>\n",
       "      <td>0.007619</td>\n",
       "      <td>0</td>\n",
       "    </tr>\n",
       "    <tr>\n",
       "      <th>10</th>\n",
       "      <td>-0.573907</td>\n",
       "      <td>0.577348</td>\n",
       "      <td>-0.998403</td>\n",
       "      <td>-0.068991</td>\n",
       "      <td>0.122281</td>\n",
       "      <td>0.725864</td>\n",
       "      <td>0</td>\n",
       "    </tr>\n",
       "    <tr>\n",
       "      <th>11</th>\n",
       "      <td>-0.609784</td>\n",
       "      <td>0.177215</td>\n",
       "      <td>-0.162155</td>\n",
       "      <td>0.107895</td>\n",
       "      <td>0.450478</td>\n",
       "      <td>0.742962</td>\n",
       "      <td>0</td>\n",
       "    </tr>\n",
       "    <tr>\n",
       "      <th>12</th>\n",
       "      <td>-0.101864</td>\n",
       "      <td>-0.590406</td>\n",
       "      <td>-0.714331</td>\n",
       "      <td>0.680690</td>\n",
       "      <td>0.730901</td>\n",
       "      <td>-0.457515</td>\n",
       "      <td>2</td>\n",
       "    </tr>\n",
       "    <tr>\n",
       "      <th>13</th>\n",
       "      <td>-0.393817</td>\n",
       "      <td>0.602353</td>\n",
       "      <td>0.432390</td>\n",
       "      <td>-0.412194</td>\n",
       "      <td>-0.197720</td>\n",
       "      <td>-0.110547</td>\n",
       "      <td>0</td>\n",
       "    </tr>\n",
       "    <tr>\n",
       "      <th>14</th>\n",
       "      <td>-0.468187</td>\n",
       "      <td>-0.729512</td>\n",
       "      <td>1.307592</td>\n",
       "      <td>-1.274089</td>\n",
       "      <td>-0.587169</td>\n",
       "      <td>0.637845</td>\n",
       "      <td>0</td>\n",
       "    </tr>\n",
       "    <tr>\n",
       "      <th>15</th>\n",
       "      <td>0.013216</td>\n",
       "      <td>0.029702</td>\n",
       "      <td>-0.037811</td>\n",
       "      <td>-0.033306</td>\n",
       "      <td>0.133113</td>\n",
       "      <td>0.069174</td>\n",
       "      <td>1</td>\n",
       "    </tr>\n",
       "    <tr>\n",
       "      <th>16</th>\n",
       "      <td>-1.054210</td>\n",
       "      <td>0.824293</td>\n",
       "      <td>-0.487172</td>\n",
       "      <td>0.689789</td>\n",
       "      <td>-1.268209</td>\n",
       "      <td>-0.666170</td>\n",
       "      <td>0</td>\n",
       "    </tr>\n",
       "    <tr>\n",
       "      <th>17</th>\n",
       "      <td>-0.915930</td>\n",
       "      <td>0.554895</td>\n",
       "      <td>0.226071</td>\n",
       "      <td>-0.077084</td>\n",
       "      <td>0.069235</td>\n",
       "      <td>-0.816957</td>\n",
       "      <td>0</td>\n",
       "    </tr>\n",
       "    <tr>\n",
       "      <th>18</th>\n",
       "      <td>-0.176233</td>\n",
       "      <td>-1.922272</td>\n",
       "      <td>0.160871</td>\n",
       "      <td>-0.181206</td>\n",
       "      <td>0.341452</td>\n",
       "      <td>0.290877</td>\n",
       "      <td>2</td>\n",
       "    </tr>\n",
       "    <tr>\n",
       "      <th>19</th>\n",
       "      <td>-0.662470</td>\n",
       "      <td>-1.569596</td>\n",
       "      <td>-0.881696</td>\n",
       "      <td>-0.022983</td>\n",
       "      <td>0.280209</td>\n",
       "      <td>-0.432630</td>\n",
       "      <td>2</td>\n",
       "    </tr>\n",
       "  </tbody>\n",
       "</table>\n",
       "</div>"
      ],
      "text/plain": [
       "           0         1         2         3         4         5  cluster_labels\n",
       "0  -0.915930  0.554895  0.226071 -0.077084  0.069235 -0.816957               0\n",
       "1  -0.138198 -0.100121  0.534553 -0.433352 -1.245054 -0.687951               1\n",
       "2  -0.583267 -1.349621  0.631072 -0.560093  0.010619  0.111156               2\n",
       "3  -0.573907  0.577348 -0.998403 -0.068991  0.122281  0.725864               0\n",
       "4   0.128297  0.649811  0.638709 -0.747303 -0.464675  0.595862               1\n",
       "5   1.427084 -0.373605 -0.890593  0.636143 -1.457817  0.432304               1\n",
       "6   1.703643 -0.912401  0.535894 -0.897604  1.217070  0.130728               1\n",
       "7   0.446767 -2.069784  0.285214 -0.322407  0.024087 -0.382911               2\n",
       "8  -0.125063  0.299100 -0.751055  0.733567 -1.204330  0.219961               1\n",
       "9  -1.677210  0.971805 -0.611516  0.830991 -0.950844  0.007619               0\n",
       "10 -0.573907  0.577348 -0.998403 -0.068991  0.122281  0.725864               0\n",
       "11 -0.609784  0.177215 -0.162155  0.107895  0.450478  0.742962               0\n",
       "12 -0.101864 -0.590406 -0.714331  0.680690  0.730901 -0.457515               2\n",
       "13 -0.393817  0.602353  0.432390 -0.412194 -0.197720 -0.110547               0\n",
       "14 -0.468187 -0.729512  1.307592 -1.274089 -0.587169  0.637845               0\n",
       "15  0.013216  0.029702 -0.037811 -0.033306  0.133113  0.069174               1\n",
       "16 -1.054210  0.824293 -0.487172  0.689789 -1.268209 -0.666170               0\n",
       "17 -0.915930  0.554895  0.226071 -0.077084  0.069235 -0.816957               0\n",
       "18 -0.176233 -1.922272  0.160871 -0.181206  0.341452  0.290877               2\n",
       "19 -0.662470 -1.569596 -0.881696 -0.022983  0.280209 -0.432630               2"
      ]
     },
     "execution_count": 19,
     "metadata": {},
     "output_type": "execute_result"
    }
   ],
   "source": [
    "R=pd.DataFrame(R)\n",
    "R[\"cluster_labels\"]=labels\n",
    "R.head(20)\n"
   ]
  },
  {
   "cell_type": "markdown",
   "metadata": {},
   "source": [
    "### 11.\tTransform the test data using the same PCA object that was fit on the train data. "
   ]
  },
  {
   "cell_type": "code",
   "execution_count": 20,
   "metadata": {},
   "outputs": [
    {
     "data": {
      "text/plain": [
       "array([[-0.49942802, -0.57340921, -1.48622176,  0.44200087, -0.29114235,\n",
       "        -0.41760002],\n",
       "       [ 0.09857052,  0.33135243, -0.52363729,  0.18489304,  1.54740318,\n",
       "         0.78692526],\n",
       "       [ 0.06223625,  0.82163745,  0.72524696, -0.92914884, -0.42855197,\n",
       "         0.55648991],\n",
       "       [-0.45987717,  0.77417955,  0.51892813, -0.59403949, -0.16159738,\n",
       "        -0.14991991],\n",
       "       [ 0.2450422 , -1.09696162,  0.45580376,  1.47828911, -0.23139113,\n",
       "        -0.98569361],\n",
       "       [-0.16792394, -0.4185802 , -0.62779295,  0.49884409,  0.76702366,\n",
       "        -0.49688777],\n",
       "       [-0.55698953, -0.55859754,  0.94477035, -0.11212947, -0.18212589,\n",
       "         1.52348205],\n",
       "       [-0.57495726,  0.15407073, -0.15759183,  0.11995698,  0.43619044,\n",
       "        -0.67660875],\n",
       "       [-0.05284385,  0.20152863,  0.04872701, -0.21515237,  0.16923585,\n",
       "         0.02980107],\n",
       "       [-0.64932711, -1.17779446,  0.71760997, -0.74193852,  0.04674127,\n",
       "         0.07178391],\n",
       "       [-0.67584421,  0.34904075, -0.07561654, -0.0739505 ,  0.48660087,\n",
       "         0.70358952],\n",
       "       [ 0.35418948, -0.3711223 , -0.42147411,  0.16373474,  0.50006907,\n",
       "         0.20952205],\n",
       "       [ 2.02403186,  0.10787938,  0.91280218,  0.56798326,  0.69463786,\n",
       "         0.23435555],\n",
       "       [-0.08872118, -0.19860497,  0.88497544, -0.03826558,  0.49743277,\n",
       "         0.04689856],\n",
       "       [-1.81502517,  0.34336448,  1.1475189 ,  1.00291863, -0.25832751,\n",
       "         0.00244132],\n",
       "       [-1.12242838, -0.42589709, -1.61056531,  0.58320275,  0.02622268,\n",
       "         0.25618843],\n",
       "       [-0.67584421,  0.34904075, -0.07561654, -0.0739505 ,  0.48660087,\n",
       "         0.70358952],\n",
       "       [ 0.02484365,  0.89606531, -0.06997203,  0.03163193, -1.81640601,\n",
       "        -0.67292072],\n",
       "       [ 0.95067274,  1.00820079, -1.09035707,  0.69052089,  0.62256364,\n",
       "         0.16753921],\n",
       "       [ 0.73802334, -0.05426652, -0.92839899,  0.59549869, -1.10432913,\n",
       "         1.0667195 ],\n",
       "       [ 0.35418948, -0.3711223 , -0.42147411,  0.16373474,  0.50006907,\n",
       "         0.20952205],\n",
       "       [ 0.33099002,  0.51838441, -0.45819787,  0.21661157, -1.43516235,\n",
       "         0.88699852],\n",
       "       [ 0.35157429, -0.90272031, -1.21876919, -1.05193435, -0.54577395,\n",
       "         0.92371974],\n",
       "       [-0.01696651,  0.60166222, -0.78752143, -0.39203917, -0.15896108,\n",
       "         0.01270359],\n",
       "       [-0.26287806, -0.32934067,  1.00798017,  0.90549452, -0.51181391,\n",
       "         0.21478367],\n",
       "       [ 0.97457466, -1.05023243, -1.09442564, -1.19313623, -0.86313898,\n",
       "         0.24993129],\n",
       "       [ 0.35418948, -0.3711223 , -0.42147411,  0.16373474,  0.50006907,\n",
       "         0.20952205],\n",
       "       [-0.05284385,  0.20152863,  0.04872701, -0.21515237,  0.16923585,\n",
       "         0.02980107],\n",
       "       [-0.35072989,  1.50001887, -0.35834974, -1.90859386,  0.56986282,\n",
       "         1.04529576],\n",
       "       [ 0.35418948, -0.3711223 , -0.42147411,  0.16373474,  0.50006907,\n",
       "         0.20952205],\n",
       "       [ 0.0480431 ,  0.0065586 , -0.03324828, -0.0212449 ,  0.11882541,\n",
       "        -1.35039719],\n",
       "       [ 0.04542792, -0.5250394 , -0.83054335, -1.23691399, -0.9270176 ,\n",
       "        -0.63619951],\n",
       "       [ 0.2450422 , -1.09696162,  0.45580376,  1.47828911, -0.23139113,\n",
       "        -0.98569361],\n",
       "       [-0.98199059,  0.72672165,  0.31260929, -0.25893014,  0.10535722,\n",
       "        -0.85632972],\n",
       "       [-0.35899022,  0.57920953,  0.43695284, -0.40013202, -0.21200781,\n",
       "        -1.53011817],\n",
       "       [-0.98199059,  0.72672165,  0.31260929, -0.25893014,  0.10535722,\n",
       "        -0.85632972],\n",
       "       [ 0.16573838,  1.15826543,  1.44056675,  0.48042772,  0.56688061,\n",
       "        -1.53790604],\n",
       "       [ 0.3601223 , -0.4768528 ,  1.13232371,  0.76429264, -0.82917894,\n",
       "        -0.45900478],\n",
       "       [-0.57757245, -0.37752728, -0.9548869 , -1.09571212, -0.60965257,\n",
       "         0.03758894],\n",
       "       [ 0.35418948, -0.3711223 , -0.42147411,  0.16373474,  0.50006907,\n",
       "         0.20952205],\n",
       "       [ 0.35418948, -0.3711223 , -0.42147411,  0.16373474,  0.50006907,\n",
       "         0.20952205],\n",
       "       [-1.81502517,  0.34336448,  1.1475189 ,  1.00291863, -0.25832751,\n",
       "         0.00244132],\n",
       "       [-0.76224897, -0.37588666,  1.2510209 , -0.10320164, -0.61377997,\n",
       "        -1.41663545],\n",
       "       [ 0.66626867, -0.8545337 ,  0.74409788,  0.94927229, -0.44793529,\n",
       "         1.10091447],\n",
       "       [ 1.61699854,  0.68053031,  1.3830033 ,  0.18909614,  0.36380464,\n",
       "         0.05463458],\n",
       "       [-1.00850768,  2.25355686, -0.48061721,  0.40905788,  0.54521682,\n",
       "        -0.22452412],\n",
       "       [ 0.49246903, -0.64052019,  0.2917696 , -0.60313856,  1.83751267,\n",
       "         0.05873442],\n",
       "       [ 0.97457466, -1.05023243, -1.09442564, -1.19313623, -0.86313898,\n",
       "         0.24993129],\n",
       "       [-0.1272137 , -1.13033656,  0.9239288 , -1.07704787, -0.22021332,\n",
       "         0.77819373],\n",
       "       [ 2.09578653,  0.90814656, -0.75969469,  0.21420966,  0.03824401,\n",
       "         0.20016058]])"
      ]
     },
     "execution_count": 20,
     "metadata": {},
     "output_type": "execute_result"
    }
   ],
   "source": [
    "\n",
    "Y=pca.transform(X_test-X_test.mean())\n",
    "Y"
   ]
  },
  {
   "cell_type": "markdown",
   "metadata": {},
   "source": [
    "#### 12.\tUse the same kmeans object, assign cluster labels to the test data and store it as a feature. "
   ]
  },
  {
   "cell_type": "code",
   "execution_count": 21,
   "metadata": {},
   "outputs": [
    {
     "data": {
      "text/plain": [
       "array([2, 1, 1, 0, 2, 2, 0, 0, 1, 2, 0, 2, 1, 0, 0, 2, 0, 1, 1, 1, 2, 1,\n",
       "       2, 1, 0, 2, 2, 1, 0, 2, 1, 1, 2, 0, 0, 0, 1, 1, 2, 2, 2, 0, 0, 1,\n",
       "       1, 0, 2, 2, 2, 1])"
      ]
     },
     "execution_count": 21,
     "metadata": {},
     "output_type": "execute_result"
    }
   ],
   "source": [
    "labels = clusters.predict(Y)\n",
    "labels"
   ]
  },
  {
   "cell_type": "code",
   "execution_count": 22,
   "metadata": {},
   "outputs": [
    {
     "data": {
      "text/html": [
       "<div>\n",
       "<style scoped>\n",
       "    .dataframe tbody tr th:only-of-type {\n",
       "        vertical-align: middle;\n",
       "    }\n",
       "\n",
       "    .dataframe tbody tr th {\n",
       "        vertical-align: top;\n",
       "    }\n",
       "\n",
       "    .dataframe thead th {\n",
       "        text-align: right;\n",
       "    }\n",
       "</style>\n",
       "<table border=\"1\" class=\"dataframe\">\n",
       "  <thead>\n",
       "    <tr style=\"text-align: right;\">\n",
       "      <th></th>\n",
       "      <th>0</th>\n",
       "      <th>1</th>\n",
       "      <th>2</th>\n",
       "      <th>3</th>\n",
       "      <th>4</th>\n",
       "      <th>5</th>\n",
       "      <th>Feature_7</th>\n",
       "    </tr>\n",
       "  </thead>\n",
       "  <tbody>\n",
       "    <tr>\n",
       "      <th>0</th>\n",
       "      <td>-0.499428</td>\n",
       "      <td>-0.573409</td>\n",
       "      <td>-1.486222</td>\n",
       "      <td>0.442001</td>\n",
       "      <td>-0.291142</td>\n",
       "      <td>-0.417600</td>\n",
       "      <td>2</td>\n",
       "    </tr>\n",
       "    <tr>\n",
       "      <th>1</th>\n",
       "      <td>0.098571</td>\n",
       "      <td>0.331352</td>\n",
       "      <td>-0.523637</td>\n",
       "      <td>0.184893</td>\n",
       "      <td>1.547403</td>\n",
       "      <td>0.786925</td>\n",
       "      <td>1</td>\n",
       "    </tr>\n",
       "    <tr>\n",
       "      <th>2</th>\n",
       "      <td>0.062236</td>\n",
       "      <td>0.821637</td>\n",
       "      <td>0.725247</td>\n",
       "      <td>-0.929149</td>\n",
       "      <td>-0.428552</td>\n",
       "      <td>0.556490</td>\n",
       "      <td>1</td>\n",
       "    </tr>\n",
       "    <tr>\n",
       "      <th>3</th>\n",
       "      <td>-0.459877</td>\n",
       "      <td>0.774180</td>\n",
       "      <td>0.518928</td>\n",
       "      <td>-0.594039</td>\n",
       "      <td>-0.161597</td>\n",
       "      <td>-0.149920</td>\n",
       "      <td>0</td>\n",
       "    </tr>\n",
       "    <tr>\n",
       "      <th>4</th>\n",
       "      <td>0.245042</td>\n",
       "      <td>-1.096962</td>\n",
       "      <td>0.455804</td>\n",
       "      <td>1.478289</td>\n",
       "      <td>-0.231391</td>\n",
       "      <td>-0.985694</td>\n",
       "      <td>2</td>\n",
       "    </tr>\n",
       "    <tr>\n",
       "      <th>5</th>\n",
       "      <td>-0.167924</td>\n",
       "      <td>-0.418580</td>\n",
       "      <td>-0.627793</td>\n",
       "      <td>0.498844</td>\n",
       "      <td>0.767024</td>\n",
       "      <td>-0.496888</td>\n",
       "      <td>2</td>\n",
       "    </tr>\n",
       "    <tr>\n",
       "      <th>6</th>\n",
       "      <td>-0.556990</td>\n",
       "      <td>-0.558598</td>\n",
       "      <td>0.944770</td>\n",
       "      <td>-0.112129</td>\n",
       "      <td>-0.182126</td>\n",
       "      <td>1.523482</td>\n",
       "      <td>0</td>\n",
       "    </tr>\n",
       "    <tr>\n",
       "      <th>7</th>\n",
       "      <td>-0.574957</td>\n",
       "      <td>0.154071</td>\n",
       "      <td>-0.157592</td>\n",
       "      <td>0.119957</td>\n",
       "      <td>0.436190</td>\n",
       "      <td>-0.676609</td>\n",
       "      <td>0</td>\n",
       "    </tr>\n",
       "    <tr>\n",
       "      <th>8</th>\n",
       "      <td>-0.052844</td>\n",
       "      <td>0.201529</td>\n",
       "      <td>0.048727</td>\n",
       "      <td>-0.215152</td>\n",
       "      <td>0.169236</td>\n",
       "      <td>0.029801</td>\n",
       "      <td>1</td>\n",
       "    </tr>\n",
       "    <tr>\n",
       "      <th>9</th>\n",
       "      <td>-0.649327</td>\n",
       "      <td>-1.177794</td>\n",
       "      <td>0.717610</td>\n",
       "      <td>-0.741939</td>\n",
       "      <td>0.046741</td>\n",
       "      <td>0.071784</td>\n",
       "      <td>2</td>\n",
       "    </tr>\n",
       "    <tr>\n",
       "      <th>10</th>\n",
       "      <td>-0.675844</td>\n",
       "      <td>0.349041</td>\n",
       "      <td>-0.075617</td>\n",
       "      <td>-0.073950</td>\n",
       "      <td>0.486601</td>\n",
       "      <td>0.703590</td>\n",
       "      <td>0</td>\n",
       "    </tr>\n",
       "    <tr>\n",
       "      <th>11</th>\n",
       "      <td>0.354189</td>\n",
       "      <td>-0.371122</td>\n",
       "      <td>-0.421474</td>\n",
       "      <td>0.163735</td>\n",
       "      <td>0.500069</td>\n",
       "      <td>0.209522</td>\n",
       "      <td>2</td>\n",
       "    </tr>\n",
       "    <tr>\n",
       "      <th>12</th>\n",
       "      <td>2.024032</td>\n",
       "      <td>0.107879</td>\n",
       "      <td>0.912802</td>\n",
       "      <td>0.567983</td>\n",
       "      <td>0.694638</td>\n",
       "      <td>0.234356</td>\n",
       "      <td>1</td>\n",
       "    </tr>\n",
       "    <tr>\n",
       "      <th>13</th>\n",
       "      <td>-0.088721</td>\n",
       "      <td>-0.198605</td>\n",
       "      <td>0.884975</td>\n",
       "      <td>-0.038266</td>\n",
       "      <td>0.497433</td>\n",
       "      <td>0.046899</td>\n",
       "      <td>0</td>\n",
       "    </tr>\n",
       "    <tr>\n",
       "      <th>14</th>\n",
       "      <td>-1.815025</td>\n",
       "      <td>0.343364</td>\n",
       "      <td>1.147519</td>\n",
       "      <td>1.002919</td>\n",
       "      <td>-0.258328</td>\n",
       "      <td>0.002441</td>\n",
       "      <td>0</td>\n",
       "    </tr>\n",
       "    <tr>\n",
       "      <th>15</th>\n",
       "      <td>-1.122428</td>\n",
       "      <td>-0.425897</td>\n",
       "      <td>-1.610565</td>\n",
       "      <td>0.583203</td>\n",
       "      <td>0.026223</td>\n",
       "      <td>0.256188</td>\n",
       "      <td>2</td>\n",
       "    </tr>\n",
       "    <tr>\n",
       "      <th>16</th>\n",
       "      <td>-0.675844</td>\n",
       "      <td>0.349041</td>\n",
       "      <td>-0.075617</td>\n",
       "      <td>-0.073950</td>\n",
       "      <td>0.486601</td>\n",
       "      <td>0.703590</td>\n",
       "      <td>0</td>\n",
       "    </tr>\n",
       "    <tr>\n",
       "      <th>17</th>\n",
       "      <td>0.024844</td>\n",
       "      <td>0.896065</td>\n",
       "      <td>-0.069972</td>\n",
       "      <td>0.031632</td>\n",
       "      <td>-1.816406</td>\n",
       "      <td>-0.672921</td>\n",
       "      <td>1</td>\n",
       "    </tr>\n",
       "    <tr>\n",
       "      <th>18</th>\n",
       "      <td>0.950673</td>\n",
       "      <td>1.008201</td>\n",
       "      <td>-1.090357</td>\n",
       "      <td>0.690521</td>\n",
       "      <td>0.622564</td>\n",
       "      <td>0.167539</td>\n",
       "      <td>1</td>\n",
       "    </tr>\n",
       "    <tr>\n",
       "      <th>19</th>\n",
       "      <td>0.738023</td>\n",
       "      <td>-0.054267</td>\n",
       "      <td>-0.928399</td>\n",
       "      <td>0.595499</td>\n",
       "      <td>-1.104329</td>\n",
       "      <td>1.066719</td>\n",
       "      <td>1</td>\n",
       "    </tr>\n",
       "  </tbody>\n",
       "</table>\n",
       "</div>"
      ],
      "text/plain": [
       "           0         1         2         3         4         5  Feature_7\n",
       "0  -0.499428 -0.573409 -1.486222  0.442001 -0.291142 -0.417600          2\n",
       "1   0.098571  0.331352 -0.523637  0.184893  1.547403  0.786925          1\n",
       "2   0.062236  0.821637  0.725247 -0.929149 -0.428552  0.556490          1\n",
       "3  -0.459877  0.774180  0.518928 -0.594039 -0.161597 -0.149920          0\n",
       "4   0.245042 -1.096962  0.455804  1.478289 -0.231391 -0.985694          2\n",
       "5  -0.167924 -0.418580 -0.627793  0.498844  0.767024 -0.496888          2\n",
       "6  -0.556990 -0.558598  0.944770 -0.112129 -0.182126  1.523482          0\n",
       "7  -0.574957  0.154071 -0.157592  0.119957  0.436190 -0.676609          0\n",
       "8  -0.052844  0.201529  0.048727 -0.215152  0.169236  0.029801          1\n",
       "9  -0.649327 -1.177794  0.717610 -0.741939  0.046741  0.071784          2\n",
       "10 -0.675844  0.349041 -0.075617 -0.073950  0.486601  0.703590          0\n",
       "11  0.354189 -0.371122 -0.421474  0.163735  0.500069  0.209522          2\n",
       "12  2.024032  0.107879  0.912802  0.567983  0.694638  0.234356          1\n",
       "13 -0.088721 -0.198605  0.884975 -0.038266  0.497433  0.046899          0\n",
       "14 -1.815025  0.343364  1.147519  1.002919 -0.258328  0.002441          0\n",
       "15 -1.122428 -0.425897 -1.610565  0.583203  0.026223  0.256188          2\n",
       "16 -0.675844  0.349041 -0.075617 -0.073950  0.486601  0.703590          0\n",
       "17  0.024844  0.896065 -0.069972  0.031632 -1.816406 -0.672921          1\n",
       "18  0.950673  1.008201 -1.090357  0.690521  0.622564  0.167539          1\n",
       "19  0.738023 -0.054267 -0.928399  0.595499 -1.104329  1.066719          1"
      ]
     },
     "execution_count": 22,
     "metadata": {},
     "output_type": "execute_result"
    }
   ],
   "source": [
    "Y=pd.DataFrame(Y)\n",
    "Y[\"Feature_7\"]=labels\n",
    "Y.head(20)\n"
   ]
  },
  {
   "cell_type": "markdown",
   "metadata": {},
   "source": [
    "### 13.Apply SVC model on train dataset and predict target for test dataset. "
   ]
  },
  {
   "cell_type": "code",
   "execution_count": 23,
   "metadata": {},
   "outputs": [],
   "source": [
    "from sklearn import svm"
   ]
  },
  {
   "cell_type": "code",
   "execution_count": 24,
   "metadata": {},
   "outputs": [],
   "source": [
    "clf = svm.SVC()"
   ]
  },
  {
   "cell_type": "code",
   "execution_count": 25,
   "metadata": {},
   "outputs": [
    {
     "data": {
      "text/plain": [
       "SVC(C=1.0, cache_size=200, class_weight=None, coef0=0.0,\n",
       "    decision_function_shape='ovr', degree=3, gamma='auto_deprecated',\n",
       "    kernel='rbf', max_iter=-1, probability=False, random_state=None,\n",
       "    shrinking=True, tol=0.001, verbose=False)"
      ]
     },
     "execution_count": 25,
     "metadata": {},
     "output_type": "execute_result"
    }
   ],
   "source": [
    "clf.fit(R.drop(\"cluster_labels\",axis=1),R.cluster_labels)"
   ]
  },
  {
   "cell_type": "code",
   "execution_count": 26,
   "metadata": {},
   "outputs": [],
   "source": [
    "predicted=clf.predict(Y.drop(\"Feature_7\",axis=1))"
   ]
  },
  {
   "cell_type": "markdown",
   "metadata": {},
   "source": [
    "### 14.\tCheck accuracy and confusion matrix."
   ]
  },
  {
   "cell_type": "code",
   "execution_count": 27,
   "metadata": {},
   "outputs": [
    {
     "data": {
      "text/plain": [
       "0.9"
      ]
     },
     "execution_count": 27,
     "metadata": {},
     "output_type": "execute_result"
    }
   ],
   "source": [
    "from sklearn.metrics import accuracy_score\n",
    "\n",
    "accuracy_score(Y[\"Feature_7\"],predicted)"
   ]
  },
  {
   "cell_type": "code",
   "execution_count": 28,
   "metadata": {},
   "outputs": [],
   "source": [
    "from sklearn.metrics import confusion_matrix"
   ]
  },
  {
   "cell_type": "code",
   "execution_count": 29,
   "metadata": {},
   "outputs": [
    {
     "data": {
      "text/plain": [
       "array([[14,  1,  0],\n",
       "       [ 1, 15,  1],\n",
       "       [ 1,  1, 16]], dtype=int64)"
      ]
     },
     "execution_count": 29,
     "metadata": {},
     "output_type": "execute_result"
    }
   ],
   "source": [
    "confusion_matrix(Y[\"Feature_7\"],predicted)"
   ]
  },
  {
   "cell_type": "code",
   "execution_count": null,
   "metadata": {},
   "outputs": [],
   "source": []
  }
 ],
 "metadata": {
  "kernelspec": {
   "display_name": "Python 3",
   "language": "python",
   "name": "python3"
  },
  "language_info": {
   "codemirror_mode": {
    "name": "ipython",
    "version": 3
   },
   "file_extension": ".py",
   "mimetype": "text/x-python",
   "name": "python",
   "nbconvert_exporter": "python",
   "pygments_lexer": "ipython3",
   "version": "3.7.3"
  }
 },
 "nbformat": 4,
 "nbformat_minor": 2
}
