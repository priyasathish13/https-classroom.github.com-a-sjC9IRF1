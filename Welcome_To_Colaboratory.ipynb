{
  "nbformat": 4,
  "nbformat_minor": 0,
  "metadata": {
    "colab": {
      "name": "Welcome To Colaboratory",
      "provenance": [],
      "collapsed_sections": [],
      "toc_visible": true,
      "include_colab_link": true
    },
    "kernelspec": {
      "display_name": "Python 3",
      "name": "python3"
    }
  },
  "cells": [
    {
      "cell_type": "markdown",
      "metadata": {
        "id": "view-in-github",
        "colab_type": "text"
      },
      "source": [
        "<a href=\"https://colab.research.google.com/github/priyasathish13/https-classroom.github.com-a-sjC9IRF1/blob/master/Welcome_To_Colaboratory.ipynb\" target=\"_parent\"><img src=\"https://colab.research.google.com/assets/colab-badge.svg\" alt=\"Open In Colab\"/></a>"
      ]
    },
    {
      "cell_type": "markdown",
      "metadata": {
        "id": "5fCEDCU_qrC0"
      },
      "source": [
        "<p><img alt=\"Colaboratory logo\" height=\"45px\" src=\"/img/colab_favicon.ico\" align=\"left\" hspace=\"10px\" vspace=\"0px\"></p>\n",
        "\n",
        "<h1>What is Colaboratory?</h1>\n",
        "\n",
        "Colaboratory, or \"Colab\" for short, allows you to write and execute Python in your browser, with \n",
        "- Zero configuration required\n",
        "- Free access to GPUs\n",
        "- Easy sharing\n",
        "\n",
        "Whether you're a **student**, a **data scientist** or an **AI researcher**, Colab can make your work easier. Watch [Introduction to Colab](https://www.youtube.com/watch?v=inN8seMm7UI) to learn more, or just get started below!"
      ]
    },
    {
      "cell_type": "code",
      "metadata": {
        "id": "eocQAMBDsaE-"
      },
      "source": [
        "import pandas as pd\n",
        "import numpy as np"
      ],
      "execution_count": 4,
      "outputs": []
    },
    {
      "cell_type": "code",
      "metadata": {
        "id": "3Nb6vFbxslqz"
      },
      "source": [
        "data=pd.read_csv('/4s1p.csv')"
      ],
      "execution_count": 37,
      "outputs": []
    },
    {
      "cell_type": "code",
      "metadata": {
        "colab": {
          "base_uri": "https://localhost:8080/",
          "height": 0
        },
        "id": "__Ko5R4S-yW_",
        "outputId": "94636802-3975-41a8-8907-2a41034a688f"
      },
      "source": [
        "data.head(5)\n",
        "data.describe"
      ],
      "execution_count": 80,
      "outputs": [
        {
          "output_type": "execute_result",
          "data": {
            "text/plain": [
              "<bound method NDFrame.describe of       Unnamed: 1  Unnamed: 2  Unnamed: 3  ...  Unnamed: 13  Unnamed: 14  Unnamed: 15\n",
              "3         9257.0      2955.0     18488.0  ...          0.0          0.0          0.0\n",
              "23        9252.0      2954.0     11767.0  ...          0.0          0.0          0.0\n",
              "43        9255.0      2955.0     15127.0  ...          0.0          0.0          0.0\n",
              "63        9257.0      2954.0     15128.0  ...          0.0          0.0          0.0\n",
              "83        9255.0      2955.0      8406.0  ...          0.0          0.0          0.0\n",
              "...          ...         ...         ...  ...          ...          ...          ...\n",
              "9719     10038.0      3252.0     10353.0  ...          0.0          0.0          0.0\n",
              "9739     10008.0      3235.0     13448.0  ...          0.0          0.0          0.0\n",
              "9759     10018.0      3242.0     13445.0  ...          0.0          0.0          0.0\n",
              "9779     10028.0      3246.0     18485.0  ...          0.0          0.0          0.0\n",
              "9799     10013.0      3235.0     18491.0  ...          0.0          0.0          0.0\n",
              "\n",
              "[491 rows x 15 columns]>"
            ]
          },
          "metadata": {
            "tags": []
          },
          "execution_count": 80
        }
      ]
    },
    {
      "cell_type": "code",
      "metadata": {
        "id": "EXgyJO6U_SaR"
      },
      "source": [
        "data.dropna(inplace = True)"
      ],
      "execution_count": 39,
      "outputs": []
    },
    {
      "cell_type": "code",
      "metadata": {
        "colab": {
          "base_uri": "https://localhost:8080/",
          "height": 411
        },
        "id": "X3Nr_1ld_6rL",
        "outputId": "347f925f-4b56-4ef3-cfcc-f42a06437353"
      },
      "source": [
        "data.head(5)"
      ],
      "execution_count": 10,
      "outputs": [
        {
          "output_type": "execute_result",
          "data": {
            "text/html": [
              "<div>\n",
              "<style scoped>\n",
              "    .dataframe tbody tr th:only-of-type {\n",
              "        vertical-align: middle;\n",
              "    }\n",
              "\n",
              "    .dataframe tbody tr th {\n",
              "        vertical-align: top;\n",
              "    }\n",
              "\n",
              "    .dataframe thead th {\n",
              "        text-align: right;\n",
              "    }\n",
              "</style>\n",
              "<table border=\"1\" class=\"dataframe\">\n",
              "  <thead>\n",
              "    <tr style=\"text-align: right;\">\n",
              "      <th></th>\n",
              "      <th>[2021-05-17 10:27:08.304]</th>\n",
              "      <th>Unnamed: 1</th>\n",
              "      <th>Unnamed: 2</th>\n",
              "      <th>Unnamed: 3</th>\n",
              "      <th>Unnamed: 4</th>\n",
              "      <th>Unnamed: 5</th>\n",
              "      <th>Unnamed: 6</th>\n",
              "      <th>Unnamed: 7</th>\n",
              "      <th>Unnamed: 8</th>\n",
              "      <th>Unnamed: 9</th>\n",
              "      <th>Unnamed: 10</th>\n",
              "      <th>Unnamed: 11</th>\n",
              "      <th>Unnamed: 12</th>\n",
              "      <th>Unnamed: 13</th>\n",
              "      <th>Unnamed: 14</th>\n",
              "      <th>Unnamed: 15</th>\n",
              "    </tr>\n",
              "  </thead>\n",
              "  <tbody>\n",
              "    <tr>\n",
              "      <th>3</th>\n",
              "      <td>[2021-05-17 10:27:08.329] $C</td>\n",
              "      <td>9257.0</td>\n",
              "      <td>2955.0</td>\n",
              "      <td>18488.0</td>\n",
              "      <td>3532.0</td>\n",
              "      <td>2765.0</td>\n",
              "      <td>35.0</td>\n",
              "      <td>-24.0</td>\n",
              "      <td>0.0</td>\n",
              "      <td>2727.22</td>\n",
              "      <td>25.42</td>\n",
              "      <td>0.0</td>\n",
              "      <td>1.0</td>\n",
              "      <td>0.0</td>\n",
              "      <td>0.0</td>\n",
              "      <td>0.0</td>\n",
              "    </tr>\n",
              "    <tr>\n",
              "      <th>23</th>\n",
              "      <td>[2021-05-17 10:27:08.338] $C</td>\n",
              "      <td>9252.0</td>\n",
              "      <td>2954.0</td>\n",
              "      <td>11767.0</td>\n",
              "      <td>3530.0</td>\n",
              "      <td>2763.0</td>\n",
              "      <td>35.0</td>\n",
              "      <td>-24.0</td>\n",
              "      <td>0.0</td>\n",
              "      <td>2727.22</td>\n",
              "      <td>25.43</td>\n",
              "      <td>0.0</td>\n",
              "      <td>1.0</td>\n",
              "      <td>0.0</td>\n",
              "      <td>0.0</td>\n",
              "      <td>0.0</td>\n",
              "    </tr>\n",
              "    <tr>\n",
              "      <th>43</th>\n",
              "      <td>[2021-05-17 10:27:08.394] $C</td>\n",
              "      <td>9255.0</td>\n",
              "      <td>2955.0</td>\n",
              "      <td>15127.0</td>\n",
              "      <td>3531.0</td>\n",
              "      <td>2764.0</td>\n",
              "      <td>35.0</td>\n",
              "      <td>-24.0</td>\n",
              "      <td>0.0</td>\n",
              "      <td>2727.22</td>\n",
              "      <td>25.44</td>\n",
              "      <td>0.0</td>\n",
              "      <td>1.0</td>\n",
              "      <td>0.0</td>\n",
              "      <td>0.0</td>\n",
              "      <td>0.0</td>\n",
              "    </tr>\n",
              "    <tr>\n",
              "      <th>63</th>\n",
              "      <td>[2021-05-17 10:27:08.461] $C</td>\n",
              "      <td>9257.0</td>\n",
              "      <td>2954.0</td>\n",
              "      <td>15128.0</td>\n",
              "      <td>3531.0</td>\n",
              "      <td>2766.0</td>\n",
              "      <td>35.0</td>\n",
              "      <td>-24.0</td>\n",
              "      <td>0.0</td>\n",
              "      <td>2727.22</td>\n",
              "      <td>25.44</td>\n",
              "      <td>0.0</td>\n",
              "      <td>1.0</td>\n",
              "      <td>0.0</td>\n",
              "      <td>0.0</td>\n",
              "      <td>0.0</td>\n",
              "    </tr>\n",
              "    <tr>\n",
              "      <th>83</th>\n",
              "      <td>[2021-05-17 10:27:08.462] $C</td>\n",
              "      <td>9255.0</td>\n",
              "      <td>2955.0</td>\n",
              "      <td>8406.0</td>\n",
              "      <td>3531.0</td>\n",
              "      <td>2764.0</td>\n",
              "      <td>35.0</td>\n",
              "      <td>-24.0</td>\n",
              "      <td>0.0</td>\n",
              "      <td>2727.22</td>\n",
              "      <td>25.45</td>\n",
              "      <td>0.0</td>\n",
              "      <td>1.0</td>\n",
              "      <td>0.0</td>\n",
              "      <td>0.0</td>\n",
              "      <td>0.0</td>\n",
              "    </tr>\n",
              "  </tbody>\n",
              "</table>\n",
              "</div>"
            ],
            "text/plain": [
              "      [2021-05-17 10:27:08.304]   Unnamed: 1  ...  Unnamed: 14  Unnamed: 15\n",
              "3   [2021-05-17 10:27:08.329] $C      9257.0  ...          0.0          0.0\n",
              "23  [2021-05-17 10:27:08.338] $C      9252.0  ...          0.0          0.0\n",
              "43  [2021-05-17 10:27:08.394] $C      9255.0  ...          0.0          0.0\n",
              "63  [2021-05-17 10:27:08.461] $C      9257.0  ...          0.0          0.0\n",
              "83  [2021-05-17 10:27:08.462] $C      9255.0  ...          0.0          0.0\n",
              "\n",
              "[5 rows x 16 columns]"
            ]
          },
          "metadata": {
            "tags": []
          },
          "execution_count": 10
        }
      ]
    },
    {
      "cell_type": "markdown",
      "metadata": {
        "id": "IP1MErRf9k09"
      },
      "source": [
        "# New Section"
      ]
    },
    {
      "cell_type": "code",
      "metadata": {
        "colab": {
          "base_uri": "https://localhost:8080/",
          "height": 517
        },
        "id": "V3Jsi4uiADJC",
        "outputId": "27a9efbe-51d2-4571-9c4d-7fb1b6a8b952"
      },
      "source": [
        "#Upload the file and change the file path\n",
        "data1=pd.read_csv('/4S 1P New pack for cell Testing after connecting charger',sep=',',delimiter='\\t')\n",
        "#data1[data1['A'].str.contains(\"hello\")]\n",
        "data1.columns=[\"rawData\"]\n",
        "#data1.columns\n",
        "data1=data1[data1['rawData'].str.contains(\"\\$C,\")]\n",
        "data1.size\n",
        "#data1[data1['rawData'].str.split(',',-1)\n",
        "data1=data1.rawData.str.split(\",\",expand=True)\n",
        "CellData1=data1.iloc[:,1:8]\n",
        "CellData1.columns=['PackVolt','Cell0','Cell1', 'Cell2', 'Cell3','Recvcharge','Current']\n",
        "#print(CellData1.columns.get_loc)\n",
        "CellData1=CellData1.astype(float)\n",
        "print(CellData1)\n",
        "\n",
        "import numpy as np\n",
        "import matplotlib.pyplot as plt1\n",
        "# create figure and axis objects with subplots()\n",
        "fig,ax1 = plt1.subplots()\n",
        "# make a plot\n",
        "\n",
        "ax1.plot(CellData1.index, CellData1.Cell0, color=\"red\", marker=\".\",lw=1)\n",
        "ax1.plot(CellData1.index, CellData1.Cell2, color=\"green\", marker=\".\")\n",
        "ax1.plot(CellData1.index, CellData1.Cell3, color=\"blue\", marker=\".\")\n",
        "# set x-axis label\n",
        "ax1.set_xlabel(\"Count\",fontsize=10)\n",
        "# set y-axis label\n",
        "ax1.set_ylabel(\"Voltage\",color=\"red\",fontsize=10)\n",
        "\n",
        "# twin object for two different y-axis on the sample plot\n",
        "ax2=ax1.twinx()\n",
        "# make a plot with different y-axis using second axis object\n",
        "ax2.plot(CellData1.index, CellData1.Current, color=\"cyan\", marker=\"\")\n",
        "ax2.set_ylabel(\"Current\",color=\"Cyan\",fontsize=14)\n",
        "#plt1.plot(range(10))\n",
        "#axes=fig.add_axes()\n",
        "\n",
        "\n",
        "plt1.show()\n"
      ],
      "execution_count": 262,
      "outputs": [
        {
          "output_type": "stream",
          "text": [
            "      PackVolt   Cell0    Cell1   Cell2   Cell3  Recvcharge  Current\n",
            "3       9257.0  2955.0  18488.0  3532.0  2765.0        35.0    -24.0\n",
            "23      9252.0  2954.0  11767.0  3530.0  2763.0        35.0    -24.0\n",
            "43      9255.0  2955.0  15127.0  3531.0  2764.0        35.0    -24.0\n",
            "63      9257.0  2954.0  15128.0  3531.0  2766.0        35.0    -24.0\n",
            "83      9255.0  2955.0   8406.0  3531.0  2764.0        35.0    -24.0\n",
            "...        ...     ...      ...     ...     ...         ...      ...\n",
            "9719   10038.0  3252.0  10353.0  3586.0  3190.0        38.0    -24.0\n",
            "9739   10008.0  3235.0  13448.0  3571.0  3195.0        38.0    -25.0\n",
            "9759   10018.0  3242.0  13445.0  3578.0  3199.0        38.0   1952.0\n",
            "9779   10028.0  3246.0  18485.0  3582.0  3197.0        38.0    -24.0\n",
            "9799   10013.0  3235.0  18491.0  3578.0  3192.0        37.0    -24.0\n",
            "\n",
            "[491 rows x 7 columns]\n"
          ],
          "name": "stdout"
        },
        {
          "output_type": "display_data",
          "data": {
            "image/png": "[encoded data removed]",
            "text/plain": [
              "<Figure size 432x288 with 2 Axes>"
            ]
          },
          "metadata": {
            "tags": [],
            "needs_background": "light"
          }
        }
      ]
    },
    {
      "cell_type": "code",
      "metadata": {
        "id": "hyTkMXbBNQM5",
        "outputId": "325f632c-34cc-4467-f1b4-9cf6aad0d56a",
        "colab": {
          "base_uri": "https://localhost:8080/",
          "height": 279
        }
      },
      "source": [
        ""
      ],
      "execution_count": 261,
      "outputs": [
        {
          "output_type": "display_data",
          "data": {
            "image/png": "[encoded data removed]",
            "text/plain": [
              "<Figure size 432x288 with 2 Axes>"
            ]
          },
          "metadata": {
            "tags": [],
            "needs_background": "light"
          }
        }
      ]
    },
    {
      "cell_type": "code",
      "metadata": {
        "colab": {
          "base_uri": "https://localhost:8080/",
          "height": 0
        },
        "id": "WjWI1m6wA7cZ",
        "outputId": "363b80bc-ddb3-484f-d035-90e84157247e"
      },
      "source": [
        "data.describe"
      ],
      "execution_count": 13,
      "outputs": [
        {
          "output_type": "execute_result",
          "data": {
            "text/plain": [
              "<bound method NDFrame.describe of         [2021-05-17 10:27:08.304]   Unnamed: 1  ...  Unnamed: 14  Unnamed: 15\n",
              "3     [2021-05-17 10:27:08.329] $C      9257.0  ...          0.0          0.0\n",
              "23    [2021-05-17 10:27:08.338] $C      9252.0  ...          0.0          0.0\n",
              "43    [2021-05-17 10:27:08.394] $C      9255.0  ...          0.0          0.0\n",
              "63    [2021-05-17 10:27:08.461] $C      9257.0  ...          0.0          0.0\n",
              "83    [2021-05-17 10:27:08.462] $C      9255.0  ...          0.0          0.0\n",
              "...                            ...         ...  ...          ...          ...\n",
              "9719  [2021-05-17 10:35:00.728] $C     10038.0  ...          0.0          0.0\n",
              "9739  [2021-05-17 10:35:01.720] $C     10008.0  ...          0.0          0.0\n",
              "9759  [2021-05-17 10:35:02.756] $C     10018.0  ...          0.0          0.0\n",
              "9779  [2021-05-17 10:35:03.727] $C     10028.0  ...          0.0          0.0\n",
              "9799  [2021-05-17 10:35:04.708] $C     10013.0  ...          0.0          0.0\n",
              "\n",
              "[491 rows x 16 columns]>"
            ]
          },
          "metadata": {
            "tags": []
          },
          "execution_count": 13
        }
      ]
    },
    {
      "cell_type": "code",
      "metadata": {
        "colab": {
          "base_uri": "https://localhost:8080/",
          "height": 164
        },
        "id": "xQnkBFWCHm5X",
        "outputId": "19680839-4d67-4bf0-ae43-c01c72a23e3c"
      },
      "source": [
        "plotdata.corr()"
      ],
      "execution_count": 41,
      "outputs": [
        {
          "output_type": "error",
          "ename": "NameError",
          "evalue": "ignored",
          "traceback": [
            "\u001b[0;31m---------------------------------------------------------------------------\u001b[0m",
            "\u001b[0;31mNameError\u001b[0m                                 Traceback (most recent call last)",
            "\u001b[0;32m<ipython-input-41-5dfc0998d9c0>\u001b[0m in \u001b[0;36m<module>\u001b[0;34m()\u001b[0m\n\u001b[0;32m----> 1\u001b[0;31m \u001b[0mplotdata\u001b[0m\u001b[0;34m.\u001b[0m\u001b[0mcorr\u001b[0m\u001b[0;34m(\u001b[0m\u001b[0;34m)\u001b[0m\u001b[0;34m\u001b[0m\u001b[0;34m\u001b[0m\u001b[0m\n\u001b[0m",
            "\u001b[0;31mNameError\u001b[0m: name 'plotdata' is not defined"
          ]
        }
      ]
    },
    {
      "cell_type": "code",
      "metadata": {
        "colab": {
          "base_uri": "https://localhost:8080/",
          "height": 358
        },
        "id": "sbGt3VB3IMcq",
        "outputId": "214ba0b7-a921-45f0-cb65-050cb4ece382"
      },
      "source": [
        ""
      ],
      "execution_count": 15,
      "outputs": [
        {
          "output_type": "error",
          "ename": "ValueError",
          "evalue": "ignored",
          "traceback": [
            "\u001b[0;31m---------------------------------------------------------------------------\u001b[0m",
            "\u001b[0;31mValueError\u001b[0m                                Traceback (most recent call last)",
            "\u001b[0;32m<ipython-input-15-ff06ce99391c>\u001b[0m in \u001b[0;36m<module>\u001b[0;34m()\u001b[0m\n\u001b[1;32m      1\u001b[0m \u001b[0;32mimport\u001b[0m \u001b[0mseaborn\u001b[0m \u001b[0;32mas\u001b[0m \u001b[0msns\u001b[0m\u001b[0;34m\u001b[0m\u001b[0;34m\u001b[0m\u001b[0m\n\u001b[0;32m----> 2\u001b[0;31m \u001b[0msns\u001b[0m\u001b[0;34m.\u001b[0m\u001b[0mheatmap\u001b[0m\u001b[0;34m(\u001b[0m\u001b[0mdata\u001b[0m\u001b[0;34m)\u001b[0m\u001b[0;34m\u001b[0m\u001b[0;34m\u001b[0m\u001b[0m\n\u001b[0m\u001b[1;32m      3\u001b[0m \u001b[0mplt\u001b[0m\u001b[0;34m.\u001b[0m\u001b[0mshow\u001b[0m\u001b[0;34m(\u001b[0m\u001b[0;34m)\u001b[0m\u001b[0;34m\u001b[0m\u001b[0;34m\u001b[0m\u001b[0m\n",
            "\u001b[0;32m/usr/local/lib/python3.7/dist-packages/seaborn/_decorators.py\u001b[0m in \u001b[0;36minner_f\u001b[0;34m(*args, **kwargs)\u001b[0m\n\u001b[1;32m     44\u001b[0m             )\n\u001b[1;32m     45\u001b[0m         \u001b[0mkwargs\u001b[0m\u001b[0;34m.\u001b[0m\u001b[0mupdate\u001b[0m\u001b[0;34m(\u001b[0m\u001b[0;34m{\u001b[0m\u001b[0mk\u001b[0m\u001b[0;34m:\u001b[0m \u001b[0marg\u001b[0m \u001b[0;32mfor\u001b[0m \u001b[0mk\u001b[0m\u001b[0;34m,\u001b[0m \u001b[0marg\u001b[0m \u001b[0;32min\u001b[0m \u001b[0mzip\u001b[0m\u001b[0;34m(\u001b[0m\u001b[0msig\u001b[0m\u001b[0;34m.\u001b[0m\u001b[0mparameters\u001b[0m\u001b[0;34m,\u001b[0m \u001b[0margs\u001b[0m\u001b[0;34m)\u001b[0m\u001b[0;34m}\u001b[0m\u001b[0;34m)\u001b[0m\u001b[0;34m\u001b[0m\u001b[0;34m\u001b[0m\u001b[0m\n\u001b[0;32m---> 46\u001b[0;31m         \u001b[0;32mreturn\u001b[0m \u001b[0mf\u001b[0m\u001b[0;34m(\u001b[0m\u001b[0;34m**\u001b[0m\u001b[0mkwargs\u001b[0m\u001b[0;34m)\u001b[0m\u001b[0;34m\u001b[0m\u001b[0;34m\u001b[0m\u001b[0m\n\u001b[0m\u001b[1;32m     47\u001b[0m     \u001b[0;32mreturn\u001b[0m \u001b[0minner_f\u001b[0m\u001b[0;34m\u001b[0m\u001b[0;34m\u001b[0m\u001b[0m\n\u001b[1;32m     48\u001b[0m \u001b[0;34m\u001b[0m\u001b[0m\n",
            "\u001b[0;32m/usr/local/lib/python3.7/dist-packages/seaborn/matrix.py\u001b[0m in \u001b[0;36mheatmap\u001b[0;34m(data, vmin, vmax, cmap, center, robust, annot, fmt, annot_kws, linewidths, linecolor, cbar, cbar_kws, cbar_ax, square, xticklabels, yticklabels, mask, ax, **kwargs)\u001b[0m\n\u001b[1;32m    535\u001b[0m     plotter = _HeatMapper(data, vmin, vmax, cmap, center, robust, annot, fmt,\n\u001b[1;32m    536\u001b[0m                           \u001b[0mannot_kws\u001b[0m\u001b[0;34m,\u001b[0m \u001b[0mcbar\u001b[0m\u001b[0;34m,\u001b[0m \u001b[0mcbar_kws\u001b[0m\u001b[0;34m,\u001b[0m \u001b[0mxticklabels\u001b[0m\u001b[0;34m,\u001b[0m\u001b[0;34m\u001b[0m\u001b[0;34m\u001b[0m\u001b[0m\n\u001b[0;32m--> 537\u001b[0;31m                           yticklabels, mask)\n\u001b[0m\u001b[1;32m    538\u001b[0m \u001b[0;34m\u001b[0m\u001b[0m\n\u001b[1;32m    539\u001b[0m     \u001b[0;31m# Add the pcolormesh kwargs here\u001b[0m\u001b[0;34m\u001b[0m\u001b[0;34m\u001b[0m\u001b[0;34m\u001b[0m\u001b[0m\n",
            "\u001b[0;32m/usr/local/lib/python3.7/dist-packages/seaborn/matrix.py\u001b[0m in \u001b[0;36m__init__\u001b[0;34m(self, data, vmin, vmax, cmap, center, robust, annot, fmt, annot_kws, cbar, cbar_kws, xticklabels, yticklabels, mask)\u001b[0m\n\u001b[1;32m    154\u001b[0m         \u001b[0;31m# Determine good default values for the colormapping\u001b[0m\u001b[0;34m\u001b[0m\u001b[0;34m\u001b[0m\u001b[0;34m\u001b[0m\u001b[0m\n\u001b[1;32m    155\u001b[0m         self._determine_cmap_params(plot_data, vmin, vmax,\n\u001b[0;32m--> 156\u001b[0;31m                                     cmap, center, robust)\n\u001b[0m\u001b[1;32m    157\u001b[0m \u001b[0;34m\u001b[0m\u001b[0m\n\u001b[1;32m    158\u001b[0m         \u001b[0;31m# Sort out the annotations\u001b[0m\u001b[0;34m\u001b[0m\u001b[0;34m\u001b[0m\u001b[0;34m\u001b[0m\u001b[0m\n",
            "\u001b[0;32m/usr/local/lib/python3.7/dist-packages/seaborn/matrix.py\u001b[0m in \u001b[0;36m_determine_cmap_params\u001b[0;34m(self, plot_data, vmin, vmax, cmap, center, robust)\u001b[0m\n\u001b[1;32m    187\u001b[0m \u001b[0;34m\u001b[0m\u001b[0m\n\u001b[1;32m    188\u001b[0m         \u001b[0;31m# plot_data is a np.ma.array instance\u001b[0m\u001b[0;34m\u001b[0m\u001b[0;34m\u001b[0m\u001b[0;34m\u001b[0m\u001b[0m\n\u001b[0;32m--> 189\u001b[0;31m         \u001b[0mcalc_data\u001b[0m \u001b[0;34m=\u001b[0m \u001b[0mplot_data\u001b[0m\u001b[0;34m.\u001b[0m\u001b[0mastype\u001b[0m\u001b[0;34m(\u001b[0m\u001b[0mfloat\u001b[0m\u001b[0;34m)\u001b[0m\u001b[0;34m.\u001b[0m\u001b[0mfilled\u001b[0m\u001b[0;34m(\u001b[0m\u001b[0mnp\u001b[0m\u001b[0;34m.\u001b[0m\u001b[0mnan\u001b[0m\u001b[0;34m)\u001b[0m\u001b[0;34m\u001b[0m\u001b[0;34m\u001b[0m\u001b[0m\n\u001b[0m\u001b[1;32m    190\u001b[0m         \u001b[0;32mif\u001b[0m \u001b[0mvmin\u001b[0m \u001b[0;32mis\u001b[0m \u001b[0;32mNone\u001b[0m\u001b[0;34m:\u001b[0m\u001b[0;34m\u001b[0m\u001b[0;34m\u001b[0m\u001b[0m\n\u001b[1;32m    191\u001b[0m             \u001b[0;32mif\u001b[0m \u001b[0mrobust\u001b[0m\u001b[0;34m:\u001b[0m\u001b[0;34m\u001b[0m\u001b[0;34m\u001b[0m\u001b[0m\n",
            "\u001b[0;31mValueError\u001b[0m: could not convert string to float: '[2021-05-17 10:27:08.329] $C'"
          ]
        }
      ]
    },
    {
      "cell_type": "code",
      "metadata": {
        "id": "wAV-RWvERloO"
      },
      "source": [
        ""
      ],
      "execution_count": null,
      "outputs": []
    },
    {
      "cell_type": "code",
      "metadata": {
        "colab": {
          "base_uri": "https://localhost:8080/",
          "height": 0
        },
        "id": "wWuIL5X5IZu3",
        "outputId": "cf2a8c51-809f-4434-9a1f-fea0a855abc1"
      },
      "source": [
        "print(data.shape)\n",
        "data.drop(columns=data.columns[0], \n",
        "        axis=1, \n",
        "        inplace=True)\n",
        "print(data.shape)\n"
      ],
      "execution_count": 42,
      "outputs": [
        {
          "output_type": "stream",
          "text": [
            "(491, 16)\n",
            "(491, 15)\n"
          ],
          "name": "stdout"
        }
      ]
    },
    {
      "cell_type": "code",
      "metadata": {
        "colab": {
          "base_uri": "https://localhost:8080/",
          "height": 0
        },
        "id": "9yjSLjDyRa_d",
        "outputId": "f1e4cd3f-128a-4956-8d1f-9bb5e9194818"
      },
      "source": [
        "print(data)"
      ],
      "execution_count": 43,
      "outputs": [
        {
          "output_type": "stream",
          "text": [
            "      Unnamed: 1  Unnamed: 2  Unnamed: 3  ...  Unnamed: 13  Unnamed: 14  Unnamed: 15\n",
            "3         9257.0      2955.0     18488.0  ...          0.0          0.0          0.0\n",
            "23        9252.0      2954.0     11767.0  ...          0.0          0.0          0.0\n",
            "43        9255.0      2955.0     15127.0  ...          0.0          0.0          0.0\n",
            "63        9257.0      2954.0     15128.0  ...          0.0          0.0          0.0\n",
            "83        9255.0      2955.0      8406.0  ...          0.0          0.0          0.0\n",
            "...          ...         ...         ...  ...          ...          ...          ...\n",
            "9719     10038.0      3252.0     10353.0  ...          0.0          0.0          0.0\n",
            "9739     10008.0      3235.0     13448.0  ...          0.0          0.0          0.0\n",
            "9759     10018.0      3242.0     13445.0  ...          0.0          0.0          0.0\n",
            "9779     10028.0      3246.0     18485.0  ...          0.0          0.0          0.0\n",
            "9799     10013.0      3235.0     18491.0  ...          0.0          0.0          0.0\n",
            "\n",
            "[491 rows x 15 columns]\n"
          ],
          "name": "stdout"
        }
      ]
    },
    {
      "cell_type": "code",
      "metadata": {
        "colab": {
          "base_uri": "https://localhost:8080/",
          "height": 565
        },
        "id": "t18gCiAyRm3V",
        "outputId": "9d097d61-47a2-4f51-9f7f-e70e824afe06"
      },
      "source": [
        "\n",
        "import seaborn as sns\n",
        "sns.heatmap(data)\n",
        "print(data)"
      ],
      "execution_count": 44,
      "outputs": [
        {
          "output_type": "stream",
          "text": [
            "      Unnamed: 1  Unnamed: 2  Unnamed: 3  ...  Unnamed: 13  Unnamed: 14  Unnamed: 15\n",
            "3         9257.0      2955.0     18488.0  ...          0.0          0.0          0.0\n",
            "23        9252.0      2954.0     11767.0  ...          0.0          0.0          0.0\n",
            "43        9255.0      2955.0     15127.0  ...          0.0          0.0          0.0\n",
            "63        9257.0      2954.0     15128.0  ...          0.0          0.0          0.0\n",
            "83        9255.0      2955.0      8406.0  ...          0.0          0.0          0.0\n",
            "...          ...         ...         ...  ...          ...          ...          ...\n",
            "9719     10038.0      3252.0     10353.0  ...          0.0          0.0          0.0\n",
            "9739     10008.0      3235.0     13448.0  ...          0.0          0.0          0.0\n",
            "9759     10018.0      3242.0     13445.0  ...          0.0          0.0          0.0\n",
            "9779     10028.0      3246.0     18485.0  ...          0.0          0.0          0.0\n",
            "9799     10013.0      3235.0     18491.0  ...          0.0          0.0          0.0\n",
            "\n",
            "[491 rows x 15 columns]\n"
          ],
          "name": "stdout"
        },
        {
          "output_type": "display_data",
          "data": {
            "image/png": "[encoded data removed]",
            "text/plain": [
              "<Figure size 432x288 with 2 Axes>"
            ]
          },
          "metadata": {
            "tags": [],
            "needs_background": "light"
          }
        }
      ]
    },
    {
      "cell_type": "code",
      "metadata": {
        "colab": {
          "base_uri": "https://localhost:8080/",
          "height": 0
        },
        "id": "rgiQLkLJXBci",
        "outputId": "763a7fe9-67b2-4191-b02e-e1e4695b83d3"
      },
      "source": [
        "\n",
        "CellData=data.iloc[:,0:7]\n",
        "CellData.columns=['PackVolt','Cell0','Cell1', 'Cell2', 'Cell3','Recvcharge','Current']\n",
        "print(CellData.columns.get_loc)\n",
        "print(CellData)"
      ],
      "execution_count": 55,
      "outputs": [
        {
          "output_type": "stream",
          "text": [
            "<bound method Index.get_loc of Index(['PackVolt', 'Cell0', 'Cell1', 'Cell2', 'Cell3', 'Recvcharge',\n",
            "       'Current'],\n",
            "      dtype='object')>\n",
            "      PackVolt   Cell0    Cell1   Cell2   Cell3  Recvcharge  Current\n",
            "3       9257.0  2955.0  18488.0  3532.0  2765.0        35.0    -24.0\n",
            "23      9252.0  2954.0  11767.0  3530.0  2763.0        35.0    -24.0\n",
            "43      9255.0  2955.0  15127.0  3531.0  2764.0        35.0    -24.0\n",
            "63      9257.0  2954.0  15128.0  3531.0  2766.0        35.0    -24.0\n",
            "83      9255.0  2955.0   8406.0  3531.0  2764.0        35.0    -24.0\n",
            "...        ...     ...      ...     ...     ...         ...      ...\n",
            "9719   10038.0  3252.0  10353.0  3586.0  3190.0        38.0    -24.0\n",
            "9739   10008.0  3235.0  13448.0  3571.0  3195.0        38.0    -25.0\n",
            "9759   10018.0  3242.0  13445.0  3578.0  3199.0        38.0   1952.0\n",
            "9779   10028.0  3246.0  18485.0  3582.0  3197.0        38.0    -24.0\n",
            "9799   10013.0  3235.0  18491.0  3578.0  3192.0        37.0    -24.0\n",
            "\n",
            "[491 rows x 7 columns]\n"
          ],
          "name": "stdout"
        }
      ]
    },
    {
      "cell_type": "code",
      "metadata": {
        "id": "ZbzIjUOzQtqR",
        "outputId": "c7af8bc8-99ec-4f9b-a900-9585e0bf1093",
        "colab": {
          "base_uri": "https://localhost:8080/"
        }
      },
      "source": [
        "print (CellData1.Cell0[0:50], CellData.Cell0[0:50])"
      ],
      "execution_count": 253,
      "outputs": [
        {
          "output_type": "stream",
          "text": [
            "3      2955\n",
            "23     2954\n",
            "43     2955\n",
            "63     2954\n",
            "83     2955\n",
            "103    2954\n",
            "123    2953\n",
            "143    2955\n",
            "163    2954\n",
            "183    2954\n",
            "203    2953\n",
            "223    2954\n",
            "239    2951\n",
            "259    2951\n",
            "279    2950\n",
            "299    2950\n",
            "319    2950\n",
            "339    2951\n",
            "359    2951\n",
            "379    2950\n",
            "399    2949\n",
            "419    2950\n",
            "439    2953\n",
            "459    2976\n",
            "479    2974\n",
            "499    2976\n",
            "519    2985\n",
            "539    2977\n",
            "559    2986\n",
            "579    2989\n",
            "599    2981\n",
            "619    2994\n",
            "639    2985\n",
            "659    2988\n",
            "679    2998\n",
            "699    2990\n",
            "719    2991\n",
            "739    2998\n",
            "759    2995\n",
            "779    2991\n",
            "799    3010\n",
            "819    2995\n",
            "839    2997\n",
            "859    3014\n",
            "879    3001\n",
            "899    3001\n",
            "919    3014\n",
            "939    3005\n",
            "959    3004\n",
            "979    3021\n",
            "Name: Cell0, dtype: object 3      2955.0\n",
            "23     2954.0\n",
            "43     2955.0\n",
            "63     2954.0\n",
            "83     2955.0\n",
            "103    2954.0\n",
            "123    2953.0\n",
            "143    2955.0\n",
            "163    2954.0\n",
            "183    2954.0\n",
            "203    2953.0\n",
            "223    2954.0\n",
            "239    2951.0\n",
            "259    2951.0\n",
            "279    2950.0\n",
            "299    2950.0\n",
            "319    2950.0\n",
            "339    2951.0\n",
            "359    2951.0\n",
            "379    2950.0\n",
            "399    2949.0\n",
            "419    2950.0\n",
            "439    2953.0\n",
            "459    2976.0\n",
            "479    2974.0\n",
            "499    2976.0\n",
            "519    2985.0\n",
            "539    2977.0\n",
            "559    2986.0\n",
            "579    2989.0\n",
            "599    2981.0\n",
            "619    2994.0\n",
            "639    2985.0\n",
            "659    2988.0\n",
            "679    2998.0\n",
            "699    2990.0\n",
            "719    2991.0\n",
            "739    2998.0\n",
            "759    2995.0\n",
            "779    2991.0\n",
            "799    3010.0\n",
            "819    2995.0\n",
            "839    2997.0\n",
            "859    3014.0\n",
            "879    3001.0\n",
            "899    3001.0\n",
            "919    3014.0\n",
            "939    3005.0\n",
            "959    3004.0\n",
            "979    3021.0\n",
            "Name: Cell0, dtype: float64\n"
          ],
          "name": "stdout"
        }
      ]
    },
    {
      "cell_type": "code",
      "metadata": {
        "colab": {
          "base_uri": "https://localhost:8080/",
          "height": 283
        },
        "id": "3koGOAdig3kI",
        "outputId": "8954da6e-d90e-440c-ed80-c52467f4edce"
      },
      "source": [
        "import matplotlib.pyplot as plt\n",
        "# create figure and axis objects with subplots()\n",
        "fig,ax = plt.subplots()\n",
        "# make a plot\n",
        "ax.plot(CellData.index, CellData.Cell0, color=\"red\", marker=\"\")\n",
        "ax.plot(CellData.index, CellData.Cell2, color=\"green\", marker=\"\")\n",
        "ax.plot(CellData.index, CellData.Cell3, color=\"blue\", marker=\"\")\n",
        "# set x-axis label\n",
        "ax.set_xlabel(\"Count\",fontsize=14)\n",
        "# set y-axis label\n",
        "ax.set_ylabel(\"Voltage\",color=\"red\",fontsize=14)\n",
        "\n",
        "# twin object for two different y-axis on the sample plot\n",
        "ax2=ax.twinx()\n",
        "# make a plot with different y-axis using second axis object\n",
        "ax2.plot(CellData.index, CellData.Current, color=\"cyan\", marker=\"\")\n",
        "ax2.set_ylabel(\"Current\",color=\"Cyan\",fontsize=14)\n",
        "plt.show()"
      ],
      "execution_count": 249,
      "outputs": [
        {
          "output_type": "display_data",
          "data": {
            "image/png": "[encoded data removed]",
            "text/plain": [
              "<Figure size 432x288 with 2 Axes>"
            ]
          },
          "metadata": {
            "tags": [],
            "needs_background": "light"
          }
        }
      ]
    },
    {
      "cell_type": "code",
      "metadata": {
        "id": "KeEcqyIaFooH"
      },
      "source": [
        "from google.colab import drive\n",
        "drive.mount('/content/drive')"
      ],
      "execution_count": null,
      "outputs": []
    },
    {
      "cell_type": "markdown",
      "metadata": {
        "id": "-Rh3-Vt9Nev9"
      },
      "source": [
        "## More Resources\n",
        "\n",
        "### Working with Notebooks in Colab\n",
        "- [Overview of Colaboratory](/notebooks/basic_features_overview.ipynb)\n",
        "- [Guide to Markdown](/notebooks/markdown_guide.ipynb)\n",
        "- [Importing libraries and installing dependencies](/notebooks/snippets/importing_libraries.ipynb)\n",
        "- [Saving and loading notebooks in GitHub](https://colab.research.google.com/github/googlecolab/colabtools/blob/master/notebooks/colab-github-demo.ipynb)\n",
        "- [Interactive forms](/notebooks/forms.ipynb)\n",
        "- [Interactive widgets](/notebooks/widgets.ipynb)\n",
        "- <img src=\"/img/new.png\" height=\"20px\" align=\"left\" hspace=\"4px\" alt=\"New\"></img>\n",
        " [TensorFlow 2 in Colab](/notebooks/tensorflow_version.ipynb)\n",
        "\n",
        "<a name=\"working-with-data\"></a>\n",
        "### Working with Data\n",
        "- [Loading data: Drive, Sheets, and Google Cloud Storage](/notebooks/io.ipynb) \n",
        "- [Charts: visualizing data](/notebooks/charts.ipynb)\n",
        "- [Getting started with BigQuery](/notebooks/bigquery.ipynb)\n",
        "\n",
        "### Machine Learning Crash Course\n",
        "These are a few of the notebooks from Google's online Machine Learning course. See the [full course website](https://developers.google.com/machine-learning/crash-course/) for more.\n",
        "- [Intro to Pandas](/notebooks/mlcc/intro_to_pandas.ipynb)\n",
        "- [Tensorflow concepts](/notebooks/mlcc/tensorflow_programming_concepts.ipynb)\n",
        "- [First steps with TensorFlow](/notebooks/mlcc/first_steps_with_tensor_flow.ipynb)\n",
        "- [Intro to neural nets](/notebooks/mlcc/intro_to_neural_nets.ipynb)\n",
        "- [Intro to sparse data and embeddings](/notebooks/mlcc/intro_to_sparse_data_and_embeddings.ipynb)\n",
        "\n",
        "<a name=\"using-accelerated-hardware\"></a>\n",
        "### Using Accelerated Hardware\n",
        "- [TensorFlow with GPUs](/notebooks/gpu.ipynb)\n",
        "- [TensorFlow with TPUs](/notebooks/tpu.ipynb)"
      ]
    },
    {
      "cell_type": "markdown",
      "metadata": {
        "id": "P-H6Lw1vyNNd"
      },
      "source": [
        "<a name=\"machine-learning-examples\"></a>\n",
        "\n",
        "## Machine Learning Examples\n",
        "\n",
        "To see end-to-end examples of the interactive machine learning analyses that Colaboratory makes possible, check out these  tutorials using models from [TensorFlow Hub](https://tfhub.dev).\n",
        "\n",
        "A few featured examples:\n",
        "\n",
        "- [Retraining an Image Classifier](https://tensorflow.org/hub/tutorials/tf2_image_retraining): Build a Keras model on top of a pre-trained image classifier to distinguish flowers.\n",
        "- [Text Classification](https://tensorflow.org/hub/tutorials/tf2_text_classification): Classify IMDB movie reviews as either *positive* or *negative*.\n",
        "- [Style Transfer](https://tensorflow.org/hub/tutorials/tf2_arbitrary_image_stylization): Use deep learning to transfer style between images.\n",
        "- [Multilingual Universal Sentence Encoder Q&A](https://tensorflow.org/hub/tutorials/retrieval_with_tf_hub_universal_encoder_qa): Use a machine learning model to answer questions from the SQuAD dataset.\n",
        "- [Video Interpolation](https://tensorflow.org/hub/tutorials/tweening_conv3d): Predict what happened in a video between the first and the last frame.\n"
      ]
    }
  ]
}