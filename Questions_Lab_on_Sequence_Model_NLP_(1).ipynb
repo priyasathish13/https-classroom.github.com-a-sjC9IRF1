{
  "nbformat": 4,
  "nbformat_minor": 0,
  "metadata": {
    "colab": {
      "name": "Questions - Lab on Sequence Model NLP (1).ipynb",
      "provenance": [],
      "collapsed_sections": [],
      "toc_visible": true
    },
    "kernelspec": {
      "name": "python3",
      "display_name": "Python 3"
    }
  },
  "cells": [
    {
      "cell_type": "markdown",
      "metadata": {
        "id": "54u8ql4Z4kBE"
      },
      "source": [
        "## Dataset\n",
        "- Daily minimum temperatures in Melbourne, Australia, 1981-1990\n",
        "- Units: Degrees Celcius"
      ]
    },
    {
      "cell_type": "markdown",
      "metadata": {
        "id": "vXE926qT0jHg"
      },
      "source": [
        "# Time series prediction using LSTM"
      ]
    },
    {
      "cell_type": "markdown",
      "metadata": {
        "id": "IPkYyOzY77yl"
      },
      "source": [
        "## Question 1"
      ]
    },
    {
      "cell_type": "markdown",
      "metadata": {
        "id": "aXEOY69f8B9d"
      },
      "source": [
        "### Load the data\n",
        "- load daily-minimum-temperatures-in-me.csv"
      ]
    },
    {
      "cell_type": "code",
      "metadata": {
        "id": "LA7R2II8-Jxh"
      },
      "source": [
        "import pandas as pd\n",
        "import numpy as np\n",
        "d1=pd.read_csv(\"/content/daily-minimum-temperatures-in-me.csv\",header=0, index_col=0)"
      ],
      "execution_count": 126,
      "outputs": []
    },
    {
      "cell_type": "markdown",
      "metadata": {
        "id": "pWcMgg69-T6k"
      },
      "source": [
        "### Print the data\n",
        "- First 5 rows only"
      ]
    },
    {
      "cell_type": "code",
      "metadata": {
        "id": "SM828gT_-Ra2",
        "outputId": "b6221535-4973-463b-8fbb-3c9ed1e69ab2",
        "colab": {
          "base_uri": "https://localhost:8080/",
          "height": 235
        }
      },
      "source": [
        "d1.head(5)"
      ],
      "execution_count": 127,
      "outputs": [
        {
          "output_type": "execute_result",
          "data": {
            "text/html": [
              "<div>\n",
              "<style scoped>\n",
              "    .dataframe tbody tr th:only-of-type {\n",
              "        vertical-align: middle;\n",
              "    }\n",
              "\n",
              "    .dataframe tbody tr th {\n",
              "        vertical-align: top;\n",
              "    }\n",
              "\n",
              "    .dataframe thead th {\n",
              "        text-align: right;\n",
              "    }\n",
              "</style>\n",
              "<table border=\"1\" class=\"dataframe\">\n",
              "  <thead>\n",
              "    <tr style=\"text-align: right;\">\n",
              "      <th></th>\n",
              "      <th>Temperature</th>\n",
              "    </tr>\n",
              "    <tr>\n",
              "      <th>Date</th>\n",
              "      <th></th>\n",
              "    </tr>\n",
              "  </thead>\n",
              "  <tbody>\n",
              "    <tr>\n",
              "      <th>1981-01-01</th>\n",
              "      <td>20.7</td>\n",
              "    </tr>\n",
              "    <tr>\n",
              "      <th>1981-01-02</th>\n",
              "      <td>17.9</td>\n",
              "    </tr>\n",
              "    <tr>\n",
              "      <th>1981-01-03</th>\n",
              "      <td>18.8</td>\n",
              "    </tr>\n",
              "    <tr>\n",
              "      <th>1981-01-04</th>\n",
              "      <td>14.6</td>\n",
              "    </tr>\n",
              "    <tr>\n",
              "      <th>1981-01-05</th>\n",
              "      <td>15.8</td>\n",
              "    </tr>\n",
              "  </tbody>\n",
              "</table>\n",
              "</div>"
            ],
            "text/plain": [
              "            Temperature\n",
              "Date                   \n",
              "1981-01-01         20.7\n",
              "1981-01-02         17.9\n",
              "1981-01-03         18.8\n",
              "1981-01-04         14.6\n",
              "1981-01-05         15.8"
            ]
          },
          "metadata": {
            "tags": []
          },
          "execution_count": 127
        }
      ]
    },
    {
      "cell_type": "code",
      "metadata": {
        "id": "Mtfzq5phiIyM",
        "outputId": "5557f165-7a5e-49f9-c46e-b76bab4273c8",
        "colab": {
          "base_uri": "https://localhost:8080/",
          "height": 34
        }
      },
      "source": [
        "d1.shape"
      ],
      "execution_count": 128,
      "outputs": [
        {
          "output_type": "execute_result",
          "data": {
            "text/plain": [
              "(3650, 1)"
            ]
          },
          "metadata": {
            "tags": []
          },
          "execution_count": 128
        }
      ]
    },
    {
      "cell_type": "markdown",
      "metadata": {
        "id": "JGnWESz9BKx8"
      },
      "source": [
        "### Set index column\n",
        "- Set the DataFrame index using \"Date\" column"
      ]
    },
    {
      "cell_type": "code",
      "metadata": {
        "id": "nFrbd_vd-eZP"
      },
      "source": [
        "#Already did when loading the data"
      ],
      "execution_count": null,
      "outputs": []
    },
    {
      "cell_type": "markdown",
      "metadata": {
        "id": "sS7IVXq7B1P1"
      },
      "source": [
        "## Question 2"
      ]
    },
    {
      "cell_type": "markdown",
      "metadata": {
        "id": "PcgAOybZCc5-"
      },
      "source": [
        "### Check the total count of null values in the data"
      ]
    },
    {
      "cell_type": "code",
      "metadata": {
        "id": "UTMe5jdCCj4k",
        "outputId": "a4b16e9f-233f-4141-bd38-9106967362ec",
        "colab": {
          "base_uri": "https://localhost:8080/",
          "height": 51
        }
      },
      "source": [
        "d1.isna().count()"
      ],
      "execution_count": 129,
      "outputs": [
        {
          "output_type": "execute_result",
          "data": {
            "text/plain": [
              "Temperature    3650\n",
              "dtype: int64"
            ]
          },
          "metadata": {
            "tags": []
          },
          "execution_count": 129
        }
      ]
    },
    {
      "cell_type": "markdown",
      "metadata": {
        "id": "Ua-AeW2YC3kY"
      },
      "source": [
        "### Drop all the rows with null values\n",
        "- use dropna() method"
      ]
    },
    {
      "cell_type": "code",
      "metadata": {
        "id": "9l9UeA6YC8RV",
        "outputId": "d183eb90-02e7-46db-893f-85b8e8b3ef82",
        "colab": {
          "base_uri": "https://localhost:8080/",
          "height": 450
        }
      },
      "source": [
        "d1.dropna()"
      ],
      "execution_count": 130,
      "outputs": [
        {
          "output_type": "execute_result",
          "data": {
            "text/html": [
              "<div>\n",
              "<style scoped>\n",
              "    .dataframe tbody tr th:only-of-type {\n",
              "        vertical-align: middle;\n",
              "    }\n",
              "\n",
              "    .dataframe tbody tr th {\n",
              "        vertical-align: top;\n",
              "    }\n",
              "\n",
              "    .dataframe thead th {\n",
              "        text-align: right;\n",
              "    }\n",
              "</style>\n",
              "<table border=\"1\" class=\"dataframe\">\n",
              "  <thead>\n",
              "    <tr style=\"text-align: right;\">\n",
              "      <th></th>\n",
              "      <th>Temperature</th>\n",
              "    </tr>\n",
              "    <tr>\n",
              "      <th>Date</th>\n",
              "      <th></th>\n",
              "    </tr>\n",
              "  </thead>\n",
              "  <tbody>\n",
              "    <tr>\n",
              "      <th>1981-01-01</th>\n",
              "      <td>20.7</td>\n",
              "    </tr>\n",
              "    <tr>\n",
              "      <th>1981-01-02</th>\n",
              "      <td>17.9</td>\n",
              "    </tr>\n",
              "    <tr>\n",
              "      <th>1981-01-03</th>\n",
              "      <td>18.8</td>\n",
              "    </tr>\n",
              "    <tr>\n",
              "      <th>1981-01-04</th>\n",
              "      <td>14.6</td>\n",
              "    </tr>\n",
              "    <tr>\n",
              "      <th>1981-01-05</th>\n",
              "      <td>15.8</td>\n",
              "    </tr>\n",
              "    <tr>\n",
              "      <th>...</th>\n",
              "      <td>...</td>\n",
              "    </tr>\n",
              "    <tr>\n",
              "      <th>1990-12-27</th>\n",
              "      <td>14.0</td>\n",
              "    </tr>\n",
              "    <tr>\n",
              "      <th>1990-12-28</th>\n",
              "      <td>13.6</td>\n",
              "    </tr>\n",
              "    <tr>\n",
              "      <th>1990-12-29</th>\n",
              "      <td>13.5</td>\n",
              "    </tr>\n",
              "    <tr>\n",
              "      <th>1990-12-30</th>\n",
              "      <td>15.7</td>\n",
              "    </tr>\n",
              "    <tr>\n",
              "      <th>1990-12-31</th>\n",
              "      <td>13.0</td>\n",
              "    </tr>\n",
              "  </tbody>\n",
              "</table>\n",
              "<p>3650 rows × 1 columns</p>\n",
              "</div>"
            ],
            "text/plain": [
              "            Temperature\n",
              "Date                   \n",
              "1981-01-01         20.7\n",
              "1981-01-02         17.9\n",
              "1981-01-03         18.8\n",
              "1981-01-04         14.6\n",
              "1981-01-05         15.8\n",
              "...                 ...\n",
              "1990-12-27         14.0\n",
              "1990-12-28         13.6\n",
              "1990-12-29         13.5\n",
              "1990-12-30         15.7\n",
              "1990-12-31         13.0\n",
              "\n",
              "[3650 rows x 1 columns]"
            ]
          },
          "metadata": {
            "tags": []
          },
          "execution_count": 130
        }
      ]
    },
    {
      "cell_type": "markdown",
      "metadata": {
        "id": "SJam5Ho-DHK7"
      },
      "source": [
        "## Question 3"
      ]
    },
    {
      "cell_type": "markdown",
      "metadata": {
        "id": "3esUPJAMDzCJ"
      },
      "source": [
        "### Describe your dataframe\n",
        "- use describe() method"
      ]
    },
    {
      "cell_type": "code",
      "metadata": {
        "id": "uhH8OwGVELyH",
        "outputId": "2d549610-f854-4df9-d100-0a03310adb48",
        "colab": {
          "base_uri": "https://localhost:8080/",
          "height": 297
        }
      },
      "source": [
        "d1.describe()"
      ],
      "execution_count": 131,
      "outputs": [
        {
          "output_type": "execute_result",
          "data": {
            "text/html": [
              "<div>\n",
              "<style scoped>\n",
              "    .dataframe tbody tr th:only-of-type {\n",
              "        vertical-align: middle;\n",
              "    }\n",
              "\n",
              "    .dataframe tbody tr th {\n",
              "        vertical-align: top;\n",
              "    }\n",
              "\n",
              "    .dataframe thead th {\n",
              "        text-align: right;\n",
              "    }\n",
              "</style>\n",
              "<table border=\"1\" class=\"dataframe\">\n",
              "  <thead>\n",
              "    <tr style=\"text-align: right;\">\n",
              "      <th></th>\n",
              "      <th>Temperature</th>\n",
              "    </tr>\n",
              "  </thead>\n",
              "  <tbody>\n",
              "    <tr>\n",
              "      <th>count</th>\n",
              "      <td>3650.000000</td>\n",
              "    </tr>\n",
              "    <tr>\n",
              "      <th>mean</th>\n",
              "      <td>11.177753</td>\n",
              "    </tr>\n",
              "    <tr>\n",
              "      <th>std</th>\n",
              "      <td>4.071837</td>\n",
              "    </tr>\n",
              "    <tr>\n",
              "      <th>min</th>\n",
              "      <td>0.000000</td>\n",
              "    </tr>\n",
              "    <tr>\n",
              "      <th>25%</th>\n",
              "      <td>8.300000</td>\n",
              "    </tr>\n",
              "    <tr>\n",
              "      <th>50%</th>\n",
              "      <td>11.000000</td>\n",
              "    </tr>\n",
              "    <tr>\n",
              "      <th>75%</th>\n",
              "      <td>14.000000</td>\n",
              "    </tr>\n",
              "    <tr>\n",
              "      <th>max</th>\n",
              "      <td>26.300000</td>\n",
              "    </tr>\n",
              "  </tbody>\n",
              "</table>\n",
              "</div>"
            ],
            "text/plain": [
              "       Temperature\n",
              "count  3650.000000\n",
              "mean     11.177753\n",
              "std       4.071837\n",
              "min       0.000000\n",
              "25%       8.300000\n",
              "50%      11.000000\n",
              "75%      14.000000\n",
              "max      26.300000"
            ]
          },
          "metadata": {
            "tags": []
          },
          "execution_count": 131
        }
      ]
    },
    {
      "cell_type": "markdown",
      "metadata": {
        "id": "bizrToFMB4ix"
      },
      "source": [
        "### Plot the dataframe\n",
        "- use plot() method"
      ]
    },
    {
      "cell_type": "code",
      "metadata": {
        "id": "rNiXK6YZB30N",
        "outputId": "e30e31fe-8a24-4342-a3d6-a3cb92faf36d",
        "colab": {
          "base_uri": "https://localhost:8080/",
          "height": 296
        }
      },
      "source": [
        "d1.plot()"
      ],
      "execution_count": 132,
      "outputs": [
        {
          "output_type": "execute_result",
          "data": {
            "text/plain": [
              "<matplotlib.axes._subplots.AxesSubplot at 0x7f899c30a400>"
            ]
          },
          "metadata": {
            "tags": []
          },
          "execution_count": 132
        },
        {
          "output_type": "display_data",
          "data": {
            "image/png": "[encoded data removed]",
            "text/plain": [
              "<Figure size 432x288 with 1 Axes>"
            ]
          },
          "metadata": {
            "tags": [],
            "needs_background": "light"
          }
        }
      ]
    },
    {
      "cell_type": "markdown",
      "metadata": {
        "id": "OtI9ZGJqE1lh"
      },
      "source": [
        "### Get representation of the distribution of data using histogram\n",
        "- use hist() method"
      ]
    },
    {
      "cell_type": "code",
      "metadata": {
        "id": "qan611HdE9nR",
        "outputId": "1960aae4-8d26-4d8f-b1c6-8816650e0997",
        "colab": {
          "base_uri": "https://localhost:8080/",
          "height": 315
        }
      },
      "source": [
        "d1.hist()"
      ],
      "execution_count": 133,
      "outputs": [
        {
          "output_type": "execute_result",
          "data": {
            "text/plain": [
              "array([[<matplotlib.axes._subplots.AxesSubplot object at 0x7f899c331470>]],\n",
              "      dtype=object)"
            ]
          },
          "metadata": {
            "tags": []
          },
          "execution_count": 133
        },
        {
          "output_type": "display_data",
          "data": {
            "image/png": "[encoded data removed]",
            "text/plain": [
              "<Figure size 432x288 with 1 Axes>"
            ]
          },
          "metadata": {
            "tags": [],
            "needs_background": "light"
          }
        }
      ]
    },
    {
      "cell_type": "markdown",
      "metadata": {
        "id": "D8VDVRisHAsH"
      },
      "source": [
        "### Check minimum and maximum temperature\n",
        "- use min() and max() methods"
      ]
    },
    {
      "cell_type": "code",
      "metadata": {
        "id": "xlwlVtRfG_qX",
        "outputId": "e961d079-6761-4e2b-9055-c28e4afcc967",
        "colab": {
          "base_uri": "https://localhost:8080/",
          "height": 51
        }
      },
      "source": [
        "d1.max()"
      ],
      "execution_count": 134,
      "outputs": [
        {
          "output_type": "execute_result",
          "data": {
            "text/plain": [
              "Temperature    26.3\n",
              "dtype: float64"
            ]
          },
          "metadata": {
            "tags": []
          },
          "execution_count": 134
        }
      ]
    },
    {
      "cell_type": "code",
      "metadata": {
        "id": "abO5iWWAFFCJ",
        "outputId": "81cb0af1-b03d-404e-dc98-8441feaf299d",
        "colab": {
          "base_uri": "https://localhost:8080/",
          "height": 51
        }
      },
      "source": [
        "d1.min()"
      ],
      "execution_count": 135,
      "outputs": [
        {
          "output_type": "execute_result",
          "data": {
            "text/plain": [
              "Temperature    0.0\n",
              "dtype: float64"
            ]
          },
          "metadata": {
            "tags": []
          },
          "execution_count": 135
        }
      ]
    },
    {
      "cell_type": "markdown",
      "metadata": {
        "id": "qTjD3zhSI_BD"
      },
      "source": [
        "## Question 4"
      ]
    },
    {
      "cell_type": "markdown",
      "metadata": {
        "id": "QSDmmRxBMOO7"
      },
      "source": [
        "### Split the dataset into training and testing\n",
        "- training data: 75%\n",
        "- testing data: 25%"
      ]
    },
    {
      "cell_type": "code",
      "metadata": {
        "id": "dbrspzBVM6Gg"
      },
      "source": [
        "from sklearn.model_selection import train_test_split\n",
        "y = d1['Temperature']\n",
        "X=d1.drop('Temperature', axis=1)"
      ],
      "execution_count": 136,
      "outputs": []
    },
    {
      "cell_type": "code",
      "metadata": {
        "id": "ekmEpuRKjuEB"
      },
      "source": [
        "X_train,X_test,y_train,y_test = train_test_split(X.index,y,test_size=0.25)"
      ],
      "execution_count": 137,
      "outputs": []
    },
    {
      "cell_type": "markdown",
      "metadata": {
        "id": "eEgBn5JkKwrZ"
      },
      "source": [
        "### Normalize the data\n",
        "- normalize temperature values using MinMaxScaler\n",
        "- feature_range: 0-1\n",
        "- fit MinMaxScaler on train data and transform it\n",
        "  - use fit_transform() method\n",
        "- transform test data using MinMaxScaler object\n",
        "  - use transform() method"
      ]
    },
    {
      "cell_type": "code",
      "metadata": {
        "id": "OqDcm7tbI19Z",
        "outputId": "d072aa39-3795-4c3d-dc6f-632403686ef0",
        "colab": {
          "base_uri": "https://localhost:8080/",
          "height": 119
        }
      },
      "source": [
        "\n",
        "# Normalize time series data\n",
        "from pandas import read_csv\n",
        "from sklearn.preprocessing import MinMaxScaler\n",
        "# prepare data for normalization\n",
        "values = d1.values\n",
        "values = values.reshape((len(values), 1))\n",
        "# train the normalization\n",
        "scaler = MinMaxScaler(feature_range=(0, 1))\n",
        "scaler = scaler.fit(values)\n",
        "print('Min: %f, Max: %f' % (scaler.data_min_, scaler.data_max_))\n",
        "# normalize the dataset and print the first 5 rows\n",
        "normalized = scaler.transform(values)\n",
        "for i in range(5):\n",
        "\tprint(normalized[i])\n",
        "# inverse transform and print the first 5 rows\n",
        "#inversed = scaler.inverse_transform(normalized)\n",
        "#for i in range(5):\n",
        "\t#print(inversed[i])"
      ],
      "execution_count": 138,
      "outputs": [
        {
          "output_type": "stream",
          "text": [
            "Min: 0.000000, Max: 26.300000\n",
            "[0.78707224]\n",
            "[0.68060837]\n",
            "[0.7148289]\n",
            "[0.55513308]\n",
            "[0.60076046]\n"
          ],
          "name": "stdout"
        }
      ]
    },
    {
      "cell_type": "markdown",
      "metadata": {
        "id": "4HjbO8gRQ3M1"
      },
      "source": [
        "### Print scaled train and test data\n",
        "- print only first 5 values"
      ]
    },
    {
      "cell_type": "code",
      "metadata": {
        "id": "U_WDZwKxRBRx",
        "outputId": "9cd3839e-8ecf-43dd-e4e3-792179a5ae97",
        "colab": {
          "base_uri": "https://localhost:8080/",
          "height": 663
        }
      },
      "source": [
        "print (\"X_train: \", X_train)\n",
        "print (\"y_train: \", y_train)\n",
        "print('X_test:', X_test)\n",
        "print (\"y_test: \", y_test)"
      ],
      "execution_count": 139,
      "outputs": [
        {
          "output_type": "stream",
          "text": [
            "X_train:  Index(['1989-12-08', '1981-10-25', '1982-12-03', '1983-06-10', '1982-01-28',\n",
            "       '1989-11-22', '1985-09-12', '1990-10-06', '1984-09-13', '1982-07-12',\n",
            "       ...\n",
            "       '1989-12-01', '1988-03-26', '1985-11-09', '1981-09-23', '1989-12-14',\n",
            "       '1986-09-12', '1984-06-10', '1990-04-11', '1981-12-10', '1987-02-21'],\n",
            "      dtype='object', name='Date', length=2737)\n",
            "y_train:  Date\n",
            "1989-12-08    16.5\n",
            "1981-10-25     8.4\n",
            "1982-12-03    10.5\n",
            "1983-06-10     7.8\n",
            "1982-01-28    12.5\n",
            "              ... \n",
            "1986-09-12     6.0\n",
            "1984-06-10     5.0\n",
            "1990-04-11    18.5\n",
            "1981-12-10    13.5\n",
            "1987-02-21    13.4\n",
            "Name: Temperature, Length: 2737, dtype: float64\n",
            "X_test: Index(['1982-12-24', '1988-03-25', '1987-10-28', '1989-05-18', '1990-10-18',\n",
            "       '1990-05-07', '1989-03-13', '1982-06-16', '1989-07-20', '1989-05-24',\n",
            "       ...\n",
            "       '1984-06-28', '1984-10-12', '1986-03-26', '1983-04-08', '1989-03-15',\n",
            "       '1990-12-12', '1981-01-23', '1990-03-20', '1987-07-09', '1990-02-14'],\n",
            "      dtype='object', name='Date', length=913)\n",
            "y_test:  Date\n",
            "1982-12-24    15.3\n",
            "1988-03-25    16.2\n",
            "1987-10-28     9.7\n",
            "1989-05-18    11.7\n",
            "1990-10-18    11.3\n",
            "              ... \n",
            "1990-12-12    14.0\n",
            "1981-01-23    14.4\n",
            "1990-03-20    13.6\n",
            "1987-07-09     5.8\n",
            "1990-02-14    14.1\n",
            "Name: Temperature, Length: 913, dtype: float64\n"
          ],
          "name": "stdout"
        }
      ]
    },
    {
      "cell_type": "code",
      "metadata": {
        "id": "vYlwALHrRGcX"
      },
      "source": [
        ""
      ],
      "execution_count": null,
      "outputs": []
    },
    {
      "cell_type": "markdown",
      "metadata": {
        "id": "JB5lHp94RQWY"
      },
      "source": [
        "## Question 5"
      ]
    },
    {
      "cell_type": "markdown",
      "metadata": {
        "id": "kVqNUf00RSiv"
      },
      "source": [
        "### Create sequential data\n",
        "Map the temperature at a particular day 'd' to the temperature at day t\n",
        "'d+n', where n is any number you define.\n",
        "\n",
        "For example: to map temperatures of consecutive days, use d+1, i.e. lookback = 1\n",
        "- Below function takes data as input and returns sequential data.\n",
        "- X as features and y as labels"
      ]
    },
    {
      "cell_type": "code",
      "metadata": {
        "id": "AtxhXruAWws-"
      },
      "source": [
        "import numpy as np\n",
        "def create_seq_data(data, lookback=1):\n",
        "  X, y = list(), list()\n",
        "  \n",
        "  for day in range((len(data)-lookback)):\n",
        "    X.append(data[day: day+lookback, 0])\n",
        "    y.append(data[day+lookback, 0])\n",
        "  return np.array(X), np.array(y)"
      ],
      "execution_count": 140,
      "outputs": []
    },
    {
      "cell_type": "markdown",
      "metadata": {
        "id": "VMBJpuDQJzcG"
      },
      "source": [
        "### Use the above function to create train and test sets\n",
        "- Get X_train and y_train\n",
        "- Get X_test and y_test\n",
        "- lookback = 1"
      ]
    },
    {
      "cell_type": "code",
      "metadata": {
        "id": "Uq6GGmJ0Zqem"
      },
      "source": [
        "X_train =d1.[]\n",
        "y_train =d1.[]\n",
        "n_future =1 # next 4 days temperature forecast\n",
        "n_past = 1 # Past 30 days \n",
        "for i in range(0,len(normalized)-n_past-n_future+1):\n",
        "    X_train.append(normalized[i : i + n_past , 0])     \n",
        "    y_train.append(normalized[i + n_past : i + n_past + n_future , 0 ])\n",
        "X_train , y_train = np.array(X_train), np.array(y_train)\n",
        "X_train = np.reshape(X_train, (X_train.shape[0] , X_train.shape[1], 1) )"
      ],
      "execution_count": 141,
      "outputs": []
    },
    {
      "cell_type": "markdown",
      "metadata": {
        "id": "-E2iixEfK0Px"
      },
      "source": [
        "### Reshape the data\n",
        "- Reshape X_train and X_test\n",
        "- use np.reshape() method\n",
        "- this is to be done to make the data ready for input in model"
      ]
    },
    {
      "cell_type": "code",
      "metadata": {
        "id": "X3qhXEqoZxQ3"
      },
      "source": [
        "#done in the above step"
      ],
      "execution_count": null,
      "outputs": []
    },
    {
      "cell_type": "markdown",
      "metadata": {
        "id": "zKZ8SALZcuNB"
      },
      "source": [
        "### Print shape of data\n",
        "- print shape of X_train and X_test"
      ]
    },
    {
      "cell_type": "code",
      "metadata": {
        "id": "OSg_rbP6c_HI",
        "outputId": "be659bfd-ec54-4fc0-98ad-a6717331d716",
        "colab": {
          "base_uri": "https://localhost:8080/",
          "height": 340
        }
      },
      "source": [
        "print (\"X_train: \", X_train)\n",
        "print('X_test:', X_test)"
      ],
      "execution_count": 142,
      "outputs": [
        {
          "output_type": "stream",
          "text": [
            "X_train:  [[[0.78707224]]\n",
            "\n",
            " [[0.68060837]]\n",
            "\n",
            " [[0.7148289 ]]\n",
            "\n",
            " ...\n",
            "\n",
            " [[0.51711027]]\n",
            "\n",
            " [[0.51330798]]\n",
            "\n",
            " [[0.59695817]]]\n",
            "X_test: Index(['1982-12-24', '1988-03-25', '1987-10-28', '1989-05-18', '1990-10-18',\n",
            "       '1990-05-07', '1989-03-13', '1982-06-16', '1989-07-20', '1989-05-24',\n",
            "       ...\n",
            "       '1984-06-28', '1984-10-12', '1986-03-26', '1983-04-08', '1989-03-15',\n",
            "       '1990-12-12', '1981-01-23', '1990-03-20', '1987-07-09', '1990-02-14'],\n",
            "      dtype='object', name='Date', length=913)\n"
          ],
          "name": "stdout"
        }
      ]
    },
    {
      "cell_type": "markdown",
      "metadata": {
        "id": "emGjaYZ5dfRq"
      },
      "source": [
        "## Question 6"
      ]
    },
    {
      "cell_type": "markdown",
      "metadata": {
        "id": "7fk2Ze24dsXw"
      },
      "source": [
        "### Define sequential model\n",
        "- initialize a Sequential model\n",
        "- add an LSTM layer\n",
        "  - units: 10\n",
        "  - stateful: True\n",
        "  - pass a `batch_input_shape` argument to your layer\n",
        "  - batch_input_shape: (batch_size, look_back, 1)\n",
        "    - batch_size: 1\n",
        "    - look_back: 1\n",
        "- add Dense layer with 1 neuron"
      ]
    },
    {
      "cell_type": "code",
      "metadata": {
        "id": "eXU6UNt4dhJz"
      },
      "source": [
        "from keras.models import Sequential\n",
        "from keras.layers import LSTM,Dense ,Dropout"
      ],
      "execution_count": 146,
      "outputs": []
    },
    {
      "cell_type": "code",
      "metadata": {
        "id": "8nh7cDOszilU"
      },
      "source": [
        "regressor = Sequential()\n",
        "regressor.add((LSTM(units=10, return_sequences=True,stateful=True) ))\n",
        "regressor.add(Dropout(0.2))\n",
        "regressor.add(Dense(units = n_future,activation='linear'))"
      ],
      "execution_count": 147,
      "outputs": []
    },
    {
      "cell_type": "markdown",
      "metadata": {
        "id": "cLymvPFzEQSp"
      },
      "source": [
        "## Question 7"
      ]
    },
    {
      "cell_type": "markdown",
      "metadata": {
        "id": "AZmlvbcMrCTh"
      },
      "source": [
        "### compile your model\n",
        "- loss: mean_squared_error\n",
        "- optimizer: adam"
      ]
    },
    {
      "cell_type": "code",
      "metadata": {
        "id": "aDToilby3rE6",
        "outputId": "54edc426-9d5b-47eb-ca4f-bce6da41ad7f",
        "colab": {
          "base_uri": "https://localhost:8080/",
          "height": 884
        }
      },
      "source": [
        "regressor.compile(optimizer='adam', loss='mean_squared_error',metrics=['acc'])\n",
        "regressor.fit(X_train, y_train, epochs=25,batch_size=1 )"
      ],
      "execution_count": 150,
      "outputs": [
        {
          "output_type": "stream",
          "text": [
            "Epoch 1/25\n",
            "3649/3649 [==============================] - 5s 1ms/step - loss: 0.0214 - acc: 8.2214e-04\n",
            "Epoch 2/25\n",
            "3649/3649 [==============================] - 5s 1ms/step - loss: 0.0113 - acc: 8.2214e-04\n",
            "Epoch 3/25\n",
            "3649/3649 [==============================] - 5s 1ms/step - loss: 0.0108 - acc: 8.2214e-04\n",
            "Epoch 4/25\n",
            "3649/3649 [==============================] - 5s 1ms/step - loss: 0.0107 - acc: 8.2214e-04\n",
            "Epoch 5/25\n",
            "3649/3649 [==============================] - 5s 1ms/step - loss: 0.0105 - acc: 8.2214e-04\n",
            "Epoch 6/25\n",
            "3649/3649 [==============================] - 5s 1ms/step - loss: 0.0105 - acc: 8.2214e-04\n",
            "Epoch 7/25\n",
            "3649/3649 [==============================] - 5s 1ms/step - loss: 0.0104 - acc: 8.2214e-04\n",
            "Epoch 8/25\n",
            "3649/3649 [==============================] - 5s 1ms/step - loss: 0.0102 - acc: 8.2214e-04\n",
            "Epoch 9/25\n",
            "3649/3649 [==============================] - 5s 1ms/step - loss: 0.0102 - acc: 8.2214e-04\n",
            "Epoch 10/25\n",
            "3649/3649 [==============================] - 5s 1ms/step - loss: 0.0103 - acc: 8.2214e-04\n",
            "Epoch 11/25\n",
            "3649/3649 [==============================] - 5s 1ms/step - loss: 0.0104 - acc: 8.2214e-04\n",
            "Epoch 12/25\n",
            "3649/3649 [==============================] - 5s 1ms/step - loss: 0.0103 - acc: 8.2214e-04\n",
            "Epoch 13/25\n",
            "3649/3649 [==============================] - 5s 1ms/step - loss: 0.0103 - acc: 8.2214e-04\n",
            "Epoch 14/25\n",
            "3649/3649 [==============================] - 5s 1ms/step - loss: 0.0102 - acc: 8.2214e-04\n",
            "Epoch 15/25\n",
            "3649/3649 [==============================] - 5s 1ms/step - loss: 0.0102 - acc: 8.2214e-04\n",
            "Epoch 16/25\n",
            "3649/3649 [==============================] - 5s 1ms/step - loss: 0.0102 - acc: 8.2214e-04\n",
            "Epoch 17/25\n",
            "3649/3649 [==============================] - 5s 1ms/step - loss: 0.0100 - acc: 8.2214e-04\n",
            "Epoch 18/25\n",
            "3649/3649 [==============================] - 5s 1ms/step - loss: 0.0101 - acc: 8.2214e-04\n",
            "Epoch 19/25\n",
            "3649/3649 [==============================] - 5s 1ms/step - loss: 0.0102 - acc: 8.2214e-04\n",
            "Epoch 20/25\n",
            "3649/3649 [==============================] - 5s 1ms/step - loss: 0.0101 - acc: 8.2214e-04\n",
            "Epoch 21/25\n",
            "3649/3649 [==============================] - 5s 1ms/step - loss: 0.0102 - acc: 8.2214e-04\n",
            "Epoch 22/25\n",
            "3649/3649 [==============================] - 5s 1ms/step - loss: 0.0101 - acc: 8.2214e-04\n",
            "Epoch 23/25\n",
            "3649/3649 [==============================] - 5s 1ms/step - loss: 0.0101 - acc: 8.2214e-04\n",
            "Epoch 24/25\n",
            "3649/3649 [==============================] - 5s 1ms/step - loss: 0.0102 - acc: 8.2214e-04\n",
            "Epoch 25/25\n",
            "3649/3649 [==============================] - 5s 1ms/step - loss: 0.0101 - acc: 8.2214e-04\n"
          ],
          "name": "stdout"
        },
        {
          "output_type": "execute_result",
          "data": {
            "text/plain": [
              "<tensorflow.python.keras.callbacks.History at 0x7f899a0837f0>"
            ]
          },
          "metadata": {
            "tags": []
          },
          "execution_count": 150
        }
      ]
    },
    {
      "cell_type": "markdown",
      "metadata": {
        "id": "WWAoHdFurJN5"
      },
      "source": [
        "### summarize your model\n",
        "- use summary() method"
      ]
    },
    {
      "cell_type": "code",
      "metadata": {
        "id": "UlIaCMtBrPU2",
        "outputId": "bdc0f1fc-2c37-404d-deaa-3460ce94ce0a",
        "colab": {
          "base_uri": "https://localhost:8080/",
          "height": 255
        }
      },
      "source": [
        "regressor.summary()"
      ],
      "execution_count": 151,
      "outputs": [
        {
          "output_type": "stream",
          "text": [
            "Model: \"sequential_8\"\n",
            "_________________________________________________________________\n",
            "Layer (type)                 Output Shape              Param #   \n",
            "=================================================================\n",
            "lstm_5 (LSTM)                multiple                  480       \n",
            "_________________________________________________________________\n",
            "dropout_2 (Dropout)          multiple                  0         \n",
            "_________________________________________________________________\n",
            "dense_2 (Dense)              multiple                  11        \n",
            "=================================================================\n",
            "Total params: 491\n",
            "Trainable params: 491\n",
            "Non-trainable params: 0\n",
            "_________________________________________________________________\n"
          ],
          "name": "stdout"
        }
      ]
    },
    {
      "cell_type": "markdown",
      "metadata": {
        "id": "dq5a3i6uEcJI"
      },
      "source": [
        "## Question 8"
      ]
    },
    {
      "cell_type": "markdown",
      "metadata": {
        "id": "0Ca3CFhOrf83"
      },
      "source": [
        "### fit your model\n",
        "- epochs: 50\n",
        "- batch_size: 1"
      ]
    },
    {
      "cell_type": "code",
      "metadata": {
        "id": "BbuB-XGPhH6h",
        "outputId": "7c23b6db-e410-4c95-ff7f-9413ac7f6b8f",
        "colab": {
          "base_uri": "https://localhost:8080/",
          "height": 1000
        }
      },
      "source": [
        "regressor.compile(optimizer='adam', loss='mean_squared_error',metrics=['acc'])\n",
        "regressor.fit(X_train, y_train, epochs=50,batch_size=1 )"
      ],
      "execution_count": 152,
      "outputs": [
        {
          "output_type": "stream",
          "text": [
            "Epoch 1/50\n",
            "3649/3649 [==============================] - 4s 1ms/step - loss: 0.0100 - acc: 8.2214e-04\n",
            "Epoch 2/50\n",
            "3649/3649 [==============================] - 5s 1ms/step - loss: 0.0102 - acc: 8.2214e-04\n",
            "Epoch 3/50\n",
            "3649/3649 [==============================] - 4s 1ms/step - loss: 0.0101 - acc: 8.2214e-04\n",
            "Epoch 4/50\n",
            "3649/3649 [==============================] - 5s 1ms/step - loss: 0.0101 - acc: 8.2214e-04\n",
            "Epoch 5/50\n",
            "3649/3649 [==============================] - 5s 1ms/step - loss: 0.0102 - acc: 8.2214e-04\n",
            "Epoch 6/50\n",
            "3649/3649 [==============================] - 5s 1ms/step - loss: 0.0100 - acc: 8.2214e-04\n",
            "Epoch 7/50\n",
            "3649/3649 [==============================] - 5s 1ms/step - loss: 0.0102 - acc: 8.2214e-04\n",
            "Epoch 8/50\n",
            "3649/3649 [==============================] - 5s 1ms/step - loss: 0.0101 - acc: 8.2214e-04\n",
            "Epoch 9/50\n",
            "3649/3649 [==============================] - 5s 1ms/step - loss: 0.0101 - acc: 8.2214e-04\n",
            "Epoch 10/50\n",
            "3649/3649 [==============================] - 5s 1ms/step - loss: 0.0102 - acc: 8.2214e-04\n",
            "Epoch 11/50\n",
            "3649/3649 [==============================] - 5s 1ms/step - loss: 0.0100 - acc: 8.2214e-04\n",
            "Epoch 12/50\n",
            "3649/3649 [==============================] - 5s 1ms/step - loss: 0.0101 - acc: 8.2214e-04\n",
            "Epoch 13/50\n",
            "3649/3649 [==============================] - 5s 1ms/step - loss: 0.0101 - acc: 8.2214e-04\n",
            "Epoch 14/50\n",
            "3649/3649 [==============================] - 5s 1ms/step - loss: 0.0101 - acc: 8.2214e-04\n",
            "Epoch 15/50\n",
            "3649/3649 [==============================] - 5s 1ms/step - loss: 0.0101 - acc: 8.2214e-04\n",
            "Epoch 16/50\n",
            "3649/3649 [==============================] - 5s 1ms/step - loss: 0.0101 - acc: 8.2214e-04\n",
            "Epoch 17/50\n",
            "3649/3649 [==============================] - 5s 1ms/step - loss: 0.0100 - acc: 8.2214e-04\n",
            "Epoch 18/50\n",
            "3649/3649 [==============================] - 5s 1ms/step - loss: 0.0101 - acc: 8.2214e-04\n",
            "Epoch 19/50\n",
            "3649/3649 [==============================] - 5s 1ms/step - loss: 0.0101 - acc: 8.2214e-04\n",
            "Epoch 20/50\n",
            "3649/3649 [==============================] - 5s 1ms/step - loss: 0.0102 - acc: 8.2214e-04\n",
            "Epoch 21/50\n",
            "3649/3649 [==============================] - 5s 1ms/step - loss: 0.0100 - acc: 8.2214e-04\n",
            "Epoch 22/50\n",
            "3649/3649 [==============================] - 5s 1ms/step - loss: 0.0102 - acc: 8.2214e-04\n",
            "Epoch 23/50\n",
            "3649/3649 [==============================] - 5s 1ms/step - loss: 0.0101 - acc: 8.2214e-04\n",
            "Epoch 24/50\n",
            "3649/3649 [==============================] - 5s 1ms/step - loss: 0.0101 - acc: 8.2214e-04\n",
            "Epoch 25/50\n",
            "3649/3649 [==============================] - 5s 1ms/step - loss: 0.0100 - acc: 8.2214e-04\n",
            "Epoch 26/50\n",
            "3649/3649 [==============================] - 5s 1ms/step - loss: 0.0101 - acc: 8.2214e-04\n",
            "Epoch 27/50\n",
            "3649/3649 [==============================] - 5s 1ms/step - loss: 0.0101 - acc: 8.2214e-04\n",
            "Epoch 28/50\n",
            "3649/3649 [==============================] - 5s 1ms/step - loss: 0.0102 - acc: 8.2214e-04\n",
            "Epoch 29/50\n",
            "3649/3649 [==============================] - 5s 1ms/step - loss: 0.0101 - acc: 8.2214e-04\n",
            "Epoch 30/50\n",
            "3649/3649 [==============================] - 5s 1ms/step - loss: 0.0100 - acc: 8.2214e-04\n",
            "Epoch 31/50\n",
            "3649/3649 [==============================] - 5s 1ms/step - loss: 0.0101 - acc: 8.2214e-04\n",
            "Epoch 32/50\n",
            "3649/3649 [==============================] - 5s 1ms/step - loss: 0.0101 - acc: 8.2214e-04\n",
            "Epoch 33/50\n",
            "3649/3649 [==============================] - 5s 1ms/step - loss: 0.0100 - acc: 8.2214e-04\n",
            "Epoch 34/50\n",
            "3649/3649 [==============================] - 5s 1ms/step - loss: 0.0101 - acc: 8.2214e-04\n",
            "Epoch 35/50\n",
            "3649/3649 [==============================] - 5s 1ms/step - loss: 0.0102 - acc: 8.2214e-04\n",
            "Epoch 36/50\n",
            "3649/3649 [==============================] - 5s 1ms/step - loss: 0.0100 - acc: 8.2214e-04\n",
            "Epoch 37/50\n",
            "3649/3649 [==============================] - 5s 1ms/step - loss: 0.0102 - acc: 8.2214e-04\n",
            "Epoch 38/50\n",
            "3649/3649 [==============================] - 5s 1ms/step - loss: 0.0101 - acc: 8.2214e-04\n",
            "Epoch 39/50\n",
            "3649/3649 [==============================] - 5s 1ms/step - loss: 0.0100 - acc: 8.2214e-04\n",
            "Epoch 40/50\n",
            "3649/3649 [==============================] - 5s 1ms/step - loss: 0.0100 - acc: 8.2214e-04\n",
            "Epoch 41/50\n",
            "3649/3649 [==============================] - 5s 1ms/step - loss: 0.0099 - acc: 8.2214e-04\n",
            "Epoch 42/50\n",
            "3649/3649 [==============================] - 5s 1ms/step - loss: 0.0100 - acc: 8.2214e-04\n",
            "Epoch 43/50\n",
            "3649/3649 [==============================] - 7s 2ms/step - loss: 0.0101 - acc: 8.2214e-04\n",
            "Epoch 44/50\n",
            "3649/3649 [==============================] - 5s 1ms/step - loss: 0.0101 - acc: 8.2214e-04\n",
            "Epoch 45/50\n",
            "3649/3649 [==============================] - 5s 1ms/step - loss: 0.0102 - acc: 8.2214e-04\n",
            "Epoch 46/50\n",
            "3649/3649 [==============================] - 5s 1ms/step - loss: 0.0101 - acc: 8.2214e-04\n",
            "Epoch 47/50\n",
            "3649/3649 [==============================] - 5s 1ms/step - loss: 0.0101 - acc: 8.2214e-04\n",
            "Epoch 48/50\n",
            "3649/3649 [==============================] - 5s 1ms/step - loss: 0.0100 - acc: 8.2214e-04\n",
            "Epoch 49/50\n",
            "3649/3649 [==============================] - 5s 1ms/step - loss: 0.0100 - acc: 8.2214e-04\n",
            "Epoch 50/50\n",
            "3649/3649 [==============================] - 5s 1ms/step - loss: 0.0102 - acc: 8.2214e-04\n"
          ],
          "name": "stdout"
        },
        {
          "output_type": "execute_result",
          "data": {
            "text/plain": [
              "<tensorflow.python.keras.callbacks.History at 0x7f8997d06f60>"
            ]
          },
          "metadata": {
            "tags": []
          },
          "execution_count": 152
        }
      ]
    },
    {
      "cell_type": "markdown",
      "metadata": {
        "id": "hqRlEmbjEqyG"
      },
      "source": [
        "## Question 9"
      ]
    },
    {
      "cell_type": "markdown",
      "metadata": {
        "id": "12IhOtvUHJBF"
      },
      "source": [
        "### make predictions on train data\n",
        "- use predict() method\n",
        "  - batch_size: 1\n",
        "- store predictions in a variable"
      ]
    },
    {
      "cell_type": "markdown",
      "metadata": {
        "id": "XxxWOa-PsieH"
      },
      "source": [
        "### reset model state\n",
        "- if you are using stateful=True in your model then you should call reset_states every time, when you want to make consecutive model calls independent.\n",
        "- use reset_states() method"
      ]
    },
    {
      "cell_type": "code",
      "metadata": {
        "id": "ZdV5_F1Eo8SY"
      },
      "source": [
        ""
      ],
      "execution_count": null,
      "outputs": []
    },
    {
      "cell_type": "markdown",
      "metadata": {
        "id": "KAhziPVBJD0u"
      },
      "source": [
        "### make predictions on test data\n",
        "- use predict() method\n",
        "  - batch_size: 1\n",
        "- store predictions in a variable"
      ]
    },
    {
      "cell_type": "code",
      "metadata": {
        "id": "HuHopEXNJU_y"
      },
      "source": [
        ""
      ],
      "execution_count": null,
      "outputs": []
    },
    {
      "cell_type": "markdown",
      "metadata": {
        "id": "pO81E-fsJruD"
      },
      "source": [
        "## Question 10"
      ]
    },
    {
      "cell_type": "markdown",
      "metadata": {
        "id": "RImBG7sCtnlb"
      },
      "source": [
        "### Inverse train predictions and true labels\n",
        "- use your MinMaxSclarer object\n",
        "- use inverse_transform() method"
      ]
    },
    {
      "cell_type": "code",
      "metadata": {
        "id": "xXfce41cqN-h"
      },
      "source": [
        ""
      ],
      "execution_count": null,
      "outputs": []
    },
    {
      "cell_type": "markdown",
      "metadata": {
        "id": "5fWSzk8cuPbp"
      },
      "source": [
        "### Inverse test predictions and true labels\n",
        "- use your MinMaxSclarer object\n",
        "- use inverse_transform() method"
      ]
    },
    {
      "cell_type": "code",
      "metadata": {
        "id": "nVJ1wMupuPbu"
      },
      "source": [
        ""
      ],
      "execution_count": null,
      "outputs": []
    },
    {
      "cell_type": "markdown",
      "metadata": {
        "id": "VtowvAItJv6c"
      },
      "source": [
        "### Evaluate train predictions\n",
        "- calculate RMSE\n",
        "- RMSE = sqrt(mean_squared_error(true_labels, predicted_labels))\n",
        "- use sqrt() and mean_squared_error() method\n",
        "- print training RMSE"
      ]
    },
    {
      "cell_type": "code",
      "metadata": {
        "id": "GjXbis_bJ9GL"
      },
      "source": [
        ""
      ],
      "execution_count": null,
      "outputs": []
    },
    {
      "cell_type": "code",
      "metadata": {
        "id": "pLb65-QiqMDX"
      },
      "source": [
        ""
      ],
      "execution_count": null,
      "outputs": []
    },
    {
      "cell_type": "markdown",
      "metadata": {
        "id": "DBOfSPRDvERE"
      },
      "source": [
        "### Evaluate test predictions\n",
        "- calculate RMSE\n",
        "- RMSE = sqrt(mean_squared_error(true_labels, predicted_labels))\n",
        "- use sqrt() and mean_squared_error() method\n",
        "- print testing RMSE"
      ]
    },
    {
      "cell_type": "code",
      "metadata": {
        "id": "8rQOereovERJ"
      },
      "source": [
        ""
      ],
      "execution_count": null,
      "outputs": []
    },
    {
      "cell_type": "code",
      "metadata": {
        "id": "8DhUsMnvvERT"
      },
      "source": [
        ""
      ],
      "execution_count": null,
      "outputs": []
    },
    {
      "cell_type": "code",
      "metadata": {
        "id": "PAnzxOyoy5Bj"
      },
      "source": [
        ""
      ],
      "execution_count": null,
      "outputs": []
    }
  ]
}