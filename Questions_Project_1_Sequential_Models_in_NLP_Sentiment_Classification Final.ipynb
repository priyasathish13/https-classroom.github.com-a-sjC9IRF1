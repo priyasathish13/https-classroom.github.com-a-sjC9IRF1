{
  "nbformat": 4,
  "nbformat_minor": 0,
  "metadata": {
    "accelerator": "GPU",
    "colab": {
      "name": "Questions - Project 1 - Sequential Models in NLP - Sentiment Classification.ipynb",
      "provenance": [],
      "collapsed_sections": []
    },
    "kernelspec": {
      "display_name": "Python 3",
      "name": "python3"
    }
  },
  "cells": [
    {
      "cell_type": "markdown",
      "metadata": {
        "id": "WXaFSkUu0fzm"
      },
      "source": [
        "![alt text](https://drive.google.com/uc?export=view&id=1UXScsVx_Wni_JuDdB8LeTnM6jsPfIwkW)\n",
        "\n",
        "Proprietary content. © Great Learning. All Rights Reserved. Unauthorized use or distribution prohibited."
      ]
    },
    {
      "cell_type": "markdown",
      "metadata": {
        "id": "OudB5by50jlI"
      },
      "source": [
        "# Sentiment Classification"
      ]
    },
    {
      "cell_type": "markdown",
      "metadata": {
        "id": "xT7MKZuMRaCg"
      },
      "source": [
        "### Dataset\n",
        "- Dataset of 50,000 movie reviews from IMDB, labeled by sentiment positive (1) or negative (0)\n",
        "- Reviews have been preprocessed, and each review is encoded as a sequence of word indexes (integers).\n",
        "- For convenience, words are indexed by overall frequency in the dataset, so that for instance the integer \"3\" encodes the 3rd most frequent word in the data. This allows for quick filtering operations such as: \"only consider the top 10,000 most common words, but eliminate the top 20 most common words\".\n",
        "- As a convention, \"0\" does not stand for a specific word, but instead is used to encode any unknown word.\n",
        "\n",
        "Command to import data\n",
        "- `from tensorflow.keras.datasets import imdb`"
      ]
    },
    {
      "cell_type": "markdown",
      "metadata": {
        "id": "Q34-Y3nRKXdO"
      },
      "source": [
        "### Import the data (2 Marks)\n",
        "- Use `imdb.load_data()` method\n",
        "- Get train and test set\n",
        "- Take 10000 most frequent words"
      ]
    },
    {
      "cell_type": "code",
      "metadata": {
        "id": "JxfwbrbuKbk2"
      },
      "source": [
        "import pandas as pd\n",
        "import numpy as np\n",
        "from keras.datasets import imdb\n",
        "from matplotlib import pyplot"
      ],
      "execution_count": 1,
      "outputs": []
    },
    {
      "cell_type": "code",
      "metadata": {
        "id": "qp8lqsFdhblY"
      },
      "source": [
        "import tensorflow as tf"
      ],
      "execution_count": 2,
      "outputs": []
    },
    {
      "cell_type": "code",
      "metadata": {
        "id": "2gP-DGZmm9bC",
        "outputId": "607ee3bb-711f-4dcd-a357-78ad1f9666c3",
        "colab": {
          "base_uri": "https://localhost:8080/"
        }
      },
      "source": [
        "from tensorflow.keras.datasets import imdb\n",
        "imdb.load_data"
      ],
      "execution_count": 3,
      "outputs": [
        {
          "output_type": "execute_result",
          "data": {
            "text/plain": [
              "<function tensorflow.python.keras.datasets.imdb.load_data>"
            ]
          },
          "metadata": {
            "tags": []
          },
          "execution_count": 3
        }
      ]
    },
    {
      "cell_type": "code",
      "metadata": {
        "id": "VnYQArQQZ7ml"
      },
      "source": [
        "top_words = 10000\n",
        "(X_train, y_train), (X_test, y_test) = imdb.load_data(num_words=10000)\n",
        "X = np.concatenate((X_train, X_test), axis=0)\n",
        "y = np.concatenate((y_train, y_test), axis=0)"
      ],
      "execution_count": 7,
      "outputs": []
    },
    {
      "cell_type": "code",
      "metadata": {
        "id": "OeEzA5uMAjGx",
        "outputId": "22c84eee-e339-4785-9223-43bbb5be8b73",
        "colab": {
          "base_uri": "https://localhost:8080/"
        }
      },
      "source": [
        "print(\"train_data \", X_train.shape)\n",
        "print(\"train_labels \", X_test.shape)\n",
        "print(\"test_labels \", y_train.shape)\n",
        "print(\"test_labels \", y_test.shape)"
      ],
      "execution_count": 8,
      "outputs": [
        {
          "output_type": "stream",
          "text": [
            "train_data  (25000,)\n",
            "train_labels  (25000,)\n",
            "test_labels  (25000,)\n",
            "test_labels  (25000,)\n"
          ],
          "name": "stdout"
        }
      ]
    },
    {
      "cell_type": "markdown",
      "metadata": {
        "id": "DldivBO4LTbP"
      },
      "source": [
        "### Pad each sentence to be of same length (2 Marks)\n",
        "- Take maximum sequence length as 300"
      ]
    },
    {
      "cell_type": "code",
      "metadata": {
        "id": "aQlDHq8uAIMI"
      },
      "source": [
        "top_words = 10000\n",
        "X_train =tf.keras.preprocessing.sequence.pad_sequences(X_train, maxlen=300)\n",
        "X_test = tf.keras.preprocessing.sequence.pad_sequences(X_test, maxlen=300)"
      ],
      "execution_count": 11,
      "outputs": []
    },
    {
      "cell_type": "code",
      "metadata": {
        "id": "E808XB4tLtic",
        "outputId": "720baa53-469f-4da6-f2c9-2613530cca67",
        "colab": {
          "base_uri": "https://localhost:8080/"
        }
      },
      "source": [
        "print(\"Training data: \")\n",
        "print(X.shape)\n",
        "print(y.shape)"
      ],
      "execution_count": 12,
      "outputs": [
        {
          "output_type": "stream",
          "text": [
            "Training data: \n",
            "(50000,)\n",
            "(50000,)\n"
          ],
          "name": "stdout"
        }
      ]
    },
    {
      "cell_type": "markdown",
      "metadata": {
        "id": "JBFFCrybMSXz"
      },
      "source": [
        "### Print shape of features & labels (2 Marks)"
      ]
    },
    {
      "cell_type": "markdown",
      "metadata": {
        "id": "qOcyRtZfMYZd"
      },
      "source": [
        "Number of review, number of words in each review"
      ]
    },
    {
      "cell_type": "code",
      "metadata": {
        "id": "hdMCUPr7RaCm",
        "outputId": "020ea5a1-cd33-427a-83f1-9a1757aa72b2",
        "colab": {
          "base_uri": "https://localhost:8080/"
        }
      },
      "source": [
        "print(\"Categories:\", np.unique(y))\n",
        "print(\"Number of unique words:\", len(np.unique(np.hstack(X_train))))\n",
        "length = [len(i) for i in X]\n",
        "print(\"Average Review length:\", np.mean(length))\n",
        "print(\"Standard Deviation:\", round(np.std(length)))"
      ],
      "execution_count": 34,
      "outputs": [
        {
          "output_type": "stream",
          "text": [
            "Categories: [0 1]\n",
            "Number of unique words: 9999\n",
            "Average Review length: 234.75892\n",
            "Standard Deviation: 173.0\n"
          ],
          "name": "stdout"
        }
      ]
    },
    {
      "cell_type": "code",
      "metadata": {
        "id": "eGVHeKOWyJiG",
        "outputId": "640a84fa-919f-419d-b108-87012ecf0bfe",
        "colab": {
          "base_uri": "https://localhost:8080/"
        }
      },
      "source": [
        "print(\"Number of words: \")\n",
        "print(len(np.unique(np.hstack(X))))"
      ],
      "execution_count": 35,
      "outputs": [
        {
          "output_type": "stream",
          "text": [
            "Number of words: \n",
            "9998\n"
          ],
          "name": "stdout"
        }
      ]
    },
    {
      "cell_type": "markdown",
      "metadata": {
        "id": "5cNk5sDvMr3j"
      },
      "source": [
        "Number of labels"
      ]
    },
    {
      "cell_type": "code",
      "metadata": {
        "id": "6Z00-mYgMoKv",
        "outputId": "a7e2c83d-c9f1-4f6f-f206-d079fdc71130",
        "colab": {
          "base_uri": "https://localhost:8080/"
        }
      },
      "source": [
        "print(\"Label:\", y[0])"
      ],
      "execution_count": 36,
      "outputs": [
        {
          "output_type": "stream",
          "text": [
            "Label: 1\n"
          ],
          "name": "stdout"
        }
      ]
    },
    {
      "cell_type": "markdown",
      "metadata": {
        "id": "NdXPWuOmNEbh"
      },
      "source": [
        "### Print value of any one feature and it's label (2 Marks)"
      ]
    },
    {
      "cell_type": "markdown",
      "metadata": {
        "id": "MGLEdeFmNZfR"
      },
      "source": [
        "Feature value"
      ]
    },
    {
      "cell_type": "code",
      "metadata": {
        "id": "RKFyMa28zztL",
        "outputId": "ff5b0b06-410b-4353-9586-91aedfe8365c",
        "colab": {
          "base_uri": "https://localhost:8080/"
        }
      },
      "source": [
        "print(X[0])"
      ],
      "execution_count": 37,
      "outputs": [
        {
          "output_type": "stream",
          "text": [
            "[1, 14, 22, 16, 43, 530, 973, 1622, 1385, 65, 458, 4468, 66, 3941, 4, 173, 36, 256, 5, 25, 100, 43, 838, 112, 50, 670, 2, 9, 35, 480, 284, 5, 150, 4, 172, 112, 167, 2, 336, 385, 39, 4, 172, 4536, 1111, 17, 546, 38, 13, 447, 4, 192, 50, 16, 6, 147, 2025, 19, 14, 22, 4, 1920, 4613, 469, 4, 22, 71, 87, 12, 16, 43, 530, 38, 76, 15, 13, 1247, 4, 22, 17, 515, 17, 12, 16, 626, 18, 2, 5, 62, 386, 12, 8, 316, 8, 106, 5, 4, 2223, 5244, 16, 480, 66, 3785, 33, 4, 130, 12, 16, 38, 619, 5, 25, 124, 51, 36, 135, 48, 25, 1415, 33, 6, 22, 12, 215, 28, 77, 52, 5, 14, 407, 16, 82, 2, 8, 4, 107, 117, 5952, 15, 256, 4, 2, 7, 3766, 5, 723, 36, 71, 43, 530, 476, 26, 400, 317, 46, 7, 4, 2, 1029, 13, 104, 88, 4, 381, 15, 297, 98, 32, 2071, 56, 26, 141, 6, 194, 7486, 18, 4, 226, 22, 21, 134, 476, 26, 480, 5, 144, 30, 5535, 18, 51, 36, 28, 224, 92, 25, 104, 4, 226, 65, 16, 38, 1334, 88, 12, 16, 283, 5, 16, 4472, 113, 103, 32, 15, 16, 5345, 19, 178, 32]\n"
          ],
          "name": "stdout"
        }
      ]
    },
    {
      "cell_type": "markdown",
      "metadata": {
        "id": "h_85Hqm0Nb1I"
      },
      "source": [
        "Label value"
      ]
    },
    {
      "cell_type": "code",
      "metadata": {
        "id": "-FoehB5jNd1g",
        "outputId": "84f617ef-2883-417f-9920-09efd9d27061",
        "colab": {
          "base_uri": "https://localhost:8080/"
        }
      },
      "source": [
        "print(\"Label:\", y[0])"
      ],
      "execution_count": 38,
      "outputs": [
        {
          "output_type": "stream",
          "text": [
            "Label: 1\n"
          ],
          "name": "stdout"
        }
      ]
    },
    {
      "cell_type": "markdown",
      "metadata": {
        "id": "0cof4LSxNxuv"
      },
      "source": [
        "### Decode the feature value to get original sentence (2 Marks)"
      ]
    },
    {
      "cell_type": "markdown",
      "metadata": {
        "id": "Q_oiAyPZOkJD"
      },
      "source": [
        "First, retrieve a dictionary that contains mapping of words to their index in the IMDB dataset"
      ]
    },
    {
      "cell_type": "code",
      "metadata": {
        "id": "Clsk-yK8OtzD",
        "outputId": "8a2fb5a6-b59a-438c-ea95-69c98fcb8dd6",
        "colab": {
          "base_uri": "https://localhost:8080/"
        }
      },
      "source": [
        "index = imdb.get_word_index()\n",
        "reverse_index = dict([(value, key) for (key, value) in index.items()]) \n",
        "decoded = \" \".join( [reverse_index.get(i - 3, \"#\") for i in X_test[0]] )\n",
        "print(decoded) "
      ],
      "execution_count": 14,
      "outputs": [
        {
          "output_type": "stream",
          "text": [
            "Downloading data from https://storage.googleapis.com/tensorflow/tf-keras-datasets/imdb_word_index.json\n",
            "1646592/1641221 [==============================] - 0s 0us/step\n",
            "# # # # # # # # # # # # # # # # # # # # # # # # # # # # # # # # # # # # # # # # # # # # # # # # # # # # # # # # # # # # # # # # # # # # # # # # # # # # # # # # # # # # # # # # # # # # # # # # # # # # # # # # # # # # # # # # # # # # # # # # # # # # # # # # # # # # # # # # # # # # # # # # # # # # # # # # # # # # # # # # # # # # # # # # # # # # # # # # # # # # # # # # # # # # # # # # # # # # # # # # # # # # # # # # # # # # # # # # # # # # # # # # # # # # # # # # # please give this one a miss br br # # and the rest of the cast rendered terrible performances the show is flat flat flat br br i don't know how michael madison could have allowed this one on his plate he almost seemed to know this wasn't going to work out and his performance was quite # so all you madison fans give this a miss\n"
          ],
          "name": "stdout"
        }
      ]
    },
    {
      "cell_type": "markdown",
      "metadata": {
        "id": "NRgOD5S2Uuvd"
      },
      "source": [
        "Now use the dictionary to get the original words from the encodings, for a particular sentence"
      ]
    },
    {
      "cell_type": "code",
      "metadata": {
        "id": "zJ504QDORwxj"
      },
      "source": [
        "def vectorize(sequences, dimension = 10000):\n",
        "  results= np.zeros((len(sequences), dimension))\n",
        "  for i,sequence in enumerate(sequences):\n",
        "    results[i, sequence] = 1\n",
        "    return results\n",
        " \n",
        "data = vectorize(X)\n",
        "targets = np.array(y).astype(\"float32\")"
      ],
      "execution_count": 15,
      "outputs": []
    },
    {
      "cell_type": "code",
      "metadata": {
        "id": "Jt22v9NS1bRg"
      },
      "source": [
        "test_x = data[:10000]\n",
        "test_y = targets[:10000]\n",
        "train_x = data[10000:]\n",
        "train_y = targets[10000:]"
      ],
      "execution_count": 16,
      "outputs": []
    },
    {
      "cell_type": "markdown",
      "metadata": {
        "id": "WLGABrJoVZe6"
      },
      "source": [
        "Get the sentiment for the above sentence\n",
        "- positive (1)\n",
        "- negative (0)"
      ]
    },
    {
      "cell_type": "code",
      "metadata": {
        "id": "XDyQGJT0Ve-a"
      },
      "source": [
        "#### Add your code here ####"
      ],
      "execution_count": null,
      "outputs": []
    },
    {
      "cell_type": "markdown",
      "metadata": {
        "id": "BmCjr8miXIWB"
      },
      "source": [
        "### Define model (10 Marks)\n",
        "- Define a Sequential Model\n",
        "- Add Embedding layer\n",
        "  - Embedding layer turns positive integers into dense vectors of fixed size\n",
        "  - `tensorflow.keras` embedding layer doesn't require us to onehot encode our words, instead we have to give each word a unique integer number as an id. For the imdb dataset we've loaded this has already been done, but if this wasn't the case we could use sklearn LabelEncoder.\n",
        "  - Size of the vocabulary will be 10000\n",
        "  - Give dimension of the dense embedding as 100\n",
        "  - Length of input sequences should be 300\n",
        "- Add LSTM layer\n",
        "  - Pass value in `return_sequences` as True\n",
        "- Add a `TimeDistributed` layer with 100 Dense neurons\n",
        "- Add Flatten layer\n",
        "- Add Dense layer"
      ]
    },
    {
      "cell_type": "code",
      "metadata": {
        "id": "Np5GxT1caFEq"
      },
      "source": [
        "from keras.datasets import imdb\n",
        "from keras.models import Sequential\n",
        "from keras.layers import Dense\n",
        "from keras.layers import Flatten\n",
        "from keras.layers.embeddings import Embedding\n",
        "from keras.preprocessing import sequence\n",
        "from keras.datasets import imdb\n",
        "from keras.models import Sequential\n",
        "from keras.layers import Dense\n",
        "from keras.layers import Flatten\n",
        "from keras.layers.embeddings import Embedding\n",
        "from keras.preprocessing import sequence\n",
        "from keras.layers import LSTM\n",
        "from keras.layers import TimeDistributed\n",
        "model = Sequential()\n",
        "model.add(Embedding(top_words, 32, input_length=300))\n",
        "model.add(LSTM(1, return_sequences=True, input_shape=(3,1)))\n",
        "model.add(TimeDistributed(Dense(1)))\n",
        "model.add(Flatten())\n",
        "model.add(Dense(100, activation='relu'))\n",
        "model.add(Dense(1, activation='sigmoid'))"
      ],
      "execution_count": 17,
      "outputs": []
    },
    {
      "cell_type": "markdown",
      "metadata": {
        "id": "Hc4bknOobDby"
      },
      "source": [
        "### Compile the model (2 Marks)\n",
        "- Use Optimizer as Adam\n",
        "- Use Binary Crossentropy as loss\n",
        "- Use Accuracy as metrics"
      ]
    },
    {
      "cell_type": "code",
      "metadata": {
        "id": "jw4RJ0CQbwFY"
      },
      "source": [
        "model.compile(loss='binary_crossentropy', optimizer='adam', metrics=['accuracy'])\n"
      ],
      "execution_count": 18,
      "outputs": []
    },
    {
      "cell_type": "markdown",
      "metadata": {
        "id": "8sEzwazqbz3T"
      },
      "source": [
        "### Print model summary (2 Marks)"
      ]
    },
    {
      "cell_type": "code",
      "metadata": {
        "id": "6Hx1yxwlb2Ue",
        "outputId": "6e7b5258-d923-4971-f7de-4766517db8a1",
        "colab": {
          "base_uri": "https://localhost:8080/"
        }
      },
      "source": [
        "print(model.summary())"
      ],
      "execution_count": 19,
      "outputs": [
        {
          "output_type": "stream",
          "text": [
            "Model: \"sequential\"\n",
            "_________________________________________________________________\n",
            "Layer (type)                 Output Shape              Param #   \n",
            "=================================================================\n",
            "embedding (Embedding)        (None, 300, 32)           320000    \n",
            "_________________________________________________________________\n",
            "lstm (LSTM)                  (None, 300, 1)            136       \n",
            "_________________________________________________________________\n",
            "time_distributed (TimeDistri (None, 300, 1)            2         \n",
            "_________________________________________________________________\n",
            "flatten (Flatten)            (None, 300)               0         \n",
            "_________________________________________________________________\n",
            "dense_1 (Dense)              (None, 100)               30100     \n",
            "_________________________________________________________________\n",
            "dense_2 (Dense)              (None, 1)                 101       \n",
            "=================================================================\n",
            "Total params: 350,339\n",
            "Trainable params: 350,339\n",
            "Non-trainable params: 0\n",
            "_________________________________________________________________\n",
            "None\n"
          ],
          "name": "stdout"
        }
      ]
    },
    {
      "cell_type": "markdown",
      "metadata": {
        "id": "bmkolKP4b-U6"
      },
      "source": [
        "### Fit the model (2 Marks)"
      ]
    },
    {
      "cell_type": "code",
      "metadata": {
        "id": "vRg3KFXLcAkk",
        "outputId": "f4b713ac-11a4-423c-f8ec-0ebed26a419b",
        "colab": {
          "base_uri": "https://localhost:8080/"
        }
      },
      "source": [
        "model.fit(X_train, y_train, validation_data=(X_test, y_test), epochs=2, batch_size=500, verbose=2)"
      ],
      "execution_count": 20,
      "outputs": [
        {
          "output_type": "stream",
          "text": [
            "Epoch 1/2\n",
            "50/50 - 2s - loss: 0.4993 - accuracy: 0.7416 - val_loss: 0.3557 - val_accuracy: 0.8407\n",
            "Epoch 2/2\n",
            "50/50 - 2s - loss: 0.2414 - accuracy: 0.9035 - val_loss: 0.3042 - val_accuracy: 0.8723\n"
          ],
          "name": "stdout"
        },
        {
          "output_type": "execute_result",
          "data": {
            "text/plain": [
              "<tensorflow.python.keras.callbacks.History at 0x7f5795e254e0>"
            ]
          },
          "metadata": {
            "tags": []
          },
          "execution_count": 20
        }
      ]
    },
    {
      "cell_type": "markdown",
      "metadata": {
        "id": "bwLl54MXnkEA"
      },
      "source": [
        "### Evaluate model (2 Marks)"
      ]
    },
    {
      "cell_type": "code",
      "metadata": {
        "id": "EUqY-bD8RaDR"
      },
      "source": [
        "scores = model.evaluate(X_test, y_test, verbose=0)"
      ],
      "execution_count": 21,
      "outputs": []
    },
    {
      "cell_type": "markdown",
      "metadata": {
        "id": "h2amr1tJn9Jz"
      },
      "source": [
        "### Predict on one sample (2 Marks)"
      ]
    },
    {
      "cell_type": "code",
      "metadata": {
        "id": "Wl4idfWR_A8E",
        "outputId": "e397ffe1-74db-4da2-8be7-3b804e64d0ff",
        "colab": {
          "base_uri": "https://localhost:8080/"
        }
      },
      "source": [
        "print(\"Accuracy: %.2f%%\" % (scores[1]*100))"
      ],
      "execution_count": 22,
      "outputs": [
        {
          "output_type": "stream",
          "text": [
            "Accuracy: 87.23%\n"
          ],
          "name": "stdout"
        }
      ]
    },
    {
      "cell_type": "code",
      "metadata": {
        "id": "INvnUwjxEoyS"
      },
      "source": [
        "y_pred = model.predict(X_test[0:1000])"
      ],
      "execution_count": 24,
      "outputs": []
    },
    {
      "cell_type": "code",
      "metadata": {
        "id": "I3wGuZeeiHc4",
        "outputId": "eede75d3-94e9-4303-db57-8362acb714c0",
        "colab": {
          "base_uri": "https://localhost:8080/"
        }
      },
      "source": [
        "print(\"y_pred:\",y_pred)"
      ],
      "execution_count": 25,
      "outputs": [
        {
          "output_type": "stream",
          "text": [
            "y_pred: [[7.19748735e-02]\n",
            " [9.95612144e-01]\n",
            " [9.35924053e-01]\n",
            " [7.13260651e-01]\n",
            " [9.84752715e-01]\n",
            " [4.88594472e-01]\n",
            " [9.80475008e-01]\n",
            " [1.04460325e-02]\n",
            " [9.67068017e-01]\n",
            " [9.85937655e-01]\n",
            " [9.51796055e-01]\n",
            " [4.46973601e-03]\n",
            " [2.55335178e-02]\n",
            " [2.92021837e-02]\n",
            " [9.94786739e-01]\n",
            " [2.00439517e-05]\n",
            " [9.63796377e-01]\n",
            " [7.00112820e-01]\n",
            " [8.43494257e-04]\n",
            " [5.44285476e-02]\n",
            " [9.93236840e-01]\n",
            " [9.83757079e-01]\n",
            " [2.77747333e-01]\n",
            " [9.27279830e-01]\n",
            " [9.73556101e-01]\n",
            " [9.77747381e-01]\n",
            " [1.15065321e-01]\n",
            " [9.06312943e-01]\n",
            " [9.56836522e-01]\n",
            " [6.20346400e-05]\n",
            " [9.60055292e-01]\n",
            " [7.27528989e-01]\n",
            " [9.42295969e-01]\n",
            " [1.90717224e-02]\n",
            " [2.77844071e-02]\n",
            " [4.76310262e-03]\n",
            " [9.94342923e-01]\n",
            " [9.81414735e-01]\n",
            " [6.48407862e-02]\n",
            " [3.39158485e-03]\n",
            " [9.97551978e-01]\n",
            " [9.92290080e-01]\n",
            " [4.20457497e-02]\n",
            " [9.73885536e-01]\n",
            " [9.99269664e-01]\n",
            " [9.21485603e-01]\n",
            " [1.88878011e-02]\n",
            " [7.98192399e-04]\n",
            " [4.25334508e-03]\n",
            " [2.52845585e-01]\n",
            " [2.16692267e-03]\n",
            " [9.92900506e-02]\n",
            " [8.47985268e-01]\n",
            " [9.46551561e-01]\n",
            " [8.26567113e-01]\n",
            " [6.32874191e-01]\n",
            " [5.19256592e-01]\n",
            " [9.31382895e-01]\n",
            " [1.10566653e-02]\n",
            " [4.52463090e-01]\n",
            " [1.57617908e-02]\n",
            " [1.88356489e-01]\n",
            " [9.30067003e-01]\n",
            " [1.45995952e-02]\n",
            " [1.17676631e-02]\n",
            " [9.85060275e-01]\n",
            " [5.72179794e-01]\n",
            " [9.66465771e-01]\n",
            " [9.94357646e-01]\n",
            " [9.23233211e-01]\n",
            " [8.98639441e-01]\n",
            " [8.79469335e-01]\n",
            " [5.42477846e-01]\n",
            " [6.07898878e-03]\n",
            " [6.16399199e-03]\n",
            " [2.13467926e-01]\n",
            " [1.18913725e-02]\n",
            " [8.31452489e-01]\n",
            " [4.47252154e-01]\n",
            " [1.05697364e-02]\n",
            " [2.12556049e-01]\n",
            " [1.12509817e-01]\n",
            " [6.92021370e-01]\n",
            " [8.71309400e-01]\n",
            " [1.52999756e-03]\n",
            " [5.05837612e-04]\n",
            " [2.09344011e-02]\n",
            " [9.60857511e-01]\n",
            " [1.96492672e-02]\n",
            " [8.90504181e-01]\n",
            " [9.86613929e-01]\n",
            " [6.89888597e-01]\n",
            " [1.09992083e-02]\n",
            " [9.77925956e-01]\n",
            " [9.69054997e-01]\n",
            " [3.44601013e-02]\n",
            " [9.43154216e-01]\n",
            " [9.57978070e-01]\n",
            " [6.23222947e-01]\n",
            " [1.28830154e-03]\n",
            " [8.03687051e-02]\n",
            " [1.76347971e-01]\n",
            " [1.12242689e-02]\n",
            " [1.07238814e-01]\n",
            " [1.01371175e-02]\n",
            " [4.98999171e-02]\n",
            " [1.96501762e-02]\n",
            " [1.92093551e-01]\n",
            " [9.66309369e-01]\n",
            " [9.89733040e-01]\n",
            " [9.99332249e-01]\n",
            " [2.61638954e-04]\n",
            " [7.78995097e-01]\n",
            " [2.01080710e-01]\n",
            " [1.21115237e-01]\n",
            " [7.86480248e-01]\n",
            " [8.59123945e-01]\n",
            " [2.94453901e-04]\n",
            " [9.95156825e-01]\n",
            " [9.41703677e-01]\n",
            " [3.05260136e-03]\n",
            " [1.93303198e-01]\n",
            " [2.05720756e-02]\n",
            " [9.86238658e-01]\n",
            " [9.89219129e-01]\n",
            " [8.60294163e-01]\n",
            " [6.33154690e-01]\n",
            " [1.59483273e-02]\n",
            " [2.12603267e-02]\n",
            " [5.12350234e-04]\n",
            " [7.30807602e-01]\n",
            " [6.84386417e-02]\n",
            " [1.33816889e-02]\n",
            " [9.94973183e-01]\n",
            " [4.04769123e-01]\n",
            " [1.11826755e-01]\n",
            " [3.42152268e-02]\n",
            " [1.40880200e-03]\n",
            " [2.04099249e-03]\n",
            " [1.19550884e-01]\n",
            " [7.37172127e-01]\n",
            " [1.52883539e-02]\n",
            " [9.65327263e-01]\n",
            " [1.25504361e-04]\n",
            " [1.20488405e-01]\n",
            " [8.20750535e-01]\n",
            " [3.09735924e-01]\n",
            " [6.59698427e-01]\n",
            " [9.47758317e-01]\n",
            " [2.78220266e-01]\n",
            " [3.22251856e-01]\n",
            " [7.15440093e-03]\n",
            " [8.86860549e-01]\n",
            " [7.82586217e-01]\n",
            " [4.22614455e-01]\n",
            " [9.87342060e-01]\n",
            " [8.33986819e-01]\n",
            " [9.42545950e-01]\n",
            " [2.51734164e-02]\n",
            " [7.85787627e-02]\n",
            " [8.63120146e-03]\n",
            " [1.44374128e-02]\n",
            " [1.29017487e-01]\n",
            " [1.35464920e-03]\n",
            " [9.85374689e-01]\n",
            " [2.04542116e-03]\n",
            " [3.13091159e-01]\n",
            " [2.15109631e-01]\n",
            " [1.98167544e-02]\n",
            " [3.12030432e-04]\n",
            " [6.30332679e-02]\n",
            " [9.74622607e-01]\n",
            " [6.52326271e-02]\n",
            " [9.88095164e-01]\n",
            " [3.62629741e-01]\n",
            " [3.16530168e-02]\n",
            " [4.97170448e-01]\n",
            " [2.15256996e-02]\n",
            " [4.25718538e-02]\n",
            " [3.97866890e-02]\n",
            " [1.01179825e-02]\n",
            " [2.56459832e-01]\n",
            " [2.92550951e-01]\n",
            " [2.12034746e-03]\n",
            " [9.57689047e-01]\n",
            " [3.38648781e-02]\n",
            " [7.49772589e-04]\n",
            " [9.43535805e-01]\n",
            " [9.90257144e-01]\n",
            " [1.55208050e-04]\n",
            " [7.48130858e-01]\n",
            " [3.70115548e-01]\n",
            " [2.78991461e-02]\n",
            " [1.68211702e-02]\n",
            " [4.97966334e-02]\n",
            " [9.88176763e-01]\n",
            " [7.23582983e-01]\n",
            " [2.75333994e-04]\n",
            " [1.58252753e-02]\n",
            " [2.96867818e-01]\n",
            " [8.64654839e-01]\n",
            " [2.24220946e-01]\n",
            " [2.04676077e-01]\n",
            " [9.76678967e-01]\n",
            " [1.03442734e-02]\n",
            " [3.37217987e-01]\n",
            " [9.13673282e-01]\n",
            " [3.57805938e-03]\n",
            " [2.06528392e-04]\n",
            " [9.89357293e-01]\n",
            " [9.60265219e-01]\n",
            " [9.76271510e-01]\n",
            " [9.28737402e-01]\n",
            " [1.22019416e-03]\n",
            " [1.57432437e-01]\n",
            " [2.42123976e-01]\n",
            " [9.07096663e-04]\n",
            " [5.49856480e-03]\n",
            " [9.76667166e-01]\n",
            " [1.31290063e-01]\n",
            " [4.62701693e-02]\n",
            " [9.05163586e-01]\n",
            " [3.15605775e-02]\n",
            " [7.05138803e-01]\n",
            " [6.35990441e-01]\n",
            " [6.95199907e-01]\n",
            " [8.56125951e-01]\n",
            " [8.69927824e-01]\n",
            " [7.19955238e-03]\n",
            " [9.86485362e-01]\n",
            " [1.27212824e-02]\n",
            " [5.28765082e-01]\n",
            " [2.47582152e-01]\n",
            " [9.73198295e-01]\n",
            " [2.45243631e-04]\n",
            " [9.62318003e-01]\n",
            " [2.49171443e-02]\n",
            " [9.23517227e-01]\n",
            " [3.54305841e-02]\n",
            " [9.24218357e-01]\n",
            " [6.35819584e-02]\n",
            " [1.72222815e-02]\n",
            " [7.07023919e-01]\n",
            " [3.12759615e-02]\n",
            " [9.14956868e-01]\n",
            " [8.71025145e-01]\n",
            " [7.74617726e-03]\n",
            " [3.88562709e-01]\n",
            " [8.89209628e-01]\n",
            " [9.42304730e-01]\n",
            " [3.01758945e-01]\n",
            " [9.60332036e-01]\n",
            " [3.85670990e-01]\n",
            " [4.01534647e-01]\n",
            " [4.97254718e-04]\n",
            " [3.00641893e-03]\n",
            " [7.90842116e-01]\n",
            " [9.79635954e-01]\n",
            " [9.92178142e-01]\n",
            " [8.82353425e-01]\n",
            " [2.80999124e-01]\n",
            " [9.33294892e-02]\n",
            " [1.63205294e-03]\n",
            " [6.83814168e-01]\n",
            " [7.57569492e-01]\n",
            " [9.98736680e-01]\n",
            " [9.78057563e-01]\n",
            " [3.11270535e-01]\n",
            " [1.02943659e-03]\n",
            " [9.28536832e-01]\n",
            " [7.44691789e-01]\n",
            " [9.12796974e-01]\n",
            " [4.19541359e-01]\n",
            " [9.86392558e-01]\n",
            " [1.15103513e-01]\n",
            " [2.00659394e-01]\n",
            " [1.17026851e-01]\n",
            " [1.45347300e-03]\n",
            " [9.89621639e-01]\n",
            " [1.91067364e-02]\n",
            " [9.79681611e-01]\n",
            " [2.36779880e-02]\n",
            " [6.32007718e-01]\n",
            " [4.71028656e-01]\n",
            " [1.74955260e-02]\n",
            " [9.84452546e-01]\n",
            " [1.11290319e-02]\n",
            " [6.83715522e-01]\n",
            " [9.95832860e-01]\n",
            " [9.63350236e-01]\n",
            " [9.46032345e-01]\n",
            " [9.97039210e-03]\n",
            " [8.89615297e-01]\n",
            " [8.43352973e-02]\n",
            " [1.08686015e-02]\n",
            " [4.16665561e-02]\n",
            " [1.31878704e-01]\n",
            " [1.76402047e-01]\n",
            " [1.92852765e-02]\n",
            " [7.47536004e-01]\n",
            " [9.74539816e-02]\n",
            " [9.87190962e-01]\n",
            " [8.42600107e-01]\n",
            " [2.13029590e-02]\n",
            " [5.08787185e-02]\n",
            " [9.88151610e-01]\n",
            " [3.76985110e-02]\n",
            " [9.91280854e-01]\n",
            " [8.77016842e-01]\n",
            " [3.24268378e-02]\n",
            " [7.34767377e-01]\n",
            " [1.02835767e-01]\n",
            " [1.03104942e-01]\n",
            " [8.58786702e-01]\n",
            " [9.94385839e-01]\n",
            " [2.71805320e-02]\n",
            " [3.00570399e-01]\n",
            " [1.01375669e-01]\n",
            " [8.07897866e-01]\n",
            " [4.70575660e-01]\n",
            " [4.26301435e-02]\n",
            " [9.82322454e-05]\n",
            " [8.58524799e-01]\n",
            " [9.74818528e-01]\n",
            " [9.83808696e-01]\n",
            " [3.44626129e-01]\n",
            " [1.28918318e-02]\n",
            " [9.72647488e-01]\n",
            " [4.89266425e-01]\n",
            " [7.22369075e-01]\n",
            " [1.40799820e-01]\n",
            " [9.21454728e-01]\n",
            " [9.96428549e-01]\n",
            " [3.34888101e-02]\n",
            " [2.80416429e-01]\n",
            " [1.16056567e-02]\n",
            " [3.63083690e-01]\n",
            " [8.56146038e-01]\n",
            " [9.71419871e-01]\n",
            " [2.00565636e-01]\n",
            " [2.82218703e-03]\n",
            " [8.35125089e-01]\n",
            " [2.72669137e-01]\n",
            " [7.82834530e-01]\n",
            " [8.12591577e-04]\n",
            " [4.98296134e-02]\n",
            " [1.36386201e-01]\n",
            " [6.58155024e-01]\n",
            " [5.36432564e-01]\n",
            " [9.53653812e-01]\n",
            " [9.83538985e-01]\n",
            " [9.16459262e-01]\n",
            " [3.00997440e-02]\n",
            " [6.08290546e-03]\n",
            " [4.45590392e-02]\n",
            " [5.33971339e-02]\n",
            " [6.24217764e-02]\n",
            " [9.95192885e-01]\n",
            " [3.95602316e-01]\n",
            " [9.99563038e-01]\n",
            " [8.90502408e-02]\n",
            " [6.41955674e-01]\n",
            " [9.83253539e-01]\n",
            " [4.38948363e-01]\n",
            " [9.99833584e-01]\n",
            " [9.95868683e-01]\n",
            " [8.20407689e-01]\n",
            " [4.20971036e-01]\n",
            " [1.97584182e-02]\n",
            " [1.06446631e-02]\n",
            " [9.79585528e-01]\n",
            " [9.31499004e-01]\n",
            " [2.12446406e-01]\n",
            " [9.96660471e-01]\n",
            " [7.93543458e-01]\n",
            " [1.23745222e-02]\n",
            " [7.71669865e-01]\n",
            " [5.42684831e-03]\n",
            " [6.00476027e-01]\n",
            " [1.16143022e-02]\n",
            " [9.91029382e-01]\n",
            " [9.59427357e-01]\n",
            " [5.29534998e-04]\n",
            " [3.24244797e-01]\n",
            " [2.84391493e-01]\n",
            " [9.51967359e-01]\n",
            " [9.76328194e-01]\n",
            " [9.99909282e-01]\n",
            " [8.39417517e-01]\n",
            " [4.39017341e-02]\n",
            " [4.44545388e-01]\n",
            " [3.63151520e-03]\n",
            " [9.17735547e-02]\n",
            " [1.82723738e-02]\n",
            " [1.24852899e-02]\n",
            " [2.96738028e-04]\n",
            " [9.55592334e-01]\n",
            " [9.99689698e-01]\n",
            " [9.64343727e-01]\n",
            " [5.68766177e-01]\n",
            " [3.12766612e-01]\n",
            " [9.96215641e-01]\n",
            " [8.77542794e-01]\n",
            " [1.02297962e-01]\n",
            " [1.35905733e-02]\n",
            " [1.13439269e-03]\n",
            " [9.30959284e-01]\n",
            " [3.25571001e-01]\n",
            " [5.82078934e-01]\n",
            " [6.27900183e-01]\n",
            " [9.96576607e-01]\n",
            " [9.12476003e-01]\n",
            " [9.42030549e-01]\n",
            " [9.99024630e-01]\n",
            " [9.16107535e-01]\n",
            " [6.25189900e-01]\n",
            " [7.52262175e-01]\n",
            " [9.75182094e-03]\n",
            " [9.78122115e-01]\n",
            " [7.77167737e-01]\n",
            " [8.89817923e-02]\n",
            " [3.73814330e-02]\n",
            " [7.65415132e-01]\n",
            " [8.41253638e-01]\n",
            " [2.34652892e-01]\n",
            " [2.91940779e-03]\n",
            " [7.29560673e-01]\n",
            " [9.82167602e-01]\n",
            " [3.52156162e-01]\n",
            " [1.38906185e-02]\n",
            " [9.66751814e-01]\n",
            " [3.95211653e-04]\n",
            " [3.34227115e-01]\n",
            " [1.66504428e-01]\n",
            " [9.80930984e-01]\n",
            " [6.22063549e-03]\n",
            " [1.65025190e-01]\n",
            " [9.41582978e-01]\n",
            " [7.85171568e-01]\n",
            " [5.56746423e-02]\n",
            " [1.11496791e-01]\n",
            " [3.92610915e-02]\n",
            " [8.94419551e-01]\n",
            " [3.74825601e-03]\n",
            " [4.28959582e-04]\n",
            " [2.76037790e-02]\n",
            " [9.19406414e-01]\n",
            " [7.02588797e-01]\n",
            " [8.45216334e-01]\n",
            " [3.64605010e-01]\n",
            " [4.82961014e-02]\n",
            " [7.85575900e-03]\n",
            " [8.75510156e-01]\n",
            " [1.63996294e-01]\n",
            " [1.93701556e-03]\n",
            " [3.70580673e-01]\n",
            " [3.74095216e-02]\n",
            " [4.82154667e-01]\n",
            " [4.49592471e-02]\n",
            " [7.47462332e-01]\n",
            " [1.09892781e-03]\n",
            " [8.80328655e-01]\n",
            " [5.80362696e-03]\n",
            " [1.18835106e-01]\n",
            " [9.16250527e-01]\n",
            " [8.04756582e-01]\n",
            " [5.55603862e-01]\n",
            " [9.98266578e-01]\n",
            " [1.18072324e-01]\n",
            " [9.57292855e-01]\n",
            " [2.52426360e-02]\n",
            " [8.77807979e-05]\n",
            " [4.43950333e-02]\n",
            " [9.83381748e-01]\n",
            " [1.60738602e-01]\n",
            " [3.84429804e-05]\n",
            " [8.33699703e-01]\n",
            " [8.61780167e-01]\n",
            " [9.66484487e-01]\n",
            " [9.42532301e-01]\n",
            " [7.52506778e-02]\n",
            " [7.88770914e-01]\n",
            " [8.92903626e-01]\n",
            " [9.48095083e-01]\n",
            " [7.94592663e-04]\n",
            " [2.43253969e-02]\n",
            " [8.57913215e-03]\n",
            " [9.64701951e-01]\n",
            " [7.68259943e-01]\n",
            " [3.25820385e-03]\n",
            " [7.40943570e-03]\n",
            " [2.00535178e-01]\n",
            " [7.12686218e-03]\n",
            " [9.48235810e-01]\n",
            " [5.30759394e-02]\n",
            " [5.50177932e-01]\n",
            " [9.91114497e-01]\n",
            " [5.26512675e-02]\n",
            " [9.74620700e-01]\n",
            " [3.34154606e-01]\n",
            " [9.61744428e-01]\n",
            " [9.21493948e-01]\n",
            " [9.83431518e-01]\n",
            " [3.31895977e-01]\n",
            " [9.62877154e-01]\n",
            " [7.06283689e-01]\n",
            " [6.96865022e-01]\n",
            " [9.95296776e-01]\n",
            " [1.27354085e-01]\n",
            " [7.80702472e-01]\n",
            " [8.91159952e-01]\n",
            " [9.02961135e-01]\n",
            " [7.59421289e-02]\n",
            " [3.93986609e-03]\n",
            " [9.71017241e-01]\n",
            " [9.47725117e-01]\n",
            " [8.30445051e-01]\n",
            " [7.90583789e-01]\n",
            " [8.69150639e-01]\n",
            " [9.79839981e-01]\n",
            " [4.66297753e-03]\n",
            " [9.01786268e-01]\n",
            " [9.85412180e-01]\n",
            " [7.14328066e-02]\n",
            " [1.30669668e-01]\n",
            " [6.01954162e-01]\n",
            " [6.68236256e-01]\n",
            " [8.69725466e-01]\n",
            " [9.91834879e-01]\n",
            " [8.91786337e-01]\n",
            " [9.65854228e-01]\n",
            " [6.54869795e-01]\n",
            " [9.95651901e-01]\n",
            " [9.55831647e-01]\n",
            " [1.18542211e-02]\n",
            " [3.36483687e-01]\n",
            " [7.12960780e-01]\n",
            " [4.39743668e-01]\n",
            " [8.80281180e-02]\n",
            " [1.50439348e-02]\n",
            " [5.41620515e-02]\n",
            " [1.55947419e-04]\n",
            " [9.88955021e-01]\n",
            " [2.21460522e-03]\n",
            " [3.92712168e-02]\n",
            " [9.91113007e-01]\n",
            " [1.17485188e-01]\n",
            " [5.16900197e-02]\n",
            " [3.48774910e-01]\n",
            " [5.85585125e-02]\n",
            " [7.43764266e-03]\n",
            " [5.22948150e-03]\n",
            " [6.36401027e-03]\n",
            " [4.45162356e-02]\n",
            " [6.14714250e-03]\n",
            " [1.44271761e-01]\n",
            " [7.78840899e-01]\n",
            " [9.57360387e-01]\n",
            " [7.52071321e-01]\n",
            " [9.00093138e-01]\n",
            " [9.83426690e-01]\n",
            " [9.79448020e-01]\n",
            " [5.92526436e-01]\n",
            " [9.73679960e-01]\n",
            " [9.89072204e-01]\n",
            " [1.62191421e-03]\n",
            " [8.17827880e-01]\n",
            " [1.21675641e-03]\n",
            " [7.75898337e-01]\n",
            " [9.77410495e-01]\n",
            " [7.77157784e-01]\n",
            " [8.68074000e-01]\n",
            " [9.54476893e-01]\n",
            " [9.88142192e-01]\n",
            " [9.57170844e-01]\n",
            " [8.64678562e-01]\n",
            " [5.39833531e-02]\n",
            " [3.20394465e-04]\n",
            " [8.07981845e-03]\n",
            " [9.27417397e-01]\n",
            " [9.98413086e-01]\n",
            " [1.75964564e-01]\n",
            " [2.72959828e-01]\n",
            " [9.02679980e-01]\n",
            " [3.04466993e-01]\n",
            " [9.99419093e-01]\n",
            " [3.29937249e-01]\n",
            " [2.13071913e-03]\n",
            " [4.92968597e-04]\n",
            " [8.13160241e-01]\n",
            " [6.61016822e-01]\n",
            " [9.64778483e-01]\n",
            " [8.58577192e-01]\n",
            " [9.88611519e-01]\n",
            " [8.16423353e-03]\n",
            " [6.05926096e-01]\n",
            " [9.84954357e-01]\n",
            " [9.42024231e-01]\n",
            " [7.73912430e-01]\n",
            " [8.20855975e-01]\n",
            " [3.67248722e-04]\n",
            " [2.07519140e-02]\n",
            " [4.89685190e-05]\n",
            " [8.67710173e-01]\n",
            " [1.01679303e-02]\n",
            " [7.94769451e-02]\n",
            " [3.01038325e-02]\n",
            " [1.93352327e-01]\n",
            " [9.86202180e-01]\n",
            " [9.52625453e-01]\n",
            " [9.94080126e-01]\n",
            " [3.98072124e-01]\n",
            " [1.75404653e-01]\n",
            " [1.48935810e-01]\n",
            " [1.82867214e-01]\n",
            " [9.62079942e-01]\n",
            " [9.98025894e-01]\n",
            " [2.64588147e-01]\n",
            " [2.04265475e-01]\n",
            " [2.98249036e-01]\n",
            " [4.24536839e-02]\n",
            " [1.84068631e-03]\n",
            " [3.14472197e-03]\n",
            " [7.65722573e-01]\n",
            " [2.89348245e-01]\n",
            " [7.36002803e-01]\n",
            " [2.09951065e-02]\n",
            " [3.20604354e-01]\n",
            " [9.84989047e-01]\n",
            " [5.54823428e-02]\n",
            " [3.40264410e-01]\n",
            " [6.71305597e-01]\n",
            " [9.97827590e-01]\n",
            " [1.63154185e-01]\n",
            " [3.33038896e-01]\n",
            " [1.20049477e-01]\n",
            " [1.40603483e-02]\n",
            " [2.89967537e-01]\n",
            " [3.29848304e-02]\n",
            " [3.26649589e-03]\n",
            " [9.99869466e-01]\n",
            " [5.80406785e-01]\n",
            " [1.39130428e-01]\n",
            " [2.62514502e-03]\n",
            " [9.89894688e-01]\n",
            " [9.24334466e-01]\n",
            " [9.86034095e-01]\n",
            " [1.13772042e-02]\n",
            " [8.77257824e-01]\n",
            " [9.28546861e-03]\n",
            " [3.45462980e-03]\n",
            " [8.58408660e-02]\n",
            " [2.87384111e-02]\n",
            " [7.28058457e-01]\n",
            " [1.40400100e-02]\n",
            " [2.74834305e-01]\n",
            " [4.68846876e-03]\n",
            " [1.48143515e-01]\n",
            " [9.82431829e-01]\n",
            " [2.04149559e-01]\n",
            " [9.80899572e-01]\n",
            " [3.92277911e-02]\n",
            " [3.06063960e-03]\n",
            " [1.83572665e-01]\n",
            " [8.29443857e-02]\n",
            " [1.53445765e-01]\n",
            " [1.13629624e-02]\n",
            " [3.38498205e-01]\n",
            " [5.40064760e-02]\n",
            " [9.61479008e-01]\n",
            " [3.13438177e-01]\n",
            " [1.49701945e-02]\n",
            " [9.84700680e-01]\n",
            " [7.52748996e-02]\n",
            " [1.11047737e-01]\n",
            " [9.97302771e-01]\n",
            " [2.73405671e-01]\n",
            " [8.93507540e-01]\n",
            " [6.89179229e-04]\n",
            " [9.18293655e-01]\n",
            " [1.40393078e-01]\n",
            " [8.90572429e-01]\n",
            " [8.91193271e-01]\n",
            " [5.40468432e-02]\n",
            " [9.64740515e-01]\n",
            " [1.63888745e-02]\n",
            " [1.51692694e-02]\n",
            " [8.78138185e-01]\n",
            " [9.09786031e-04]\n",
            " [7.19075464e-03]\n",
            " [9.61767256e-01]\n",
            " [8.18315223e-02]\n",
            " [9.68742073e-01]\n",
            " [2.68540293e-01]\n",
            " [8.44811082e-01]\n",
            " [1.62562560e-02]\n",
            " [4.28739600e-02]\n",
            " [4.45663976e-03]\n",
            " [5.10839820e-01]\n",
            " [8.56699347e-01]\n",
            " [9.10579085e-01]\n",
            " [1.46129116e-01]\n",
            " [9.74621475e-01]\n",
            " [1.19209681e-02]\n",
            " [9.91579294e-01]\n",
            " [8.64662230e-01]\n",
            " [1.21137593e-02]\n",
            " [1.65869623e-01]\n",
            " [8.82465541e-01]\n",
            " [9.59883809e-01]\n",
            " [5.81474662e-01]\n",
            " [9.49760317e-04]\n",
            " [1.20831892e-01]\n",
            " [2.38266543e-01]\n",
            " [2.25093104e-02]\n",
            " [8.94555636e-03]\n",
            " [9.71834242e-01]\n",
            " [5.69176823e-02]\n",
            " [9.28397059e-01]\n",
            " [9.53826085e-02]\n",
            " [9.85154688e-01]\n",
            " [9.48511899e-01]\n",
            " [9.10557330e-01]\n",
            " [9.47069228e-01]\n",
            " [1.67496153e-04]\n",
            " [4.98956233e-01]\n",
            " [1.03811696e-01]\n",
            " [7.27756679e-01]\n",
            " [1.12784743e-01]\n",
            " [6.34840012e-01]\n",
            " [1.28889605e-01]\n",
            " [1.01100765e-02]\n",
            " [1.93214808e-02]\n",
            " [8.18831384e-01]\n",
            " [1.60902888e-01]\n",
            " [5.82033284e-02]\n",
            " [9.97059882e-01]\n",
            " [9.90308702e-01]\n",
            " [1.84495568e-01]\n",
            " [4.38145518e-01]\n",
            " [5.61008096e-01]\n",
            " [9.44505095e-01]\n",
            " [8.57962132e-01]\n",
            " [3.21851820e-02]\n",
            " [2.53032595e-02]\n",
            " [9.95290041e-01]\n",
            " [1.87341135e-03]\n",
            " [7.70614564e-01]\n",
            " [9.61526394e-01]\n",
            " [7.95134544e-01]\n",
            " [3.80537689e-01]\n",
            " [9.53925908e-01]\n",
            " [5.93860559e-02]\n",
            " [4.16795045e-01]\n",
            " [9.85140264e-01]\n",
            " [9.89404440e-01]\n",
            " [7.11284652e-02]\n",
            " [5.57483971e-01]\n",
            " [3.09559643e-01]\n",
            " [1.00841507e-01]\n",
            " [7.63968289e-01]\n",
            " [3.60331446e-01]\n",
            " [1.54839531e-01]\n",
            " [8.11724544e-01]\n",
            " [1.08646937e-01]\n",
            " [9.49187934e-01]\n",
            " [8.98251951e-01]\n",
            " [1.15319593e-02]\n",
            " [9.97935772e-01]\n",
            " [9.96028900e-01]\n",
            " [8.42857897e-01]\n",
            " [9.84223261e-02]\n",
            " [2.91643059e-03]\n",
            " [9.70368743e-01]\n",
            " [3.97238694e-03]\n",
            " [1.84725061e-01]\n",
            " [4.64872718e-01]\n",
            " [3.62099707e-03]\n",
            " [9.85439718e-01]\n",
            " [9.94715989e-01]\n",
            " [2.35365075e-03]\n",
            " [2.61017144e-01]\n",
            " [2.42425781e-02]\n",
            " [2.82889674e-03]\n",
            " [9.79980290e-01]\n",
            " [5.41395135e-03]\n",
            " [6.65495023e-02]\n",
            " [9.96971965e-01]\n",
            " [9.17127430e-01]\n",
            " [9.67587709e-01]\n",
            " [5.63720226e-01]\n",
            " [9.91657376e-01]\n",
            " [5.64688109e-02]\n",
            " [9.77295280e-01]\n",
            " [4.14018929e-01]\n",
            " [1.36792623e-02]\n",
            " [9.51295674e-01]\n",
            " [9.85265791e-01]\n",
            " [8.61616223e-04]\n",
            " [4.46131366e-04]\n",
            " [9.93616343e-01]\n",
            " [6.41905889e-02]\n",
            " [9.89438951e-01]\n",
            " [9.89086986e-01]\n",
            " [9.81650531e-01]\n",
            " [1.28894334e-03]\n",
            " [1.93011798e-02]\n",
            " [2.46055245e-01]\n",
            " [3.97404246e-02]\n",
            " [3.78453522e-03]\n",
            " [9.35150206e-01]\n",
            " [9.85465109e-01]\n",
            " [9.18375194e-01]\n",
            " [1.34155984e-04]\n",
            " [8.94017220e-01]\n",
            " [9.50808167e-01]\n",
            " [9.44895446e-01]\n",
            " [8.01928163e-01]\n",
            " [1.22224586e-02]\n",
            " [9.74751472e-01]\n",
            " [9.95019078e-01]\n",
            " [9.64325666e-01]\n",
            " [9.81576204e-01]\n",
            " [9.67858076e-01]\n",
            " [9.97626126e-01]\n",
            " [3.64489824e-01]\n",
            " [1.52924240e-01]\n",
            " [9.93696034e-01]\n",
            " [4.86467816e-02]\n",
            " [8.72554071e-03]\n",
            " [8.74624908e-01]\n",
            " [4.85996120e-02]\n",
            " [9.05776262e-01]\n",
            " [9.85950649e-01]\n",
            " [2.96518296e-01]\n",
            " [9.54371095e-01]\n",
            " [3.37724656e-01]\n",
            " [6.32430008e-03]\n",
            " [3.69797535e-02]\n",
            " [8.96354973e-01]\n",
            " [1.94566231e-03]\n",
            " [5.99686742e-01]\n",
            " [1.13576159e-01]\n",
            " [8.92487586e-01]\n",
            " [9.84040499e-02]\n",
            " [2.29732394e-02]\n",
            " [9.92716610e-01]\n",
            " [8.43120739e-02]\n",
            " [1.09897030e-03]\n",
            " [4.07392204e-01]\n",
            " [8.69829953e-01]\n",
            " [8.62315774e-01]\n",
            " [9.43903565e-01]\n",
            " [7.97826707e-01]\n",
            " [4.02514726e-01]\n",
            " [5.56956291e-01]\n",
            " [3.00577395e-02]\n",
            " [5.72688170e-02]\n",
            " [5.52551933e-02]\n",
            " [9.35364902e-01]\n",
            " [1.25174713e-03]\n",
            " [5.09701669e-01]\n",
            " [9.88354206e-01]\n",
            " [4.43323329e-02]\n",
            " [5.67914605e-01]\n",
            " [9.88675594e-01]\n",
            " [8.75195205e-01]\n",
            " [9.33681786e-01]\n",
            " [9.89318073e-01]\n",
            " [1.95583686e-01]\n",
            " [5.57293184e-02]\n",
            " [6.05813563e-01]\n",
            " [5.55597067e-01]\n",
            " [1.42434670e-03]\n",
            " [9.64774251e-01]\n",
            " [9.88377512e-01]\n",
            " [9.75752771e-01]\n",
            " [6.47137940e-01]\n",
            " [5.73307499e-02]\n",
            " [9.89769101e-01]\n",
            " [1.77733406e-01]\n",
            " [9.44438100e-01]\n",
            " [1.58292025e-01]\n",
            " [9.78047103e-02]\n",
            " [4.99898106e-01]\n",
            " [2.25917231e-02]\n",
            " [9.33114529e-01]\n",
            " [1.16963983e-01]\n",
            " [7.36616775e-02]\n",
            " [6.68198168e-02]\n",
            " [1.88526884e-02]\n",
            " [9.83454347e-01]\n",
            " [1.89263165e-01]\n",
            " [9.80083585e-01]\n",
            " [7.12774396e-01]\n",
            " [8.77660513e-01]\n",
            " [8.90601147e-03]\n",
            " [1.29855657e-02]\n",
            " [4.34177816e-02]\n",
            " [2.97797727e-03]\n",
            " [2.06481759e-03]\n",
            " [9.83595490e-01]\n",
            " [8.50457966e-01]\n",
            " [9.57366407e-01]\n",
            " [9.14680779e-01]\n",
            " [1.95909113e-01]\n",
            " [3.35508473e-02]\n",
            " [1.75766528e-01]\n",
            " [9.34018195e-01]\n",
            " [9.93814826e-01]\n",
            " [9.05318439e-01]\n",
            " [9.85029876e-01]\n",
            " [9.74804521e-01]\n",
            " [9.43785727e-01]\n",
            " [4.74917859e-01]\n",
            " [9.93380070e-01]\n",
            " [1.09410591e-01]\n",
            " [4.73711640e-02]\n",
            " [1.29611846e-02]\n",
            " [9.36101973e-01]\n",
            " [8.22471559e-01]\n",
            " [5.32662928e-01]\n",
            " [9.23902810e-01]\n",
            " [9.18199658e-01]\n",
            " [5.94873786e-01]\n",
            " [6.00807369e-03]\n",
            " [9.74568129e-01]\n",
            " [9.78976727e-01]\n",
            " [3.48693766e-02]\n",
            " [4.43505555e-01]\n",
            " [3.80726159e-02]\n",
            " [7.52205253e-01]\n",
            " [9.48118806e-01]\n",
            " [2.17400268e-02]\n",
            " [2.30757194e-03]\n",
            " [9.68001246e-01]\n",
            " [9.96529281e-01]\n",
            " [3.60336830e-03]\n",
            " [9.71500704e-04]\n",
            " [6.70363754e-02]\n",
            " [1.39204040e-01]\n",
            " [4.53370176e-02]\n",
            " [8.89201090e-03]\n",
            " [1.57441217e-02]\n",
            " [5.30207977e-02]\n",
            " [7.04760432e-01]\n",
            " [5.61374009e-01]\n",
            " [7.51907706e-01]\n",
            " [1.76531356e-02]\n",
            " [2.38759769e-03]\n",
            " [1.88521817e-01]\n",
            " [9.13234532e-01]\n",
            " [9.06229776e-04]\n",
            " [9.24208403e-01]\n",
            " [9.52548623e-01]\n",
            " [8.29296589e-01]\n",
            " [1.95556041e-02]\n",
            " [9.63917851e-01]\n",
            " [2.60768682e-01]\n",
            " [3.31401229e-02]\n",
            " [3.99531126e-02]\n",
            " [9.47772145e-01]\n",
            " [7.73243383e-02]\n",
            " [9.67833912e-04]\n",
            " [1.81067139e-01]\n",
            " [9.41057920e-01]\n",
            " [9.88118947e-01]\n",
            " [8.86601925e-01]\n",
            " [9.19477582e-01]\n",
            " [4.19594795e-01]\n",
            " [4.21454273e-02]\n",
            " [1.88313855e-03]\n",
            " [2.37849593e-01]\n",
            " [7.53878206e-02]\n",
            " [9.72821377e-03]\n",
            " [9.90550280e-01]\n",
            " [8.57592165e-01]\n",
            " [5.30546858e-05]\n",
            " [3.34746647e-03]\n",
            " [9.59827006e-01]\n",
            " [9.85299706e-01]\n",
            " [3.73937236e-03]\n",
            " [7.80512333e-01]\n",
            " [4.87487406e-01]\n",
            " [9.85405803e-01]\n",
            " [9.88883674e-01]\n",
            " [7.36542761e-01]\n",
            " [8.77479315e-02]\n",
            " [5.23194015e-01]\n",
            " [9.93907034e-01]\n",
            " [6.86771348e-02]\n",
            " [1.32627562e-01]\n",
            " [9.69304681e-01]\n",
            " [1.17930532e-01]\n",
            " [9.11905110e-01]\n",
            " [8.04510176e-01]\n",
            " [1.08199026e-02]\n",
            " [3.45487287e-03]\n",
            " [6.71574567e-03]\n",
            " [3.61458838e-01]]\n"
          ],
          "name": "stdout"
        }
      ]
    },
    {
      "cell_type": "code",
      "metadata": {
        "id": "Z12fTfP7BfPt"
      },
      "source": [
        ""
      ],
      "execution_count": null,
      "outputs": []
    }
  ]
}