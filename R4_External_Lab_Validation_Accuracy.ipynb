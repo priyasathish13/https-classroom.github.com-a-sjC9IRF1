{
 "cells": [
  {
   "cell_type": "code",
   "execution_count": 204,
   "metadata": {
    "colab": {},
    "colab_type": "code",
    "id": "Y3vvEXP1_0og"
   },
   "outputs": [],
   "source": [
    "# Import important library\n",
    "import numpy as np\n",
    "import pandas as pd\n",
    "import matplotlib.pyplot as plt\n",
    "import seaborn as sns\n",
    "%matplotlib inline\n",
    "import warnings\n",
    "warnings.filterwarnings('ignore')"
   ]
  },
  {
   "cell_type": "markdown",
   "metadata": {
    "colab_type": "text",
    "id": "7O83uMqA_0ol"
   },
   "source": [
    "### Q1 Read the input file and check the data dimension"
   ]
  },
  {
   "cell_type": "code",
   "execution_count": 205,
   "metadata": {
    "colab": {},
    "colab_type": "code",
    "id": "1brbOfG_Enzy"
   },
   "outputs": [],
   "source": [
    "#Read input file and understand the data\n",
    "# \"default\" is my dependent variable"
   ]
  },
  {
   "cell_type": "code",
   "execution_count": 206,
   "metadata": {
    "colab": {},
    "colab_type": "code",
    "id": "_LGo1xnK_0ow",
    "scrolled": true
   },
   "outputs": [
    {
     "name": "stdout",
     "output_type": "stream",
     "text": [
      "<class 'pandas.core.frame.DataFrame'>\n",
      "RangeIndex: 1000 entries, 0 to 999\n",
      "Data columns (total 21 columns):\n",
      "default                       1000 non-null int64\n",
      "account_check_status          1000 non-null object\n",
      "duration_in_month             1000 non-null int64\n",
      "credit_history                1000 non-null object\n",
      "purpose                       1000 non-null object\n",
      "credit_amount                 1000 non-null int64\n",
      "savings                       1000 non-null object\n",
      "present_emp_since             1000 non-null object\n",
      "installment_as_income_perc    1000 non-null int64\n",
      "personal_status_sex           1000 non-null object\n",
      "other_debtors                 1000 non-null object\n",
      "present_res_since             1000 non-null int64\n",
      "property                      1000 non-null object\n",
      "age                           1000 non-null int64\n",
      "other_installment_plans       1000 non-null object\n",
      "housing                       1000 non-null object\n",
      "credits_this_bank             1000 non-null int64\n",
      "job                           1000 non-null object\n",
      "people_under_maintenance      1000 non-null int64\n",
      "telephone                     1000 non-null object\n",
      "foreign_worker                1000 non-null object\n",
      "dtypes: int64(8), object(13)\n",
      "memory usage: 164.1+ KB\n"
     ]
    }
   ],
   "source": [
    "df=pd.read_csv(\"german_credit.csv\")\n",
    "df.info()"
   ]
  },
  {
   "cell_type": "code",
   "execution_count": 207,
   "metadata": {},
   "outputs": [
    {
     "data": {
      "text/html": [
       "<div>\n",
       "<style scoped>\n",
       "    .dataframe tbody tr th:only-of-type {\n",
       "        vertical-align: middle;\n",
       "    }\n",
       "\n",
       "    .dataframe tbody tr th {\n",
       "        vertical-align: top;\n",
       "    }\n",
       "\n",
       "    .dataframe thead th {\n",
       "        text-align: right;\n",
       "    }\n",
       "</style>\n",
       "<table border=\"1\" class=\"dataframe\">\n",
       "  <thead>\n",
       "    <tr style=\"text-align: right;\">\n",
       "      <th></th>\n",
       "      <th>default</th>\n",
       "      <th>duration_in_month</th>\n",
       "      <th>credit_amount</th>\n",
       "      <th>installment_as_income_perc</th>\n",
       "      <th>present_res_since</th>\n",
       "      <th>age</th>\n",
       "      <th>credits_this_bank</th>\n",
       "      <th>people_under_maintenance</th>\n",
       "    </tr>\n",
       "  </thead>\n",
       "  <tbody>\n",
       "    <tr>\n",
       "      <th>count</th>\n",
       "      <td>1000.000000</td>\n",
       "      <td>1000.000000</td>\n",
       "      <td>1000.000000</td>\n",
       "      <td>1000.000000</td>\n",
       "      <td>1000.000000</td>\n",
       "      <td>1000.000000</td>\n",
       "      <td>1000.000000</td>\n",
       "      <td>1000.000000</td>\n",
       "    </tr>\n",
       "    <tr>\n",
       "      <th>mean</th>\n",
       "      <td>0.300000</td>\n",
       "      <td>20.903000</td>\n",
       "      <td>3271.258000</td>\n",
       "      <td>2.973000</td>\n",
       "      <td>2.845000</td>\n",
       "      <td>35.546000</td>\n",
       "      <td>1.407000</td>\n",
       "      <td>1.155000</td>\n",
       "    </tr>\n",
       "    <tr>\n",
       "      <th>std</th>\n",
       "      <td>0.458487</td>\n",
       "      <td>12.058814</td>\n",
       "      <td>2822.736876</td>\n",
       "      <td>1.118715</td>\n",
       "      <td>1.103718</td>\n",
       "      <td>11.375469</td>\n",
       "      <td>0.577654</td>\n",
       "      <td>0.362086</td>\n",
       "    </tr>\n",
       "    <tr>\n",
       "      <th>min</th>\n",
       "      <td>0.000000</td>\n",
       "      <td>4.000000</td>\n",
       "      <td>250.000000</td>\n",
       "      <td>1.000000</td>\n",
       "      <td>1.000000</td>\n",
       "      <td>19.000000</td>\n",
       "      <td>1.000000</td>\n",
       "      <td>1.000000</td>\n",
       "    </tr>\n",
       "    <tr>\n",
       "      <th>25%</th>\n",
       "      <td>0.000000</td>\n",
       "      <td>12.000000</td>\n",
       "      <td>1365.500000</td>\n",
       "      <td>2.000000</td>\n",
       "      <td>2.000000</td>\n",
       "      <td>27.000000</td>\n",
       "      <td>1.000000</td>\n",
       "      <td>1.000000</td>\n",
       "    </tr>\n",
       "    <tr>\n",
       "      <th>50%</th>\n",
       "      <td>0.000000</td>\n",
       "      <td>18.000000</td>\n",
       "      <td>2319.500000</td>\n",
       "      <td>3.000000</td>\n",
       "      <td>3.000000</td>\n",
       "      <td>33.000000</td>\n",
       "      <td>1.000000</td>\n",
       "      <td>1.000000</td>\n",
       "    </tr>\n",
       "    <tr>\n",
       "      <th>75%</th>\n",
       "      <td>1.000000</td>\n",
       "      <td>24.000000</td>\n",
       "      <td>3972.250000</td>\n",
       "      <td>4.000000</td>\n",
       "      <td>4.000000</td>\n",
       "      <td>42.000000</td>\n",
       "      <td>2.000000</td>\n",
       "      <td>1.000000</td>\n",
       "    </tr>\n",
       "    <tr>\n",
       "      <th>max</th>\n",
       "      <td>1.000000</td>\n",
       "      <td>72.000000</td>\n",
       "      <td>18424.000000</td>\n",
       "      <td>4.000000</td>\n",
       "      <td>4.000000</td>\n",
       "      <td>75.000000</td>\n",
       "      <td>4.000000</td>\n",
       "      <td>2.000000</td>\n",
       "    </tr>\n",
       "  </tbody>\n",
       "</table>\n",
       "</div>"
      ],
      "text/plain": [
       "           default  duration_in_month  credit_amount  \\\n",
       "count  1000.000000        1000.000000    1000.000000   \n",
       "mean      0.300000          20.903000    3271.258000   \n",
       "std       0.458487          12.058814    2822.736876   \n",
       "min       0.000000           4.000000     250.000000   \n",
       "25%       0.000000          12.000000    1365.500000   \n",
       "50%       0.000000          18.000000    2319.500000   \n",
       "75%       1.000000          24.000000    3972.250000   \n",
       "max       1.000000          72.000000   18424.000000   \n",
       "\n",
       "       installment_as_income_perc  present_res_since          age  \\\n",
       "count                 1000.000000        1000.000000  1000.000000   \n",
       "mean                     2.973000           2.845000    35.546000   \n",
       "std                      1.118715           1.103718    11.375469   \n",
       "min                      1.000000           1.000000    19.000000   \n",
       "25%                      2.000000           2.000000    27.000000   \n",
       "50%                      3.000000           3.000000    33.000000   \n",
       "75%                      4.000000           4.000000    42.000000   \n",
       "max                      4.000000           4.000000    75.000000   \n",
       "\n",
       "       credits_this_bank  people_under_maintenance  \n",
       "count        1000.000000               1000.000000  \n",
       "mean            1.407000                  1.155000  \n",
       "std             0.577654                  0.362086  \n",
       "min             1.000000                  1.000000  \n",
       "25%             1.000000                  1.000000  \n",
       "50%             1.000000                  1.000000  \n",
       "75%             2.000000                  1.000000  \n",
       "max             4.000000                  2.000000  "
      ]
     },
     "execution_count": 207,
     "metadata": {},
     "output_type": "execute_result"
    }
   ],
   "source": [
    "df.describe()"
   ]
  },
  {
   "cell_type": "code",
   "execution_count": 208,
   "metadata": {
    "colab": {},
    "colab_type": "code",
    "id": "gKaiZis__0o0"
   },
   "outputs": [],
   "source": [
    "# Lets build a Ensemble model but need to modify the dataset first"
   ]
  },
  {
   "cell_type": "markdown",
   "metadata": {
    "colab_type": "text",
    "id": "utYEGBER_0o4"
   },
   "source": [
    "### Q2.Prepare the model data by converting non-numeric to dummy ( 1 Marks)\n",
    "##### Hint: Use get_dummies"
   ]
  },
  {
   "cell_type": "code",
   "execution_count": 209,
   "metadata": {
    "colab": {},
    "colab_type": "code",
    "id": "wjyTJcA6_0o6",
    "outputId": "e6bf7e9d-5732-4836-c0bb-fe03ba34683e"
   },
   "outputs": [
    {
     "data": {
      "text/plain": [
       "(1000, 21)"
      ]
     },
     "execution_count": 209,
     "metadata": {},
     "output_type": "execute_result"
    }
   ],
   "source": [
    "# Print Shape of model data\n",
    "df.shape"
   ]
  },
  {
   "cell_type": "code",
   "execution_count": 210,
   "metadata": {},
   "outputs": [
    {
     "data": {
      "text/html": [
       "<div>\n",
       "<style scoped>\n",
       "    .dataframe tbody tr th:only-of-type {\n",
       "        vertical-align: middle;\n",
       "    }\n",
       "\n",
       "    .dataframe tbody tr th {\n",
       "        vertical-align: top;\n",
       "    }\n",
       "\n",
       "    .dataframe thead th {\n",
       "        text-align: right;\n",
       "    }\n",
       "</style>\n",
       "<table border=\"1\" class=\"dataframe\">\n",
       "  <thead>\n",
       "    <tr style=\"text-align: right;\">\n",
       "      <th></th>\n",
       "      <th>default</th>\n",
       "      <th>duration_in_month</th>\n",
       "      <th>credit_amount</th>\n",
       "      <th>installment_as_income_perc</th>\n",
       "      <th>age</th>\n",
       "      <th>credits_this_bank</th>\n",
       "      <th>people_under_maintenance</th>\n",
       "      <th>all credits at this bank paid back duly</th>\n",
       "      <th>critical account/ other credits existing (not at this bank)</th>\n",
       "      <th>delay in paying off in the past</th>\n",
       "      <th>...</th>\n",
       "      <th>... &lt; 100 DM</th>\n",
       "      <th>100 &lt;= ... &lt; 500 DM</th>\n",
       "      <th>500 &lt;= ... &lt; 1000 DM</th>\n",
       "      <th>unknown/ no savings account</th>\n",
       "      <th>management/ self-employed/ highly qualified employee/ officer</th>\n",
       "      <th>skilled employee / official</th>\n",
       "      <th>unemployed/ unskilled - non-resident</th>\n",
       "      <th>unskilled - resident</th>\n",
       "      <th>no</th>\n",
       "      <th>yes</th>\n",
       "    </tr>\n",
       "  </thead>\n",
       "  <tbody>\n",
       "    <tr>\n",
       "      <th>0</th>\n",
       "      <td>0</td>\n",
       "      <td>6</td>\n",
       "      <td>1169</td>\n",
       "      <td>4</td>\n",
       "      <td>67</td>\n",
       "      <td>2</td>\n",
       "      <td>1</td>\n",
       "      <td>0</td>\n",
       "      <td>1</td>\n",
       "      <td>0</td>\n",
       "      <td>...</td>\n",
       "      <td>0</td>\n",
       "      <td>0</td>\n",
       "      <td>0</td>\n",
       "      <td>1</td>\n",
       "      <td>0</td>\n",
       "      <td>1</td>\n",
       "      <td>0</td>\n",
       "      <td>0</td>\n",
       "      <td>0</td>\n",
       "      <td>1</td>\n",
       "    </tr>\n",
       "    <tr>\n",
       "      <th>1</th>\n",
       "      <td>1</td>\n",
       "      <td>48</td>\n",
       "      <td>5951</td>\n",
       "      <td>2</td>\n",
       "      <td>22</td>\n",
       "      <td>1</td>\n",
       "      <td>1</td>\n",
       "      <td>0</td>\n",
       "      <td>0</td>\n",
       "      <td>0</td>\n",
       "      <td>...</td>\n",
       "      <td>1</td>\n",
       "      <td>0</td>\n",
       "      <td>0</td>\n",
       "      <td>0</td>\n",
       "      <td>0</td>\n",
       "      <td>1</td>\n",
       "      <td>0</td>\n",
       "      <td>0</td>\n",
       "      <td>0</td>\n",
       "      <td>1</td>\n",
       "    </tr>\n",
       "    <tr>\n",
       "      <th>2</th>\n",
       "      <td>0</td>\n",
       "      <td>12</td>\n",
       "      <td>2096</td>\n",
       "      <td>2</td>\n",
       "      <td>49</td>\n",
       "      <td>1</td>\n",
       "      <td>2</td>\n",
       "      <td>0</td>\n",
       "      <td>1</td>\n",
       "      <td>0</td>\n",
       "      <td>...</td>\n",
       "      <td>1</td>\n",
       "      <td>0</td>\n",
       "      <td>0</td>\n",
       "      <td>0</td>\n",
       "      <td>0</td>\n",
       "      <td>0</td>\n",
       "      <td>0</td>\n",
       "      <td>1</td>\n",
       "      <td>0</td>\n",
       "      <td>1</td>\n",
       "    </tr>\n",
       "    <tr>\n",
       "      <th>3</th>\n",
       "      <td>0</td>\n",
       "      <td>42</td>\n",
       "      <td>7882</td>\n",
       "      <td>2</td>\n",
       "      <td>45</td>\n",
       "      <td>1</td>\n",
       "      <td>2</td>\n",
       "      <td>0</td>\n",
       "      <td>0</td>\n",
       "      <td>0</td>\n",
       "      <td>...</td>\n",
       "      <td>1</td>\n",
       "      <td>0</td>\n",
       "      <td>0</td>\n",
       "      <td>0</td>\n",
       "      <td>0</td>\n",
       "      <td>1</td>\n",
       "      <td>0</td>\n",
       "      <td>0</td>\n",
       "      <td>0</td>\n",
       "      <td>1</td>\n",
       "    </tr>\n",
       "    <tr>\n",
       "      <th>4</th>\n",
       "      <td>1</td>\n",
       "      <td>24</td>\n",
       "      <td>4870</td>\n",
       "      <td>3</td>\n",
       "      <td>53</td>\n",
       "      <td>2</td>\n",
       "      <td>2</td>\n",
       "      <td>0</td>\n",
       "      <td>0</td>\n",
       "      <td>1</td>\n",
       "      <td>...</td>\n",
       "      <td>1</td>\n",
       "      <td>0</td>\n",
       "      <td>0</td>\n",
       "      <td>0</td>\n",
       "      <td>0</td>\n",
       "      <td>1</td>\n",
       "      <td>0</td>\n",
       "      <td>0</td>\n",
       "      <td>0</td>\n",
       "      <td>1</td>\n",
       "    </tr>\n",
       "  </tbody>\n",
       "</table>\n",
       "<p>5 rows × 37 columns</p>\n",
       "</div>"
      ],
      "text/plain": [
       "   default  duration_in_month  credit_amount  installment_as_income_perc  age  \\\n",
       "0        0                  6           1169                           4   67   \n",
       "1        1                 48           5951                           2   22   \n",
       "2        0                 12           2096                           2   49   \n",
       "3        0                 42           7882                           2   45   \n",
       "4        1                 24           4870                           3   53   \n",
       "\n",
       "   credits_this_bank  people_under_maintenance  \\\n",
       "0                  2                         1   \n",
       "1                  1                         1   \n",
       "2                  1                         2   \n",
       "3                  1                         2   \n",
       "4                  2                         2   \n",
       "\n",
       "   all credits at this bank paid back duly  \\\n",
       "0                                        0   \n",
       "1                                        0   \n",
       "2                                        0   \n",
       "3                                        0   \n",
       "4                                        0   \n",
       "\n",
       "   critical account/ other credits existing (not at this bank)  \\\n",
       "0                                                  1             \n",
       "1                                                  0             \n",
       "2                                                  1             \n",
       "3                                                  0             \n",
       "4                                                  0             \n",
       "\n",
       "   delay in paying off in the past  ...  ... < 100 DM  100 <= ... < 500 DM  \\\n",
       "0                                0  ...             0                    0   \n",
       "1                                0  ...             1                    0   \n",
       "2                                0  ...             1                    0   \n",
       "3                                0  ...             1                    0   \n",
       "4                                1  ...             1                    0   \n",
       "\n",
       "   500 <= ... < 1000 DM   unknown/ no savings account  \\\n",
       "0                      0                            1   \n",
       "1                      0                            0   \n",
       "2                      0                            0   \n",
       "3                      0                            0   \n",
       "4                      0                            0   \n",
       "\n",
       "   management/ self-employed/ highly qualified employee/ officer  \\\n",
       "0                                                  0               \n",
       "1                                                  0               \n",
       "2                                                  0               \n",
       "3                                                  0               \n",
       "4                                                  0               \n",
       "\n",
       "   skilled employee / official  unemployed/ unskilled - non-resident  \\\n",
       "0                            1                                     0   \n",
       "1                            1                                     0   \n",
       "2                            0                                     0   \n",
       "3                            1                                     0   \n",
       "4                            1                                     0   \n",
       "\n",
       "   unskilled - resident  no  yes  \n",
       "0                     0   0    1  \n",
       "1                     0   0    1  \n",
       "2                     1   0    1  \n",
       "3                     0   0    1  \n",
       "4                     0   0    1  \n",
       "\n",
       "[5 rows x 37 columns]"
      ]
     },
     "execution_count": 210,
     "metadata": {},
     "output_type": "execute_result"
    }
   ],
   "source": [
    "dummies = pd.get_dummies(df[\"credit_history\"])#.str.get_dummies(\" \")\n",
    "df=pd.concat([df,dummies],axis=1)\n",
    "dummy=pd.get_dummies(df[\"account_check_status\"])\n",
    "df=pd.concat([df,dummy],axis=1)\n",
    "dum1=pd.get_dummies(df[\"personal_status_sex\"])\n",
    "df=pd.concat([df,dum1],axis=1)\n",
    "dum2=pd.get_dummies(df[\"housing\"])\n",
    "df=pd.concat([df,dum2],axis=1)\n",
    "dum3=pd.get_dummies(df[\"other_installment_plans\"])\n",
    "df=pd.concat([df,dum3],axis=1)\n",
    "dum5=pd.get_dummies(df[\"savings\"])\n",
    "df=pd.concat([df,dum5],axis=1)\n",
    "dum6=pd.get_dummies(df[\"job\"])\n",
    "df=pd.concat([df,dum6],axis=1)\n",
    "dum7=pd.get_dummies(df['foreign_worker'])\n",
    "df=pd.concat([df,dum7],axis=1)\n",
    "df=df.drop(['personal_status_sex','housing','telephone','credit_history','foreign_worker','job','other_installment_plans','account_check_status','savings','purpose','present_emp_since','property','other_debtors','present_res_since'],axis=1)\n",
    "df.head(5)"
   ]
  },
  {
   "cell_type": "markdown",
   "metadata": {
    "colab_type": "text",
    "id": "ytl4nlUW_0pA"
   },
   "source": [
    "### Check for highly correlated variables but don't required any treatment for this use case"
   ]
  },
  {
   "cell_type": "code",
   "execution_count": 219,
   "metadata": {
    "colab": {},
    "colab_type": "code",
    "id": "0W02DKRx_0pA"
   },
   "outputs": [
    {
     "name": "stdout",
     "output_type": "stream",
     "text": [
      "<class 'pandas.core.frame.DataFrame'>\n",
      "RangeIndex: 1000 entries, 0 to 999\n",
      "Data columns (total 37 columns):\n",
      "default                                                          1000 non-null int64\n",
      "duration_in_month                                                1000 non-null int64\n",
      "credit_amount                                                    1000 non-null int64\n",
      "installment_as_income_perc                                       1000 non-null int64\n",
      "age                                                              1000 non-null int64\n",
      "credits_this_bank                                                1000 non-null int64\n",
      "people_under_maintenance                                         1000 non-null int64\n",
      "all credits at this bank paid back duly                          1000 non-null uint8\n",
      "critical account/ other credits existing (not at this bank)      1000 non-null uint8\n",
      "delay in paying off in the past                                  1000 non-null uint8\n",
      "existing credits paid back duly till now                         1000 non-null uint8\n",
      "no credits taken/ all credits paid back duly                     1000 non-null uint8\n",
      "0 <= ... < 200 DM                                                1000 non-null uint8\n",
      "< 0 DM                                                           1000 non-null uint8\n",
      ">= 200 DM / salary assignments for at least 1 year               1000 non-null uint8\n",
      "no checking account                                              1000 non-null uint8\n",
      "female : divorced/separated/married                              1000 non-null uint8\n",
      "male : divorced/separated                                        1000 non-null uint8\n",
      "male : married/widowed                                           1000 non-null uint8\n",
      "male : single                                                    1000 non-null uint8\n",
      "for free                                                         1000 non-null uint8\n",
      "own                                                              1000 non-null uint8\n",
      "rent                                                             1000 non-null uint8\n",
      "bank                                                             1000 non-null uint8\n",
      "none                                                             1000 non-null uint8\n",
      "stores                                                           1000 non-null uint8\n",
      ".. >= 1000 DM                                                    1000 non-null uint8\n",
      "... < 100 DM                                                     1000 non-null uint8\n",
      "100 <= ... < 500 DM                                              1000 non-null uint8\n",
      "500 <= ... < 1000 DM                                             1000 non-null uint8\n",
      "unknown/ no savings account                                      1000 non-null uint8\n",
      "management/ self-employed/ highly qualified employee/ officer    1000 non-null uint8\n",
      "skilled employee / official                                      1000 non-null uint8\n",
      "unemployed/ unskilled - non-resident                             1000 non-null uint8\n",
      "unskilled - resident                                             1000 non-null uint8\n",
      "no                                                               1000 non-null uint8\n",
      "yes                                                              1000 non-null uint8\n",
      "dtypes: int64(7), uint8(30)\n",
      "memory usage: 84.1 KB\n"
     ]
    }
   ],
   "source": [
    "df.info()"
   ]
  },
  {
   "cell_type": "code",
   "execution_count": null,
   "metadata": {
    "colab": {},
    "colab_type": "code",
    "id": "LYeShbCO_0pI"
   },
   "outputs": [],
   "source": [
    "#male : divorced/separated,male : married/widowed,male : single can be clubbed into just'male'\n",
    "'all credits at this bank paid back duly', 'existing credits paid back duly till now' can be clubbed"
   ]
  },
  {
   "cell_type": "markdown",
   "metadata": {
    "colab_type": "text",
    "id": "XLtFcI1m_0pQ"
   },
   "source": [
    "### Q3 Split Train/Test data 70:30 ratio( 1 Marks)\n",
    "##### Hint:from sklearn.model_selection import train_test_split"
   ]
  },
  {
   "cell_type": "code",
   "execution_count": 220,
   "metadata": {
    "colab": {},
    "colab_type": "code",
    "id": "pHxXKL92_0pS"
   },
   "outputs": [],
   "source": [
    "from sklearn.model_selection import train_test_split\n",
    "train, test = train_test_split(df, test_size = 0.3)"
   ]
  },
  {
   "cell_type": "markdown",
   "metadata": {
    "colab_type": "text",
    "id": "wWTpd4Ng_0pW"
   },
   "source": [
    "### Q4 Build Random Forest Model( 2 Marks)\n",
    "#### Hint:from sklearn.ensemble import RandomForestClassifier using n_jobs=2,n_estimators=500,criterion=\"entropy\",random_state=9999"
   ]
  },
  {
   "cell_type": "code",
   "execution_count": 222,
   "metadata": {
    "colab": {},
    "colab_type": "code",
    "id": "AHX5tgQm_0pY"
   },
   "outputs": [
    {
     "data": {
      "text/plain": [
       "RandomForestClassifier(bootstrap=True, class_weight=None, criterion='entropy',\n",
       "                       max_depth=None, max_features='auto', max_leaf_nodes=15,\n",
       "                       min_impurity_decrease=0.0, min_impurity_split=None,\n",
       "                       min_samples_leaf=1, min_samples_split=2,\n",
       "                       min_weight_fraction_leaf=0.0, n_estimators=500, n_jobs=2,\n",
       "                       oob_score=False, random_state=9999, verbose=0,\n",
       "                       warm_start=False)"
      ]
     },
     "execution_count": 222,
     "metadata": {},
     "output_type": "execute_result"
    }
   ],
   "source": [
    "from sklearn.ensemble import RandomForestClassifier\n",
    "clf = RandomForestClassifier(n_estimators=500,n_jobs=2,criterion=\"entropy\",random_state=9999,max_leaf_nodes=15)\n",
    "clf"
   ]
  },
  {
   "cell_type": "markdown",
   "metadata": {
    "colab_type": "text",
    "id": "LuQwgG7T_0pa"
   },
   "source": [
    "### Q5 Calculate Confusion Matrix and Accuracy score (1 Marks)\n",
    "##### Hint: Use confusion_matrix and accuracy_score"
   ]
  },
  {
   "cell_type": "code",
   "execution_count": 243,
   "metadata": {
    "colab": {},
    "colab_type": "code",
    "id": "YgczdMEB_0pc"
   },
   "outputs": [
    {
     "data": {
      "text/plain": [
       "0.7148936170212766"
      ]
     },
     "execution_count": 243,
     "metadata": {},
     "output_type": "execute_result"
    }
   ],
   "source": [
    "X=df.drop(['default'], axis=1)\n",
    "Y=df['default']\n",
    "X_train, X_test,Y_train,Y_test = train_test_split(X,Y, test_size =0.2342,random_state=0)\n",
    "X_train.shape,X_test.shape\n",
    "from sklearn.metrics import confusion_matrix\n",
    "from sklearn.metrics import accuracy_score\n",
    "from sklearn import model_selection\n",
    "model=RandomForestClassifier()\n",
    "model= model.fit(X_train, Y_train)\n",
    "prediction=model.predict(X_test)\n",
    "from sklearn.metrics import accuracy_score\n",
    "accuracy_score(Y_test, prediction)"
   ]
  },
  {
   "cell_type": "code",
   "execution_count": 244,
   "metadata": {},
   "outputs": [
    {
     "data": {
      "text/plain": [
       "array([1, 0, 0, 0, 0, 0, 1, 0, 0, 0, 0, 0, 1, 1, 1, 0, 0, 0, 0, 0, 0, 0,\n",
       "       0, 0, 0, 0, 0, 0, 0, 0, 0, 0, 0, 0, 0, 1, 0, 0, 0, 0, 0, 0, 0, 0,\n",
       "       0, 0, 1, 1, 0, 1, 0, 0, 0, 0, 1, 0, 1, 0, 0, 0, 0, 0, 1, 0, 0, 0,\n",
       "       0, 0, 0, 0, 0, 0, 0, 1, 1, 0, 0, 0, 0, 0, 0, 0, 0, 0, 0, 0, 1, 0,\n",
       "       0, 1, 0, 0, 0, 0, 0, 0, 0, 0, 0, 0, 0, 0, 0, 0, 0, 0, 0, 1, 1, 0,\n",
       "       0, 1, 1, 0, 0, 0, 0, 0, 0, 0, 0, 0, 0, 0, 0, 0, 0, 0, 0, 0, 0, 0,\n",
       "       1, 1, 0, 0, 0, 0, 0, 1, 0, 1, 0, 0, 0, 0, 0, 1, 0, 0, 0, 0, 0, 0,\n",
       "       0, 0, 1, 0, 0, 0, 0, 0, 0, 0, 0, 1, 1, 0, 0, 0, 1, 0, 1, 0, 0, 0,\n",
       "       0, 0, 0, 0, 0, 0, 0, 1, 1, 1, 0, 0, 0, 0, 0, 1, 0, 0, 0, 0, 1, 0,\n",
       "       0, 0, 0, 0, 1, 1, 0, 0, 0, 0, 0, 0, 0, 0, 0, 0, 0, 0, 0, 0, 1, 0,\n",
       "       1, 0, 0, 0, 0, 0, 0, 1, 1, 0, 0, 0, 0, 0, 1], dtype=int64)"
      ]
     },
     "execution_count": 244,
     "metadata": {},
     "output_type": "execute_result"
    }
   ],
   "source": [
    "prediction"
   ]
  },
  {
   "cell_type": "code",
   "execution_count": 245,
   "metadata": {},
   "outputs": [
    {
     "name": "stdout",
     "output_type": "stream",
     "text": [
      "[[145  19]\n",
      " [ 48  23]]\n"
     ]
    }
   ],
   "source": [
    "from sklearn.metrics import confusion_matrix\n",
    "confusion_matrix = confusion_matrix(Y_test, prediction)\n",
    "print(confusion_matrix)"
   ]
  },
  {
   "cell_type": "markdown",
   "metadata": {
    "colab_type": "text",
    "id": "x2wDGYcC_0pf"
   },
   "source": [
    "### Q6 Show the list of the features importance( 1 Marks)"
   ]
  },
  {
   "cell_type": "code",
   "execution_count": null,
   "metadata": {
    "colab": {},
    "colab_type": "code",
    "id": "bEWKBXX8_0ph"
   },
   "outputs": [],
   "source": [
    "#credit_amount - how big or small the credit amount is necessary to consider\n",
    "#installment_as_income_perc - this can help understand if the person can easily pay off the amount or if its difficult\n",
    "#delay in paying off in the past - helps in understand if the person is a usual defaulter\n",
    "#duration_in_month - helps understand the credit amount is due for how many months/days\n",
    "#unemployed/unskilled- non-resident - there are higher chances he may not pay off the credit amount\n",
    "#unknown/no savings account - need to clarify who are these customers "
   ]
  },
  {
   "cell_type": "markdown",
   "metadata": {
    "colab_type": "text",
    "id": "U7VnUE71_0pk"
   },
   "source": [
    "### Q7 K-fold cross-validation( 2 Marks)\n",
    "##### k-fold cross validation( without stratification)\n",
    "##### Usually k is set as 10-20 in practical settings, depends on data set size"
   ]
  },
  {
   "cell_type": "code",
   "execution_count": 234,
   "metadata": {
    "colab": {},
    "colab_type": "code",
    "id": "Pf6rIo-c_0pm"
   },
   "outputs": [],
   "source": [
    "from sklearn.model_selection import KFold\n",
    "from sklearn.model_selection import cross_val_score"
   ]
  },
  {
   "cell_type": "code",
   "execution_count": 303,
   "metadata": {
    "colab": {},
    "colab_type": "code",
    "id": "SLIiX3BP_0pp"
   },
   "outputs": [],
   "source": [
    "# Use below values\n",
    "num_folds = 10\n",
    "seed = 77"
   ]
  },
  {
   "cell_type": "code",
   "execution_count": 214,
   "metadata": {
    "colab": {},
    "colab_type": "code",
    "id": "lDyCh_OG_0pt"
   },
   "outputs": [],
   "source": [
    "#Validate the Random Forest model build above using k fold"
   ]
  },
  {
   "cell_type": "code",
   "execution_count": 321,
   "metadata": {
    "colab": {},
    "colab_type": "code",
    "id": "fvxAgXik_0p0"
   },
   "outputs": [],
   "source": [
    "from sklearn.model_selection import KFold\n",
    "from sklearn.model_selection import cross_val_score\n",
    "from sklearn.preprocessing import MinMaxScaler\n",
    "from sklearn.svm import SVR\n",
    "kf = KFold(n_splits =10, shuffle = True, random_state = 77)\n",
    "scores = []\n",
    "best_svr = SVR(kernel='rbf')\n",
    "best_svr.fit(X_train, Y_train)\n",
    "scores.append(best_svr.score(X_test, Y_test))"
   ]
  },
  {
   "cell_type": "code",
   "execution_count": 215,
   "metadata": {
    "colab": {},
    "colab_type": "code",
    "id": "6r8p73dT_0p6"
   },
   "outputs": [],
   "source": [
    "#Calculate Mean score"
   ]
  },
  {
   "cell_type": "code",
   "execution_count": 322,
   "metadata": {
    "colab": {},
    "colab_type": "code",
    "id": "qtGEiGuu_0qA"
   },
   "outputs": [
    {
     "name": "stdout",
     "output_type": "stream",
     "text": [
      "-0.06662156614648973\n"
     ]
    }
   ],
   "source": [
    "print(np.mean(scores))"
   ]
  },
  {
   "cell_type": "code",
   "execution_count": 216,
   "metadata": {
    "colab": {},
    "colab_type": "code",
    "id": "Rr132f7H_0qD"
   },
   "outputs": [],
   "source": [
    "# Calculate score standard deviation using std()"
   ]
  },
  {
   "cell_type": "code",
   "execution_count": 323,
   "metadata": {
    "colab": {},
    "colab_type": "code",
    "id": "44JxPbHG_0qH"
   },
   "outputs": [
    {
     "name": "stdout",
     "output_type": "stream",
     "text": [
      "0.0\n"
     ]
    }
   ],
   "source": [
    "print(np.std(scores))"
   ]
  },
  {
   "cell_type": "markdown",
   "metadata": {
    "colab_type": "text",
    "id": "kB0x5yLs_0qM"
   },
   "source": [
    "# Q8 Build Ada boosting model, check the accuracy, and print confusion matrix ( 1 Marks)"
   ]
  },
  {
   "cell_type": "code",
   "execution_count": 246,
   "metadata": {
    "colab": {},
    "colab_type": "code",
    "id": "WiS5l8Cn_0qO"
   },
   "outputs": [
    {
     "data": {
      "text/plain": [
       "0.774468085106383"
      ]
     },
     "execution_count": 246,
     "metadata": {},
     "output_type": "execute_result"
    }
   ],
   "source": [
    "from sklearn.ensemble import AdaBoostClassifier\n",
    "model=AdaBoostClassifier()\n",
    "model= model.fit(X_train, Y_train)\n",
    "prediction=model.predict(X_test)\n",
    "from sklearn.metrics import accuracy_score\n",
    "accuracy_score(Y_test, prediction)"
   ]
  },
  {
   "cell_type": "code",
   "execution_count": 247,
   "metadata": {},
   "outputs": [
    {
     "data": {
      "text/plain": [
       "array([1, 0, 0, 0, 0, 0, 0, 0, 0, 1, 1, 1, 0, 0, 0, 0, 0, 0, 1, 0, 1, 0,\n",
       "       1, 0, 0, 1, 0, 0, 0, 1, 0, 0, 0, 0, 0, 1, 0, 0, 0, 0, 0, 1, 0, 0,\n",
       "       0, 1, 1, 1, 1, 0, 0, 1, 0, 0, 0, 0, 1, 0, 0, 0, 1, 0, 0, 0, 0, 0,\n",
       "       0, 0, 0, 0, 0, 0, 1, 0, 1, 0, 0, 0, 1, 0, 1, 0, 0, 0, 0, 0, 0, 1,\n",
       "       0, 0, 0, 0, 0, 0, 0, 0, 0, 0, 1, 0, 0, 0, 0, 0, 0, 0, 0, 1, 1, 0,\n",
       "       0, 1, 1, 0, 0, 0, 1, 0, 0, 0, 0, 0, 0, 1, 0, 0, 0, 0, 0, 0, 0, 0,\n",
       "       1, 0, 0, 0, 0, 0, 0, 1, 0, 1, 0, 1, 0, 0, 0, 1, 1, 0, 0, 0, 0, 0,\n",
       "       0, 0, 0, 0, 0, 0, 0, 1, 0, 0, 1, 1, 0, 0, 0, 0, 1, 0, 1, 1, 0, 1,\n",
       "       1, 1, 0, 0, 0, 0, 0, 1, 0, 1, 0, 0, 0, 0, 0, 1, 0, 0, 0, 0, 1, 0,\n",
       "       1, 0, 0, 0, 1, 1, 0, 0, 1, 0, 0, 0, 0, 0, 0, 0, 0, 1, 0, 1, 0, 1,\n",
       "       1, 0, 0, 0, 0, 0, 0, 1, 1, 0, 0, 0, 0, 0, 1], dtype=int64)"
      ]
     },
     "execution_count": 247,
     "metadata": {},
     "output_type": "execute_result"
    }
   ],
   "source": [
    "prediction"
   ]
  },
  {
   "cell_type": "code",
   "execution_count": 248,
   "metadata": {},
   "outputs": [
    {
     "name": "stdout",
     "output_type": "stream",
     "text": [
      "[[143  21]\n",
      " [ 32  39]]\n"
     ]
    }
   ],
   "source": [
    "from sklearn.metrics import confusion_matrix\n",
    "confusion_matrix = confusion_matrix(Y_test, prediction)\n",
    "print(confusion_matrix)"
   ]
  },
  {
   "cell_type": "markdown",
   "metadata": {
    "colab_type": "text",
    "id": "uMLxrkNg_0qR"
   },
   "source": [
    "# Q9. Build Gradient boosting model, check the accuracy, and print confusion matrix ( 1 Marks)\n",
    "percentage of correct predictions and Calculate sensitivity (or True Positive Rate or Recall) and Precision.\n",
    "( 1 Marks)"
   ]
  },
  {
   "cell_type": "code",
   "execution_count": 252,
   "metadata": {
    "colab": {},
    "colab_type": "code",
    "id": "QUG5Y_li_0qT"
   },
   "outputs": [
    {
     "data": {
      "text/plain": [
       "0.7702127659574468"
      ]
     },
     "execution_count": 252,
     "metadata": {},
     "output_type": "execute_result"
    }
   ],
   "source": [
    "from sklearn.ensemble import GradientBoostingClassifier\n",
    "model=GradientBoostingClassifier()\n",
    "model= model.fit(X_train, Y_train)\n",
    "prediction=model.predict(X_test)\n",
    "from sklearn.metrics import accuracy_score\n",
    "accuracy_score(Y_test, prediction)"
   ]
  },
  {
   "cell_type": "code",
   "execution_count": 253,
   "metadata": {
    "colab": {},
    "colab_type": "code",
    "id": "IS9CZaZr_0qX"
   },
   "outputs": [
    {
     "data": {
      "text/plain": [
       "array([1, 0, 0, 0, 0, 0, 0, 0, 0, 1, 1, 1, 0, 0, 0, 0, 0, 0, 0, 0, 0, 0,\n",
       "       0, 0, 0, 1, 0, 0, 0, 1, 0, 1, 0, 1, 0, 1, 0, 0, 0, 0, 0, 1, 0, 0,\n",
       "       0, 0, 1, 0, 1, 0, 0, 1, 0, 0, 0, 0, 1, 0, 0, 0, 1, 0, 1, 0, 0, 0,\n",
       "       0, 0, 1, 0, 0, 0, 1, 0, 1, 0, 0, 0, 0, 0, 1, 0, 0, 0, 0, 0, 1, 0,\n",
       "       0, 0, 0, 0, 0, 0, 0, 0, 0, 1, 0, 0, 0, 0, 0, 0, 0, 0, 1, 1, 1, 0,\n",
       "       0, 1, 1, 0, 0, 0, 1, 0, 0, 0, 0, 0, 0, 1, 0, 0, 0, 0, 0, 0, 0, 0,\n",
       "       1, 0, 0, 0, 0, 0, 0, 1, 1, 1, 0, 0, 0, 0, 0, 0, 0, 0, 0, 0, 0, 0,\n",
       "       0, 0, 0, 0, 0, 0, 0, 0, 0, 0, 1, 1, 0, 0, 0, 0, 1, 0, 1, 0, 0, 1,\n",
       "       1, 1, 0, 0, 0, 1, 0, 1, 0, 1, 0, 0, 0, 0, 0, 1, 0, 0, 0, 0, 1, 0,\n",
       "       0, 0, 0, 0, 1, 1, 0, 0, 1, 0, 0, 0, 0, 0, 0, 0, 0, 1, 0, 0, 0, 0,\n",
       "       1, 0, 0, 0, 0, 0, 0, 1, 1, 0, 0, 0, 0, 0, 1], dtype=int64)"
      ]
     },
     "execution_count": 253,
     "metadata": {},
     "output_type": "execute_result"
    }
   ],
   "source": [
    "prediction"
   ]
  },
  {
   "cell_type": "code",
   "execution_count": 254,
   "metadata": {},
   "outputs": [
    {
     "name": "stdout",
     "output_type": "stream",
     "text": [
      "[[146  18]\n",
      " [ 36  35]]\n"
     ]
    }
   ],
   "source": [
    "from sklearn.metrics import confusion_matrix\n",
    "confusion_matrix = confusion_matrix(Y_test, prediction)\n",
    "print(confusion_matrix)"
   ]
  },
  {
   "cell_type": "markdown",
   "metadata": {
    "colab_type": "text",
    "id": "BZ43LYtQ_0q9"
   },
   "source": [
    "### Bootstrapping ( Bonus)\n",
    "##### Given a dataset of size n, a bootstrap sample is created by sampling n instances uniformly from the data (with/without replacement)\n",
    "##### Create a model with each bootstrap sample and validate it with the test set\n",
    "##### Final result is calculated by averaging the accuracy of models"
   ]
  },
  {
   "cell_type": "code",
   "execution_count": 299,
   "metadata": {
    "colab": {},
    "colab_type": "code",
    "id": "8KwXPTNE_0q9"
   },
   "outputs": [],
   "source": [
    "# Number of iterations for bootstrapping\n",
    "bootstrap_iteration = 10\n",
    "accuracy = []"
   ]
  },
  {
   "cell_type": "code",
   "execution_count": 300,
   "metadata": {
    "colab": {},
    "colab_type": "code",
    "id": "rVQTCij9_0rA"
   },
   "outputs": [],
   "source": [
    "from sklearn.utils import resample\n",
    "from sklearn.metrics import accuracy_score\n",
    "\n",
    "for i in range(bootstrap_iteration):\n",
    "    X_, Y_ = resample(X_train, Y_train)\n",
    "    rfm=model.fit(X_, Y_)\n",
    "    y_pred = rfm.predict(X_test)\n",
    "    \n",
    "    acc = accuracy_score(y_pred, Y_test)\n",
    "    accuracy.append(acc)"
   ]
  },
  {
   "cell_type": "code",
   "execution_count": 301,
   "metadata": {
    "colab": {},
    "colab_type": "code",
    "id": "lRtfc6p7_0rD",
    "outputId": "6b6e9b14-0652-4550-83e0-7bb2ca3f0481"
   },
   "outputs": [
    {
     "name": "stdout",
     "output_type": "stream",
     "text": [
      "Accuracy Score\n",
      "Avearge:  0.7544680851063829\n",
      "Standard deviation:  0.012630486876302851\n"
     ]
    }
   ],
   "source": [
    "accuracy = np.array(accuracy)\n",
    "print('Accuracy Score')\n",
    "print('Avearge: ', accuracy.mean())\n",
    "print('Standard deviation: ', accuracy.std())"
   ]
  },
  {
   "cell_type": "code",
   "execution_count": null,
   "metadata": {
    "colab": {},
    "colab_type": "code",
    "id": "7ItbXIpd_0rH"
   },
   "outputs": [],
   "source": [
    "# Adaboost model is the best model with highest accuracy "
   ]
  }
 ],
 "metadata": {
  "colab": {
   "collapsed_sections": [
    "LuQwgG7T_0pa",
    "x2wDGYcC_0pf",
    "U7VnUE71_0pk"
   ],
   "name": "R4_External_Lab_Validation_Accuracy.ipynb",
   "provenance": []
  },
  "kernelspec": {
   "display_name": "Python 3",
   "language": "python",
   "name": "python3"
  },
  "language_info": {
   "codemirror_mode": {
    "name": "ipython",
    "version": 3
   },
   "file_extension": ".py",
   "mimetype": "text/x-python",
   "name": "python",
   "nbconvert_exporter": "python",
   "pygments_lexer": "ipython3",
   "version": "3.7.3"
  }
 },
 "nbformat": 4,
 "nbformat_minor": 1
}
