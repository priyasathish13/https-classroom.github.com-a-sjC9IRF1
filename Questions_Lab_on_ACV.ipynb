{
  "nbformat": 4,
  "nbformat_minor": 0,
  "metadata": {
    "colab": {
      "name": "Questions - Lab on ACV.ipynb",
      "provenance": [],
      "collapsed_sections": [],
      "toc_visible": true
    },
    "kernelspec": {
      "display_name": "Python 3",
      "name": "python3"
    }
  },
  "cells": [
    {
      "cell_type": "markdown",
      "metadata": {
        "id": "I-P5m4iA_xe7"
      },
      "source": [
        "# Bounding box detection - Racoon data\n",
        "\n",
        "\n",
        "## Data files\n",
        "- images_racoon.rar: contain images of racoons\n",
        "- train_labels.cv: contains coordinates for bounding box for every image"
      ]
    },
    {
      "cell_type": "markdown",
      "metadata": {
        "id": "d8M5gzwKWGiU"
      },
      "source": [
        "### Import the necessary libraries"
      ]
    },
    {
      "cell_type": "code",
      "metadata": {
        "id": "VOMKpZJcWGiV"
      },
      "source": [
        "import numpy as np\n",
        "import pandas as pd\n",
        "np.random.seed(1)"
      ],
      "execution_count": 62,
      "outputs": []
    },
    {
      "cell_type": "code",
      "metadata": {
        "id": "-ZHOcwggKIml"
      },
      "source": [
        "from keras import Model\n",
        "from keras.applications.mobilenet import MobileNet, preprocess_input\n",
        "from keras.callbacks import ModelCheckpoint, EarlyStopping, ReduceLROnPlateau, Callback\n",
        "from keras.layers import Conv2D, Reshape\n",
        "from keras.utils import Sequence\n",
        "from keras.backend import epsilon\n",
        "import tensorflow as tf"
      ],
      "execution_count": 63,
      "outputs": []
    },
    {
      "cell_type": "markdown",
      "metadata": {
        "id": "Z_INIZOi_tUW"
      },
      "source": [
        "### Change directory"
      ]
    },
    {
      "cell_type": "markdown",
      "metadata": {
        "id": "KRM-rX1ODJRw"
      },
      "source": [
        ""
      ]
    },
    {
      "cell_type": "markdown",
      "metadata": {
        "id": "lwxBtvYRWGii"
      },
      "source": [
        "### Load the training data from train.csv file"
      ]
    },
    {
      "cell_type": "code",
      "metadata": {
        "id": "c3sNUAk-D8bz"
      },
      "source": [
        "train = pd.read_csv('/content/train_labels.csv')"
      ],
      "execution_count": 64,
      "outputs": []
    },
    {
      "cell_type": "markdown",
      "metadata": {
        "id": "-F3CkYxUWGin"
      },
      "source": [
        "### Print the shape of the train dataset"
      ]
    },
    {
      "cell_type": "code",
      "metadata": {
        "colab": {
          "base_uri": "https://localhost:8080/"
        },
        "id": "uRz_MtnvWGip",
        "outputId": "0ce10265-8d0e-4ae1-fa92-0596893fa8fd"
      },
      "source": [
        "train.shape"
      ],
      "execution_count": 65,
      "outputs": [
        {
          "output_type": "execute_result",
          "data": {
            "text/plain": [
              "(173, 8)"
            ]
          },
          "metadata": {
            "tags": []
          },
          "execution_count": 65
        }
      ]
    },
    {
      "cell_type": "code",
      "metadata": {
        "colab": {
          "base_uri": "https://localhost:8080/",
          "height": 204
        },
        "id": "sLN9v6DrKyGp",
        "outputId": "9ee01c2b-0838-4529-e175-3084d0976833"
      },
      "source": [
        "train.head()"
      ],
      "execution_count": 66,
      "outputs": [
        {
          "output_type": "execute_result",
          "data": {
            "text/html": [
              "<div>\n",
              "<style scoped>\n",
              "    .dataframe tbody tr th:only-of-type {\n",
              "        vertical-align: middle;\n",
              "    }\n",
              "\n",
              "    .dataframe tbody tr th {\n",
              "        vertical-align: top;\n",
              "    }\n",
              "\n",
              "    .dataframe thead th {\n",
              "        text-align: right;\n",
              "    }\n",
              "</style>\n",
              "<table border=\"1\" class=\"dataframe\">\n",
              "  <thead>\n",
              "    <tr style=\"text-align: right;\">\n",
              "      <th></th>\n",
              "      <th>filename</th>\n",
              "      <th>width</th>\n",
              "      <th>height</th>\n",
              "      <th>class</th>\n",
              "      <th>xmin</th>\n",
              "      <th>ymin</th>\n",
              "      <th>xmax</th>\n",
              "      <th>ymax</th>\n",
              "    </tr>\n",
              "  </thead>\n",
              "  <tbody>\n",
              "    <tr>\n",
              "      <th>0</th>\n",
              "      <td>raccoon-17.jpg</td>\n",
              "      <td>259</td>\n",
              "      <td>194</td>\n",
              "      <td>raccoon</td>\n",
              "      <td>95</td>\n",
              "      <td>60</td>\n",
              "      <td>167</td>\n",
              "      <td>118</td>\n",
              "    </tr>\n",
              "    <tr>\n",
              "      <th>1</th>\n",
              "      <td>raccoon-11.jpg</td>\n",
              "      <td>660</td>\n",
              "      <td>432</td>\n",
              "      <td>raccoon</td>\n",
              "      <td>3</td>\n",
              "      <td>1</td>\n",
              "      <td>461</td>\n",
              "      <td>431</td>\n",
              "    </tr>\n",
              "    <tr>\n",
              "      <th>2</th>\n",
              "      <td>raccoon-63.jpg</td>\n",
              "      <td>600</td>\n",
              "      <td>400</td>\n",
              "      <td>raccoon</td>\n",
              "      <td>74</td>\n",
              "      <td>107</td>\n",
              "      <td>280</td>\n",
              "      <td>290</td>\n",
              "    </tr>\n",
              "    <tr>\n",
              "      <th>3</th>\n",
              "      <td>raccoon-63.jpg</td>\n",
              "      <td>600</td>\n",
              "      <td>400</td>\n",
              "      <td>raccoon</td>\n",
              "      <td>227</td>\n",
              "      <td>93</td>\n",
              "      <td>403</td>\n",
              "      <td>298</td>\n",
              "    </tr>\n",
              "    <tr>\n",
              "      <th>4</th>\n",
              "      <td>raccoon-60.jpg</td>\n",
              "      <td>273</td>\n",
              "      <td>185</td>\n",
              "      <td>raccoon</td>\n",
              "      <td>58</td>\n",
              "      <td>33</td>\n",
              "      <td>197</td>\n",
              "      <td>127</td>\n",
              "    </tr>\n",
              "  </tbody>\n",
              "</table>\n",
              "</div>"
            ],
            "text/plain": [
              "         filename  width  height    class  xmin  ymin  xmax  ymax\n",
              "0  raccoon-17.jpg    259     194  raccoon    95    60   167   118\n",
              "1  raccoon-11.jpg    660     432  raccoon     3     1   461   431\n",
              "2  raccoon-63.jpg    600     400  raccoon    74   107   280   290\n",
              "3  raccoon-63.jpg    600     400  raccoon   227    93   403   298\n",
              "4  raccoon-60.jpg    273     185  raccoon    58    33   197   127"
            ]
          },
          "metadata": {
            "tags": []
          },
          "execution_count": 66
        }
      ]
    },
    {
      "cell_type": "markdown",
      "metadata": {
        "id": "axf5m10eWGis"
      },
      "source": [
        "### Declare a variable IMAGE_SIZE = 128 as we will be using MobileNet which will be taking Input shape as 128 * 128 "
      ]
    },
    {
      "cell_type": "code",
      "metadata": {
        "id": "7ayEk2c9WGit"
      },
      "source": [
        "IMAGE_SIZE=128"
      ],
      "execution_count": 67,
      "outputs": []
    },
    {
      "cell_type": "code",
      "metadata": {
        "id": "hXP4CDAIFaIn"
      },
      "source": [
        "from zipfile import ZipFile "
      ],
      "execution_count": 68,
      "outputs": []
    },
    {
      "cell_type": "code",
      "metadata": {
        "colab": {
          "base_uri": "https://localhost:8080/"
        },
        "id": "rIhA7PcLUKe_",
        "outputId": "2f6fb198-61f5-49fa-e923-21b158d9fb63"
      },
      "source": [
        "file_name = \"/content/images.zip\"\n",
        "with ZipFile(file_name, 'r') as zip: \n",
        "  zip.printdir() "
      ],
      "execution_count": 69,
      "outputs": [
        {
          "output_type": "stream",
          "text": [
            "File Name                                             Modified             Size\n",
            "images/images/                                 2019-04-21 11:52:20            0\n",
            "images/images/raccoon-1.jpg                    2019-04-16 05:21:40        58076\n",
            "images/images/raccoon-10.jpg                   2019-04-16 05:21:40        70541\n",
            "images/images/raccoon-100.jpg                  2019-04-16 05:21:42       118176\n",
            "images/images/raccoon-101.jpg                  2019-04-16 05:21:42       124554\n",
            "images/images/raccoon-102.jpg                  2019-04-16 05:21:40        17123\n",
            "images/images/raccoon-103.jpg                  2019-04-16 05:21:38       173619\n",
            "images/images/raccoon-104.jpg                  2019-04-16 05:21:40        41618\n",
            "images/images/raccoon-105.jpg                  2019-04-16 05:21:40        99844\n",
            "images/images/raccoon-106.jpg                  2019-04-16 05:21:40        13337\n",
            "images/images/raccoon-107.jpg                  2019-04-16 05:21:40        95486\n",
            "images/images/raccoon-108.jpg                  2019-04-16 05:21:42        92585\n",
            "images/images/raccoon-109.jpg                  2019-04-16 05:21:44        18709\n",
            "images/images/raccoon-11.jpg                   2019-04-16 05:21:44       117130\n",
            "images/images/raccoon-110.jpg                  2019-04-16 05:21:44        13357\n",
            "images/images/raccoon-111.jpg                  2019-04-16 05:21:44       137606\n",
            "images/images/raccoon-112.jpg                  2019-04-16 05:21:46       162431\n",
            "images/images/raccoon-113.jpg                  2019-04-16 05:21:46       249753\n",
            "images/images/raccoon-114.jpg                  2019-04-16 05:21:46        88708\n",
            "images/images/raccoon-115.jpg                  2019-04-16 05:21:46       185996\n",
            "images/images/raccoon-116.jpg                  2019-04-16 05:21:46       117130\n",
            "images/images/raccoon-117.jpg                  2019-04-16 05:21:44       228589\n",
            "images/images/raccoon-118.jpg                  2019-04-16 05:21:48        43888\n",
            "images/images/raccoon-119.jpg                  2019-04-16 05:21:46       117021\n",
            "images/images/raccoon-12.jpg                   2019-04-16 05:21:48        20197\n",
            "images/images/raccoon-120.jpg                  2019-04-16 05:21:48        43944\n",
            "images/images/raccoon-121.jpg                  2019-04-16 05:21:50        40366\n",
            "images/images/raccoon-122.jpg                  2019-04-16 05:21:50        16375\n",
            "images/images/raccoon-123.jpg                  2019-04-16 05:21:50        76358\n",
            "images/images/raccoon-124.jpg                  2019-04-16 05:21:50        13783\n",
            "images/images/raccoon-125.jpg                  2019-04-16 05:21:50        10228\n",
            "images/images/raccoon-126.jpg                  2019-04-16 05:21:52        13825\n",
            "images/images/raccoon-127.jpg                  2019-04-16 05:21:52        12239\n",
            "images/images/raccoon-128.jpg                  2019-04-16 05:21:52        12469\n",
            "images/images/raccoon-129.jpg                  2019-04-16 05:21:54        53737\n",
            "images/images/raccoon-13.jpg                   2019-04-16 05:21:54        36203\n",
            "images/images/raccoon-130.jpg                  2019-04-16 05:21:50       166203\n",
            "images/images/raccoon-131.jpg                  2019-04-16 05:21:54         8941\n",
            "images/images/raccoon-132.jpg                  2019-04-16 05:21:54         9804\n",
            "images/images/raccoon-133.jpg                  2019-04-16 05:21:54       118657\n",
            "images/images/raccoon-134.jpg                  2019-04-16 05:21:54        18076\n",
            "images/images/raccoon-135.jpg                  2019-04-16 05:21:56       131510\n",
            "images/images/raccoon-136.jpg                  2019-04-16 05:21:56        16647\n",
            "images/images/raccoon-137.jpg                  2019-04-16 05:21:58        42933\n",
            "images/images/raccoon-138.jpg                  2019-04-16 05:21:58        18902\n",
            "images/images/raccoon-139.jpg                  2019-04-16 05:21:58        15716\n",
            "images/images/raccoon-14.jpg                   2019-04-16 05:22:00       112267\n",
            "images/images/raccoon-140.jpg                  2019-04-16 05:22:00        14772\n",
            "images/images/raccoon-141.jpg                  2019-04-16 05:21:58        24739\n",
            "images/images/raccoon-142.jpg                  2019-04-16 05:21:58       219400\n",
            "images/images/raccoon-143.jpg                  2019-04-16 05:21:58        10949\n",
            "images/images/raccoon-144.jpg                  2019-04-16 05:21:58        46055\n",
            "images/images/raccoon-145.jpg                  2019-04-16 05:22:00       142329\n",
            "images/images/raccoon-146.jpg                  2019-04-16 05:22:02        23137\n",
            "images/images/raccoon-147.jpg                  2019-04-16 05:22:02       133818\n",
            "images/images/raccoon-148.jpg                  2019-04-16 05:22:02        47645\n",
            "images/images/raccoon-149.jpg                  2019-04-16 05:22:02        16040\n",
            "images/images/raccoon-15.jpg                   2019-04-16 05:22:02        57461\n",
            "images/images/raccoon-150.jpg                  2019-04-16 05:22:04         3662\n",
            "images/images/raccoon-151.jpg                  2019-04-16 05:22:04         7653\n",
            "images/images/raccoon-152.jpg                  2019-04-16 05:22:04        13280\n",
            "images/images/raccoon-153.jpg                  2019-04-16 05:22:04       107197\n",
            "images/images/raccoon-154.jpg                  2019-04-16 05:22:04       107800\n",
            "images/images/raccoon-155.jpg                  2019-04-16 05:22:04         9874\n",
            "images/images/raccoon-156.jpg                  2019-04-16 05:22:04        15830\n",
            "images/images/raccoon-157.jpg                  2019-04-16 05:22:06        12488\n",
            "images/images/raccoon-158.jpg                  2019-04-16 05:22:06        22077\n",
            "images/images/raccoon-159.jpg                  2019-04-16 05:22:06         9487\n",
            "images/images/raccoon-16.jpg                   2019-04-16 05:22:06       103125\n",
            "images/images/raccoon-160.jpg                  2019-04-16 05:22:08        14434\n",
            "images/images/raccoon-161.jpg                  2019-04-16 05:22:08        40046\n",
            "images/images/raccoon-162.jpg                  2019-04-16 05:22:08        22463\n",
            "images/images/raccoon-163.jpg                  2019-04-16 05:22:08        11224\n",
            "images/images/raccoon-164.jpg                  2019-04-16 05:22:08        13994\n",
            "images/images/raccoon-165.jpg                  2019-04-16 05:22:08        11355\n",
            "images/images/raccoon-166.jpg                  2019-04-16 05:22:08         9499\n",
            "images/images/raccoon-167.jpg                  2019-04-16 05:22:10        15481\n",
            "images/images/raccoon-168.jpg                  2019-04-16 05:22:10       109346\n",
            "images/images/raccoon-169.jpg                  2019-04-16 05:22:10       106262\n",
            "images/images/raccoon-17.jpg                   2019-04-16 05:22:12        24164\n",
            "images/images/raccoon-170.jpg                  2019-04-16 05:22:12        22107\n",
            "images/images/raccoon-171.jpg                  2019-04-16 05:22:12        14424\n",
            "images/images/raccoon-172.jpg                  2019-04-16 05:22:12        45168\n",
            "images/images/raccoon-173.jpg                  2019-04-16 05:22:14        69464\n",
            "images/images/raccoon-174.jpg                  2019-04-16 05:22:14       181753\n",
            "images/images/raccoon-175.jpg                  2019-04-16 05:22:12        70335\n",
            "images/images/raccoon-176.jpg                  2019-04-16 05:22:12       216088\n",
            "images/images/raccoon-177.jpg                  2019-04-16 05:22:14        17447\n",
            "images/images/raccoon-178.jpg                  2019-04-16 05:22:14        18459\n",
            "images/images/raccoon-179.jpg                  2019-04-16 05:22:14       105063\n",
            "images/images/raccoon-18.jpg                   2019-04-16 05:22:16        18239\n",
            "images/images/raccoon-180.jpg                  2019-04-16 05:22:16        49407\n",
            "images/images/raccoon-181.jpg                  2019-04-16 05:22:16       108866\n",
            "images/images/raccoon-182.jpg                  2019-04-16 05:22:16        76743\n",
            "images/images/raccoon-183.jpg                  2019-04-16 05:22:16       465820\n",
            "images/images/raccoon-184.jpg                  2019-04-16 05:22:20        90158\n",
            "images/images/raccoon-185.jpg                  2019-04-16 05:22:20        16018\n",
            "images/images/raccoon-186.jpg                  2019-04-16 05:22:20       170403\n",
            "images/images/raccoon-187.jpg                  2019-04-16 05:22:20        22491\n",
            "images/images/raccoon-188.jpg                  2019-04-16 05:22:20        37734\n",
            "images/images/raccoon-189.jpg                  2019-04-16 05:22:18        90321\n",
            "images/images/raccoon-19.jpg                   2019-04-16 05:22:20        10464\n",
            "images/images/raccoon-190.jpg                  2019-04-16 05:22:20        16420\n",
            "images/images/raccoon-191.jpg                  2019-04-16 05:22:20       138321\n",
            "images/images/raccoon-192.jpg                  2019-04-16 05:22:20        30030\n",
            "images/images/raccoon-193.jpg                  2019-04-16 05:22:22       127524\n",
            "images/images/raccoon-194.jpg                  2019-04-16 05:22:22       256794\n",
            "images/images/raccoon-195.jpg                  2019-04-16 05:22:24        13731\n",
            "images/images/raccoon-196.jpg                  2019-04-16 05:22:24        12767\n",
            "images/images/raccoon-197.jpg                  2019-04-16 05:22:24        70606\n",
            "images/images/raccoon-198.jpg                  2019-04-16 05:22:24        17674\n",
            "images/images/raccoon-199.jpg                  2019-04-16 05:22:24       154784\n",
            "images/images/raccoon-2.jpg                    2019-04-16 05:22:24        61817\n",
            "images/images/raccoon-20.jpg                   2019-04-16 05:22:24       209437\n",
            "images/images/raccoon-200.jpg                  2019-04-16 05:22:24        13329\n",
            "images/images/raccoon-21.jpg                   2019-04-16 05:22:24        26496\n",
            "images/images/raccoon-22.jpg                   2019-04-16 05:22:26       162867\n",
            "images/images/raccoon-23.jpg                   2019-04-16 05:22:26        18774\n",
            "images/images/raccoon-24.jpg                   2019-04-16 05:22:28        22094\n",
            "images/images/raccoon-25.jpg                   2019-04-16 05:22:28       143214\n",
            "images/images/raccoon-26.jpg                   2019-04-16 05:22:28        42156\n",
            "images/images/raccoon-27.jpg                   2019-04-16 05:22:28        93914\n",
            "images/images/raccoon-28.jpg                   2019-04-16 05:22:30       121287\n",
            "images/images/raccoon-29.jpg                   2019-04-16 05:22:28        16575\n",
            "images/images/raccoon-3.jpg                    2019-04-16 05:22:30        85616\n",
            "images/images/raccoon-30.jpg                   2019-04-16 05:22:30        13118\n",
            "images/images/raccoon-31.jpg                   2019-04-16 05:22:28        12654\n",
            "images/images/raccoon-32.jpg                   2019-04-16 05:22:30        33876\n",
            "images/images/raccoon-33.jpg                   2019-04-16 05:22:30       184438\n",
            "images/images/raccoon-34.jpg                   2019-04-16 05:22:32        14722\n",
            "images/images/raccoon-35.jpg                   2019-04-16 05:22:32        14147\n",
            "images/images/raccoon-36.jpg                   2019-04-16 05:22:32       143833\n",
            "images/images/raccoon-37.jpg                   2019-04-16 05:22:34        35559\n",
            "images/images/raccoon-38.jpg                   2019-04-16 05:22:34        13189\n",
            "images/images/raccoon-39.jpg                   2019-04-16 05:22:36         8436\n",
            "images/images/raccoon-4.jpg                    2019-04-16 05:22:36        30540\n",
            "images/images/raccoon-40.jpg                   2019-04-16 05:22:36        42826\n",
            "images/images/raccoon-41.jpg                   2019-04-16 05:22:36       124874\n",
            "images/images/raccoon-42.jpg                   2019-04-16 05:22:36        78344\n",
            "images/images/raccoon-43.jpg                   2019-04-16 05:22:34        23020\n",
            "images/images/raccoon-44.jpg                   2019-04-16 05:22:36        21410\n",
            "images/images/raccoon-45.jpg                   2019-04-16 05:22:36       102831\n",
            "images/images/raccoon-46.jpg                   2019-04-16 05:22:36        30730\n",
            "images/images/raccoon-47.jpg                   2019-04-16 05:22:38        21044\n",
            "images/images/raccoon-48.jpg                   2019-04-16 05:22:38        28358\n",
            "images/images/raccoon-49.jpg                   2019-04-16 05:22:38        70596\n",
            "images/images/raccoon-5.jpg                    2019-04-16 05:22:38        17400\n",
            "images/images/raccoon-50.jpg                   2019-04-16 05:22:38        23049\n",
            "images/images/raccoon-51.jpg                   2019-04-16 05:22:40       138819\n",
            "images/images/raccoon-52.jpg                   2019-04-16 05:22:42       141878\n",
            "images/images/raccoon-53.jpg                   2019-04-16 05:22:40        12375\n",
            "images/images/raccoon-54.jpg                   2019-04-16 05:22:42        67341\n",
            "images/images/raccoon-55.jpg                   2019-04-16 05:22:42       103548\n",
            "images/images/raccoon-56.jpg                   2019-04-16 05:22:40        28592\n",
            "images/images/raccoon-57.jpg                   2019-04-16 05:22:42       117582\n",
            "images/images/raccoon-58.jpg                   2019-04-16 05:22:42        15770\n",
            "images/images/raccoon-59.jpg                   2019-04-16 05:22:42        87724\n",
            "images/images/raccoon-6.jpg                    2019-04-16 05:22:42        33145\n",
            "images/images/raccoon-60.jpg                   2019-04-16 05:22:44        11964\n",
            "images/images/raccoon-61.jpg                   2019-04-16 05:22:44        24022\n",
            "images/images/raccoon-62.jpg                   2019-04-16 05:22:46        98746\n",
            "images/images/raccoon-63.jpg                   2019-04-16 05:22:46       111481\n",
            "images/images/raccoon-64.jpg                   2019-04-16 05:22:46        18136\n",
            "images/images/raccoon-65.jpg                   2019-04-16 05:22:46        22595\n",
            "images/images/raccoon-66.jpg                   2019-04-16 05:22:46       108048\n",
            "images/images/raccoon-67.jpg                   2019-04-16 05:22:46        23936\n",
            "images/images/raccoon-68.jpg                   2019-04-16 05:22:46        96389\n",
            "images/images/raccoon-69.jpg                   2019-04-16 05:22:46        17359\n",
            "images/images/raccoon-7.jpg                    2019-04-16 05:22:46        61854\n",
            "images/images/raccoon-70.jpg                   2019-04-16 05:22:48        81934\n",
            "images/images/raccoon-71.jpg                   2019-04-16 05:22:48        98257\n",
            "images/images/raccoon-72.jpg                   2019-04-16 05:22:50        75260\n",
            "images/images/raccoon-73.jpg                   2019-04-16 05:22:50        21076\n",
            "images/images/raccoon-74.jpg                   2019-04-16 05:22:50       141878\n",
            "images/images/raccoon-75.jpg                   2019-04-16 05:22:50       226921\n",
            "images/images/raccoon-76.jpg                   2019-04-16 05:22:52        18076\n",
            "images/images/raccoon-77.jpg                   2019-04-16 05:22:52        47992\n",
            "images/images/raccoon-78.jpg                   2019-04-16 05:22:52        13941\n",
            "images/images/raccoon-79.jpg                   2019-04-16 05:22:52       103430\n",
            "images/images/raccoon-8.jpg                    2019-04-16 05:22:52        16667\n",
            "images/images/raccoon-80.jpg                   2019-04-16 05:22:52        14163\n",
            "images/images/raccoon-81.jpg                   2019-04-16 05:22:52       106985\n",
            "images/images/raccoon-82.jpg                   2019-04-16 05:22:54        81553\n",
            "images/images/raccoon-83.jpg                   2019-04-16 05:22:54        43944\n",
            "images/images/raccoon-84.jpg                   2019-04-16 05:22:52        11521\n",
            "images/images/raccoon-85.jpg                   2019-04-16 05:22:56        72369\n",
            "images/images/raccoon-86.jpg                   2019-04-16 05:22:56        41105\n",
            "images/images/raccoon-87.jpg                   2019-04-16 05:22:56        22258\n",
            "images/images/raccoon-88.jpg                   2019-04-16 05:22:58       201214\n",
            "images/images/raccoon-89.jpg                   2019-04-16 05:22:58        14576\n",
            "images/images/raccoon-9.jpg                    2019-04-16 05:22:58       102745\n",
            "images/images/raccoon-90.jpg                   2019-04-16 05:22:56        92866\n",
            "images/images/raccoon-91.jpg                   2019-04-16 05:22:58        37439\n",
            "images/images/raccoon-92.jpg                   2019-04-16 05:22:56       133540\n",
            "images/images/raccoon-93.jpg                   2019-04-16 05:22:58        13345\n",
            "images/images/raccoon-94.jpg                   2019-04-16 05:22:58       151833\n",
            "images/images/raccoon-95.jpg                   2019-04-16 05:23:00        30952\n",
            "images/images/raccoon-96.jpg                   2019-04-16 05:23:00        20668\n",
            "images/images/raccoon-97.jpg                   2019-04-16 05:23:00        82759\n",
            "images/images/raccoon-98.jpg                   2019-04-16 05:23:00        22595\n",
            "images/images/raccoon-99.jpg                   2019-04-16 05:23:02        47711\n",
            "images/raccoon-1.jpg                           2019-04-20 23:22:38        58076\n",
            "images/raccoon-10.jpg                          2019-04-20 23:22:40        70541\n",
            "images/raccoon-100.jpg                         2019-04-20 23:22:40       118176\n",
            "images/raccoon-101.jpg                         2019-04-20 23:22:42       124554\n",
            "images/raccoon-102.jpg                         2019-04-20 23:22:42        17123\n",
            "images/raccoon-103.jpg                         2019-04-20 23:22:42       173619\n",
            "images/raccoon-104.jpg                         2019-04-20 23:22:42        41618\n",
            "images/raccoon-105.jpg                         2019-04-20 23:22:42        99844\n",
            "images/raccoon-106.jpg                         2019-04-20 23:22:42        13337\n",
            "images/raccoon-107.jpg                         2019-04-20 23:22:42        95486\n",
            "images/raccoon-108.jpg                         2019-04-20 23:22:46        92585\n",
            "images/raccoon-109.jpg                         2019-04-20 23:22:48        18709\n",
            "images/raccoon-11.jpg                          2019-04-20 23:22:50       117130\n",
            "images/raccoon-110.jpg                         2019-04-20 23:22:48        13357\n",
            "images/raccoon-111.jpg                         2019-04-20 23:22:50       137606\n",
            "images/raccoon-112.jpg                         2019-04-20 23:22:50       162431\n",
            "images/raccoon-113.jpg                         2019-04-20 23:22:50       249753\n",
            "images/raccoon-114.jpg                         2019-04-20 23:22:50        88708\n",
            "images/raccoon-115.jpg                         2019-04-20 23:22:50       185996\n",
            "images/raccoon-116.jpg                         2019-04-20 23:22:50       117130\n",
            "images/raccoon-117.jpg                         2019-04-20 23:22:52       228589\n",
            "images/raccoon-118.jpg                         2019-04-20 23:22:54        43888\n",
            "images/raccoon-119.jpg                         2019-04-20 23:22:54       117021\n",
            "images/raccoon-12.jpg                          2019-04-20 23:22:54        20197\n",
            "images/raccoon-120.jpg                         2019-04-20 23:22:58        43944\n",
            "images/raccoon-121.jpg                         2019-04-20 23:22:54        40366\n",
            "images/raccoon-122.jpg                         2019-04-20 23:22:54        16375\n",
            "images/raccoon-123.jpg                         2019-04-20 23:22:54        76358\n",
            "images/raccoon-124.jpg                         2019-04-20 23:22:54        13783\n",
            "images/raccoon-125.jpg                         2019-04-20 23:22:54        10228\n",
            "images/raccoon-126.jpg                         2019-04-20 23:23:00        13825\n",
            "images/raccoon-127.jpg                         2019-04-20 23:23:00        12239\n",
            "images/raccoon-128.jpg                         2019-04-20 23:23:00        12469\n",
            "images/raccoon-129.jpg                         2019-04-20 23:23:00        53737\n",
            "images/raccoon-13.jpg                          2019-04-20 23:23:00        36203\n",
            "images/raccoon-130.jpg                         2019-04-20 23:23:04       166203\n",
            "images/raccoon-131.jpg                         2019-04-20 23:23:04         8941\n",
            "images/raccoon-132.jpg                         2019-04-20 23:23:04         9804\n",
            "images/raccoon-133.jpg                         2019-04-20 23:23:04       118657\n",
            "images/raccoon-134.jpg                         2019-04-20 23:23:04        18076\n",
            "images/raccoon-135.jpg                         2019-04-20 23:23:06       131510\n",
            "images/raccoon-136.jpg                         2019-04-20 23:23:08        16647\n",
            "images/raccoon-137.jpg                         2019-04-20 23:23:08        42933\n",
            "images/raccoon-138.jpg                         2019-04-20 23:23:08        18902\n",
            "images/raccoon-139.jpg                         2019-04-20 23:23:08        15716\n",
            "images/raccoon-14.jpg                          2019-04-20 23:23:08       112267\n",
            "images/raccoon-140.jpg                         2019-04-20 23:23:08        14772\n",
            "images/raccoon-141.jpg                         2019-04-20 23:23:08        24739\n",
            "images/raccoon-142.jpg                         2019-04-20 23:23:08       219400\n",
            "images/raccoon-143.jpg                         2019-04-20 23:23:08        10949\n",
            "images/raccoon-144.jpg                         2019-04-20 23:23:14        46055\n",
            "images/raccoon-145.jpg                         2019-04-20 23:23:14       142329\n",
            "images/raccoon-146.jpg                         2019-04-20 23:23:14        23137\n",
            "images/raccoon-147.jpg                         2019-04-20 23:23:16       133818\n",
            "images/raccoon-148.jpg                         2019-04-20 23:23:16        47645\n",
            "images/raccoon-149.jpg                         2019-04-20 23:23:16        16040\n",
            "images/raccoon-15.jpg                          2019-04-20 23:23:16        57461\n",
            "images/raccoon-150.jpg                         2019-04-20 23:23:16         3662\n",
            "images/raccoon-151.jpg                         2019-04-20 23:23:16         7653\n",
            "images/raccoon-152.jpg                         2019-04-20 23:23:16        13280\n",
            "images/raccoon-153.jpg                         2019-04-20 23:23:20       107197\n",
            "images/raccoon-154.jpg                         2019-04-20 23:23:22       107800\n",
            "images/raccoon-155.jpg                         2019-04-20 23:23:22         9874\n",
            "images/raccoon-156.jpg                         2019-04-20 23:23:22        15830\n",
            "images/raccoon-157.jpg                         2019-04-20 23:23:22        12488\n",
            "images/raccoon-158.jpg                         2019-04-20 23:23:22        22077\n",
            "images/raccoon-159.jpg                         2019-04-20 23:23:22         9487\n",
            "images/raccoon-16.jpg                          2019-04-20 23:23:22       103125\n",
            "images/raccoon-160.jpg                         2019-04-20 23:23:22        14434\n",
            "images/raccoon-161.jpg                         2019-04-20 23:23:22        40046\n",
            "images/raccoon-162.jpg                         2019-04-20 23:23:26        22463\n",
            "images/raccoon-163.jpg                         2019-04-20 23:23:28        11224\n",
            "images/raccoon-164.jpg                         2019-04-20 23:23:28        13994\n",
            "images/raccoon-165.jpg                         2019-04-20 23:23:28        11355\n",
            "images/raccoon-166.jpg                         2019-04-20 23:23:30         9499\n",
            "images/raccoon-167.jpg                         2019-04-20 23:23:30        15481\n",
            "images/raccoon-168.jpg                         2019-04-20 23:23:30       109346\n",
            "images/raccoon-169.jpg                         2019-04-20 23:23:30       106262\n",
            "images/raccoon-170.jpg                         2019-04-20 23:23:30        22107\n",
            "images/raccoon-171.jpg                         2019-04-20 23:23:34        14424\n",
            "images/raccoon-172.jpg                         2019-04-20 23:23:34        45168\n",
            "images/raccoon-173.jpg                         2019-04-20 23:23:34        69464\n",
            "images/raccoon-174.jpg                         2019-04-20 23:23:36       181753\n",
            "images/raccoon-175.jpg                         2019-04-20 23:23:34        70335\n",
            "images/raccoon-176.jpg                         2019-04-20 23:23:36       216088\n",
            "images/raccoon-177.jpg                         2019-04-20 23:23:36        17447\n",
            "images/raccoon-178.jpg                         2019-04-20 23:23:36        18459\n",
            "images/raccoon-179.jpg                         2019-04-20 23:23:36       105063\n",
            "images/raccoon-18.jpg                          2019-04-20 23:23:36        18239\n",
            "images/raccoon-180.jpg                         2019-04-20 23:23:40        49407\n",
            "images/raccoon-181.jpg                         2019-04-20 23:23:42       108866\n",
            "images/raccoon-182.jpg                         2019-04-20 23:23:42        76743\n",
            "images/raccoon-183.jpg                         2019-04-20 23:23:44       465820\n",
            "images/raccoon-184.jpg                         2019-04-20 23:23:44        90158\n",
            "images/raccoon-185.jpg                         2019-04-20 23:23:44        16018\n",
            "images/raccoon-186.jpg                         2019-04-20 23:23:44       170403\n",
            "images/raccoon-187.jpg                         2019-04-20 23:23:42        22491\n",
            "images/raccoon-188.jpg                         2019-04-20 23:23:42        37734\n",
            "images/raccoon-189.jpg                         2019-04-20 23:23:44        90321\n",
            "images/raccoon-19.jpg                          2019-04-20 23:23:46        10464\n",
            "images/raccoon-190.jpg                         2019-04-20 23:23:48        16420\n",
            "images/raccoon-191.jpg                         2019-04-20 23:23:48       138321\n",
            "images/raccoon-192.jpg                         2019-04-20 23:23:48        30030\n",
            "images/raccoon-193.jpg                         2019-04-20 23:23:50       127524\n",
            "images/raccoon-194.jpg                         2019-04-20 23:23:50       256794\n",
            "images/raccoon-195.jpg                         2019-04-20 23:23:50        13731\n",
            "images/raccoon-196.jpg                         2019-04-20 23:23:50        12767\n",
            "images/raccoon-197.jpg                         2019-04-20 23:23:50        70606\n",
            "images/raccoon-198.jpg                         2019-04-20 23:23:50        17674\n",
            "images/raccoon-199.jpg                         2019-04-20 23:23:54       154784\n",
            "images/raccoon-2.jpg                           2019-04-20 23:24:00        61817\n",
            "images/raccoon-20.jpg                          2019-04-20 23:24:00       209437\n",
            "images/raccoon-200.jpg                         2019-04-20 23:24:00        13329\n",
            "images/raccoon-21.jpg                          2019-04-20 23:24:00        26496\n",
            "images/raccoon-22.jpg                          2019-04-20 23:24:00       162867\n",
            "images/raccoon-23.jpg                          2019-04-20 23:24:00        18774\n",
            "images/raccoon-24.jpg                          2019-04-20 23:24:00        22094\n",
            "images/raccoon-25.jpg                          2019-04-20 23:24:00       143214\n",
            "images/raccoon-26.jpg                          2019-04-20 23:24:00        42156\n",
            "images/raccoon-27.jpg                          2019-04-20 23:24:04        93914\n",
            "images/raccoon-28.jpg                          2019-04-20 23:24:06       121287\n",
            "images/raccoon-29.jpg                          2019-04-20 23:24:06        16575\n",
            "images/raccoon-3.jpg                           2019-04-20 23:24:06        85616\n",
            "images/raccoon-30.jpg                          2019-04-20 23:24:06        13118\n",
            "images/raccoon-31.jpg                          2019-04-20 23:24:06        12654\n",
            "images/raccoon-32.jpg                          2019-04-20 23:24:06        33876\n",
            "images/raccoon-33.jpg                          2019-04-20 23:24:06       184438\n",
            "images/raccoon-34.jpg                          2019-04-20 23:24:06        14722\n",
            "images/raccoon-35.jpg                          2019-04-20 23:24:06        14147\n",
            "images/raccoon-36.jpg                          2019-04-20 23:24:12       143833\n",
            "images/raccoon-37.jpg                          2019-04-20 23:24:12        35559\n",
            "images/raccoon-38.jpg                          2019-04-20 23:24:16        13189\n",
            "images/raccoon-39.jpg                          2019-04-20 23:24:16         8436\n",
            "images/raccoon-4.jpg                           2019-04-20 23:24:16        30540\n",
            "images/raccoon-40.jpg                          2019-04-20 23:24:16        42826\n",
            "images/raccoon-41.jpg                          2019-04-20 23:24:16       124874\n",
            "images/raccoon-42.jpg                          2019-04-20 23:24:12        78344\n",
            "images/raccoon-43.jpg                          2019-04-20 23:24:12        23020\n",
            "images/raccoon-44.jpg                          2019-04-20 23:24:12        21410\n",
            "images/raccoon-45.jpg                          2019-04-20 23:24:18       102831\n",
            "images/raccoon-46.jpg                          2019-04-20 23:24:20        30730\n",
            "images/raccoon-47.jpg                          2019-04-20 23:24:20        21044\n",
            "images/raccoon-48.jpg                          2019-04-20 23:24:20        28358\n",
            "images/raccoon-49.jpg                          2019-04-20 23:24:20        70596\n",
            "images/raccoon-5.jpg                           2019-04-20 23:24:20        17400\n",
            "images/raccoon-50.jpg                          2019-04-20 23:24:20        23049\n",
            "images/raccoon-51.jpg                          2019-04-20 23:24:20       138819\n",
            "images/raccoon-52.jpg                          2019-04-20 23:24:20       141878\n",
            "images/raccoon-53.jpg                          2019-04-20 23:24:20        12375\n",
            "images/raccoon-54.jpg                          2019-04-20 23:24:24        67341\n",
            "images/raccoon-55.jpg                          2019-04-20 23:24:26       103548\n",
            "images/raccoon-56.jpg                          2019-04-20 23:24:26        28592\n",
            "images/raccoon-57.jpg                          2019-04-20 23:24:28       117582\n",
            "images/raccoon-58.jpg                          2019-04-20 23:24:28        15770\n",
            "images/raccoon-59.jpg                          2019-04-20 23:24:28        87724\n",
            "images/raccoon-6.jpg                           2019-04-20 23:24:28        33145\n",
            "images/raccoon-60.jpg                          2019-04-20 23:24:28        11964\n",
            "images/raccoon-61.jpg                          2019-04-20 23:24:28        24022\n",
            "images/raccoon-62.jpg                          2019-04-20 23:24:28        98746\n",
            "images/raccoon-63.jpg                          2019-04-20 23:24:32       111481\n",
            "images/raccoon-64.jpg                          2019-04-20 23:24:34        18136\n",
            "images/raccoon-65.jpg                          2019-04-20 23:24:34        22595\n",
            "images/raccoon-66.jpg                          2019-04-20 23:24:34       108048\n",
            "images/raccoon-67.jpg                          2019-04-20 23:24:34        23936\n",
            "images/raccoon-68.jpg                          2019-04-20 23:24:34        96389\n",
            "images/raccoon-69.jpg                          2019-04-20 23:24:34        17359\n",
            "images/raccoon-7.jpg                           2019-04-20 23:24:34        61854\n",
            "images/raccoon-70.jpg                          2019-04-20 23:24:34        81934\n",
            "images/raccoon-71.jpg                          2019-04-20 23:24:34        98257\n",
            "images/raccoon-72.jpg                          2019-04-20 23:24:38        75260\n",
            "images/raccoon-73.jpg                          2019-04-20 23:24:40        21076\n",
            "images/raccoon-74.jpg                          2019-04-20 23:24:42       141878\n",
            "images/raccoon-75.jpg                          2019-04-20 23:24:42       226921\n",
            "images/raccoon-76.jpg                          2019-04-20 23:24:40        18076\n",
            "images/raccoon-77.jpg                          2019-04-20 23:24:42        47992\n",
            "images/raccoon-78.jpg                          2019-04-20 23:24:42        13941\n",
            "images/raccoon-79.jpg                          2019-04-20 23:24:42       103430\n",
            "images/raccoon-8.jpg                           2019-04-20 23:24:42        16667\n",
            "images/raccoon-80.jpg                          2019-04-20 23:24:42        14163\n",
            "images/raccoon-81.jpg                          2019-04-20 23:24:44       106985\n",
            "images/raccoon-82.jpg                          2019-04-20 23:24:46        81553\n",
            "images/raccoon-83.jpg                          2019-04-20 23:24:48        43944\n",
            "images/raccoon-84.jpg                          2019-04-20 23:24:48        11521\n",
            "images/raccoon-85.jpg                          2019-04-20 23:24:48        72369\n",
            "images/raccoon-86.jpg                          2019-04-20 23:24:48        41105\n",
            "images/raccoon-87.jpg                          2019-04-20 23:24:48        22258\n",
            "images/raccoon-88.jpg                          2019-04-20 23:24:48       201214\n",
            "images/raccoon-89.jpg                          2019-04-20 23:24:48        14576\n",
            "images/raccoon-9.jpg                           2019-04-20 23:24:48       102745\n",
            "images/raccoon-90.jpg                          2019-04-20 23:24:52        92866\n",
            "images/raccoon-91.jpg                          2019-04-20 23:24:52        37439\n",
            "images/raccoon-92.jpg                          2019-04-20 23:24:54       133540\n",
            "images/raccoon-93.jpg                          2019-04-20 23:24:52        13345\n",
            "images/raccoon-94.jpg                          2019-04-20 23:24:54       151833\n",
            "images/raccoon-95.jpg                          2019-04-20 23:24:54        30952\n",
            "images/raccoon-96.jpg                          2019-04-20 23:24:54        20668\n",
            "images/raccoon-97.jpg                          2019-04-20 23:24:54        82759\n",
            "images/raccoon-98.jpg                          2019-04-20 23:24:54        22595\n",
            "images/raccoon-99.jpg                          2019-04-20 23:24:54        47711\n"
          ],
          "name": "stdout"
        }
      ]
    },
    {
      "cell_type": "markdown",
      "metadata": {
        "id": "wbrrYb5IWGix"
      },
      "source": [
        "### With the help of csv.reader write a for loop which can load the train.csv file and store the path, width, height, x0,y0,x1,y1 in induvidual variables. <br>\n",
        "1. Create a list variable known as 'path' which has all the path for all the training images\n",
        "2. Create an array 'coords' which has the resized coordinates of the bounding box for the training images\n",
        "\n",
        "<u>Note:</u> All the training images should be downsampled to 128 * 128 as it is the input shape of MobileNet (which we will be using for Object detection). Hence the corresponding coordinates of the bounding boxes should be changed to match the image dimension of 128 * 128 "
      ]
    },
    {
      "cell_type": "code",
      "metadata": {
        "id": "uoJb71c7QnJV"
      },
      "source": [
        "from PIL import Image\n",
        "batch_images = np.zeros((len(paths), IMAGE_SIZE, IMAGE_SIZE, 3), dtype=np.float32)"
      ],
      "execution_count": 74,
      "outputs": []
    },
    {
      "cell_type": "code",
      "metadata": {
        "id": "twSTiPpRWGiy"
      },
      "source": [
        "import csv\n",
        "with open('train_labels.csv','r') as csvfile:\n",
        "    paths = []\n",
        "    coords = np.zeros((sum(1 for line in csvfile) - 1, 4))\n",
        "    spamreader = csv.reader(csvfile, delimiter=',')\n",
        "    csvfile.seek(0)\n",
        "    next(spamreader, None)\n",
        "    for i,row in enumerate(spamreader):\n",
        "        #print(row)\n",
        "        for j, r in enumerate(row): # Parse row with seven entities\n",
        "            #print(i)\n",
        "            if((j!= 0) & (j!=3)):\n",
        "                row[j] = int(r)\n",
        "            \n",
        "        #print(row)      \n",
        "        path, width, height, class_, xmin, ymin, xmax, ymax = row\n",
        "        paths.append(path)\n",
        "        #print(i)\n",
        "        coords[i,0] = xmin * IMAGE_SIZE / width\n",
        "        coords[i,1] = ymin * IMAGE_SIZE / height\n",
        "        coords[i,2] = xmax * IMAGE_SIZE / width # Normalize bounding box by image size\n",
        "        coords[i,3] = ymax * IMAGE_SIZE / height"
      ],
      "execution_count": 75,
      "outputs": []
    },
    {
      "cell_type": "markdown",
      "metadata": {
        "id": "Z9iZWEpKWGi2"
      },
      "source": [
        "### Write a for loop which can load all the training images into a variable 'batch_images' using the paths from the 'paths' variable\n",
        "<u>Note:</u> Convert the image to RGB scale as the MobileNet accepts 3 channels as inputs   "
      ]
    },
    {
      "cell_type": "markdown",
      "metadata": {
        "id": "C9KU6pUTWGi9"
      },
      "source": [
        "### Import MobileNet and load MobileNet into a variable named 'model' which takes input shape of 128 * 128 * 3. Freeze all the layers. Add convolution and reshape layers at the end to ensure the output is 4 coordinates"
      ]
    },
    {
      "cell_type": "code",
      "metadata": {
        "id": "nosEtf1lWGi-"
      },
      "source": [
        "ALPHA = 1.0"
      ],
      "execution_count": 76,
      "outputs": []
    },
    {
      "cell_type": "code",
      "metadata": {
        "id": "PvUM9qOzV0OG"
      },
      "source": [
        "model = MobileNet(input_shape=(IMAGE_SIZE, IMAGE_SIZE, 3), include_top=False, alpha=ALPHA) # Load pre-trained mobilenet\n",
        "# Do not include classification (top) layer\n",
        "\n",
        "# to freeze layers, except the new top layer, of course, which will be added below\n",
        "for layer in model.layers:\n",
        "    layer.trainable = False\n",
        "\n",
        "# Add new top layer which is a conv layer of the same size as the previous layer so that only 4 coords of BBox can be output\n",
        "x = model.layers[-1].output\n",
        "x = Conv2D(4, kernel_size=4, name=\"coords\")(x)\n",
        "# In the line above kernel size should be 3 for img size 96, 4 for img size 128, 5 for img size 160 etc.\n",
        "x = Reshape((4,))(x) # These are the 4 predicted coordinates of one BBox\n",
        "\n",
        "model = Model(inputs=model.input, outputs=x)"
      ],
      "execution_count": 77,
      "outputs": []
    },
    {
      "cell_type": "markdown",
      "metadata": {
        "id": "nsQSHWgpWGjC"
      },
      "source": [
        "### Define a custom loss function IoU which calculates Intersection Over Union"
      ]
    },
    {
      "cell_type": "code",
      "metadata": {
        "id": "7Ig_Gsn-WGjD"
      },
      "source": [
        "def loss(gt,pred):\n",
        "    intersections = 0\n",
        "    unions = 0\n",
        "    diff_width = np.minimum(gt[:,0] + gt[:,2], pred[:,0] + pred[:,2]) - np.maximum(gt[:,0], pred[:,0])\n",
        "    diff_height = np.minimum(gt[:,1] + gt[:,3], pred[:,1] + pred[:,3]) - np.maximum(gt[:,1], pred[:,1])\n",
        "    intersection = diff_width * diff_height\n",
        "    \n",
        "    # Compute union\n",
        "    area_gt = gt[:,2] * gt[:,3]\n",
        "    area_pred = pred[:,2] * pred[:,3]\n",
        "    union = area_gt + area_pred - intersection\n",
        "\n",
        "#     Compute intersection and union over multiple boxes\n",
        "    for j, _ in enumerate(union):\n",
        "        if union[j] > 0 and intersection[j] > 0 and union[j] >= intersection[j]:\n",
        "            intersections += intersection[j]\n",
        "            unions += union[j]\n",
        "\n",
        "    # Compute IOU. Use epsilon to prevent division by zero\n",
        "    iou = np.round(intersections / (unions + epsilon()), 4)\n",
        "    iou = iou.astype(np.float32)\n",
        "    return iou\n",
        "\n",
        "def IoU(y_true, y_pred):\n",
        "    iou = tf.py_function(loss, [y_true, y_pred], tf.float32)\n",
        "    return iou"
      ],
      "execution_count": 84,
      "outputs": []
    },
    {
      "cell_type": "code",
      "metadata": {
        "id": "qd_TWvjfWh4E"
      },
      "source": [
        "PATIENCE = 10"
      ],
      "execution_count": 85,
      "outputs": []
    },
    {
      "cell_type": "markdown",
      "metadata": {
        "id": "2Zs7VcSVWGjF"
      },
      "source": [
        "### Write model.compile function & model.fit function with: <br>\n",
        "1. Optimizer = Adam, Loss = 'mse' and metrics = IoU\n",
        "2. Epochs = 30, batch_size = 32, verbose = 1"
      ]
    },
    {
      "cell_type": "code",
      "metadata": {
        "id": "f35dLEJlWGjG",
        "colab": {
          "base_uri": "https://localhost:8080/"
        },
        "outputId": "fbcd292b-9bfd-4597-e3c2-f96352277fc9"
      },
      "source": [
        "gt = coords\n",
        "len(batch_images)\n",
        "print(len(coords))\n",
        "model.compile(optimizer='Adam', loss='mse', metrics=[IoU]) # Regression loss is MSE\n",
        "\n",
        "checkpoint = ModelCheckpoint(\"model-{val_iou:.2f}.h5\", verbose=1, save_best_only=True,\n",
        "                              save_weights_only=True, mode=\"max\", period=1) # Checkpoint best validation model\n",
        "stop = EarlyStopping(monitor=\"val_iou\", patience=PATIENCE, mode=\"max\") # Stop early, if the validation error deteriorates\n",
        "reduce_lr = ReduceLROnPlateau(monitor=\"val_iou\", factor=0.2, patience=10, min_lr=1e-7, verbose=1, mode=\"max\")\n",
        "# Reduce learning rate if Validation IOU does not improve\n",
        "\n",
        "model.fit(batch_images,gt, epochs=30,batch_size = 32, verbose=1)"
      ],
      "execution_count": 86,
      "outputs": [
        {
          "output_type": "stream",
          "text": [
            "173\n",
            "WARNING:tensorflow:`period` argument is deprecated. Please use `save_freq` to specify the frequency in number of batches seen.\n",
            "Epoch 1/30\n",
            "6/6 [==============================] - 2s 298ms/step - loss: 6007.9131 - IoU: 0.0327\n",
            "Epoch 2/30\n",
            "6/6 [==============================] - 2s 301ms/step - loss: 5252.8022 - IoU: 0.0230\n",
            "Epoch 3/30\n",
            "6/6 [==============================] - 2s 302ms/step - loss: 4579.5806 - IoU: 0.0203\n",
            "Epoch 4/30\n",
            "6/6 [==============================] - 2s 301ms/step - loss: 3994.4246 - IoU: 0.0314\n",
            "Epoch 5/30\n",
            "6/6 [==============================] - 2s 299ms/step - loss: 3474.8503 - IoU: 0.0525\n",
            "Epoch 6/30\n",
            "6/6 [==============================] - 2s 301ms/step - loss: 3014.1150 - IoU: 0.0783\n",
            "Epoch 7/30\n",
            "6/6 [==============================] - 2s 297ms/step - loss: 2601.3789 - IoU: 0.1070\n",
            "Epoch 8/30\n",
            "6/6 [==============================] - 2s 304ms/step - loss: 2238.3672 - IoU: 0.1359\n",
            "Epoch 9/30\n",
            "6/6 [==============================] - 2s 302ms/step - loss: 1922.4111 - IoU: 0.1715\n",
            "Epoch 10/30\n",
            "6/6 [==============================] - 2s 306ms/step - loss: 1646.5609 - IoU: 0.2027\n",
            "Epoch 11/30\n",
            "6/6 [==============================] - 2s 300ms/step - loss: 1415.9766 - IoU: 0.2369\n",
            "Epoch 12/30\n",
            "6/6 [==============================] - 2s 301ms/step - loss: 1211.9651 - IoU: 0.2745\n",
            "Epoch 13/30\n",
            "6/6 [==============================] - 2s 300ms/step - loss: 1045.0684 - IoU: 0.3067\n",
            "Epoch 14/30\n",
            "6/6 [==============================] - 2s 301ms/step - loss: 902.4528 - IoU: 0.3381\n",
            "Epoch 15/30\n",
            "6/6 [==============================] - 2s 306ms/step - loss: 786.5634 - IoU: 0.3632\n",
            "Epoch 16/30\n",
            "6/6 [==============================] - 2s 300ms/step - loss: 687.3549 - IoU: 0.3935\n",
            "Epoch 17/30\n",
            "6/6 [==============================] - 2s 300ms/step - loss: 610.4400 - IoU: 0.4229\n",
            "Epoch 18/30\n",
            "6/6 [==============================] - 2s 297ms/step - loss: 546.5914 - IoU: 0.4410\n",
            "Epoch 19/30\n",
            "6/6 [==============================] - 2s 299ms/step - loss: 496.2960 - IoU: 0.4640\n",
            "Epoch 20/30\n",
            "6/6 [==============================] - 2s 301ms/step - loss: 456.4567 - IoU: 0.4766\n",
            "Epoch 21/30\n",
            "6/6 [==============================] - 2s 302ms/step - loss: 423.2661 - IoU: 0.4978\n",
            "Epoch 22/30\n",
            "6/6 [==============================] - 2s 301ms/step - loss: 399.2122 - IoU: 0.5048\n",
            "Epoch 23/30\n",
            "6/6 [==============================] - 2s 302ms/step - loss: 380.1595 - IoU: 0.5166\n",
            "Epoch 24/30\n",
            "6/6 [==============================] - 2s 303ms/step - loss: 365.5861 - IoU: 0.5360\n",
            "Epoch 25/30\n",
            "6/6 [==============================] - 2s 298ms/step - loss: 353.8567 - IoU: 0.5484\n",
            "Epoch 26/30\n",
            "6/6 [==============================] - 2s 303ms/step - loss: 345.1470 - IoU: 0.5457\n",
            "Epoch 27/30\n",
            "6/6 [==============================] - 2s 299ms/step - loss: 339.3193 - IoU: 0.5384\n",
            "Epoch 28/30\n",
            "6/6 [==============================] - 2s 299ms/step - loss: 334.5115 - IoU: 0.5437\n",
            "Epoch 29/30\n",
            "6/6 [==============================] - 2s 302ms/step - loss: 330.9314 - IoU: 0.5605\n",
            "Epoch 30/30\n",
            "6/6 [==============================] - 2s 298ms/step - loss: 328.9691 - IoU: 0.5610\n"
          ],
          "name": "stdout"
        },
        {
          "output_type": "execute_result",
          "data": {
            "text/plain": [
              "<tensorflow.python.keras.callbacks.History at 0x7f825d8dfb70>"
            ]
          },
          "metadata": {
            "tags": []
          },
          "execution_count": 86
        }
      ]
    },
    {
      "cell_type": "markdown",
      "metadata": {
        "id": "II1itmqiWGjK"
      },
      "source": [
        "### Pick a test image from the given data"
      ]
    },
    {
      "cell_type": "code",
      "metadata": {
        "id": "0ULErYeSWGjK"
      },
      "source": [
        "import cv2\n",
        "filename = 'images/raccoon-15.jpg'\n",
        "unscaled = cv2.imread(filename)"
      ],
      "execution_count": 87,
      "outputs": []
    },
    {
      "cell_type": "markdown",
      "metadata": {
        "id": "h99SC9MjWGjO"
      },
      "source": [
        "### Resize the image to 128 * 128 and preprocess the image for the MobileNet model"
      ]
    },
    {
      "cell_type": "code",
      "metadata": {
        "id": "J3jbKm7_WGjP",
        "colab": {
          "base_uri": "https://localhost:8080/",
          "height": 215
        },
        "outputId": "991acb36-04d6-4329-8028-1da765974161"
      },
      "source": [
        "nimage_height, image_width, _ = unscaled.shape\n",
        "image = cv2.resize(unscaled, (IMAGE_SIZE, IMAGE_SIZE)) # Rescaled image to run the network\n",
        "feat_scaled = preprocess_input(np.array(image, dtype=np.float32))"
      ],
      "execution_count": 96,
      "outputs": [
        {
          "output_type": "error",
          "ename": "error",
          "evalue": "ignored",
          "traceback": [
            "\u001b[0;31m---------------------------------------------------------------------------\u001b[0m",
            "\u001b[0;31merror\u001b[0m                                     Traceback (most recent call last)",
            "\u001b[0;32m<ipython-input-96-65f0795ac267>\u001b[0m in \u001b[0;36m<module>\u001b[0;34m()\u001b[0m\n\u001b[1;32m      1\u001b[0m \u001b[0;31m#image_height, image_width, _ = unscaled.shape\u001b[0m\u001b[0;34m\u001b[0m\u001b[0;34m\u001b[0m\u001b[0;34m\u001b[0m\u001b[0m\n\u001b[0;32m----> 2\u001b[0;31m \u001b[0mimage\u001b[0m \u001b[0;34m=\u001b[0m \u001b[0mcv2\u001b[0m\u001b[0;34m.\u001b[0m\u001b[0mresize\u001b[0m\u001b[0;34m(\u001b[0m\u001b[0munscaled\u001b[0m\u001b[0;34m,\u001b[0m \u001b[0;34m(\u001b[0m\u001b[0mIMAGE_SIZE\u001b[0m\u001b[0;34m,\u001b[0m \u001b[0mIMAGE_SIZE\u001b[0m\u001b[0;34m)\u001b[0m\u001b[0;34m)\u001b[0m \u001b[0;31m# Rescaled image to run the network\u001b[0m\u001b[0;34m\u001b[0m\u001b[0;34m\u001b[0m\u001b[0m\n\u001b[0m\u001b[1;32m      3\u001b[0m \u001b[0mfeat_scaled\u001b[0m \u001b[0;34m=\u001b[0m \u001b[0mpreprocess_input\u001b[0m\u001b[0;34m(\u001b[0m\u001b[0mnp\u001b[0m\u001b[0;34m.\u001b[0m\u001b[0marray\u001b[0m\u001b[0;34m(\u001b[0m\u001b[0mimage\u001b[0m\u001b[0;34m,\u001b[0m \u001b[0mdtype\u001b[0m\u001b[0;34m=\u001b[0m\u001b[0mnp\u001b[0m\u001b[0;34m.\u001b[0m\u001b[0mfloat32\u001b[0m\u001b[0;34m)\u001b[0m\u001b[0;34m)\u001b[0m\u001b[0;34m\u001b[0m\u001b[0;34m\u001b[0m\u001b[0m\n",
            "\u001b[0;31merror\u001b[0m: OpenCV(4.1.2) /io/opencv/modules/imgproc/src/resize.cpp:3720: error: (-215:Assertion failed) !ssize.empty() in function 'resize'\n"
          ]
        }
      ]
    },
    {
      "cell_type": "markdown",
      "metadata": {
        "id": "aGK4IjdaWGjR"
      },
      "source": [
        "### Predict the coordinates of the bounding box for the given test image"
      ]
    },
    {
      "cell_type": "code",
      "metadata": {
        "id": "abnXH5F7WGjS",
        "colab": {
          "base_uri": "https://localhost:8080/",
          "height": 164
        },
        "outputId": "fef44463-502e-46e7-fa18-26896e90eda1"
      },
      "source": [
        "region = model.predict(x=np.array([feat_scaled]))[0]"
      ],
      "execution_count": 94,
      "outputs": [
        {
          "output_type": "error",
          "ename": "NameError",
          "evalue": "ignored",
          "traceback": [
            "\u001b[0;31m---------------------------------------------------------------------------\u001b[0m",
            "\u001b[0;31mNameError\u001b[0m                                 Traceback (most recent call last)",
            "\u001b[0;32m<ipython-input-94-4edd8bd48baa>\u001b[0m in \u001b[0;36m<module>\u001b[0;34m()\u001b[0m\n\u001b[0;32m----> 1\u001b[0;31m \u001b[0mregion\u001b[0m \u001b[0;34m=\u001b[0m \u001b[0mmodel\u001b[0m\u001b[0;34m.\u001b[0m\u001b[0mpredict\u001b[0m\u001b[0;34m(\u001b[0m\u001b[0mx\u001b[0m\u001b[0;34m=\u001b[0m\u001b[0mnp\u001b[0m\u001b[0;34m.\u001b[0m\u001b[0marray\u001b[0m\u001b[0;34m(\u001b[0m\u001b[0;34m[\u001b[0m\u001b[0mfeat_scaled\u001b[0m\u001b[0;34m]\u001b[0m\u001b[0;34m)\u001b[0m\u001b[0;34m)\u001b[0m\u001b[0;34m[\u001b[0m\u001b[0;36m0\u001b[0m\u001b[0;34m]\u001b[0m\u001b[0;34m\u001b[0m\u001b[0;34m\u001b[0m\u001b[0m\n\u001b[0m",
            "\u001b[0;31mNameError\u001b[0m: name 'feat_scaled' is not defined"
          ]
        }
      ]
    },
    {
      "cell_type": "code",
      "metadata": {
        "id": "f60F9vfTtH2r"
      },
      "source": [
        "x0 = int(region[0] * image_width / IMAGE_SIZE) # Scale the BBox\n",
        "y0 = int(region[1] * image_height / IMAGE_SIZE)\n",
        "\n",
        "x1 = int((region[2]) * image_width / IMAGE_SIZE)\n",
        "y1 = int((region[3]) * image_height / IMAGE_SIZE)"
      ],
      "execution_count": null,
      "outputs": []
    },
    {
      "cell_type": "markdown",
      "metadata": {
        "id": "CXbjVdLWWGjW"
      },
      "source": [
        "### Plot the test image using .imshow and draw a boundary box around the image with the coordinates obtained from the model"
      ]
    },
    {
      "cell_type": "code",
      "metadata": {
        "id": "t4Ah05MlWGjY"
      },
      "source": [
        "x0 = int(region[0] * image_width / IMAGE_SIZE) # Scale the BBox\n",
        "y0 = int(region[1] * image_height / IMAGE_SIZE)\n",
        "\n",
        "x1 = int((region[2]) * image_width / IMAGE_SIZE)\n",
        "y1 = int((region[3]) * image_height / IMAGE_SIZE)\n",
        "\n",
        "\n",
        "import matplotlib.pyplot as plt\n",
        "import matplotlib.patches as patches\n",
        "from PIL import Image\n",
        "import numpy as np\n",
        "\n",
        "\n",
        "# Create figure and axes\n",
        "fig,ax = plt.subplots(1)\n",
        "\n",
        "# Display the image\n",
        "ax.imshow(unscaled)\n",
        "\n",
        "# Create a Rectangle patch\n",
        "rect = patches.Rectangle((x0, y0), (x1 - x0) , (y1 - y0) , linewidth=2, edgecolor='r', facecolor='none')\n",
        "\n",
        "# Add the patch to the Axes\n",
        "ax.add_patch(rect)\n",
        "\n",
        "plt.show()"
      ],
      "execution_count": null,
      "outputs": []
    },
    {
      "cell_type": "code",
      "metadata": {
        "id": "FHbIWp-D7Jyn"
      },
      "source": [
        ""
      ],
      "execution_count": null,
      "outputs": []
    }
  ]
}