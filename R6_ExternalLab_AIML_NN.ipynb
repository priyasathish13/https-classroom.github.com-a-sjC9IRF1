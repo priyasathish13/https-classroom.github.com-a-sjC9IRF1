{
  "nbformat": 4,
  "nbformat_minor": 0,
  "metadata": {
    "colab": {
      "name": "R6_ExternalLab_AIML-1.ipynb",
      "provenance": []
    },
    "kernelspec": {
      "display_name": "Python 2",
      "language": "python",
      "name": "python2"
    }
  },
  "cells": [
    {
      "cell_type": "markdown",
      "metadata": {
        "id": "YYk8NG3yOIT9",
        "colab_type": "text"
      },
      "source": [
        "### A MNIST-like fashion product database\n",
        "\n",
        "In this, we classify the images into respective classes given in the dataset. We use a Neural Net and a Deep Neural Net in Keras to solve this and check the accuracy scores."
      ]
    },
    {
      "cell_type": "markdown",
      "metadata": {
        "id": "tFO6PuxzOIT_",
        "colab_type": "text"
      },
      "source": [
        "### Load tensorflow"
      ]
    },
    {
      "cell_type": "code",
      "metadata": {
        "id": "efNjNImfOIUC",
        "colab_type": "code",
        "outputId": "fcb98bb3-fbc4-4de5-8a1b-046dc00e64af",
        "colab": {
          "base_uri": "https://localhost:8080/",
          "height": 63
        }
      },
      "source": [
        "import tensorflow as tf\n",
        "tf.set_random_seed(42)"
      ],
      "execution_count": 0,
      "outputs": [
        {
          "output_type": "display_data",
          "data": {
            "text/plain": [
              "<IPython.core.display.HTML object>"
            ],
            "text/html": [
              "<p style=\"color: red;\">\n",
              "The default version of TensorFlow in Colab will soon switch to TensorFlow 2.x.<br>\n",
              "We recommend you <a href=\"https://www.tensorflow.org/guide/migrate\" target=\"_blank\">upgrade</a> now \n",
              "or ensure your notebook will continue to use TensorFlow 1.x via the <code>%tensorflow_version 1.x</code> magic:\n",
              "<a href=\"https://colab.research.google.com/notebooks/tensorflow_version.ipynb\" target=\"_blank\">more info</a>.</p>\n"
            ]
          },
          "metadata": {
            "tags": []
          }
        }
      ]
    },
    {
      "cell_type": "code",
      "metadata": {
        "id": "bCyH5izofDMG",
        "colab_type": "code",
        "outputId": "9660630e-33a3-4605-c11a-c7d72e4c8d86",
        "colab": {
          "base_uri": "https://localhost:8080/",
          "height": 1000
        }
      },
      "source": [
        "!pip install tensorflow==2.0.0"
      ],
      "execution_count": 0,
      "outputs": [
        {
          "output_type": "stream",
          "text": [
            "Collecting tensorflow==2.0.0\n",
            "\u001b[?25l  Downloading https://files.pythonhosted.org/packages/17/08/1ff15637a03b1565dd6cb0916b3ca6873db3a1fc69be0ed851be936e5633/tensorflow-2.0.0-cp27-cp27mu-manylinux2010_x86_64.whl (86.3MB)\n",
            "\u001b[K     |████████████████████████████████| 86.3MB 63kB/s \n",
            "\u001b[?25hRequirement already satisfied: gast==0.2.2 in /usr/local/lib/python2.7/dist-packages (from tensorflow==2.0.0) (0.2.2)\n",
            "Requirement already satisfied: grpcio>=1.8.6 in /usr/local/lib/python2.7/dist-packages (from tensorflow==2.0.0) (1.15.0)\n",
            "Requirement already satisfied: numpy<2.0,>=1.16.0 in /usr/local/lib/python2.7/dist-packages (from tensorflow==2.0.0) (1.16.4)\n",
            "Collecting tensorboard<2.1.0,>=2.0.0\n",
            "\u001b[?25l  Downloading https://files.pythonhosted.org/packages/a7/3d/993131c622ae34f9401a81526853f2310a4834bd042420a7982fb5bc5fd0/tensorboard-2.0.2-py2-none-any.whl (3.8MB)\n",
            "\u001b[K     |████████████████████████████████| 3.8MB 52.7MB/s \n",
            "\u001b[?25hRequirement already satisfied: functools32>=3.2.3 in /usr/local/lib/python2.7/dist-packages (from tensorflow==2.0.0) (3.2.3.post2)\n",
            "Requirement already satisfied: wrapt>=1.11.1 in /usr/local/lib/python2.7/dist-packages (from tensorflow==2.0.0) (1.11.2)\n",
            "Requirement already satisfied: protobuf>=3.6.1 in /usr/local/lib/python2.7/dist-packages (from tensorflow==2.0.0) (3.7.1)\n",
            "Requirement already satisfied: keras-preprocessing>=1.0.5 in /usr/local/lib/python2.7/dist-packages (from tensorflow==2.0.0) (1.1.0)\n",
            "Requirement already satisfied: backports.weakref>=1.0rc1; python_version < \"3.4\" in /usr/local/lib/python2.7/dist-packages (from tensorflow==2.0.0) (1.0.post1)\n",
            "Requirement already satisfied: keras-applications>=1.0.8 in /usr/local/lib/python2.7/dist-packages (from tensorflow==2.0.0) (1.0.8)\n",
            "Requirement already satisfied: wheel in /usr/local/lib/python2.7/dist-packages (from tensorflow==2.0.0) (0.34.2)\n",
            "Requirement already satisfied: mock>=2.0.0 in /usr/local/lib/python2.7/dist-packages (from tensorflow==2.0.0) (2.0.0)\n",
            "Requirement already satisfied: six>=1.10.0 in /usr/local/lib/python2.7/dist-packages (from tensorflow==2.0.0) (1.12.0)\n",
            "Requirement already satisfied: absl-py>=0.7.0 in /usr/local/lib/python2.7/dist-packages (from tensorflow==2.0.0) (0.7.1)\n",
            "Requirement already satisfied: opt-einsum>=2.3.2 in /usr/local/lib/python2.7/dist-packages (from tensorflow==2.0.0) (2.3.2)\n",
            "Requirement already satisfied: termcolor>=1.1.0 in /usr/local/lib/python2.7/dist-packages (from tensorflow==2.0.0) (1.1.0)\n",
            "Requirement already satisfied: google-pasta>=0.1.6 in /usr/local/lib/python2.7/dist-packages (from tensorflow==2.0.0) (0.1.7)\n",
            "Requirement already satisfied: enum34>=1.1.6; python_version < \"3.4\" in /usr/local/lib/python2.7/dist-packages (from tensorflow==2.0.0) (1.1.6)\n",
            "Collecting tensorflow-estimator<2.1.0,>=2.0.0\n",
            "\u001b[?25l  Downloading https://files.pythonhosted.org/packages/fc/08/8b927337b7019c374719145d1dceba21a8bb909b93b1ad6f8fb7d22c1ca1/tensorflow_estimator-2.0.1-py2.py3-none-any.whl (449kB)\n",
            "\u001b[K     |████████████████████████████████| 450kB 44.2MB/s \n",
            "\u001b[?25hRequirement already satisfied: astor>=0.6.0 in /usr/local/lib/python2.7/dist-packages (from tensorflow==2.0.0) (0.8.0)\n",
            "Requirement already satisfied: futures>=2.2.0 in /usr/local/lib/python2.7/dist-packages (from grpcio>=1.8.6->tensorflow==2.0.0) (3.2.0)\n",
            "Requirement already satisfied: setuptools>=41.0.0 in /usr/local/lib/python2.7/dist-packages (from tensorboard<2.1.0,>=2.0.0->tensorflow==2.0.0) (44.0.0)\n",
            "Collecting google-auth-oauthlib<0.5,>=0.4.1\n",
            "  Downloading https://files.pythonhosted.org/packages/7b/b8/88def36e74bee9fce511c9519571f4e485e890093ab7442284f4ffaef60b/google_auth_oauthlib-0.4.1-py2.py3-none-any.whl\n",
            "Requirement already satisfied: werkzeug>=0.11.15 in /usr/local/lib/python2.7/dist-packages (from tensorboard<2.1.0,>=2.0.0->tensorflow==2.0.0) (0.15.5)\n",
            "Requirement already satisfied: google-auth<2,>=1.6.3 in /usr/local/lib/python2.7/dist-packages (from tensorboard<2.1.0,>=2.0.0->tensorflow==2.0.0) (1.7.2)\n",
            "Requirement already satisfied: requests<3,>=2.21.0 in /usr/local/lib/python2.7/dist-packages (from tensorboard<2.1.0,>=2.0.0->tensorflow==2.0.0) (2.21.0)\n",
            "Requirement already satisfied: markdown>=2.6.8 in /usr/local/lib/python2.7/dist-packages (from tensorboard<2.1.0,>=2.0.0->tensorflow==2.0.0) (3.1.1)\n",
            "Requirement already satisfied: h5py in /usr/local/lib/python2.7/dist-packages (from keras-applications>=1.0.8->tensorflow==2.0.0) (2.8.0)\n",
            "Requirement already satisfied: funcsigs>=1; python_version < \"3.3\" in /usr/local/lib/python2.7/dist-packages (from mock>=2.0.0->tensorflow==2.0.0) (1.0.2)\n",
            "Requirement already satisfied: pbr>=0.11 in /usr/local/lib/python2.7/dist-packages (from mock>=2.0.0->tensorflow==2.0.0) (5.4.0)\n",
            "Requirement already satisfied: requests-oauthlib>=0.7.0 in /usr/local/lib/python2.7/dist-packages (from google-auth-oauthlib<0.5,>=0.4.1->tensorboard<2.1.0,>=2.0.0->tensorflow==2.0.0) (1.2.0)\n",
            "Requirement already satisfied: pyasn1-modules>=0.2.1 in /usr/local/lib/python2.7/dist-packages (from google-auth<2,>=1.6.3->tensorboard<2.1.0,>=2.0.0->tensorflow==2.0.0) (0.2.5)\n",
            "Requirement already satisfied: cachetools<3.2,>=2.0.0 in /usr/local/lib/python2.7/dist-packages (from google-auth<2,>=1.6.3->tensorboard<2.1.0,>=2.0.0->tensorflow==2.0.0) (3.1.1)\n",
            "Requirement already satisfied: rsa<4.1,>=3.1.4 in /usr/local/lib/python2.7/dist-packages (from google-auth<2,>=1.6.3->tensorboard<2.1.0,>=2.0.0->tensorflow==2.0.0) (4.0)\n",
            "Requirement already satisfied: urllib3<1.25,>=1.21.1 in /usr/local/lib/python2.7/dist-packages (from requests<3,>=2.21.0->tensorboard<2.1.0,>=2.0.0->tensorflow==2.0.0) (1.24.3)\n",
            "Requirement already satisfied: certifi>=2017.4.17 in /usr/local/lib/python2.7/dist-packages (from requests<3,>=2.21.0->tensorboard<2.1.0,>=2.0.0->tensorflow==2.0.0) (2019.6.16)\n",
            "Requirement already satisfied: chardet<3.1.0,>=3.0.2 in /usr/local/lib/python2.7/dist-packages (from requests<3,>=2.21.0->tensorboard<2.1.0,>=2.0.0->tensorflow==2.0.0) (3.0.4)\n",
            "Requirement already satisfied: idna<2.9,>=2.5 in /usr/local/lib/python2.7/dist-packages (from requests<3,>=2.21.0->tensorboard<2.1.0,>=2.0.0->tensorflow==2.0.0) (2.8)\n",
            "Requirement already satisfied: oauthlib>=3.0.0 in /usr/local/lib/python2.7/dist-packages (from requests-oauthlib>=0.7.0->google-auth-oauthlib<0.5,>=0.4.1->tensorboard<2.1.0,>=2.0.0->tensorflow==2.0.0) (3.0.2)\n",
            "Requirement already satisfied: pyasn1<0.5.0,>=0.4.1 in /usr/local/lib/python2.7/dist-packages (from pyasn1-modules>=0.2.1->google-auth<2,>=1.6.3->tensorboard<2.1.0,>=2.0.0->tensorflow==2.0.0) (0.4.5)\n",
            "\u001b[31mERROR: tensorboard 2.0.2 has requirement grpcio>=1.24.3, but you'll have grpcio 1.15.0 which is incompatible.\u001b[0m\n",
            "Installing collected packages: google-auth-oauthlib, tensorboard, tensorflow-estimator, tensorflow\n",
            "  Found existing installation: google-auth-oauthlib 0.4.0\n",
            "    Uninstalling google-auth-oauthlib-0.4.0:\n",
            "      Successfully uninstalled google-auth-oauthlib-0.4.0\n",
            "  Found existing installation: tensorboard 1.15.0\n",
            "    Uninstalling tensorboard-1.15.0:\n",
            "      Successfully uninstalled tensorboard-1.15.0\n",
            "  Found existing installation: tensorflow-estimator 1.15.0\n",
            "    Uninstalling tensorflow-estimator-1.15.0:\n",
            "      Successfully uninstalled tensorflow-estimator-1.15.0\n",
            "  Found existing installation: tensorflow 1.15.0\n",
            "    Uninstalling tensorflow-1.15.0:\n",
            "      Successfully uninstalled tensorflow-1.15.0\n",
            "Successfully installed google-auth-oauthlib-0.4.1 tensorboard-2.0.2 tensorflow-2.0.0 tensorflow-estimator-2.0.1\n"
          ],
          "name": "stdout"
        }
      ]
    },
    {
      "cell_type": "code",
      "metadata": {
        "id": "l9C4aAIGOIUH",
        "colab_type": "code",
        "outputId": "e9f9a638-afaa-4737-e66b-3d0283821063",
        "colab": {
          "base_uri": "https://localhost:8080/",
          "height": 34
        }
      },
      "source": [
        " import tensorflow as tf\n",
        " tf.__version__"
      ],
      "execution_count": 0,
      "outputs": [
        {
          "output_type": "execute_result",
          "data": {
            "text/plain": [
              "'2.0.0'"
            ]
          },
          "metadata": {
            "tags": []
          },
          "execution_count": 1
        }
      ]
    },
    {
      "cell_type": "markdown",
      "metadata": {
        "id": "HcoZBStrOIUQ",
        "colab_type": "text"
      },
      "source": [
        "### Collect Data"
      ]
    },
    {
      "cell_type": "code",
      "metadata": {
        "id": "XA1WsFSeOIUS",
        "colab_type": "code",
        "outputId": "6d8468b3-7f7a-4c2d-d8ed-8b525129bd52",
        "colab": {
          "base_uri": "https://localhost:8080/",
          "height": 34
        }
      },
      "source": [
        "from keras.datasets import fashion_mnist"
      ],
      "execution_count": 0,
      "outputs": [
        {
          "output_type": "stream",
          "text": [
            "Using TensorFlow backend.\n"
          ],
          "name": "stderr"
        }
      ]
    },
    {
      "cell_type": "code",
      "metadata": {
        "id": "qnbx7TyQOIUY",
        "colab_type": "code",
        "outputId": "c68f685b-c4a6-4e48-b694-c2d32495d4e2",
        "colab": {
          "base_uri": "https://localhost:8080/",
          "height": 204
        }
      },
      "source": [
        "(x_train, y_train), (x_test, y_test) = fashion_mnist.load_data()\n",
        "#trainX = trainX.astype(float)\n",
        "#trainY = trainY.astype(float)\n",
        "#testX = testx.astype(float)\n",
        "#testY = testy.astype(float)"
      ],
      "execution_count": 0,
      "outputs": [
        {
          "output_type": "stream",
          "text": [
            "Downloading data from http://fashion-mnist.s3-website.eu-central-1.amazonaws.com/train-labels-idx1-ubyte.gz\n",
            "32768/29515 [=================================] - 0s 4us/step\n",
            "40960/29515 [=========================================] - 0s 4us/step\n",
            "Downloading data from http://fashion-mnist.s3-website.eu-central-1.amazonaws.com/train-images-idx3-ubyte.gz\n",
            "26427392/26421880 [==============================] - 2s 0us/step\n",
            "26435584/26421880 [==============================] - 2s 0us/step\n",
            "Downloading data from http://fashion-mnist.s3-website.eu-central-1.amazonaws.com/t10k-labels-idx1-ubyte.gz\n",
            "16384/5148 [===============================================================================================] - 0s 0us/step\n",
            "Downloading data from http://fashion-mnist.s3-website.eu-central-1.amazonaws.com/t10k-images-idx3-ubyte.gz\n",
            "4423680/4422102 [==============================] - 1s 0us/step\n",
            "4431872/4422102 [==============================] - 1s 0us/step\n"
          ],
          "name": "stdout"
        }
      ]
    },
    {
      "cell_type": "code",
      "metadata": {
        "id": "G1PDbUf2_JSR",
        "colab_type": "code",
        "outputId": "53123373-0af1-4926-e814-82509f1cd059",
        "colab": {
          "base_uri": "https://localhost:8080/",
          "height": 34
        }
      },
      "source": [
        "x_train.shape\n"
      ],
      "execution_count": 0,
      "outputs": [
        {
          "output_type": "execute_result",
          "data": {
            "text/plain": [
              "(60000, 28, 28)"
            ]
          },
          "metadata": {
            "tags": []
          },
          "execution_count": 5
        }
      ]
    },
    {
      "cell_type": "code",
      "metadata": {
        "id": "c6hpBfwZ0f4m",
        "colab_type": "code",
        "outputId": "9164d774-8a28-44bd-ccd4-43147692d3c1",
        "colab": {
          "base_uri": "https://localhost:8080/",
          "height": 34
        }
      },
      "source": [
        "y_train.shape"
      ],
      "execution_count": 0,
      "outputs": [
        {
          "output_type": "execute_result",
          "data": {
            "text/plain": [
              "(60000,)"
            ]
          },
          "metadata": {
            "tags": []
          },
          "execution_count": 9
        }
      ]
    },
    {
      "cell_type": "code",
      "metadata": {
        "id": "IdZx8d6g0irb",
        "colab_type": "code",
        "outputId": "c115e503-947f-4fe2-fe74-8d930b3e0b1c",
        "colab": {
          "base_uri": "https://localhost:8080/",
          "height": 34
        }
      },
      "source": [
        "x_test.shape"
      ],
      "execution_count": 0,
      "outputs": [
        {
          "output_type": "execute_result",
          "data": {
            "text/plain": [
              "(10000, 28, 28)"
            ]
          },
          "metadata": {
            "tags": []
          },
          "execution_count": 7
        }
      ]
    },
    {
      "cell_type": "code",
      "metadata": {
        "id": "8zotWSpS2ek-",
        "colab_type": "code",
        "outputId": "77aca110-2e4d-4986-e4f4-82b7258d1809",
        "colab": {
          "base_uri": "https://localhost:8080/",
          "height": 34
        }
      },
      "source": [
        "y_test.shape"
      ],
      "execution_count": 0,
      "outputs": [
        {
          "output_type": "execute_result",
          "data": {
            "text/plain": [
              "(10000,)"
            ]
          },
          "metadata": {
            "tags": []
          },
          "execution_count": 8
        }
      ]
    },
    {
      "cell_type": "markdown",
      "metadata": {
        "id": "lDAYzkwyOIUj",
        "colab_type": "text"
      },
      "source": [
        "### Convert both training and testing labels into one-hot vectors.\n",
        "\n",
        "**Hint:** check **tf.keras.utils.to_categorical()**"
      ]
    },
    {
      "cell_type": "code",
      "metadata": {
        "id": "vBlfYlANOIUk",
        "colab_type": "code",
        "colab": {}
      },
      "source": [
        "from tensorflow import keras\n",
        "from keras.utils import normalize\n",
        "\n",
        "y_train = keras.utils.to_categorical(y_train, 10)\n",
        "y_test = keras.utils.to_categorical(y_test, 10)"
      ],
      "execution_count": 0,
      "outputs": []
    },
    {
      "cell_type": "markdown",
      "metadata": {
        "id": "FwhQ8e7VOIUw",
        "colab_type": "text"
      },
      "source": [
        "### Visualize the data\n",
        "\n",
        "Plot first 10 images in the triaining set and their labels."
      ]
    },
    {
      "cell_type": "code",
      "metadata": {
        "id": "AvDML2OoOIUx",
        "colab_type": "code",
        "outputId": "09a02f60-5b2f-45c1-e765-07b77f59f3ea",
        "colab": {
          "base_uri": "https://localhost:8080/",
          "height": 94
        }
      },
      "source": [
        "class_names = ['T-shirt/top', 'Trouser', 'Pullover', 'Dress', 'Coat',\n",
        "               'Sandal', 'Shirt', 'Sneaker', 'Bag', 'Ankle boot']\n",
        "               \n",
        "import matplotlib.pyplot as plt\n",
        "#plt.imshow(trainX[0].reshape((28, 28)), cmap = 'gray')\n",
        "plt.figure(figsize=(10,10))\n",
        "for i in range (10):\n",
        "  plt.subplot(10,10,i+1)\n",
        "  plt.xticks([])\n",
        "  plt.yticks([])\n",
        "  plt.grid(False)\n",
        "  plt.imshow(x_test[i], cmap=plt.cm.binary)\n",
        "  plt.xlabel(class_names[i])\n",
        "plt.show()"
      ],
      "execution_count": 0,
      "outputs": [
        {
          "output_type": "display_data",
          "data": {
            "image/png": "[encoded data removed]",
            "text/plain": [
              "<Figure size 720x720 with 10 Axes>"
            ]
          },
          "metadata": {
            "tags": []
          }
        }
      ]
    },
    {
      "cell_type": "code",
      "metadata": {
        "id": "Ac06XZZTOIU6",
        "colab_type": "code",
        "outputId": "2db813a5-c819-4a60-cd09-24b7c4e5eebb",
        "colab": {
          "base_uri": "https://localhost:8080/",
          "height": 52
        }
      },
      "source": [
        "from tensorflow.keras import Sequential\n",
        "from tensorflow.keras.layers import Dense\n",
        "from keras.layers.advanced_activations import ReLU\n",
        "from tensorflow.keras.layers import Flatten\n",
        "import numpy as np\n",
        "import keras\n",
        "import tensorflow as tf\n",
        "\n",
        "(trainX, trainY), (testX, testY) = keras.datasets.fashion_mnist.load_data()\n",
        "\n",
        "#trainX = trainX.reshape((trainX.shape[0], 28, 28, 1))\n",
        "#testX = testX.reshape((testX.shape[0], 28, 28, 1))\n",
        "\n",
        "print(trainX.shape)\n",
        "print(testX.shape)\n",
        "\n",
        "trainX = trainX.astype(\"float32\") / 255.0\n",
        "testX = testX.astype(\"float32\") / 255.0\n",
        "\n",
        "#trainY = tf.keras.utils.to_categorical(trainY, 10)\n",
        "#testY = tf.keras.utils.to_categorical(testY, 10)\n",
        "\n",
        "trainX=np.array(trainX)\n",
        "testX=np.array(testX)\n",
        "trainY=np.array(trainY)\n",
        "testY=np.array(testY)\n",
        "\n",
        "\n",
        "model = Sequential()\n",
        "model.add(Flatten(input_shape=(28, 28)))\n",
        "model.add(Dense(128, activation='relu'))\n",
        "model.add(Dense(100, activation='relu'))\n",
        "model.add(Dense(10,activation='sigmoid'))\n",
        "\n",
        "\n",
        "model.compile(loss=tf.keras.losses.SparseCategoricalCrossentropy(from_logits=True),optimizer='sgd',metrics=['accuracy'])\n",
        "\n"
      ],
      "execution_count": 33,
      "outputs": [
        {
          "output_type": "stream",
          "text": [
            "(60000, 28, 28)\n",
            "(10000, 28, 28)\n"
          ],
          "name": "stdout"
        }
      ]
    },
    {
      "cell_type": "markdown",
      "metadata": {
        "id": "3hQpLv3aOIU_",
        "colab_type": "text"
      },
      "source": [
        "### Execute the model using model.fit()"
      ]
    },
    {
      "cell_type": "code",
      "metadata": {
        "id": "O59C_-IgOIVB",
        "colab_type": "code",
        "colab": {
          "base_uri": "https://localhost:8080/",
          "height": 390
        },
        "outputId": "cead55c6-e4d1-4bc5-d76c-d3cda7607453"
      },
      "source": [
        "\n",
        "epochs = 10\n",
        "history = model.fit(trainX, trainY,epochs=epochs, validation_split=.1, verbose=True)"
      ],
      "execution_count": 34,
      "outputs": [
        {
          "output_type": "stream",
          "text": [
            "Train on 54000 samples, validate on 6000 samples\n",
            "Epoch 1/10\n",
            "54000/54000 [==============================] - 7s 135us/sample - loss: 1.9168 - accuracy: 0.5585 - val_loss: 1.7563 - val_accuracy: 0.6250\n",
            "Epoch 2/10\n",
            "54000/54000 [==============================] - 6s 119us/sample - loss: 1.7240 - accuracy: 0.5982 - val_loss: 1.6993 - val_accuracy: 0.5897\n",
            "Epoch 3/10\n",
            "54000/54000 [==============================] - 5s 86us/sample - loss: 1.6903 - accuracy: 0.5780 - val_loss: 1.6811 - val_accuracy: 0.5612\n",
            "Epoch 4/10\n",
            "54000/54000 [==============================] - 7s 121us/sample - loss: 1.6765 - accuracy: 0.5587 - val_loss: 1.6716 - val_accuracy: 0.5528\n",
            "Epoch 5/10\n",
            "54000/54000 [==============================] - 6s 111us/sample - loss: 1.6686 - accuracy: 0.5450 - val_loss: 1.6654 - val_accuracy: 0.5403\n",
            "Epoch 6/10\n",
            "54000/54000 [==============================] - 7s 128us/sample - loss: 1.6631 - accuracy: 0.5301 - val_loss: 1.6609 - val_accuracy: 0.5300\n",
            "Epoch 7/10\n",
            "54000/54000 [==============================] - 7s 122us/sample - loss: 1.6588 - accuracy: 0.5178 - val_loss: 1.6569 - val_accuracy: 0.5163\n",
            "Epoch 8/10\n",
            "54000/54000 [==============================] - 5s 87us/sample - loss: 1.6551 - accuracy: 0.5106 - val_loss: 1.6535 - val_accuracy: 0.5105\n",
            "Epoch 9/10\n",
            "54000/54000 [==============================] - 5s 87us/sample - loss: 1.6520 - accuracy: 0.5079 - val_loss: 1.6512 - val_accuracy: 0.5088\n",
            "Epoch 10/10\n",
            "54000/54000 [==============================] - 5s 86us/sample - loss: 1.6493 - accuracy: 0.5071 - val_loss: 1.6479 - val_accuracy: 0.5083\n"
          ],
          "name": "stdout"
        }
      ]
    },
    {
      "cell_type": "markdown",
      "metadata": {
        "id": "JdzDtGwDOIVF",
        "colab_type": "text"
      },
      "source": [
        "### In the above Neural Network model add Batch Normalization layer after the input layer and repeat the steps."
      ]
    },
    {
      "cell_type": "code",
      "metadata": {
        "id": "kndfpdidOIVI",
        "colab_type": "code",
        "colab": {
          "base_uri": "https://localhost:8080/",
          "height": 425
        },
        "outputId": "89e058c7-8cc6-49f5-f29c-98ef5bf6f15a"
      },
      "source": [
        "from tensorflow.keras import Sequential\n",
        "from tensorflow.keras.layers import Dense\n",
        "from keras.layers.advanced_activations import ReLU\n",
        "from tensorflow.keras.layers import Flatten\n",
        "import numpy as np\n",
        "import keras\n",
        "import tensorflow as tf\n",
        "\n",
        "(trainX, trainY), (testX, testY) = keras.datasets.fashion_mnist.load_data()\n",
        "\n",
        "#trainX = trainX.reshape((trainX.shape[0], 28, 28, 1))\n",
        "#testX = testX.reshape((testX.shape[0], 28, 28, 1))\n",
        "\n",
        "print(trainX.shape)\n",
        "print(testX.shape)\n",
        "\n",
        "trainX = trainX.astype(\"float32\") / 255.0\n",
        "testX = testX.astype(\"float32\") / 255.0\n",
        "\n",
        "#trainY = tf.keras.utils.to_categorical(trainY, 10)\n",
        "#testY = tf.keras.utils.to_categorical(testY, 10)\n",
        "\n",
        "trainX=np.array(trainX)\n",
        "testX=np.array(testX)\n",
        "trainY=np.array(trainY)\n",
        "testY=np.array(testY)\n",
        "\n",
        "\n",
        "model = Sequential()\n",
        "model.add(Flatten(input_shape=(28, 28)))\n",
        "model.add(Dense(128, activation='relu'))\n",
        "model.add(Dense(100, activation='relu'))\n",
        "model.add(Dense(10))\n",
        "\n",
        "\n",
        "model.compile(loss=tf.keras.losses.SparseCategoricalCrossentropy(from_logits=True),optimizer='sgd',metrics=['accuracy'])\n",
        "\n",
        "epochs = 10\n",
        "batch_size = 512\n",
        "\n",
        "history = model.fit(trainX, trainY, batch_size=batch_size, epochs=epochs, validation_split=.1, verbose=True)"
      ],
      "execution_count": 27,
      "outputs": [
        {
          "output_type": "stream",
          "text": [
            "(60000, 28, 28)\n",
            "(10000, 28, 28)\n",
            "Train on 54000 samples, validate on 6000 samples\n",
            "Epoch 1/10\n",
            "54000/54000 [==============================] - 2s 33us/sample - loss: 1.9056 - accuracy: 0.4117 - val_loss: 1.4806 - val_accuracy: 0.6372\n",
            "Epoch 2/10\n",
            "54000/54000 [==============================] - 1s 19us/sample - loss: 1.2527 - accuracy: 0.6558 - val_loss: 1.0539 - val_accuracy: 0.6842\n",
            "Epoch 3/10\n",
            "54000/54000 [==============================] - 1s 20us/sample - loss: 0.9746 - accuracy: 0.6906 - val_loss: 0.8789 - val_accuracy: 0.7072\n",
            "Epoch 4/10\n",
            "54000/54000 [==============================] - 1s 20us/sample - loss: 0.8487 - accuracy: 0.7170 - val_loss: 0.7891 - val_accuracy: 0.7410\n",
            "Epoch 5/10\n",
            "54000/54000 [==============================] - 1s 19us/sample - loss: 0.7757 - accuracy: 0.7413 - val_loss: 0.7322 - val_accuracy: 0.7558\n",
            "Epoch 6/10\n",
            "54000/54000 [==============================] - 1s 20us/sample - loss: 0.7252 - accuracy: 0.7595 - val_loss: 0.6889 - val_accuracy: 0.7677\n",
            "Epoch 7/10\n",
            "54000/54000 [==============================] - 1s 20us/sample - loss: 0.6862 - accuracy: 0.7727 - val_loss: 0.6564 - val_accuracy: 0.7780\n",
            "Epoch 8/10\n",
            "54000/54000 [==============================] - 1s 20us/sample - loss: 0.6556 - accuracy: 0.7836 - val_loss: 0.6332 - val_accuracy: 0.7880\n",
            "Epoch 9/10\n",
            "54000/54000 [==============================] - 1s 21us/sample - loss: 0.6303 - accuracy: 0.7911 - val_loss: 0.6089 - val_accuracy: 0.7948\n",
            "Epoch 10/10\n",
            "54000/54000 [==============================] - 1s 20us/sample - loss: 0.6093 - accuracy: 0.7981 - val_loss: 0.5922 - val_accuracy: 0.7993\n"
          ],
          "name": "stdout"
        }
      ]
    },
    {
      "cell_type": "markdown",
      "metadata": {
        "id": "mwk3T5LJOIVN",
        "colab_type": "text"
      },
      "source": [
        "### Execute the model"
      ]
    },
    {
      "cell_type": "code",
      "metadata": {
        "id": "JNLR8tcBOIVP",
        "colab_type": "code",
        "outputId": "2af1daa9-e47e-4a6e-f544-e55cafc6e64b",
        "colab": {
          "base_uri": "https://localhost:8080/",
          "height": 70
        }
      },
      "source": [
        "preds = model.predict(testX)\n",
        "preds[0]"
      ],
      "execution_count": 28,
      "outputs": [
        {
          "output_type": "execute_result",
          "data": {
            "text/plain": [
              "array([-4.6028476, -2.6104517, -1.8263761, -3.7465372, -1.2032489,\n",
              "        4.6271286, -2.8197417,  4.4659343,  2.1619277,  5.3123326],\n",
              "      dtype=float32)"
            ]
          },
          "metadata": {
            "tags": []
          },
          "execution_count": 28
        }
      ]
    },
    {
      "cell_type": "markdown",
      "metadata": {
        "id": "Py-KwkmjOIVU",
        "colab_type": "text"
      },
      "source": [
        "### Customize the learning rate to 0.001 in sgd optimizer and run the model"
      ]
    },
    {
      "cell_type": "code",
      "metadata": {
        "id": "yLXUE9jWOIVV",
        "colab_type": "code",
        "colab": {
          "base_uri": "https://localhost:8080/",
          "height": 407
        },
        "outputId": "c9b7f0d2-14f4-46ea-81b5-76b264b15d01"
      },
      "source": [
        "\n",
        "from tensorflow.keras import Sequential\n",
        "from tensorflow.keras.layers import Dense\n",
        "from keras.layers.advanced_activations import ReLU\n",
        "from tensorflow.keras.layers import Flatten\n",
        "import numpy as np\n",
        "import keras\n",
        "import tensorflow as tf\n",
        "from tensorflow.keras.optimizers import SGD\n",
        "\n",
        "(trainX, trainY), (testX, testY) = keras.datasets.fashion_mnist.load_data()\n",
        "\n",
        "\n",
        "trainY = tf.keras.utils.to_categorical(trainY, num_classes=10)\n",
        "testY = tf.keras.utils.to_categorical(testY, num_classes=10)\n",
        "model = Sequential()\n",
        "#Reshape data from 2D to 1D -> 28x28 to 784\n",
        "\n",
        "#Normalize the data\n",
        "model.add(Flatten())\n",
        "model.add(Dense(200, activation='sigmoid'))\n",
        "model.add(Dense(10, activation='softmax'))\n",
        "sgd_optimizer = SGD(lr=0.001)\n",
        "model.compile(optimizer=sgd_optimizer, loss='categorical_crossentropy', metrics=['accuracy'])\n",
        "model.fit(trainX,trainY,          \n",
        "          validation_data=(testX,testY),\n",
        "          epochs=10,\n",
        "          batch_size=32)\n"
      ],
      "execution_count": 38,
      "outputs": [
        {
          "output_type": "stream",
          "text": [
            "Train on 60000 samples, validate on 10000 samples\n",
            "Epoch 1/10\n",
            "60000/60000 [==============================] - 6s 105us/sample - loss: 1.1290 - accuracy: 0.6540 - val_loss: 0.8556 - val_accuracy: 0.7267\n",
            "Epoch 2/10\n",
            "60000/60000 [==============================] - 6s 96us/sample - loss: 0.7640 - accuracy: 0.7589 - val_loss: 0.7143 - val_accuracy: 0.7632\n",
            "Epoch 3/10\n",
            "60000/60000 [==============================] - 6s 102us/sample - loss: 0.6608 - accuracy: 0.7867 - val_loss: 0.6518 - val_accuracy: 0.7813\n",
            "Epoch 4/10\n",
            "60000/60000 [==============================] - 6s 94us/sample - loss: 0.6062 - accuracy: 0.8002 - val_loss: 0.6130 - val_accuracy: 0.7904\n",
            "Epoch 5/10\n",
            "60000/60000 [==============================] - 6s 94us/sample - loss: 0.5713 - accuracy: 0.8101 - val_loss: 0.5889 - val_accuracy: 0.7976\n",
            "Epoch 6/10\n",
            "60000/60000 [==============================] - 6s 93us/sample - loss: 0.5443 - accuracy: 0.8172 - val_loss: 0.5637 - val_accuracy: 0.8044\n",
            "Epoch 7/10\n",
            "60000/60000 [==============================] - 6s 94us/sample - loss: 0.5229 - accuracy: 0.8217 - val_loss: 0.5474 - val_accuracy: 0.8111\n",
            "Epoch 8/10\n",
            "60000/60000 [==============================] - 5s 92us/sample - loss: 0.5093 - accuracy: 0.8261 - val_loss: 0.5319 - val_accuracy: 0.8147\n",
            "Epoch 9/10\n",
            "60000/60000 [==============================] - 6s 95us/sample - loss: 0.4968 - accuracy: 0.8285 - val_loss: 0.5278 - val_accuracy: 0.8146\n",
            "Epoch 10/10\n",
            "60000/60000 [==============================] - 6s 94us/sample - loss: 0.4831 - accuracy: 0.8338 - val_loss: 0.5162 - val_accuracy: 0.8199\n"
          ],
          "name": "stdout"
        },
        {
          "output_type": "execute_result",
          "data": {
            "text/plain": [
              "<tensorflow.python.keras.callbacks.History at 0x7f7551bc8490>"
            ]
          },
          "metadata": {
            "tags": []
          },
          "execution_count": 38
        }
      ]
    },
    {
      "cell_type": "code",
      "metadata": {
        "id": "pJUqA5T4OIVc",
        "colab_type": "code",
        "colab": {}
      },
      "source": [
        ""
      ],
      "execution_count": 0,
      "outputs": []
    },
    {
      "cell_type": "markdown",
      "metadata": {
        "id": "j9CSqKvpOIVk",
        "colab_type": "text"
      },
      "source": [
        "### Build the Neural Network model with 3 Dense layers with 100,100,10 neurons respectively in each layer. Use cross entropy loss function and singmoid as activation in the hidden layers and softmax as activation function in the output layer. Use sgd optimizer with learning rate 0.03."
      ]
    },
    {
      "cell_type": "code",
      "metadata": {
        "id": "GGAad54JOIVm",
        "colab_type": "code",
        "colab": {
          "base_uri": "https://localhost:8080/",
          "height": 407
        },
        "outputId": "15398bed-73a4-47ad-bfed-ca23996dcf28"
      },
      "source": [
        "from tensorflow.keras import Sequential\n",
        "from tensorflow.keras.layers import Dense\n",
        "from keras.layers.advanced_activations import ReLU\n",
        "from tensorflow.keras.layers import Flatten\n",
        "import numpy as np\n",
        "import keras\n",
        "import tensorflow as tf\n",
        "\n",
        "\n",
        "\n",
        "\n",
        "(trainX, trainY), (testX, testY) = keras.datasets.fashion_mnist.load_data()\n",
        "\n",
        "from tensorflow.keras.optimizers import SGD\n",
        "trainY = tf.keras.utils.to_categorical(trainY, num_classes=10)\n",
        "testY = tf.keras.utils.to_categorical(testY, num_classes=10)\n",
        "model = Sequential()\n",
        "#Reshape data from 2D to 1D -> 28x28 to 784\n",
        "\n",
        "#Normalize the data\n",
        "model.add(Flatten())\n",
        "model.add(Dense(100, activation='relu'))\n",
        "model.add(Dense(100, activation='sigmoid'))\n",
        "model.add(Dense(10, activation='softmax'))\n",
        "sgd_optimizer = SGD(lr=0.03)\n",
        "model.compile(optimizer=sgd_optimizer, loss='categorical_crossentropy', metrics=['accuracy'])\n",
        "model.fit(trainX,trainY,          \n",
        "          validation_data=(testX,testY),\n",
        "          epochs=10,\n",
        "          batch_size=32)"
      ],
      "execution_count": 37,
      "outputs": [
        {
          "output_type": "stream",
          "text": [
            "Train on 60000 samples, validate on 10000 samples\n",
            "Epoch 1/10\n",
            "60000/60000 [==============================] - 6s 103us/sample - loss: 0.9610 - accuracy: 0.6517 - val_loss: 0.7424 - val_accuracy: 0.7134\n",
            "Epoch 2/10\n",
            "60000/60000 [==============================] - 5s 86us/sample - loss: 0.7357 - accuracy: 0.7236 - val_loss: 0.7777 - val_accuracy: 0.6833\n",
            "Epoch 3/10\n",
            "60000/60000 [==============================] - 6s 93us/sample - loss: 0.7022 - accuracy: 0.7416 - val_loss: 0.7514 - val_accuracy: 0.7054\n",
            "Epoch 4/10\n",
            "60000/60000 [==============================] - 5s 87us/sample - loss: 0.7121 - accuracy: 0.7391 - val_loss: 0.7201 - val_accuracy: 0.7400\n",
            "Epoch 5/10\n",
            "60000/60000 [==============================] - 5s 91us/sample - loss: 0.6508 - accuracy: 0.7613 - val_loss: 0.7320 - val_accuracy: 0.7168\n",
            "Epoch 6/10\n",
            "60000/60000 [==============================] - 5s 86us/sample - loss: 0.6910 - accuracy: 0.7449 - val_loss: 0.7639 - val_accuracy: 0.7065\n",
            "Epoch 7/10\n",
            "60000/60000 [==============================] - 5s 85us/sample - loss: 0.7320 - accuracy: 0.7324 - val_loss: 0.8321 - val_accuracy: 0.7100\n",
            "Epoch 8/10\n",
            "60000/60000 [==============================] - 5s 83us/sample - loss: 0.7423 - accuracy: 0.7172 - val_loss: 0.8793 - val_accuracy: 0.6779\n",
            "Epoch 9/10\n",
            "60000/60000 [==============================] - 5s 85us/sample - loss: 0.7473 - accuracy: 0.7218 - val_loss: 0.7620 - val_accuracy: 0.7319\n",
            "Epoch 10/10\n",
            "60000/60000 [==============================] - 5s 83us/sample - loss: 0.7817 - accuracy: 0.7147 - val_loss: 0.7923 - val_accuracy: 0.7120\n"
          ],
          "name": "stdout"
        },
        {
          "output_type": "execute_result",
          "data": {
            "text/plain": [
              "<tensorflow.python.keras.callbacks.History at 0x7f755a142dd0>"
            ]
          },
          "metadata": {
            "tags": []
          },
          "execution_count": 37
        }
      ]
    },
    {
      "cell_type": "code",
      "metadata": {
        "id": "MQ7oIymROIVp",
        "colab_type": "code",
        "colab": {}
      },
      "source": [
        ""
      ],
      "execution_count": 0,
      "outputs": []
    },
    {
      "cell_type": "code",
      "metadata": {
        "id": "X-O-fFxnOIVt",
        "colab_type": "code",
        "colab": {}
      },
      "source": [
        ""
      ],
      "execution_count": 0,
      "outputs": []
    },
    {
      "cell_type": "code",
      "metadata": {
        "id": "BiP7IL52OIVw",
        "colab_type": "code",
        "colab": {}
      },
      "source": [
        ""
      ],
      "execution_count": 0,
      "outputs": []
    },
    {
      "cell_type": "markdown",
      "metadata": {
        "id": "Nr2YsZV0OIV0",
        "colab_type": "text"
      },
      "source": [
        "## Review model"
      ]
    },
    {
      "cell_type": "code",
      "metadata": {
        "id": "h4ojW6-oOIV2",
        "colab_type": "code",
        "colab": {
          "base_uri": "https://localhost:8080/",
          "height": 265
        },
        "outputId": "00f71fc5-55b8-411c-9138-56acebb6d3ef"
      },
      "source": [
        "model.summary()"
      ],
      "execution_count": 39,
      "outputs": [
        {
          "output_type": "stream",
          "text": [
            "Model: \"sequential_12\"\n",
            "_________________________________________________________________\n",
            "Layer (type)                 Output Shape              Param #   \n",
            "=================================================================\n",
            "flatten_9 (Flatten)          multiple                  0         \n",
            "_________________________________________________________________\n",
            "dense_32 (Dense)             multiple                  157000    \n",
            "_________________________________________________________________\n",
            "dense_33 (Dense)             multiple                  2010      \n",
            "=================================================================\n",
            "Total params: 159,010\n",
            "Trainable params: 159,010\n",
            "Non-trainable params: 0\n",
            "_________________________________________________________________\n"
          ],
          "name": "stdout"
        }
      ]
    },
    {
      "cell_type": "markdown",
      "metadata": {
        "id": "gfFGmbZLOIV5",
        "colab_type": "text"
      },
      "source": [
        "### Run the model"
      ]
    },
    {
      "cell_type": "code",
      "metadata": {
        "id": "bIkbMEN5OIV7",
        "colab_type": "code",
        "colab": {
          "base_uri": "https://localhost:8080/",
          "height": 70
        },
        "outputId": "26105811-d289-44da-9fc6-4b3fcc080bff"
      },
      "source": [
        "y_predict = model.predict(testX)\n",
        "y_predict[0]"
      ],
      "execution_count": 40,
      "outputs": [
        {
          "output_type": "execute_result",
          "data": {
            "text/plain": [
              "array([6.7996472e-04, 5.1088165e-04, 1.0543177e-03, 3.4799571e-03,\n",
              "       3.6960915e-03, 1.2051422e-01, 1.0931541e-03, 2.3462257e-01,\n",
              "       6.1605289e-03, 6.2818819e-01], dtype=float32)"
            ]
          },
          "metadata": {
            "tags": []
          },
          "execution_count": 40
        }
      ]
    },
    {
      "cell_type": "code",
      "metadata": {
        "id": "qVGwWfpX6DnN",
        "colab_type": "code",
        "colab": {}
      },
      "source": [
        ""
      ],
      "execution_count": 0,
      "outputs": []
    }
  ]
}