{
 "cells": [
  {
   "cell_type": "markdown",
   "metadata": {
    "id": "q24VEuL2PbvT"
   },
   "source": [
    "![alt text](https://drive.google.com/uc?export=view&id=1UXScsVx_Wni_JuDdB8LeTnM6jsPfIwkW)\n",
    "\n",
    "Proprietary content. © Great Learning. All Rights Reserved. Unauthorized use or distribution prohibited."
   ]
  },
  {
   "cell_type": "markdown",
   "metadata": {
    "id": "NgR0j5310qqC"
   },
   "source": [
    "# Face Mask Prediction using U-Net\n",
    "Task is to predict the mask around the face in a given image."
   ]
  },
  {
   "cell_type": "markdown",
   "metadata": {
    "id": "VvWl3ebqzCc1"
   },
   "source": [
    "# Instructions\n",
    "- Some part of the code is already done for you\n",
    "- You need to execute all the cells\n",
    "- You need to add the code where ever you see `\"#### Add your code here ####\"`\n",
    "- Marks are mentioned along with the cells"
   ]
  },
  {
   "cell_type": "markdown",
   "metadata": {
    "id": "Aa0jyJzw091I"
   },
   "source": [
    "## Dataset\n",
    "Faces in images marked with bounding boxes. Have around 409 images with around 1000 faces manually tagged via bounding box.\n",
    "- Data file name: images.npy"
   ]
  },
  {
   "cell_type": "markdown",
   "metadata": {},
   "source": [
    "###### Importing necessary packages"
   ]
  },
  {
   "cell_type": "code",
   "execution_count": 1,
   "metadata": {
    "id": "5v7myt6C5UzE"
   },
   "outputs": [],
   "source": [
    "import numpy as np\n",
    "import cv2\n",
    "import tensorflow as tf\n",
    "from PIL import Image\n",
    "from tensorflow.keras import Model\n",
    "from tensorflow.keras.applications.mobilenet import MobileNet, preprocess_input\n",
    "from tensorflow.keras.callbacks import ModelCheckpoint, EarlyStopping, ReduceLROnPlateau\n",
    "from tensorflow.keras.layers import Concatenate, Conv2D, UpSampling2D, Reshape"
   ]
  },
  {
   "cell_type": "markdown",
   "metadata": {
    "id": "CjRTlPkp1LC2"
   },
   "source": [
    "### Mount Google drive if you are using google colab\n",
    "- We recommend using Google Colab as you can face memory issues and longer runtimes while running on local"
   ]
  },
  {
   "cell_type": "code",
   "execution_count": 2,
   "metadata": {
    "colab": {
     "base_uri": "https://localhost:8080/"
    },
    "id": "sBWMoTJ9cf3Z",
    "outputId": "aa486824-07a5-411f-834d-d200647ca571"
   },
   "outputs": [
    {
     "name": "stdout",
     "output_type": "stream",
     "text": [
      "Drive already mounted at /gdrive; to attempt to forcibly remount, call drive.mount(\"/gdrive\", force_remount=True).\n",
      "/gdrive/MyDrive\n"
     ]
    }
   ],
   "source": [
    "from google.colab import drive\n",
    "drive.mount('/gdrive')\n",
    "%cd /gdrive/MyDrive/"
   ]
  },
  {
   "cell_type": "markdown",
   "metadata": {
    "id": "3srplE-FEpKa"
   },
   "source": [
    "### Load the \"images.npy\" file (2 marks)\n",
    "- This file contains images with details of bounding boxes"
   ]
  },
  {
   "cell_type": "markdown",
   "metadata": {},
   "source": [
    "##### Loading the file "
   ]
  },
  {
   "cell_type": "code",
   "execution_count": 3,
   "metadata": {
    "id": "MqFE_tZDf0sM"
   },
   "outputs": [],
   "source": [
    "data = np.load('images.npy',allow_pickle=True)"
   ]
  },
  {
   "cell_type": "markdown",
   "metadata": {
    "id": "_SMP8zliFT7R"
   },
   "source": [
    "### Check one sample from the loaded \"images.npy\" file  (2 marks)\n",
    "- Hint: print data[10][1] "
   ]
  },
  {
   "cell_type": "code",
   "execution_count": 4,
   "metadata": {
    "colab": {
     "base_uri": "https://localhost:8080/"
    },
    "id": "NoqNvPK-iXqG",
    "outputId": "80367fbf-83e2-48cc-daa8-7b5d9297d2c7"
   },
   "outputs": [
    {
     "data": {
      "text/plain": [
       "[{'imageHeight': 337,\n",
       "  'imageWidth': 600,\n",
       "  'label': ['Face'],\n",
       "  'notes': '',\n",
       "  'points': [{'x': 0.48, 'y': 0.10385756676557864},\n",
       "   {'x': 0.7716666666666666, 'y': 0.6795252225519288}]}]"
      ]
     },
     "execution_count": 4,
     "metadata": {
      "tags": []
     },
     "output_type": "execute_result"
    }
   ],
   "source": [
    "data[10][1]"
   ]
  },
  {
   "cell_type": "markdown",
   "metadata": {
    "id": "m94G4p3CE5Cj"
   },
   "source": [
    "### Set image dimensions   (1 mark)\n",
    "- Initialize image height, image width with value: 224 "
   ]
  },
  {
   "cell_type": "code",
   "execution_count": 5,
   "metadata": {
    "id": "kuZmtOASevDo"
   },
   "outputs": [],
   "source": [
    "IMAGE_HEIGHT = 224\n",
    "IMAGE_WIDTH = 224"
   ]
  },
  {
   "cell_type": "markdown",
   "metadata": {
    "id": "wY6FEsCjG47s"
   },
   "source": [
    "### Create features and labels\n",
    "- Here feature is the image\n",
    "- The label is the mask\n",
    "- Images will be stored in \"X\" array\n",
    "- Masks will be stored in \"masks\" array"
   ]
  },
  {
   "cell_type": "code",
   "execution_count": 6,
   "metadata": {
    "id": "XjCT9EVTgAvr"
   },
   "outputs": [],
   "source": [
    "masks = np.zeros((int(data.shape[0]), IMAGE_HEIGHT, IMAGE_WIDTH))\n",
    "X = np.zeros((int(data.shape[0]), IMAGE_HEIGHT, IMAGE_WIDTH, 3))\n",
    "for index in range(data.shape[0]):\n",
    "    img = data[index][0]\n",
    "    img = cv2.resize(img, dsize=(IMAGE_HEIGHT, IMAGE_WIDTH), interpolation=cv2.INTER_CUBIC)\n",
    "    try:\n",
    "      img = img[:, :, :3]\n",
    "    except:\n",
    "      continue\n",
    "    X[index] = preprocess_input(np.array(img, dtype=np.float32))\n",
    "    for i in data[index][1]:\n",
    "        x1 = int(i[\"points\"][0]['x'] * IMAGE_WIDTH)\n",
    "        x2 = int(i[\"points\"][1]['x'] * IMAGE_WIDTH)\n",
    "        y1 = int(i[\"points\"][0]['y'] * IMAGE_HEIGHT)\n",
    "        y2 = int(i[\"points\"][1]['y'] * IMAGE_HEIGHT)\n",
    "        masks[index][y1:y2, x1:x2] = 1"
   ]
  },
  {
   "cell_type": "code",
   "execution_count": 7,
   "metadata": {
    "colab": {
     "base_uri": "https://localhost:8080/"
    },
    "id": "uPpLnwT37Uga",
    "outputId": "58b5103c-8a8d-40c5-fd81-b2b98154c205"
   },
   "outputs": [
    {
     "data": {
      "text/plain": [
       "(409, 224, 224, 3)"
      ]
     },
     "execution_count": 7,
     "metadata": {
      "tags": []
     },
     "output_type": "execute_result"
    }
   ],
   "source": [
    "X.shape"
   ]
  },
  {
   "cell_type": "markdown",
   "metadata": {},
   "source": [
    "##### preprocessing masks"
   ]
  },
  {
   "cell_type": "code",
   "execution_count": 8,
   "metadata": {
    "colab": {
     "base_uri": "https://localhost:8080/"
    },
    "id": "9brTA0359D3b",
    "outputId": "7dc83107-4c5a-4ca8-ea21-92f274797f6e"
   },
   "outputs": [
    {
     "data": {
      "text/plain": [
       "(409, 28, 28)"
      ]
     },
     "execution_count": 8,
     "metadata": {
      "tags": []
     },
     "output_type": "execute_result"
    }
   ],
   "source": [
    "masks1 = []\n",
    "for mask in masks:\n",
    "  masks1.append(cv2.resize(mask, (28, 28)))\n",
    "masks1 = np.array(masks1)\n",
    "masks1.shape"
   ]
  },
  {
   "cell_type": "markdown",
   "metadata": {
    "id": "N3AYbP79bFtJ"
   },
   "source": [
    "### Split the data into training and testing (2 marks)\n",
    "- 400 images in training\n",
    "- 9 images in testing data"
   ]
  },
  {
   "cell_type": "markdown",
   "metadata": {
    "id": "-Uc0NmqXQtPK"
   },
   "source": [
    "#### Training data"
   ]
  },
  {
   "cell_type": "code",
   "execution_count": 9,
   "metadata": {
    "id": "3PIRaEdWIjDa"
   },
   "outputs": [],
   "source": [
    "X_train = X[:-9]\n",
    "y_train = masks1[:-9]"
   ]
  },
  {
   "cell_type": "markdown",
   "metadata": {
    "id": "7ybyn6QnQ4ID"
   },
   "source": [
    "##### Testing data"
   ]
  },
  {
   "cell_type": "code",
   "execution_count": 10,
   "metadata": {
    "id": "Gw6uH5DxgI_r"
   },
   "outputs": [],
   "source": [
    "X_test = X[-9:]\n",
    "y_test = masks1[-9:]"
   ]
  },
  {
   "cell_type": "markdown",
   "metadata": {
    "id": "R4wgkWq1bk5F"
   },
   "source": [
    "### Print a sample training image, image array and its mask (2 marks)"
   ]
  },
  {
   "cell_type": "markdown",
   "metadata": {
    "id": "gfqobMQoRCW-"
   },
   "source": [
    "##### Print the image and image array"
   ]
  },
  {
   "cell_type": "code",
   "execution_count": 11,
   "metadata": {
    "colab": {
     "base_uri": "https://localhost:8080/",
     "height": 1000
    },
    "id": "qfRZjQufj0N9",
    "outputId": "e82cd8c5-5076-4f10-9b14-514bbb17e4e2"
   },
   "outputs": [
    {
     "name": "stderr",
     "output_type": "stream",
     "text": [
      "Clipping input data to the valid range for imshow with RGB data ([0..1] for floats or [0..255] for integers).\n"
     ]
    },
    {
     "data": {
      "image/png": "[encoded data removed]",
      "text/plain": [
       "<Figure size 432x288 with 1 Axes>"
      ]
     },
     "metadata": {
      "needs_background": "light",
      "tags": []
     },
     "output_type": "display_data"
    },
    {
     "name": "stdout",
     "output_type": "stream",
     "text": [
      "Image Array : \n",
      " [[[-0.83529413 -0.72549021 -0.65490198]\n",
      "  [-0.82745099 -0.70980394 -0.63921571]\n",
      "  [-0.81176472 -0.68627453 -0.62352943]\n",
      "  ...\n",
      "  [-0.87450981 -0.81960785 -0.77254903]\n",
      "  [-0.87450981 -0.81960785 -0.75686276]\n",
      "  [-0.86666667 -0.79607844 -0.73333335]]\n",
      "\n",
      " [[-0.8509804  -0.7019608  -0.65490198]\n",
      "  [-0.8509804  -0.7019608  -0.65490198]\n",
      "  [-0.83529413 -0.68627453 -0.63921571]\n",
      "  ...\n",
      "  [-0.86666667 -0.81176472 -0.7647059 ]\n",
      "  [-0.84313726 -0.78823531 -0.72549021]\n",
      "  [-0.83529413 -0.7647059  -0.70980394]]\n",
      "\n",
      " [[-0.84313726 -0.67843139 -0.63921571]\n",
      "  [-0.83529413 -0.67058825 -0.63137257]\n",
      "  [-0.84313726 -0.67843139 -0.63921571]\n",
      "  ...\n",
      "  [-0.85882354 -0.80392158 -0.75686276]\n",
      "  [-0.81960785 -0.7647059  -0.70980394]\n",
      "  [-0.81176472 -0.74117649 -0.68627453]]\n",
      "\n",
      " ...\n",
      "\n",
      " [[-0.71764708 -0.59215689 -0.52941179]\n",
      "  [-0.7019608  -0.57647061 -0.51372552]\n",
      "  [-0.69411767 -0.59215689 -0.52156866]\n",
      "  ...\n",
      "  [-0.90588236 -0.81960785 -0.77254903]\n",
      "  [-0.9137255  -0.82745099 -0.78039217]\n",
      "  [-0.90588236 -0.81960785 -0.77254903]]\n",
      "\n",
      " [[-0.7647059  -0.68627453 -0.6156863 ]\n",
      "  [-0.78039217 -0.7019608  -0.63137257]\n",
      "  [-0.78823531 -0.71764708 -0.64705884]\n",
      "  ...\n",
      "  [-0.90588236 -0.81960785 -0.77254903]\n",
      "  [-0.90588236 -0.81960785 -0.77254903]\n",
      "  [-0.90588236 -0.81960785 -0.77254903]]\n",
      "\n",
      " [[-0.81960785 -0.7647059  -0.71764708]\n",
      "  [-0.85882354 -0.79607844 -0.74901962]\n",
      "  [-0.81960785 -0.78039217 -0.72549021]\n",
      "  ...\n",
      "  [-0.9137255  -0.82745099 -0.78039217]\n",
      "  [-0.90588236 -0.81960785 -0.77254903]\n",
      "  [-0.9137255  -0.82745099 -0.78039217]]]\n"
     ]
    }
   ],
   "source": [
    "import matplotlib.pyplot as plt\n",
    "plt.imshow(X_train[15])\n",
    "plt.axis('off')\n",
    "plt.show()\n",
    "print('Image Array : \\n',X_train[15])"
   ]
  },
  {
   "cell_type": "markdown",
   "metadata": {
    "id": "cctmS46hJKnL"
   },
   "source": [
    "#### Print the mask"
   ]
  },
  {
   "cell_type": "code",
   "execution_count": 12,
   "metadata": {
    "colab": {
     "base_uri": "https://localhost:8080/",
     "height": 248
    },
    "id": "983gGKcwlSe8",
    "outputId": "540e0b03-edf1-4aca-8db7-f18fbfb5cbc6"
   },
   "outputs": [
    {
     "data": {
      "image/png": "[encoded data removed]",
      "text/plain": [
       "<Figure size 432x288 with 1 Axes>"
      ]
     },
     "metadata": {
      "needs_background": "light",
      "tags": []
     },
     "output_type": "display_data"
    }
   ],
   "source": [
    "plt.imshow(y_train[15])\n",
    "plt.axis('off')\n",
    "plt.show()"
   ]
  },
  {
   "cell_type": "markdown",
   "metadata": {
    "id": "Z0Qa1UOue9TE"
   },
   "source": [
    "## Create the model (5 marks)\n",
    "- Add MobileNet as model with below parameter values\n",
    "  - input_shape: IMAGE_HEIGHT, IMAGE_WIDTH, 3\n",
    "  - include_top: False\n",
    "  - alpha: 1.0\n",
    "  - weights: \"imagenet\"\n",
    "- Add UNET architecture layers\n",
    "  - This is the trickiest part of the project, you need to research and implement it correctly"
   ]
  },
  {
   "cell_type": "code",
   "execution_count": 13,
   "metadata": {
    "id": "BTVYOvANrUVx"
   },
   "outputs": [],
   "source": [
    "ALPHA = 1.0\n",
    "def create_model(trainable=True):\n",
    "    model = MobileNet(input_shape=(IMAGE_HEIGHT, IMAGE_WIDTH, 3), include_top=False, alpha=ALPHA, weights=\"imagenet\")\n",
    "\n",
    "    for layer in model.layers:\n",
    "        layer.trainable = trainable\n",
    "\n",
    "    block1 = model.get_layer(\"conv_pw_5_relu\").output\n",
    "    block2 = model.get_layer(\"conv_pw_11_relu\").output\n",
    "    block3 = model.get_layer(\"conv_pw_13_relu\").output\n",
    "\n",
    "    x = Concatenate()([UpSampling2D()(block3), block2])\n",
    "    x = Concatenate()([UpSampling2D()(x), block1])\n",
    "\n",
    "    x = Conv2D(1, kernel_size=1, activation=\"sigmoid\")(x)\n",
    "    x = Reshape((28,28))(x)\n",
    "\n",
    "    return Model(inputs=model.input, outputs=x)"
   ]
  },
  {
   "cell_type": "markdown",
   "metadata": {
    "id": "_snZ9o0ZBAiv"
   },
   "source": [
    "### Call the create_model function (1 mark)\n",
    "- Give trainable=False as argument, if you want to freeze lower layers for fast training (but low accuracy)"
   ]
  },
  {
   "cell_type": "code",
   "execution_count": 14,
   "metadata": {
    "id": "9TfSSP51uPoO"
   },
   "outputs": [],
   "source": [
    "model = create_model(trainable = False)"
   ]
  },
  {
   "cell_type": "markdown",
   "metadata": {
    "id": "lUr_ZSHkKb5G"
   },
   "source": [
    "### Print model summary (1 mark)"
   ]
  },
  {
   "cell_type": "code",
   "execution_count": 15,
   "metadata": {
    "colab": {
     "base_uri": "https://localhost:8080/"
    },
    "id": "xXCbBt78KfT-",
    "outputId": "41cdbc7b-6e84-4ef4-c652-0e1a693498db"
   },
   "outputs": [
    {
     "name": "stdout",
     "output_type": "stream",
     "text": [
      "Model: \"model\"\n",
      "__________________________________________________________________________________________________\n",
      "Layer (type)                    Output Shape         Param #     Connected to                     \n",
      "==================================================================================================\n",
      "input_1 (InputLayer)            [(None, 224, 224, 3) 0                                            \n",
      "__________________________________________________________________________________________________\n",
      "conv1 (Conv2D)                  (None, 112, 112, 32) 864         input_1[0][0]                    \n",
      "__________________________________________________________________________________________________\n",
      "conv1_bn (BatchNormalization)   (None, 112, 112, 32) 128         conv1[0][0]                      \n",
      "__________________________________________________________________________________________________\n",
      "conv1_relu (ReLU)               (None, 112, 112, 32) 0           conv1_bn[0][0]                   \n",
      "__________________________________________________________________________________________________\n",
      "conv_dw_1 (DepthwiseConv2D)     (None, 112, 112, 32) 288         conv1_relu[0][0]                 \n",
      "__________________________________________________________________________________________________\n",
      "conv_dw_1_bn (BatchNormalizatio (None, 112, 112, 32) 128         conv_dw_1[0][0]                  \n",
      "__________________________________________________________________________________________________\n",
      "conv_dw_1_relu (ReLU)           (None, 112, 112, 32) 0           conv_dw_1_bn[0][0]               \n",
      "__________________________________________________________________________________________________\n",
      "conv_pw_1 (Conv2D)              (None, 112, 112, 64) 2048        conv_dw_1_relu[0][0]             \n",
      "__________________________________________________________________________________________________\n",
      "conv_pw_1_bn (BatchNormalizatio (None, 112, 112, 64) 256         conv_pw_1[0][0]                  \n",
      "__________________________________________________________________________________________________\n",
      "conv_pw_1_relu (ReLU)           (None, 112, 112, 64) 0           conv_pw_1_bn[0][0]               \n",
      "__________________________________________________________________________________________________\n",
      "conv_pad_2 (ZeroPadding2D)      (None, 113, 113, 64) 0           conv_pw_1_relu[0][0]             \n",
      "__________________________________________________________________________________________________\n",
      "conv_dw_2 (DepthwiseConv2D)     (None, 56, 56, 64)   576         conv_pad_2[0][0]                 \n",
      "__________________________________________________________________________________________________\n",
      "conv_dw_2_bn (BatchNormalizatio (None, 56, 56, 64)   256         conv_dw_2[0][0]                  \n",
      "__________________________________________________________________________________________________\n",
      "conv_dw_2_relu (ReLU)           (None, 56, 56, 64)   0           conv_dw_2_bn[0][0]               \n",
      "__________________________________________________________________________________________________\n",
      "conv_pw_2 (Conv2D)              (None, 56, 56, 128)  8192        conv_dw_2_relu[0][0]             \n",
      "__________________________________________________________________________________________________\n",
      "conv_pw_2_bn (BatchNormalizatio (None, 56, 56, 128)  512         conv_pw_2[0][0]                  \n",
      "__________________________________________________________________________________________________\n",
      "conv_pw_2_relu (ReLU)           (None, 56, 56, 128)  0           conv_pw_2_bn[0][0]               \n",
      "__________________________________________________________________________________________________\n",
      "conv_dw_3 (DepthwiseConv2D)     (None, 56, 56, 128)  1152        conv_pw_2_relu[0][0]             \n",
      "__________________________________________________________________________________________________\n",
      "conv_dw_3_bn (BatchNormalizatio (None, 56, 56, 128)  512         conv_dw_3[0][0]                  \n",
      "__________________________________________________________________________________________________\n",
      "conv_dw_3_relu (ReLU)           (None, 56, 56, 128)  0           conv_dw_3_bn[0][0]               \n",
      "__________________________________________________________________________________________________\n",
      "conv_pw_3 (Conv2D)              (None, 56, 56, 128)  16384       conv_dw_3_relu[0][0]             \n",
      "__________________________________________________________________________________________________\n",
      "conv_pw_3_bn (BatchNormalizatio (None, 56, 56, 128)  512         conv_pw_3[0][0]                  \n",
      "__________________________________________________________________________________________________\n",
      "conv_pw_3_relu (ReLU)           (None, 56, 56, 128)  0           conv_pw_3_bn[0][0]               \n",
      "__________________________________________________________________________________________________\n",
      "conv_pad_4 (ZeroPadding2D)      (None, 57, 57, 128)  0           conv_pw_3_relu[0][0]             \n",
      "__________________________________________________________________________________________________\n",
      "conv_dw_4 (DepthwiseConv2D)     (None, 28, 28, 128)  1152        conv_pad_4[0][0]                 \n",
      "__________________________________________________________________________________________________\n",
      "conv_dw_4_bn (BatchNormalizatio (None, 28, 28, 128)  512         conv_dw_4[0][0]                  \n",
      "__________________________________________________________________________________________________\n",
      "conv_dw_4_relu (ReLU)           (None, 28, 28, 128)  0           conv_dw_4_bn[0][0]               \n",
      "__________________________________________________________________________________________________\n",
      "conv_pw_4 (Conv2D)              (None, 28, 28, 256)  32768       conv_dw_4_relu[0][0]             \n",
      "__________________________________________________________________________________________________\n",
      "conv_pw_4_bn (BatchNormalizatio (None, 28, 28, 256)  1024        conv_pw_4[0][0]                  \n",
      "__________________________________________________________________________________________________\n",
      "conv_pw_4_relu (ReLU)           (None, 28, 28, 256)  0           conv_pw_4_bn[0][0]               \n",
      "__________________________________________________________________________________________________\n",
      "conv_dw_5 (DepthwiseConv2D)     (None, 28, 28, 256)  2304        conv_pw_4_relu[0][0]             \n",
      "__________________________________________________________________________________________________\n",
      "conv_dw_5_bn (BatchNormalizatio (None, 28, 28, 256)  1024        conv_dw_5[0][0]                  \n",
      "__________________________________________________________________________________________________\n",
      "conv_dw_5_relu (ReLU)           (None, 28, 28, 256)  0           conv_dw_5_bn[0][0]               \n",
      "__________________________________________________________________________________________________\n",
      "conv_pw_5 (Conv2D)              (None, 28, 28, 256)  65536       conv_dw_5_relu[0][0]             \n",
      "__________________________________________________________________________________________________\n",
      "conv_pw_5_bn (BatchNormalizatio (None, 28, 28, 256)  1024        conv_pw_5[0][0]                  \n",
      "__________________________________________________________________________________________________\n",
      "conv_pw_5_relu (ReLU)           (None, 28, 28, 256)  0           conv_pw_5_bn[0][0]               \n",
      "__________________________________________________________________________________________________\n",
      "conv_pad_6 (ZeroPadding2D)      (None, 29, 29, 256)  0           conv_pw_5_relu[0][0]             \n",
      "__________________________________________________________________________________________________\n",
      "conv_dw_6 (DepthwiseConv2D)     (None, 14, 14, 256)  2304        conv_pad_6[0][0]                 \n",
      "__________________________________________________________________________________________________\n",
      "conv_dw_6_bn (BatchNormalizatio (None, 14, 14, 256)  1024        conv_dw_6[0][0]                  \n",
      "__________________________________________________________________________________________________\n",
      "conv_dw_6_relu (ReLU)           (None, 14, 14, 256)  0           conv_dw_6_bn[0][0]               \n",
      "__________________________________________________________________________________________________\n",
      "conv_pw_6 (Conv2D)              (None, 14, 14, 512)  131072      conv_dw_6_relu[0][0]             \n",
      "__________________________________________________________________________________________________\n",
      "conv_pw_6_bn (BatchNormalizatio (None, 14, 14, 512)  2048        conv_pw_6[0][0]                  \n",
      "__________________________________________________________________________________________________\n",
      "conv_pw_6_relu (ReLU)           (None, 14, 14, 512)  0           conv_pw_6_bn[0][0]               \n",
      "__________________________________________________________________________________________________\n",
      "conv_dw_7 (DepthwiseConv2D)     (None, 14, 14, 512)  4608        conv_pw_6_relu[0][0]             \n",
      "__________________________________________________________________________________________________\n",
      "conv_dw_7_bn (BatchNormalizatio (None, 14, 14, 512)  2048        conv_dw_7[0][0]                  \n",
      "__________________________________________________________________________________________________\n",
      "conv_dw_7_relu (ReLU)           (None, 14, 14, 512)  0           conv_dw_7_bn[0][0]               \n",
      "__________________________________________________________________________________________________\n",
      "conv_pw_7 (Conv2D)              (None, 14, 14, 512)  262144      conv_dw_7_relu[0][0]             \n",
      "__________________________________________________________________________________________________\n",
      "conv_pw_7_bn (BatchNormalizatio (None, 14, 14, 512)  2048        conv_pw_7[0][0]                  \n",
      "__________________________________________________________________________________________________\n",
      "conv_pw_7_relu (ReLU)           (None, 14, 14, 512)  0           conv_pw_7_bn[0][0]               \n",
      "__________________________________________________________________________________________________\n",
      "conv_dw_8 (DepthwiseConv2D)     (None, 14, 14, 512)  4608        conv_pw_7_relu[0][0]             \n",
      "__________________________________________________________________________________________________\n",
      "conv_dw_8_bn (BatchNormalizatio (None, 14, 14, 512)  2048        conv_dw_8[0][0]                  \n",
      "__________________________________________________________________________________________________\n",
      "conv_dw_8_relu (ReLU)           (None, 14, 14, 512)  0           conv_dw_8_bn[0][0]               \n",
      "__________________________________________________________________________________________________\n",
      "conv_pw_8 (Conv2D)              (None, 14, 14, 512)  262144      conv_dw_8_relu[0][0]             \n",
      "__________________________________________________________________________________________________\n",
      "conv_pw_8_bn (BatchNormalizatio (None, 14, 14, 512)  2048        conv_pw_8[0][0]                  \n",
      "__________________________________________________________________________________________________\n",
      "conv_pw_8_relu (ReLU)           (None, 14, 14, 512)  0           conv_pw_8_bn[0][0]               \n",
      "__________________________________________________________________________________________________\n",
      "conv_dw_9 (DepthwiseConv2D)     (None, 14, 14, 512)  4608        conv_pw_8_relu[0][0]             \n",
      "__________________________________________________________________________________________________\n",
      "conv_dw_9_bn (BatchNormalizatio (None, 14, 14, 512)  2048        conv_dw_9[0][0]                  \n",
      "__________________________________________________________________________________________________\n",
      "conv_dw_9_relu (ReLU)           (None, 14, 14, 512)  0           conv_dw_9_bn[0][0]               \n",
      "__________________________________________________________________________________________________\n",
      "conv_pw_9 (Conv2D)              (None, 14, 14, 512)  262144      conv_dw_9_relu[0][0]             \n",
      "__________________________________________________________________________________________________\n",
      "conv_pw_9_bn (BatchNormalizatio (None, 14, 14, 512)  2048        conv_pw_9[0][0]                  \n",
      "__________________________________________________________________________________________________\n",
      "conv_pw_9_relu (ReLU)           (None, 14, 14, 512)  0           conv_pw_9_bn[0][0]               \n",
      "__________________________________________________________________________________________________\n",
      "conv_dw_10 (DepthwiseConv2D)    (None, 14, 14, 512)  4608        conv_pw_9_relu[0][0]             \n",
      "__________________________________________________________________________________________________\n",
      "conv_dw_10_bn (BatchNormalizati (None, 14, 14, 512)  2048        conv_dw_10[0][0]                 \n",
      "__________________________________________________________________________________________________\n",
      "conv_dw_10_relu (ReLU)          (None, 14, 14, 512)  0           conv_dw_10_bn[0][0]              \n",
      "__________________________________________________________________________________________________\n",
      "conv_pw_10 (Conv2D)             (None, 14, 14, 512)  262144      conv_dw_10_relu[0][0]            \n",
      "__________________________________________________________________________________________________\n",
      "conv_pw_10_bn (BatchNormalizati (None, 14, 14, 512)  2048        conv_pw_10[0][0]                 \n",
      "__________________________________________________________________________________________________\n",
      "conv_pw_10_relu (ReLU)          (None, 14, 14, 512)  0           conv_pw_10_bn[0][0]              \n",
      "__________________________________________________________________________________________________\n",
      "conv_dw_11 (DepthwiseConv2D)    (None, 14, 14, 512)  4608        conv_pw_10_relu[0][0]            \n",
      "__________________________________________________________________________________________________\n",
      "conv_dw_11_bn (BatchNormalizati (None, 14, 14, 512)  2048        conv_dw_11[0][0]                 \n",
      "__________________________________________________________________________________________________\n",
      "conv_dw_11_relu (ReLU)          (None, 14, 14, 512)  0           conv_dw_11_bn[0][0]              \n",
      "__________________________________________________________________________________________________\n",
      "conv_pw_11 (Conv2D)             (None, 14, 14, 512)  262144      conv_dw_11_relu[0][0]            \n",
      "__________________________________________________________________________________________________\n",
      "conv_pw_11_bn (BatchNormalizati (None, 14, 14, 512)  2048        conv_pw_11[0][0]                 \n",
      "__________________________________________________________________________________________________\n",
      "conv_pw_11_relu (ReLU)          (None, 14, 14, 512)  0           conv_pw_11_bn[0][0]              \n",
      "__________________________________________________________________________________________________\n",
      "conv_pad_12 (ZeroPadding2D)     (None, 15, 15, 512)  0           conv_pw_11_relu[0][0]            \n",
      "__________________________________________________________________________________________________\n",
      "conv_dw_12 (DepthwiseConv2D)    (None, 7, 7, 512)    4608        conv_pad_12[0][0]                \n",
      "__________________________________________________________________________________________________\n",
      "conv_dw_12_bn (BatchNormalizati (None, 7, 7, 512)    2048        conv_dw_12[0][0]                 \n",
      "__________________________________________________________________________________________________\n",
      "conv_dw_12_relu (ReLU)          (None, 7, 7, 512)    0           conv_dw_12_bn[0][0]              \n",
      "__________________________________________________________________________________________________\n",
      "conv_pw_12 (Conv2D)             (None, 7, 7, 1024)   524288      conv_dw_12_relu[0][0]            \n",
      "__________________________________________________________________________________________________\n",
      "conv_pw_12_bn (BatchNormalizati (None, 7, 7, 1024)   4096        conv_pw_12[0][0]                 \n",
      "__________________________________________________________________________________________________\n",
      "conv_pw_12_relu (ReLU)          (None, 7, 7, 1024)   0           conv_pw_12_bn[0][0]              \n",
      "__________________________________________________________________________________________________\n",
      "conv_dw_13 (DepthwiseConv2D)    (None, 7, 7, 1024)   9216        conv_pw_12_relu[0][0]            \n",
      "__________________________________________________________________________________________________\n",
      "conv_dw_13_bn (BatchNormalizati (None, 7, 7, 1024)   4096        conv_dw_13[0][0]                 \n",
      "__________________________________________________________________________________________________\n",
      "conv_dw_13_relu (ReLU)          (None, 7, 7, 1024)   0           conv_dw_13_bn[0][0]              \n",
      "__________________________________________________________________________________________________\n",
      "conv_pw_13 (Conv2D)             (None, 7, 7, 1024)   1048576     conv_dw_13_relu[0][0]            \n",
      "__________________________________________________________________________________________________\n",
      "conv_pw_13_bn (BatchNormalizati (None, 7, 7, 1024)   4096        conv_pw_13[0][0]                 \n",
      "__________________________________________________________________________________________________\n",
      "conv_pw_13_relu (ReLU)          (None, 7, 7, 1024)   0           conv_pw_13_bn[0][0]              \n",
      "__________________________________________________________________________________________________\n",
      "up_sampling2d (UpSampling2D)    (None, 14, 14, 1024) 0           conv_pw_13_relu[0][0]            \n",
      "__________________________________________________________________________________________________\n",
      "concatenate (Concatenate)       (None, 14, 14, 1536) 0           up_sampling2d[0][0]              \n",
      "                                                                 conv_pw_11_relu[0][0]            \n",
      "__________________________________________________________________________________________________\n",
      "up_sampling2d_1 (UpSampling2D)  (None, 28, 28, 1536) 0           concatenate[0][0]                \n",
      "__________________________________________________________________________________________________\n",
      "concatenate_1 (Concatenate)     (None, 28, 28, 1792) 0           up_sampling2d_1[0][0]            \n",
      "                                                                 conv_pw_5_relu[0][0]             \n",
      "__________________________________________________________________________________________________\n",
      "conv2d (Conv2D)                 (None, 28, 28, 1)    1793        concatenate_1[0][0]              \n",
      "__________________________________________________________________________________________________\n",
      "reshape (Reshape)               (None, 28, 28)       0           conv2d[0][0]                     \n",
      "==================================================================================================\n",
      "Total params: 3,230,657\n",
      "Trainable params: 1,793\n",
      "Non-trainable params: 3,228,864\n",
      "__________________________________________________________________________________________________\n"
     ]
    }
   ],
   "source": [
    "model.summary()"
   ]
  },
  {
   "cell_type": "markdown",
   "metadata": {
    "id": "2spcE4TvfEZw"
   },
   "source": [
    "### Define dice coefficient function (2 marks)\n",
    "- Create a function to calculate dice coefficient\n"
   ]
  },
  {
   "cell_type": "markdown",
   "metadata": {},
   "source": [
    "##### Dice Coefficient"
   ]
  },
  {
   "cell_type": "code",
   "execution_count": 16,
   "metadata": {
    "id": "8H8aViXZuWz1"
   },
   "outputs": [],
   "source": [
    "def dice_coefficient(y_true, y_pred):\n",
    "    numerator = 2 * tf.reduce_sum(y_true * y_pred)\n",
    "    denominator = tf.reduce_sum(y_true + y_pred)\n",
    "    return numerator / (denominator + tf.keras.backend.epsilon())"
   ]
  },
  {
   "cell_type": "markdown",
   "metadata": {
    "id": "Nkp5SDM1fIu2"
   },
   "source": [
    "### Define loss function (2 marks)"
   ]
  },
  {
   "cell_type": "code",
   "execution_count": 17,
   "metadata": {
    "id": "FEOVfs19KVLv"
   },
   "outputs": [],
   "source": [
    "import tensorflow as tf\n",
    "def loss(y_true, y_pred):\n",
    "    return binary_crossentropy(y_true, y_pred) - tf.math.log(dice_coefficient(y_true, y_pred) + tf.keras.backend.epsilon())"
   ]
  },
  {
   "cell_type": "markdown",
   "metadata": {
    "id": "Thltv_akfOMS"
   },
   "source": [
    "### Compile the model (2 marks)\n",
    "- Complie the model using below parameters\n",
    "  - loss: use the loss function defined above\n",
    "  - optimizers: use Adam optimizer\n",
    "  - metrics: use dice_coefficient function defined above"
   ]
  },
  {
   "cell_type": "markdown",
   "metadata": {},
   "source": [
    "##### Compile Model"
   ]
  },
  {
   "cell_type": "code",
   "execution_count": 18,
   "metadata": {
    "id": "atPb8xm2qkK5"
   },
   "outputs": [],
   "source": [
    "from tensorflow.keras.optimizers import Adam\n",
    "from tensorflow.keras.losses import binary_crossentropy\n",
    "optimizer = Adam(lr=1e-4, beta_1=0.9, beta_2=0.999, epsilon=None, decay=0.0, amsgrad=False)\n",
    "model.compile(loss=loss, optimizer='adam', metrics=[dice_coefficient])"
   ]
  },
  {
   "cell_type": "markdown",
   "metadata": {
    "id": "VTumZyg0fuVy"
   },
   "source": [
    "### Define callbacks (2 marks)\n",
    "- Use ModelCheckpoint\n",
    "- Use EarlyStopping\n",
    "- Use ReduceLROnPlateau"
   ]
  },
  {
   "cell_type": "code",
   "execution_count": 19,
   "metadata": {
    "colab": {
     "base_uri": "https://localhost:8080/"
    },
    "id": "QNlQHt8DMy7h",
    "outputId": "cbbe0c48-53e0-4617-9640-258a931daf8e"
   },
   "outputs": [
    {
     "name": "stdout",
     "output_type": "stream",
     "text": [
      "WARNING:tensorflow:`period` argument is deprecated. Please use `save_freq` to specify the frequency in number of batches seen.\n"
     ]
    }
   ],
   "source": [
    "checkpoint = ModelCheckpoint(\"model-{val_loss:.2f}.h5\", monitor=\"val_loss\", verbose=1, save_best_only=True,\n",
    "                             save_weights_only=True, mode=\"auto\", period=1)\n",
    "stop = EarlyStopping(monitor=\"val_loss\", patience=10, mode=\"auto\")\n",
    "reduce_lr = ReduceLROnPlateau(monitor=\"val_loss\", factor=0.2, patience=5, min_lr=1e-6, verbose=1, mode=\"auto\")"
   ]
  },
  {
   "cell_type": "markdown",
   "metadata": {
    "id": "LxxbwvXEf07e"
   },
   "source": [
    "### Fit the model (2 marks)\n",
    "- Fit the model using below parameters\n",
    "  - epochs: you can decide\n",
    "  - batch_size: 1\n",
    "  - callbacks: use the callbacks defined above"
   ]
  },
  {
   "cell_type": "code",
   "execution_count": 20,
   "metadata": {
    "colab": {
     "base_uri": "https://localhost:8080/"
    },
    "id": "guFfKsEmq58j",
    "outputId": "f417dfe7-7589-429c-cfe2-3970f5ad3fc2"
   },
   "outputs": [
    {
     "name": "stdout",
     "output_type": "stream",
     "text": [
      "Epoch 1/20\n",
      "400/400 [==============================] - 6s 7ms/step - loss: 1.4023 - dice_coefficient: 0.4200 - val_loss: 0.8432 - val_dice_coefficient: 0.5462\n",
      "\n",
      "Epoch 00001: val_loss improved from inf to 0.84320, saving model to model-0.84.h5\n",
      "Epoch 2/20\n",
      "400/400 [==============================] - 2s 5ms/step - loss: 0.8692 - dice_coefficient: 0.5829 - val_loss: 0.8299 - val_dice_coefficient: 0.5499\n",
      "\n",
      "Epoch 00002: val_loss improved from 0.84320 to 0.82987, saving model to model-0.83.h5\n",
      "Epoch 3/20\n",
      "400/400 [==============================] - 2s 5ms/step - loss: 0.7814 - dice_coefficient: 0.6062 - val_loss: 0.8521 - val_dice_coefficient: 0.5425\n",
      "\n",
      "Epoch 00003: val_loss did not improve from 0.82987\n",
      "Epoch 4/20\n",
      "400/400 [==============================] - 2s 5ms/step - loss: 0.7517 - dice_coefficient: 0.6226 - val_loss: 0.9183 - val_dice_coefficient: 0.5239\n",
      "\n",
      "Epoch 00004: val_loss did not improve from 0.82987\n",
      "Epoch 5/20\n",
      "400/400 [==============================] - 2s 5ms/step - loss: 0.7851 - dice_coefficient: 0.6245 - val_loss: 0.8511 - val_dice_coefficient: 0.5421\n",
      "\n",
      "Epoch 00005: val_loss did not improve from 0.82987\n",
      "Epoch 6/20\n",
      "400/400 [==============================] - 2s 5ms/step - loss: 0.7413 - dice_coefficient: 0.6370 - val_loss: 0.8160 - val_dice_coefficient: 0.5614\n",
      "\n",
      "Epoch 00006: val_loss improved from 0.82987 to 0.81603, saving model to model-0.82.h5\n",
      "Epoch 7/20\n",
      "400/400 [==============================] - 2s 5ms/step - loss: 0.7309 - dice_coefficient: 0.6255 - val_loss: 0.8356 - val_dice_coefficient: 0.5555\n",
      "\n",
      "Epoch 00007: val_loss did not improve from 0.81603\n",
      "Epoch 8/20\n",
      "400/400 [==============================] - 2s 5ms/step - loss: 0.6980 - dice_coefficient: 0.6346 - val_loss: 0.9628 - val_dice_coefficient: 0.5132\n",
      "\n",
      "Epoch 00008: val_loss did not improve from 0.81603\n",
      "Epoch 9/20\n",
      "400/400 [==============================] - 2s 5ms/step - loss: 0.7055 - dice_coefficient: 0.6464 - val_loss: 0.9749 - val_dice_coefficient: 0.5117\n",
      "\n",
      "Epoch 00009: val_loss did not improve from 0.81603\n",
      "Epoch 10/20\n",
      "400/400 [==============================] - 2s 5ms/step - loss: 0.7517 - dice_coefficient: 0.6426 - val_loss: 0.9983 - val_dice_coefficient: 0.5078\n",
      "\n",
      "Epoch 00010: val_loss did not improve from 0.81603\n",
      "Epoch 11/20\n",
      "400/400 [==============================] - 2s 5ms/step - loss: 0.6789 - dice_coefficient: 0.6578 - val_loss: 0.9148 - val_dice_coefficient: 0.5268\n",
      "\n",
      "Epoch 00011: val_loss did not improve from 0.81603\n",
      "\n",
      "Epoch 00011: ReduceLROnPlateau reducing learning rate to 0.00020000000949949026.\n",
      "Epoch 12/20\n",
      "400/400 [==============================] - 2s 5ms/step - loss: 0.6613 - dice_coefficient: 0.6540 - val_loss: 0.9207 - val_dice_coefficient: 0.5243\n",
      "\n",
      "Epoch 00012: val_loss did not improve from 0.81603\n",
      "Epoch 13/20\n",
      "400/400 [==============================] - 2s 5ms/step - loss: 0.6192 - dice_coefficient: 0.6726 - val_loss: 0.9340 - val_dice_coefficient: 0.5205\n",
      "\n",
      "Epoch 00013: val_loss did not improve from 0.81603\n",
      "Epoch 14/20\n",
      "400/400 [==============================] - 2s 5ms/step - loss: 0.6087 - dice_coefficient: 0.6709 - val_loss: 0.9327 - val_dice_coefficient: 0.5202\n",
      "\n",
      "Epoch 00014: val_loss did not improve from 0.81603\n",
      "Epoch 15/20\n",
      "400/400 [==============================] - 2s 5ms/step - loss: 0.6510 - dice_coefficient: 0.6641 - val_loss: 0.9269 - val_dice_coefficient: 0.5216\n",
      "\n",
      "Epoch 00015: val_loss did not improve from 0.81603\n",
      "Epoch 16/20\n",
      "400/400 [==============================] - 2s 5ms/step - loss: 0.6458 - dice_coefficient: 0.6683 - val_loss: 0.9111 - val_dice_coefficient: 0.5265\n",
      "\n",
      "Epoch 00016: val_loss did not improve from 0.81603\n",
      "\n",
      "Epoch 00016: ReduceLROnPlateau reducing learning rate to 4.0000001899898055e-05.\n"
     ]
    },
    {
     "data": {
      "text/plain": [
       "<tensorflow.python.keras.callbacks.History at 0x7f73800903c8>"
      ]
     },
     "execution_count": 20,
     "metadata": {
      "tags": []
     },
     "output_type": "execute_result"
    }
   ],
   "source": [
    "model.fit(X_train,y_train,\n",
    "                    epochs=20,\n",
    "                    batch_size = 1,\n",
    "                    validation_data=(X_test,y_test),\n",
    "                    callbacks=[checkpoint, reduce_lr, stop],\n",
    "                    use_multiprocessing=False,\n",
    "                    shuffle=True,verbose=1)"
   ]
  },
  {
   "cell_type": "markdown",
   "metadata": {
    "id": "5VtnuzlOf4uL"
   },
   "source": [
    "### Get the predicted mask for a test image   (2 marks)"
   ]
  },
  {
   "cell_type": "markdown",
   "metadata": {
    "id": "EKeEPrQJNqpq"
   },
   "source": [
    "#### Test Image"
   ]
  },
  {
   "cell_type": "code",
   "execution_count": 21,
   "metadata": {
    "colab": {
     "base_uri": "https://localhost:8080/",
     "height": 265
    },
    "id": "o-CBCMysrchu",
    "outputId": "46fd8e7f-85e3-4a43-efd2-a865bfeabe63"
   },
   "outputs": [
    {
     "name": "stderr",
     "output_type": "stream",
     "text": [
      "Clipping input data to the valid range for imshow with RGB data ([0..1] for floats or [0..255] for integers).\n"
     ]
    },
    {
     "data": {
      "image/png": "[encoded data removed]",
      "text/plain": [
       "<Figure size 432x288 with 1 Axes>"
      ]
     },
     "metadata": {
      "needs_background": "light",
      "tags": []
     },
     "output_type": "display_data"
    }
   ],
   "source": [
    "import matplotlib.pyplot as plt\n",
    "plt.imshow(X_test[0])\n",
    "plt.axis('off')\n",
    "plt.show()"
   ]
  },
  {
   "cell_type": "markdown",
   "metadata": {
    "id": "0HuDvCJHNuwF"
   },
   "source": [
    "Show original mask for test image"
   ]
  },
  {
   "cell_type": "code",
   "execution_count": 22,
   "metadata": {
    "colab": {
     "base_uri": "https://localhost:8080/",
     "height": 248
    },
    "id": "fvUuZu2zNxuj",
    "outputId": "19fdd14c-0db2-4585-de2e-c0b8f1e0a699"
   },
   "outputs": [
    {
     "data": {
      "image/png": "[encoded data removed]",
      "text/plain": [
       "<Figure size 432x288 with 1 Axes>"
      ]
     },
     "metadata": {
      "needs_background": "light",
      "tags": []
     },
     "output_type": "display_data"
    }
   ],
   "source": [
    "plt.imshow(y_test[0])\n",
    "plt.axis('off')\n",
    "plt.show()"
   ]
  },
  {
   "cell_type": "markdown",
   "metadata": {
    "id": "IJjNguwlN6rI"
   },
   "source": [
    "Predict the mask on the test image"
   ]
  },
  {
   "cell_type": "code",
   "execution_count": 23,
   "metadata": {
    "colab": {
     "base_uri": "https://localhost:8080/",
     "height": 265
    },
    "id": "X2dmz90gOcIr",
    "outputId": "21f11b1f-81a3-4d71-888c-6dfe8f5d5e09"
   },
   "outputs": [
    {
     "data": {
      "text/plain": [
       "(-0.5, 27.5, 27.5, -0.5)"
      ]
     },
     "execution_count": 23,
     "metadata": {
      "tags": []
     },
     "output_type": "execute_result"
    },
    {
     "data": {
      "image/png": "[encoded data removed]",
      "text/plain": [
       "<Figure size 432x288 with 1 Axes>"
      ]
     },
     "metadata": {
      "needs_background": "light",
      "tags": []
     },
     "output_type": "display_data"
    }
   ],
   "source": [
    "mask_predicted = model.predict(X_test)\n",
    "plt.imshow(mask_predicted[0])\n",
    "plt.axis('off')"
   ]
  },
  {
   "cell_type": "markdown",
   "metadata": {
    "id": "fDIetz0HgA4R"
   },
   "source": [
    "### Impose the mask on the test image (2 marks)\n",
    "- In imshow use the alpha parameter and set it to greater than 0.5"
   ]
  },
  {
   "cell_type": "code",
   "execution_count": 24,
   "metadata": {
    "colab": {
     "base_uri": "https://localhost:8080/",
     "height": 581
    },
    "id": "cF0JO8GkGgCP",
    "outputId": "c1e2a8c3-f2c6-42bc-de09-a30c841a3269"
   },
   "outputs": [
    {
     "name": "stderr",
     "output_type": "stream",
     "text": [
      "Clipping input data to the valid range for imshow with RGB data ([0..1] for floats or [0..255] for integers).\n"
     ]
    },
    {
     "name": "stdout",
     "output_type": "stream",
     "text": [
      "\n",
      "Original Mask imposed Image :\n"
     ]
    },
    {
     "data": {
      "image/png": "[encoded data removed]",
      "text/plain": [
       "<Figure size 432x288 with 1 Axes>"
      ]
     },
     "metadata": {
      "needs_background": "light",
      "tags": []
     },
     "output_type": "display_data"
    },
    {
     "name": "stderr",
     "output_type": "stream",
     "text": [
      "Clipping input data to the valid range for imshow with RGB data ([0..1] for floats or [0..255] for integers).\n"
     ]
    },
    {
     "name": "stdout",
     "output_type": "stream",
     "text": [
      "\n",
      "Predicted Mask imposed Image :\n"
     ]
    },
    {
     "data": {
      "image/png": "[encoded data removed]",
      "text/plain": [
       "<Figure size 432x288 with 1 Axes>"
      ]
     },
     "metadata": {
      "needs_background": "light",
      "tags": []
     },
     "output_type": "display_data"
    }
   ],
   "source": [
    "mask = cv2.resize(1.0*(mask_predicted[0]>0.5),(IMAGE_HEIGHT,IMAGE_WIDTH))\n",
    "mask_original = cv2.resize(1.0*(y_test[0]>0.5),(IMAGE_HEIGHT,IMAGE_WIDTH))\n",
    "print('\\nOriginal Mask imposed Image :')\n",
    "original = X_test[0].copy()\n",
    "original[:,:,0] = mask_original*original[:,:,0]\n",
    "original[:,:,1] = mask_original*original[:,:,1]\n",
    "original[:,:,2] = mask_original*original[:,:,2]\n",
    "plt.imshow(original)\n",
    "plt.axis('off')\n",
    "plt.show()\n",
    "image = X_test[0]\n",
    "image[:,:,0] = mask*image[:,:,0]\n",
    "image[:,:,1] = mask*image[:,:,1]\n",
    "image[:,:,2] = mask*image[:,:,2]\n",
    "print('\\nPredicted Mask imposed Image :')\n",
    "plt.imshow(image)\n",
    "plt.axis('off')\n",
    "plt.show()"
   ]
  },
  {
   "cell_type": "markdown",
   "metadata": {},
   "source": [
    "##### From the above cell output we can observe that our model has done a good job in predicting the face mask on the test images."
   ]
  },
  {
   "cell_type": "code",
   "execution_count": null,
   "metadata": {},
   "outputs": [],
   "source": []
  }
 ],
 "metadata": {
  "accelerator": "GPU",
  "colab": {
   "collapsed_sections": [],
   "name": "Questions - Project 1 - Advanced Computer Vision - Face Mask Prediction using U-Net-1.ipynb",
   "provenance": []
  },
  "kernelspec": {
   "display_name": "Python 3",
   "language": "python",
   "name": "python3"
  },
  "language_info": {
   "codemirror_mode": {
    "name": "ipython",
    "version": 3
   },
   "file_extension": ".py",
   "mimetype": "text/x-python",
   "name": "python",
   "nbconvert_exporter": "python",
   "pygments_lexer": "ipython3",
   "version": "3.7.3"
  }
 },
 "nbformat": 4,
 "nbformat_minor": 1
}
